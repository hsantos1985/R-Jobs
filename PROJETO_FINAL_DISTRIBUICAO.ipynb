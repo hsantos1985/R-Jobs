{
  "nbformat": 4,
  "nbformat_minor": 0,
  "metadata": {
    "colab": {
      "provenance": [],
      "authorship_tag": "ABX9TyNTxEln0ApQZxyWq6o7CBUS",
      "include_colab_link": true
    },
    "kernelspec": {
      "name": "ir",
      "display_name": "R"
    },
    "language_info": {
      "name": "R"
    }
  },
  "cells": [
    {
      "cell_type": "markdown",
      "metadata": {
        "id": "view-in-github",
        "colab_type": "text"
      },
      "source": [
        "<a href=\"https://colab.research.google.com/github/hsantos1985/R-Jobs/blob/main/PROJETO_FINAL_DISTRIBUICAO.ipynb\" target=\"_parent\"><img src=\"https://colab.research.google.com/assets/colab-badge.svg\" alt=\"Open In Colab\"/></a>"
      ]
    },
    {
      "cell_type": "markdown",
      "source": [
        "##CURSO DE ESTATÍSTICA - PARTE 2\n",
        "#1 CONHECENDO OS DADOS\n",
        "#1.1 Dataset do projeto\n",
        "Pesquisa Nacional por Amostra de Domicílios - 2015\n",
        "A Pesquisa Nacional por Amostra de Domicílios - PNAD investiga anualmente, de forma permanente, características gerais da população, de educação, trabalho, rendimento e habitação e outras, com periodicidade variável, de acordo com as necessidades de informação para o país, como as características sobre migração, fecundidade, nupcialidade, saúde, segurança alimentar, entre outros temas. O levantamento dessas estatísticas constitui, ao longo dos 49 anos de realização da pesquisa, um importante instrumento para formulação, validação e avaliação de políticas orientadas para o desenvolvimento socioeconômico e a melhoria das condições de vida no Brasil.\n",
        "\n",
        "#Fonte dos Dados\n",
        "https://ww2.ibge.gov.br/home/estatistica/populacao/trabalhoerendimento/pnad2015/microdados.shtm"
      ],
      "metadata": {
        "id": "A4de2m90lqfN"
      }
    },
    {
      "cell_type": "markdown",
      "source": [
        "### Variáveis utilizadas\n",
        "\n",
        "> ### Renda\n",
        "> ***\n",
        "\n",
        "Rendimento mensal do trabalho principal para pessoas de 10 anos ou mais de idade.\n",
        "\n",
        "> ### Idade\n",
        "> ***\n",
        "\n",
        "Idade do morador na data de referência em anos.\n",
        "\n",
        "> ### Altura (elaboração própria)\n",
        "> ***\n",
        "\n",
        "Altura do morador em metros.\n",
        "\n",
        "> ### UF\n",
        "> ***\n",
        "\n",
        "|Código|Descrição|\n",
        "|---|---|\n",
        "|11|Rondônia|\n",
        "|12|Acre|\n",
        "|13|Amazonas|\n",
        "|14|Roraima|\n",
        "|15|Pará|\n",
        "|16|Amapá|\n",
        "|17|Tocantins|\n",
        "|21|Maranhão|\n",
        "|22|Piauí|\n",
        "|23|Ceará|\n",
        "|24|Rio Grande do Norte|\n",
        "|25|Paraíba|\n",
        "|26|Pernambuco|\n",
        "|27|Alagoas|\n",
        "|28|Sergipe|\n",
        "|29|Bahia|\n",
        "|31|Minas Gerais|\n",
        "|32|Espírito Santo|\n",
        "|33|Rio de Janeiro|\n",
        "|35|São Paulo|\n",
        "|41|Paraná|\n",
        "|42|Santa Catarina|\n",
        "|43|Rio Grande do Sul|\n",
        "|50|Mato Grosso do Sul|\n",
        "|51|Mato Grosso|\n",
        "|52|Goiás|\n",
        "|53|Distrito Federal|\n",
        "\n",
        "> ### Sexo\t\n",
        "> ***\n",
        "\n",
        "|Código|Descrição|\n",
        "|---|---|\n",
        "|0|Masculino|\n",
        "|1|Feminino|\n",
        "\n",
        "> ### Anos de Estudo\n",
        "> ***\n",
        "\n",
        "|Código|Descrição|\n",
        "|---|---|\n",
        "|1|Sem instrução e menos de 1 ano|\n",
        "|2|1 ano|\n",
        "|3|2 anos|\n",
        "|4|3 anos|\n",
        "|5|4 anos|\n",
        "|6|5 anos|\n",
        "|7|6 anos|\n",
        "|8|7 anos|\n",
        "|9|8 anos|\n",
        "|10|9 anos|\n",
        "|11|10 anos|\n",
        "|12|11 anos|\n",
        "|13|12 anos|\n",
        "|14|13 anos|\n",
        "|15|14 anos|\n",
        "|16|15 anos ou mais|\n",
        "|17|Não determinados| \n",
        "||Não aplicável|\n",
        "\n",
        "> ### Cor\n",
        "> ***\n",
        "\n",
        "|Código|Descrição|\n",
        "|---|---|\n",
        "|0|Indígena|\n",
        "|2|Branca|\n",
        "|4|Preta|\n",
        "|6|Amarela|\n",
        "|8|Parda|\n",
        "|9|Sem declaração|"
      ],
      "metadata": {
        "id": "0_CWAC7Ml8MS"
      }
    },
    {
      "cell_type": "markdown",
      "source": [
        "#### <font color='red'>Observação</font>\n",
        "***\n",
        "> Os seguintes tratamentos foram realizados nos dados originais:\n",
        "> 1. Foram eliminados os registros onde a <b>Renda</b> era inválida (999 999 999 999);\n",
        "> 2. Foram eliminados os registros onde a <b>Renda</b> era missing;\n",
        "> 3. Foram considerados somente os registros das <b>Pessoas de Referência</b> de cada domicílio (responsável pelo domicílio)."
      ],
      "metadata": {
        "id": "Itg9_XH-5hw9"
      }
    },
    {
      "cell_type": "code",
      "execution_count": 98,
      "metadata": {
        "id": "oPjBEcKCkSwg"
      },
      "outputs": [],
      "source": [
        "#obtendo o dataset\n",
        "dados<-read.csv('/content/dados.csv')"
      ]
    },
    {
      "cell_type": "code",
      "source": [
        "head(dados)"
      ],
      "metadata": {
        "colab": {
          "base_uri": "https://localhost:8080/",
          "height": 286
        },
        "id": "oJr4RqgNkdLh",
        "outputId": "baddf835-0c67-4eba-d648-c62496bc1087"
      },
      "execution_count": 21,
      "outputs": [
        {
          "output_type": "display_data",
          "data": {
            "text/html": [
              "<table class=\"dataframe\">\n",
              "<caption>A data.frame: 6 × 7</caption>\n",
              "<thead>\n",
              "\t<tr><th></th><th scope=col>UF</th><th scope=col>Sexo</th><th scope=col>Idade</th><th scope=col>Cor</th><th scope=col>Anos.de.Estudo</th><th scope=col>Renda</th><th scope=col>Altura</th></tr>\n",
              "\t<tr><th></th><th scope=col>&lt;int&gt;</th><th scope=col>&lt;int&gt;</th><th scope=col>&lt;int&gt;</th><th scope=col>&lt;int&gt;</th><th scope=col>&lt;int&gt;</th><th scope=col>&lt;int&gt;</th><th scope=col>&lt;dbl&gt;</th></tr>\n",
              "</thead>\n",
              "<tbody>\n",
              "\t<tr><th scope=row>1</th><td>11</td><td>0</td><td>23</td><td>8</td><td>12</td><td> 800</td><td>1.603808</td></tr>\n",
              "\t<tr><th scope=row>2</th><td>11</td><td>1</td><td>23</td><td>2</td><td>12</td><td>1150</td><td>1.739790</td></tr>\n",
              "\t<tr><th scope=row>3</th><td>11</td><td>1</td><td>35</td><td>8</td><td>15</td><td> 880</td><td>1.760444</td></tr>\n",
              "\t<tr><th scope=row>4</th><td>11</td><td>0</td><td>46</td><td>2</td><td> 6</td><td>3500</td><td>1.783158</td></tr>\n",
              "\t<tr><th scope=row>5</th><td>11</td><td>1</td><td>47</td><td>8</td><td> 9</td><td> 150</td><td>1.690631</td></tr>\n",
              "\t<tr><th scope=row>6</th><td>11</td><td>1</td><td>34</td><td>8</td><td>12</td><td> 790</td><td>1.637906</td></tr>\n",
              "</tbody>\n",
              "</table>\n"
            ],
            "text/markdown": "\nA data.frame: 6 × 7\n\n| <!--/--> | UF &lt;int&gt; | Sexo &lt;int&gt; | Idade &lt;int&gt; | Cor &lt;int&gt; | Anos.de.Estudo &lt;int&gt; | Renda &lt;int&gt; | Altura &lt;dbl&gt; |\n|---|---|---|---|---|---|---|---|\n| 1 | 11 | 0 | 23 | 8 | 12 |  800 | 1.603808 |\n| 2 | 11 | 1 | 23 | 2 | 12 | 1150 | 1.739790 |\n| 3 | 11 | 1 | 35 | 8 | 15 |  880 | 1.760444 |\n| 4 | 11 | 0 | 46 | 2 |  6 | 3500 | 1.783158 |\n| 5 | 11 | 1 | 47 | 8 |  9 |  150 | 1.690631 |\n| 6 | 11 | 1 | 34 | 8 | 12 |  790 | 1.637906 |\n\n",
            "text/latex": "A data.frame: 6 × 7\n\\begin{tabular}{r|lllllll}\n  & UF & Sexo & Idade & Cor & Anos.de.Estudo & Renda & Altura\\\\\n  & <int> & <int> & <int> & <int> & <int> & <int> & <dbl>\\\\\n\\hline\n\t1 & 11 & 0 & 23 & 8 & 12 &  800 & 1.603808\\\\\n\t2 & 11 & 1 & 23 & 2 & 12 & 1150 & 1.739790\\\\\n\t3 & 11 & 1 & 35 & 8 & 15 &  880 & 1.760444\\\\\n\t4 & 11 & 0 & 46 & 2 &  6 & 3500 & 1.783158\\\\\n\t5 & 11 & 1 & 47 & 8 &  9 &  150 & 1.690631\\\\\n\t6 & 11 & 1 & 34 & 8 & 12 &  790 & 1.637906\\\\\n\\end{tabular}\n",
            "text/plain": [
              "  UF Sexo Idade Cor Anos.de.Estudo Renda Altura  \n",
              "1 11 0    23    8   12              800  1.603808\n",
              "2 11 1    23    2   12             1150  1.739790\n",
              "3 11 1    35    8   15              880  1.760444\n",
              "4 11 0    46    2    6             3500  1.783158\n",
              "5 11 1    47    8    9              150  1.690631\n",
              "6 11 1    34    8   12              790  1.637906"
            ]
          },
          "metadata": {}
        }
      ]
    },
    {
      "cell_type": "code",
      "source": [
        "library(ggplot2)\n",
        "library(glue)"
      ],
      "metadata": {
        "id": "XZD8HeidlQ9a"
      },
      "execution_count": 5,
      "outputs": []
    },
    {
      "cell_type": "markdown",
      "source": [
        "## Problema A"
      ],
      "metadata": {
        "id": "6J7exdlr6Wcc"
      }
    },
    {
      "cell_type": "markdown",
      "source": [
        "Avaliando nosso dataset é possível verificar que a proporção de homens como chefes de domicílios é de quase 70%. Precisamos selecionar aleatoriamente grupos de 10 indivíduos para verificar as diferenças entre os rendimentos em cada grupo. Qual a probabilidade de selecionamos um grupo que apresente a mesma proporção da população, ou seja, selecionarmos um grupo que seja composto por 7 homens e 3 mulheres?"
      ],
      "metadata": {
        "id": "xXaXehYM5zPf"
      }
    },
    {
      "cell_type": "code",
      "source": [
        "#cálculo da probabilidade\n",
        "p<-0.7\n",
        "q<-1-p\n",
        "n<-10\n",
        "k<-7\n",
        "\n",
        "probabilidade<-dbinom(x=k, size=n, prob=p)\n",
        "probabilidade"
      ],
      "metadata": {
        "id": "mAhXmio5kdWC",
        "colab": {
          "base_uri": "https://localhost:8080/",
          "height": 34
        },
        "outputId": "be99f66a-8e6a-4691-8e8f-34b24c43372c"
      },
      "execution_count": 94,
      "outputs": [
        {
          "output_type": "display_data",
          "data": {
            "text/html": [
              "0.266827932"
            ],
            "text/markdown": "0.266827932",
            "text/latex": "0.266827932",
            "text/plain": [
              "[1] 0.2668279"
            ]
          },
          "metadata": {}
        }
      ]
    },
    {
      "cell_type": "markdown",
      "source": [
        "Como tarefa extra, verifique a real proporção de homens e mulheres em nosso dataset (vimos como fazer isso em nosso primeiro curso de estatística). Verifique que tipo de distribuição de probabilidade se encaixa neste experimento."
      ],
      "metadata": {
        "id": "uAFA5yaI8n2h"
      }
    },
    {
      "cell_type": "code",
      "source": [
        "#cálculo usando a tabela de frequência\n",
        "# homens e mulheres\n",
        "sexo = c(\n",
        "  'Masculino', \n",
        "  'Feminino'\n",
        ")\n",
        "# Sexo\n",
        "dados$Cat.Sexo<-factor(dados$Sexo)\n",
        "levels(dados$Cat.Sexo)<-sexo"
      ],
      "metadata": {
        "id": "xb-0cfr78ur9"
      },
      "execution_count": 95,
      "outputs": []
    },
    {
      "cell_type": "code",
      "source": [
        "#Sexo e Anos de estudo\n",
        "frequencia<-table(dados$Cat.Sexo)\n",
        "frequencia<-cbind(frequencia)\n",
        "frequencia\n"
      ],
      "metadata": {
        "colab": {
          "base_uri": "https://localhost:8080/",
          "height": 129
        },
        "id": "JI1tlaTgA1Ei",
        "outputId": "af346c9d-2bb7-4b5b-f5b7-e497112aa95d"
      },
      "execution_count": 96,
      "outputs": [
        {
          "output_type": "display_data",
          "data": {
            "text/html": [
              "<table class=\"dataframe\">\n",
              "<caption>A matrix: 2 × 1 of type int</caption>\n",
              "<thead>\n",
              "\t<tr><th></th><th scope=col>frequencia</th></tr>\n",
              "</thead>\n",
              "<tbody>\n",
              "\t<tr><th scope=row>Masculino</th><td>53250</td></tr>\n",
              "\t<tr><th scope=row>Feminino</th><td>23590</td></tr>\n",
              "</tbody>\n",
              "</table>\n"
            ],
            "text/markdown": "\nA matrix: 2 × 1 of type int\n\n| <!--/--> | frequencia |\n|---|---|\n| Masculino | 53250 |\n| Feminino | 23590 |\n\n",
            "text/latex": "A matrix: 2 × 1 of type int\n\\begin{tabular}{r|l}\n  & frequencia\\\\\n\\hline\n\tMasculino & 53250\\\\\n\tFeminino & 23590\\\\\n\\end{tabular}\n",
            "text/plain": [
              "          frequencia\n",
              "Masculino 53250     \n",
              "Feminino  23590     "
            ]
          },
          "metadata": {}
        }
      ]
    },
    {
      "cell_type": "code",
      "source": [
        "#cálculo da tabela em percentual\n",
        "percentual<-round(cbind(prop.table(frequencia)*100),2)\n",
        "percentual"
      ],
      "metadata": {
        "colab": {
          "base_uri": "https://localhost:8080/",
          "height": 129
        },
        "id": "G9m5P42JBNoX",
        "outputId": "1caa9d15-0033-4367-b037-d5b66f971557"
      },
      "execution_count": 97,
      "outputs": [
        {
          "output_type": "display_data",
          "data": {
            "text/html": [
              "<table class=\"dataframe\">\n",
              "<caption>A matrix: 2 × 1 of type dbl</caption>\n",
              "<thead>\n",
              "\t<tr><th></th><th scope=col>frequencia</th></tr>\n",
              "</thead>\n",
              "<tbody>\n",
              "\t<tr><th scope=row>Masculino</th><td>69.3</td></tr>\n",
              "\t<tr><th scope=row>Feminino</th><td>30.7</td></tr>\n",
              "</tbody>\n",
              "</table>\n"
            ],
            "text/markdown": "\nA matrix: 2 × 1 of type dbl\n\n| <!--/--> | frequencia |\n|---|---|\n| Masculino | 69.3 |\n| Feminino | 30.7 |\n\n",
            "text/latex": "A matrix: 2 × 1 of type dbl\n\\begin{tabular}{r|l}\n  & frequencia\\\\\n\\hline\n\tMasculino & 69.3\\\\\n\tFeminino & 30.7\\\\\n\\end{tabular}\n",
            "text/plain": [
              "          frequencia\n",
              "Masculino 69.3      \n",
              "Feminino  30.7      "
            ]
          },
          "metadata": {}
        }
      ]
    },
    {
      "cell_type": "markdown",
      "source": [
        "### Problema B\n",
        "Ainda sobre a questão anterior, quantos grupos de 10 indivíduos nós precisaríamos selecionar, de forma aleatória, para conseguir 100 grupos compostos por 7 homens e 3 mulheres?\n",
        "\n",
        "Lembre-se da forma de cálculo da média de uma distribuição binomial\n",
        "Solução\n",
        "Média da distribuição binomial\n",
        "𝜇=𝑛×𝑝\n"
      ],
      "metadata": {
        "id": "SPohfBzCzunT"
      }
    },
    {
      "cell_type": "markdown",
      "source": [
        "### Média da distribuição binomial\n",
        "\n",
        "# $$\\mu=n \\times p$$"
      ],
      "metadata": {
        "id": "fHqg_Y8eAkxx"
      }
    },
    {
      "cell_type": "code",
      "source": [
        "#calculo do n sendo a média de 100 e a probabilidade obtida anteriormente\n",
        "u<-100\n",
        "p<-probabilidade\n",
        "\n",
        "n<-round(u/p)\n",
        "n"
      ],
      "metadata": {
        "colab": {
          "base_uri": "https://localhost:8080/",
          "height": 34
        },
        "id": "s1H30ascz9G5",
        "outputId": "fc1de85c-c141-4215-8d60-94f4bff560bd"
      },
      "execution_count": 91,
      "outputs": [
        {
          "output_type": "display_data",
          "data": {
            "text/html": [
              "101"
            ],
            "text/markdown": "101",
            "text/latex": "101",
            "text/plain": [
              "[1] 101"
            ]
          },
          "metadata": {}
        }
      ]
    },
    {
      "cell_type": "markdown",
      "source": [
        "### Problema C"
      ],
      "metadata": {
        "id": "5OWmdzamA1mQ"
      }
    },
    {
      "cell_type": "markdown",
      "source": [
        "Um cliente nos encomendou um estudo para avaliar o **rendimento dos chefes de domicílio no Brasil**. Para isso precisamos realizar uma nova coleta de dados, isto é, uma nova pesquisa de campo. Após reunião com o cliente foi possível elencar o seguinte conjunto de informações:\n",
        "\n",
        "> A. O resultado da pesquisa precisa estar pronto em **2 meses**;\n",
        "\n",
        "> B. Teremos somente **R$\\$$ 150.000,00** de recursos para realização da pesquisa de campo; e\n",
        "    \n",
        "> C. Seria interessante uma **margem de erro não superior a 10% em relação a média estimada**.\n",
        "\n",
        "Em nossa experiência com estudos deste tipo, sabemos que o **custo médio por indivíduo entrevistado fica em torno de R$\\$$ 100,00**. Com este conjunto de fatos avalie e obtenha o seguinte conjunto de informações para passar ao cliente:\n",
        "\n",
        "\n",
        "> 1. Para obter uma estimativa para os parâmetros da população (renda dos chefes de domicílio no Brasil), realize uma amostragem aleatória simples em nosso conjunto de dados. Essa amostra deve conter 200 elementos (utilize set.seed(100) para garantir que o mesmo experimento possa ser realizado novamente). Obtenha a média e o desvio-padrão dessa amostra.\n",
        "    \n",
        "> 2. Para a **margem de erro** especificada pelo cliente obtenha os **tamanhos de amostra** necessários para garantir os **níveis de confiança de 90%, 95% e 99%**.\n",
        "    \n",
        "> 3. Obtenha o **custo da pesquisa** para os três níveis de confiança.\n",
        "    \n",
        "> 4. Para o maior nível de confiança viável (dentro do orçamento disponível), obtenha um **intervalo de confiança para a média da população**.\n",
        "    \n",
        "> 5. Assumindo o **nível de confiança escolhido no item anterior**, qual **margem de erro** pode ser considerada utilizando todo o recurso disponibilizado pelo cliente?\n",
        "    \n",
        "> 6. Assumindo um **nível de confiança de 95%**, **quanto a pesquisa custaria ao cliente** caso fosse considerada uma **margem de erro de apenas 5%** em relação a média estimada?\n"
      ],
      "metadata": {
        "id": "TdvNAqKzApog"
      }
    },
    {
      "cell_type": "code",
      "source": [
        "library(dplyr)\n",
        "\n"
      ],
      "metadata": {
        "id": "PNvp6ugjC66F",
        "colab": {
          "base_uri": "https://localhost:8080/"
        },
        "outputId": "ebf5eb27-5004-4574-a668-265edaa49d2c"
      },
      "execution_count": 12,
      "outputs": [
        {
          "output_type": "stream",
          "name": "stderr",
          "text": [
            "\n",
            "Attaching package: ‘dplyr’\n",
            "\n",
            "\n",
            "The following objects are masked from ‘package:stats’:\n",
            "\n",
            "    filter, lag\n",
            "\n",
            "\n",
            "The following objects are masked from ‘package:base’:\n",
            "\n",
            "    intersect, setdiff, setequal, union\n",
            "\n",
            "\n"
          ]
        }
      ]
    },
    {
      "cell_type": "code",
      "source": [
        "install.packages('DescTools')"
      ],
      "metadata": {
        "colab": {
          "base_uri": "https://localhost:8080/"
        },
        "id": "DafeTqs_GNlT",
        "outputId": "623dda04-926a-417b-ae42-e4b040b001af"
      },
      "execution_count": null,
      "outputs": [
        {
          "output_type": "stream",
          "name": "stderr",
          "text": [
            "Installing package into ‘/usr/local/lib/R/site-library’\n",
            "(as ‘lib’ is unspecified)\n",
            "\n",
            "also installing the dependencies ‘proxy’, ‘rootSolve’, ‘e1071’, ‘lmom’, ‘mvtnorm’, ‘expm’, ‘Rcpp’, ‘Exact’, ‘gld’, ‘BH’\n",
            "\n",
            "\n",
            "Warning message in install.packages(\"DescTools\"):\n",
            "“installation of package ‘DescTools’ had non-zero exit status”\n"
          ]
        }
      ]
    },
    {
      "cell_type": "code",
      "source": [
        "library(stats)"
      ],
      "metadata": {
        "id": "NeWO2T99GXcg"
      },
      "execution_count": 13,
      "outputs": []
    },
    {
      "cell_type": "markdown",
      "source": [
        "Item 1"
      ],
      "metadata": {
        "id": "OGxQ2wXjESFD"
      }
    },
    {
      "cell_type": "code",
      "source": [
        "#colocando um sed de 100\n",
        "set.seed(100)\n",
        "\n",
        "amostra<-sample_n(dados, 200)\n"
      ],
      "metadata": {
        "id": "7T8Gqo-oz9aR"
      },
      "execution_count": 38,
      "outputs": []
    },
    {
      "cell_type": "code",
      "source": [
        "#cálculo da média e desvio\n",
        "media<-mean(amostra$Renda)\n",
        "\n",
        "desvio<-sd(amostra$Renda)"
      ],
      "metadata": {
        "id": "W97ZZQ-yp1lO"
      },
      "execution_count": 40,
      "outputs": []
    },
    {
      "cell_type": "code",
      "source": [
        "media\n",
        "desvio"
      ],
      "metadata": {
        "colab": {
          "base_uri": "https://localhost:8080/",
          "height": 52
        },
        "id": "4UvSTLisLEeL",
        "outputId": "f986a23e-c67a-4929-c0da-83828ba07aeb"
      },
      "execution_count": 41,
      "outputs": [
        {
          "output_type": "display_data",
          "data": {
            "text/html": [
              "2181.56"
            ],
            "text/markdown": "2181.56",
            "text/latex": "2181.56",
            "text/plain": [
              "[1] 2181.56"
            ]
          },
          "metadata": {}
        },
        {
          "output_type": "display_data",
          "data": {
            "text/html": [
              "3218.28770390803"
            ],
            "text/markdown": "3218.28770390803",
            "text/latex": "3218.28770390803",
            "text/plain": [
              "[1] 3218.288"
            ]
          },
          "metadata": {}
        }
      ]
    },
    {
      "cell_type": "markdown",
      "source": [
        "Item 2"
      ],
      "metadata": {
        "id": "8ziZUfHpEUb4"
      }
    },
    {
      "cell_type": "code",
      "source": [
        "#tamanho da amostra nível de confiança de 90%\n",
        "e<-0.10*media\n",
        "sigma<-desvio\n",
        "nivel_conf<-0.90\n",
        "probabilidade<-nivel_conf/2+0.5\n",
        "\n",
        "z<-qnorm(probabilidade)\n",
        "n1<-(z*sigma/e)^2"
      ],
      "metadata": {
        "id": "eTv-8l1DEWQ4"
      },
      "execution_count": 87,
      "outputs": []
    },
    {
      "cell_type": "code",
      "source": [
        "#tamanho da amostra nível de confiança de 95%\n",
        "\n",
        "e<-0.10*media\n",
        "sigma<-desvio\n",
        "nivel_conf<-0.95\n",
        "probabilidade<-nivel_conf/2+0.5\n",
        "\n",
        "z<-qnorm(probabilidade)\n",
        "n2<-(z*sigma/e)^2"
      ],
      "metadata": {
        "id": "O729Iy7oJNQN"
      },
      "execution_count": 88,
      "outputs": []
    },
    {
      "cell_type": "code",
      "source": [
        "#tamanho da amostra nível de confiança de 99%\n",
        "e<-0.10*media\n",
        "sigma<-desvio\n",
        "nivel_conf<-0.99\n",
        "probabilidade<-nivel_conf/2+0.5\n",
        "\n",
        "z<-qnorm(probabilidade)\n",
        "n3<-(z*sigma/e)^2"
      ],
      "metadata": {
        "id": "_nB8Y6isL7-y"
      },
      "execution_count": 89,
      "outputs": []
    },
    {
      "cell_type": "code",
      "source": [
        "glue('O tamanho da amostra para o nível de confiança de 90% é de {round(n1,0)} \\n')\n",
        "\n",
        "glue('O tamanho da amostra para o nível de confiança de 95% é de {round(n2,0)} \\n')\n",
        "\n",
        "glue('O tamanho da amostra para o nível de confiança de 99% é de {round(n3,0)} \\n')"
      ],
      "metadata": {
        "colab": {
          "base_uri": "https://localhost:8080/",
          "height": 69
        },
        "id": "P_K4v7FW_eAD",
        "outputId": "6567b2a8-9b01-4e34-dddc-86369ed4ce82"
      },
      "execution_count": 90,
      "outputs": [
        {
          "output_type": "display_data",
          "data": {
            "text/html": [
              "'O tamanho da amostra para o nível de confiança de 90% é de 589 '"
            ],
            "text/markdown": "'O tamanho da amostra para o nível de confiança de 90% é de 589 '",
            "text/latex": "'O tamanho da amostra para o nível de confiança de 90\\% é de 589 '",
            "text/plain": [
              "O tamanho da amostra para o nível de confiança de 90% é de 589 "
            ]
          },
          "metadata": {}
        },
        {
          "output_type": "display_data",
          "data": {
            "text/html": [
              "'O tamanho da amostra para o nível de confiança de 95% é de 836 '"
            ],
            "text/markdown": "'O tamanho da amostra para o nível de confiança de 95% é de 836 '",
            "text/latex": "'O tamanho da amostra para o nível de confiança de 95\\% é de 836 '",
            "text/plain": [
              "O tamanho da amostra para o nível de confiança de 95% é de 836 "
            ]
          },
          "metadata": {}
        },
        {
          "output_type": "display_data",
          "data": {
            "text/html": [
              "'O tamanho da amostra para o nível de confiança de 99% é de 1444 '"
            ],
            "text/markdown": "'O tamanho da amostra para o nível de confiança de 99% é de 1444 '",
            "text/latex": "'O tamanho da amostra para o nível de confiança de 99\\% é de 1444 '",
            "text/plain": [
              "O tamanho da amostra para o nível de confiança de 99% é de 1444 "
            ]
          },
          "metadata": {}
        }
      ]
    },
    {
      "cell_type": "markdown",
      "source": [
        "Item 3"
      ],
      "metadata": {
        "id": "_a8pHLjeJUhC"
      }
    },
    {
      "cell_type": "code",
      "source": [
        "#Calculo dos novos custos\n",
        "custo_ind<-100\n",
        "\n",
        "c_total1<-n1*custo_ind\n",
        "c_total2<-n2*custo_ind\n",
        "c_total3<-n3*custo_ind\n",
        "\n",
        "glue('O novo custo para o níve de confiança de 90% é de R$ {format(c_total1, digits=2, decimal.mark=\",\", nsmall=2, big.mark=\".\", scientific=F)}')\n",
        "glue('O novo custo para o níve de confiança de 95% é de R$ {format(c_total2, digits=2, decimal.mark=\",\", nsmall=2, big.mark=\".\", scientific=F)}')\n",
        "glue('O novo custo para o níve de confiança de 99% é de R$ {format(c_total3, digits=2, decimal.mark=\",\", nsmall=2, big.mark=\".\", scientific=F)}')\n",
        "\n"
      ],
      "metadata": {
        "colab": {
          "base_uri": "https://localhost:8080/",
          "height": 69
        },
        "id": "Bh4QoajQMMYo",
        "outputId": "ef85ecb3-e9b8-4d20-e4c3-048e11324eb6"
      },
      "execution_count": 76,
      "outputs": [
        {
          "output_type": "display_data",
          "data": {
            "text/html": [
              "'O novo custo para o níve de confiança de 90% é de R$ 58.880,29'"
            ],
            "text/markdown": "'O novo custo para o níve de confiança de 90% é de R$ 58.880,29'",
            "text/latex": "'O novo custo para o níve de confiança de 90\\% é de R\\$ 58.880,29'",
            "text/plain": [
              "O novo custo para o níve de confiança de 90% é de R$ 58.880,29"
            ]
          },
          "metadata": {}
        },
        {
          "output_type": "display_data",
          "data": {
            "text/html": [
              "'O novo custo para o níve de confiança de 95% é de R$ 83.601,02'"
            ],
            "text/markdown": "'O novo custo para o níve de confiança de 95% é de R$ 83.601,02'",
            "text/latex": "'O novo custo para o níve de confiança de 95\\% é de R\\$ 83.601,02'",
            "text/plain": [
              "O novo custo para o níve de confiança de 95% é de R$ 83.601,02"
            ]
          },
          "metadata": {}
        },
        {
          "output_type": "display_data",
          "data": {
            "text/html": [
              "'O novo custo para o níve de confiança de 99% é de R$ 144.394,14'"
            ],
            "text/markdown": "'O novo custo para o níve de confiança de 99% é de R$ 144.394,14'",
            "text/latex": "'O novo custo para o níve de confiança de 99\\% é de R\\$ 144.394,14'",
            "text/plain": [
              "O novo custo para o níve de confiança de 99% é de R$ 144.394,14"
            ]
          },
          "metadata": {}
        }
      ]
    },
    {
      "cell_type": "markdown",
      "source": [
        "Item 4"
      ],
      "metadata": {
        "id": "izdM63gWM8Vx"
      }
    },
    {
      "cell_type": "code",
      "source": [
        "#calculando os limites inferior e superior\n",
        "\n",
        "e<-0.10*media\n",
        "nivel_conf<-0.99\n",
        "probabilidade<-nivel_conf/2+0.5\n",
        "z<-qnorm(probabilidade)\n",
        "\n",
        "n<-(z*sigma/e)^2\n",
        "\n",
        "s<-desvio/sqrt(round(n))\n",
        "\n",
        "li<-media-z*(desvio/sqrt(n))\n",
        "ls<-media+z*(desvio/sqrt(n))\n",
        "\n",
        "glue('O limite inferior é de {round(li,2)} e o superior é de {round(ls,2)}')"
      ],
      "metadata": {
        "colab": {
          "base_uri": "https://localhost:8080/",
          "height": 34
        },
        "id": "DZciIcMIM7GH",
        "outputId": "dc823559-b982-4269-df2d-a814bf94cf91"
      },
      "execution_count": 73,
      "outputs": [
        {
          "output_type": "display_data",
          "data": {
            "text/html": [
              "'O limite inferior é de 1963.4 e o superior é de 2399.72'"
            ],
            "text/markdown": "'O limite inferior é de 1963.4 e o superior é de 2399.72'",
            "text/latex": "'O limite inferior é de 1963.4 e o superior é de 2399.72'",
            "text/plain": [
              "O limite inferior é de 1963.4 e o superior é de 2399.72"
            ]
          },
          "metadata": {}
        }
      ]
    },
    {
      "cell_type": "markdown",
      "source": [
        "item 5"
      ],
      "metadata": {
        "id": "lX-AEs1pSPt6"
      }
    },
    {
      "cell_type": "code",
      "source": [
        "#tamanho da amostra\n",
        "recurso<-150000\n",
        "custo_entrevista<-100\n",
        "\n",
        "n_95<-recurso/custo_entrevista\n",
        "n_95"
      ],
      "metadata": {
        "colab": {
          "base_uri": "https://localhost:8080/",
          "height": 34
        },
        "id": "ss-ULxxW6tna",
        "outputId": "1f1ed51e-10a0-4a25-f0d3-efc17ad154e4"
      },
      "execution_count": 68,
      "outputs": [
        {
          "output_type": "display_data",
          "data": {
            "text/html": [
              "1500"
            ],
            "text/markdown": "1500",
            "text/latex": "1500",
            "text/plain": [
              "[1] 1500"
            ]
          },
          "metadata": {}
        }
      ]
    },
    {
      "cell_type": "code",
      "source": [
        "#nova marge de erro\n",
        "nivel_conf<-0.95\n",
        "probabilidade<-nivel_conf/2+0.5\n",
        "z<-qnorm(probabilidade)\n",
        "\n",
        "e2<-z*(desvio/sqrt(n_95))\n",
        "e2"
      ],
      "metadata": {
        "colab": {
          "base_uri": "https://localhost:8080/",
          "height": 34
        },
        "id": "o_GIi6YUTZTI",
        "outputId": "c5736899-18f5-446e-b4f9-50b940167b02"
      },
      "execution_count": 69,
      "outputs": [
        {
          "output_type": "display_data",
          "data": {
            "text/html": [
              "162.864836424474"
            ],
            "text/markdown": "162.864836424474",
            "text/latex": "162.864836424474",
            "text/plain": [
              "[1] 162.8648"
            ]
          },
          "metadata": {}
        }
      ]
    },
    {
      "cell_type": "code",
      "source": [
        "#nova margem de erro em percentual\n",
        "e_new<-(e2/media)*100\n",
        "\n",
        "glue('A nova margem de erro é de {format(round(e_new,2), digits = 2, nsmall = 2, decimal.mark = \",\")}%.')"
      ],
      "metadata": {
        "colab": {
          "base_uri": "https://localhost:8080/",
          "height": 34
        },
        "id": "Lign38xg8CUz",
        "outputId": "dd744a20-7036-4f20-d9b9-291eb24a8d8e"
      },
      "execution_count": 67,
      "outputs": [
        {
          "output_type": "display_data",
          "data": {
            "text/html": [
              "'A nova margem de erro é de 7,47%.'"
            ],
            "text/markdown": "'A nova margem de erro é de 7,47%.'",
            "text/latex": "'A nova margem de erro é de 7,47\\%.'",
            "text/plain": [
              "A nova margem de erro é de 7,47%."
            ]
          },
          "metadata": {}
        }
      ]
    },
    {
      "cell_type": "markdown",
      "source": [
        "item 6"
      ],
      "metadata": {
        "id": "AmKEf9wsSR9g"
      }
    },
    {
      "cell_type": "code",
      "source": [
        "#calculando o novo número da amostra e o novo custo\n",
        "\n",
        "e<-0.05*media\n",
        "sigma<-desvio\n",
        "nivel_conf<-0.95\n",
        "probabilidade<-nivel_conf/2+0.5\n",
        "\n",
        "z<-qnorm(probabilidade)\n",
        "n<-(z*sigma/e)^2\n",
        "custo_ind<-100\n",
        "\n",
        "c_total<-n*custo_ind\n",
        "glue(' Número da amostra é de {round(n)}')\n",
        "glue('O novo custo será de R$ {format(c_total, digits=2, decimal.mark=\",\", nsmall=2, big.mark=\".\", scientific=F)}')"
      ],
      "metadata": {
        "colab": {
          "base_uri": "https://localhost:8080/",
          "height": 52
        },
        "id": "kSB6epSyVgNr",
        "outputId": "39047907-9cd6-4306-9872-1b238ac02b25"
      },
      "execution_count": 66,
      "outputs": [
        {
          "output_type": "display_data",
          "data": {
            "text/html": [
              "' Número da amostra é de 3344'"
            ],
            "text/markdown": "' Número da amostra é de 3344'",
            "text/latex": "' Número da amostra é de 3344'",
            "text/plain": [
              " Número da amostra é de 3344"
            ]
          },
          "metadata": {}
        },
        {
          "output_type": "display_data",
          "data": {
            "text/html": [
              "'O novo custo será de R$ 334.404,09'"
            ],
            "text/markdown": "'O novo custo será de R$ 334.404,09'",
            "text/latex": "'O novo custo será de R\\$ 334.404,09'",
            "text/plain": [
              "O novo custo será de R$ 334.404,09"
            ]
          },
          "metadata": {}
        }
      ]
    }
  ]
}