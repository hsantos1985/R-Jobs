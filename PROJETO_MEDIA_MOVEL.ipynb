{
  "nbformat": 4,
  "nbformat_minor": 0,
  "metadata": {
    "colab": {
      "provenance": [],
      "authorship_tag": "ABX9TyO9WK2HHQrXNcGBSQZ+dApz",
      "include_colab_link": true
    },
    "kernelspec": {
      "name": "ir",
      "display_name": "R"
    },
    "language_info": {
      "name": "R"
    }
  },
  "cells": [
    {
      "cell_type": "markdown",
      "metadata": {
        "id": "view-in-github",
        "colab_type": "text"
      },
      "source": [
        "<a href=\"https://colab.research.google.com/github/hsantos1985/R-Jobs/blob/main/PROJETO_MEDIA_MOVEL.ipynb\" target=\"_parent\"><img src=\"https://colab.research.google.com/assets/colab-badge.svg\" alt=\"Open In Colab\"/></a>"
      ]
    },
    {
      "cell_type": "markdown",
      "source": [
        "##SCRIPT NO R COM O PROJETO DE MÉDIA MÓVEL COM DADOS DE COVID DO ESTADO DE SP"
      ],
      "metadata": {
        "id": "DUS1_C3fDQ-e"
      }
    },
    {
      "cell_type": "markdown",
      "source": [
        "####1-BIBLIOTECAS"
      ],
      "metadata": {
        "id": "msa6kiR3032N"
      }
    },
    {
      "cell_type": "code",
      "source": [
        "install.packages(\"dplyr\")\n",
        "install.packages('forecast')\n",
        "install.packages(\"tidyr\")\n"
      ],
      "metadata": {
        "colab": {
          "base_uri": "https://localhost:8080/"
        },
        "id": "ZJ-HGIHH00D1",
        "outputId": "c9237bef-5b23-416e-a40d-2fca2c26c98e"
      },
      "execution_count": 43,
      "outputs": [
        {
          "output_type": "stream",
          "name": "stderr",
          "text": [
            "Installing package into ‘/usr/local/lib/R/site-library’\n",
            "(as ‘lib’ is unspecified)\n",
            "\n",
            "Installing package into ‘/usr/local/lib/R/site-library’\n",
            "(as ‘lib’ is unspecified)\n",
            "\n",
            "Installing package into ‘/usr/local/lib/R/site-library’\n",
            "(as ‘lib’ is unspecified)\n",
            "\n"
          ]
        }
      ]
    },
    {
      "cell_type": "code",
      "source": [
        "library(forecast)\n",
        "library(dplyr)\n",
        "library(tidyr)"
      ],
      "metadata": {
        "id": "QA0u573l0zqv"
      },
      "execution_count": 44,
      "outputs": []
    },
    {
      "cell_type": "code",
      "source": [
        "#configuração dos gráficos\n",
        "options(repr.plot.width = 19, repr.plot.height = 10)"
      ],
      "metadata": {
        "id": "WbQ-V704DyCc"
      },
      "execution_count": 42,
      "outputs": []
    },
    {
      "cell_type": "markdown",
      "source": [
        "####2-OBTENÇÃO DOS DADOS"
      ],
      "metadata": {
        "id": "I3VZ37xu24h1"
      }
    },
    {
      "cell_type": "markdown",
      "source": [
        "#####2.1-BUSCANDO OS ARQUIVOS"
      ],
      "metadata": {
        "id": "nxaYDp7r_KuE"
      }
    },
    {
      "cell_type": "code",
      "source": [
        "#OBTENDO OS DADOS\n",
        "#SETANDO O DIRETÓRIO DE DADOS\n",
        "#COMO NÃO É AMBIENTE PYTHN NÃO DÁ PARA MONTAR O DRIVE, PARA OBTER A PASTA\n",
        "#DESTA FORMA OS ARQUIVOS SERÃO UPADOS INDIVIDUALMENTE\n",
        "covid_sp<-\n",
        "  read.csv('/dados_covid_sp.csv', sep = \";\")\n"
      ],
      "metadata": {
        "id": "_i5IrcNk0zoA"
      },
      "execution_count": 31,
      "outputs": []
    },
    {
      "cell_type": "code",
      "source": [
        "View(covid_sp)"
      ],
      "metadata": {
        "colab": {
          "base_uri": "https://localhost:8080/",
          "height": 1000
        },
        "id": "cP3NIi8u0zld",
        "outputId": "9228921c-bf8f-441d-a963-3d3bf3be19d8"
      },
      "execution_count": 32,
      "outputs": [
        {
          "output_type": "display_data",
          "data": {
            "text/plain": [
              "       nome_munic                 codigo_ibge dia mes datahora   casos\n",
              "1      Adamantina                 3500105     25  2   2020-02-25 0    \n",
              "2      Adolfo                     3500204     25  2   2020-02-25 0    \n",
              "3      Aguaí                      3500303     25  2   2020-02-25 0    \n",
              "4      Águas da Prata             3500402     25  2   2020-02-25 0    \n",
              "5      Águas de Lindóia           3500501     25  2   2020-02-25 0    \n",
              "6      Águas de Santa Bárbara     3500550     25  2   2020-02-25 0    \n",
              "7      Águas de São Pedro         3500600     25  2   2020-02-25 0    \n",
              "8      Agudos                     3500709     25  2   2020-02-25 0    \n",
              "9      Alambari                   3500758     25  2   2020-02-25 0    \n",
              "10     Alfredo Marcondes          3500808     25  2   2020-02-25 0    \n",
              "11     Altair                     3500907     25  2   2020-02-25 0    \n",
              "12     Altinópolis                3501004     25  2   2020-02-25 0    \n",
              "13     Alto Alegre                3501103     25  2   2020-02-25 0    \n",
              "14     Alumínio                   3501152     25  2   2020-02-25 0    \n",
              "15     Álvares Florence           3501202     25  2   2020-02-25 0    \n",
              "16     Álvares Machado            3501301     25  2   2020-02-25 0    \n",
              "17     Álvaro de Carvalho         3501400     25  2   2020-02-25 0    \n",
              "18     Alvinlândia                3501509     25  2   2020-02-25 0    \n",
              "19     Americana                  3501608     25  2   2020-02-25 0    \n",
              "20     Américo Brasiliense        3501707     25  2   2020-02-25 0    \n",
              "21     Américo de Campos          3501806     25  2   2020-02-25 0    \n",
              "22     Amparo                     3501905     25  2   2020-02-25 0    \n",
              "23     Analândia                  3502002     25  2   2020-02-25 0    \n",
              "24     Andradina                  3502101     25  2   2020-02-25 0    \n",
              "25     Angatuba                   3502200     25  2   2020-02-25 0    \n",
              "26     Anhembi                    3502309     25  2   2020-02-25 0    \n",
              "27     Anhumas                    3502408     25  2   2020-02-25 0    \n",
              "28     Aparecida                  3502507     25  2   2020-02-25 0    \n",
              "29     Aparecida d'Oeste          3502606     25  2   2020-02-25 0    \n",
              "30     Apiaí                      3502705     25  2   2020-02-25 0    \n",
              "⋮      ⋮                          ⋮           ⋮   ⋮   ⋮          ⋮    \n",
              "561021 Santa Clara d'Oeste        3546108     13  7   2022-07-13   476\n",
              "561022 Santa Cruz da Conceição    3546207     13  7   2022-07-13  1897\n",
              "561023 Santa Cruz da Esperança    3546256     13  7   2022-07-13   202\n",
              "561024 Santa Cruz das Palmeiras   3546306     13  7   2022-07-13  5229\n",
              "561025 Santa Cruz do Rio Pardo    3546405     13  7   2022-07-13  8188\n",
              "561026 Santa Ernestina            3546504     13  7   2022-07-13   552\n",
              "561027 Santa Fé do Sul            3546603     13  7   2022-07-13  8547\n",
              "561028 Santa Gertrudes            3546702     13  7   2022-07-13  3938\n",
              "561029 Santa Isabel               3546801     13  7   2022-07-13  7342\n",
              "561030 Santa Lúcia                3546900     13  7   2022-07-13   775\n",
              "561031 Santa Maria da Serra       3547007     13  7   2022-07-13  1339\n",
              "561032 Santa Mercedes             3547106     13  7   2022-07-13   759\n",
              "561033 Santana da Ponte Pensa     3547205     13  7   2022-07-13   479\n",
              "561034 Santana de Parnaíba        3547304     13  7   2022-07-13 23508\n",
              "561035 Santa Rita d'Oeste         3547403     13  7   2022-07-13   436\n",
              "561036 Santa Rita do Passa Quatro 3547502     13  7   2022-07-13  1808\n",
              "561037 Santa Rosa de Viterbo      3547601     13  7   2022-07-13  2488\n",
              "561038 Santa Salete               3547650     13  7   2022-07-13   542\n",
              "561039 Santo Anastácio            3547700     13  7   2022-07-13  3217\n",
              "561040 Santo André                3547809     13  7   2022-07-13 91476\n",
              "561041 Santo Antônio da Alegria   3547908     13  7   2022-07-13   539\n",
              "561042 Santo Antônio de Posse     3548005     13  7   2022-07-13  4528\n",
              "561043 Santo Antônio do Aracanguá 3548054     13  7   2022-07-13   590\n",
              "561044 Santo Antônio do Jardim    3548104     13  7   2022-07-13  1246\n",
              "561045 Santo Antônio do Pinhal    3548203     13  7   2022-07-13  1510\n",
              "561046 Santo Expedito             3548302     13  7   2022-07-13   212\n",
              "561047 Santópolis do Aguapeí      3548401     13  7   2022-07-13   759\n",
              "561048 Santos                     3548500     13  7   2022-07-13 81074\n",
              "561049 São Bento do Sapucaí       3548609     13  7   2022-07-13   813\n",
              "561050 São Bernardo do Campo      3548708     13  7   2022-07-13 75796\n",
              "       casos_novos casos_pc             casos_mm7d          obitos ⋯\n",
              "1      0           0,00000000000000e+00 0,000000000000000   0      ⋯\n",
              "2      0           0,00000000000000e+00 0,000000000000000   0      ⋯\n",
              "3      0           0,00000000000000e+00 0,000000000000000   0      ⋯\n",
              "4      0           0,00000000000000e+00 0,000000000000000   0      ⋯\n",
              "5      0           0,00000000000000e+00 0,000000000000000   0      ⋯\n",
              "6      0           0,00000000000000e+00 0,000000000000000   0      ⋯\n",
              "7      0           0,00000000000000e+00 0,000000000000000   0      ⋯\n",
              "8      0           0,00000000000000e+00 0,000000000000000   0      ⋯\n",
              "9      0           0,00000000000000e+00 0,000000000000000   0      ⋯\n",
              "10     0           0,00000000000000e+00 0,000000000000000   0      ⋯\n",
              "11     0           0,00000000000000e+00 0,000000000000000   0      ⋯\n",
              "12     0           0,00000000000000e+00 0,000000000000000   0      ⋯\n",
              "13     0           0,00000000000000e+00 0,000000000000000   0      ⋯\n",
              "14     0           0,00000000000000e+00 0,000000000000000   0      ⋯\n",
              "15     0           0,00000000000000e+00 0,000000000000000   0      ⋯\n",
              "16     0           0,00000000000000e+00 0,000000000000000   0      ⋯\n",
              "17     0           0,00000000000000e+00 0,000000000000000   0      ⋯\n",
              "18     0           0,00000000000000e+00 0,000000000000000   0      ⋯\n",
              "19     0           0,00000000000000e+00 0,000000000000000   0      ⋯\n",
              "20     0           0,00000000000000e+00 0,000000000000000   0      ⋯\n",
              "21     0           0,00000000000000e+00 0,000000000000000   0      ⋯\n",
              "22     0           0,00000000000000e+00 0,000000000000000   0      ⋯\n",
              "23     0           0,00000000000000e+00 0,000000000000000   0      ⋯\n",
              "24     0           0,00000000000000e+00 0,000000000000000   0      ⋯\n",
              "25     0           0,00000000000000e+00 0,000000000000000   0      ⋯\n",
              "26     0           0,00000000000000e+00 0,000000000000000   0      ⋯\n",
              "27     0           0,00000000000000e+00 0,000000000000000   0      ⋯\n",
              "28     0           0,00000000000000e+00 0,000000000000000   0      ⋯\n",
              "29     0           0,00000000000000e+00 0,000000000000000   0      ⋯\n",
              "30     0           0,00000000000000e+00 0,000000000000000   0      ⋯\n",
              "⋮      ⋮           ⋮                    ⋮                   ⋮      ⋱\n",
              "561021   0         2,37288135593220e+04 0,000000000000000     21   ⋯\n",
              "561022   0         4,36192228098413e+04 6,571428571428571     15   ⋯\n",
              "561023   0         9,72556571978816e+03 0,000000000000000      6   ⋯\n",
              "561024  16         1,55029796317709e+04 7,142857142857143    136   ⋯\n",
              "561025   0         1,77575363261765e+04 1,000000000000000    199   ⋯\n",
              "561026   0         9,99095022624434e+03 0,142857142857143     21   ⋯\n",
              "561027  12         2,77463965718738e+04 18,857142857142858   150   ⋯\n",
              "561028   0         1,50368475314063e+04 0,000000000000000     86   ⋯\n",
              "561029  78         1,33282503721454e+04 25,428571428571427   294   ⋯\n",
              "561030   2         9,05162345246438e+03 0,571428571428571     25   ⋯\n",
              "561031   0         2,18042664061228e+04 0,000000000000000     12   ⋯\n",
              "561032  15         2,69818698897974e+04 2,714285714285714     11   ⋯\n",
              "561033   1         3,17428760768721e+04 2,428571428571428      5   ⋯\n",
              "561034  35         1,70185040396143e+04 47,857142857142854   427   ⋯\n",
              "561035   0         1,81364392678869e+04 0,000000000000000     14   ⋯\n",
              "561036   0         6,85237824521509e+03 0,000000000000000     46   ⋯\n",
              "561037   1         9,71723168254960e+03 0,142857142857143     54   ⋯\n",
              "561038   0         3,76388888888889e+04 0,000000000000000      8   ⋯\n",
              "561039  20         1,59835047448701e+04 12,000000000000000    71   ⋯\n",
              "561040   7         1,31835063491995e+04 9,714285714285714   3427   ⋯\n",
              "561041   0         8,12113906885641e+03 0,142857142857143     22   ⋯\n",
              "561042   7         1,98170598275636e+04 6,714285714285714     59   ⋯\n",
              "561043   0         7,14978187106156e+03 0,000000000000000     39   ⋯\n",
              "561044   0         2,13868863714384e+04 1,285714285714286     24   ⋯\n",
              "561045   1         2,27821363910682e+04 4,000000000000000     10   ⋯\n",
              "561046   0         7,13324360699865e+03 0,285714285714286     11   ⋯\n",
              "561047   0         1,62596401028278e+04 0,000000000000000     18   ⋯\n",
              "561048 160         1,89114608481863e+04 126,142857142857139 2570   ⋯\n",
              "561049   0         7,72079772079772e+03 0,000000000000000     14   ⋯\n",
              "561050   0         9,33349423583217e+03 4,857142857142857   3705   ⋯\n",
              "       nome_drs              cod_drs pop    pop_60 area   map_leg map_leg_s\n",
              "1      Marília                5       33894  7398   41199 0       8        \n",
              "2      São José do Rio Preto 15        3447   761   21106 0       8        \n",
              "3      São João da Boa Vista 14       35608  5245   47455 0       8        \n",
              "4      São João da Boa Vista 14        7797  1729   14267 0       8        \n",
              "5      Campinas               3       18374  3275    6013 0       8        \n",
              "6      Bauru                 12        5931  1106   40446 0       8        \n",
              "7      Piracicaba            11        3122   764     361 0       8        \n",
              "8      Bauru                 12       36134  5524   96671 0       8        \n",
              "9      Sorocaba               6        5779   830    1596 0       8        \n",
              "10     Presidente Prudente    2        3927   907   11892 0       8        \n",
              "11     Barretos              16        4036   552   31301 0       8        \n",
              "12     Ribeirão Preto         1       15553  2980   92896 0       8        \n",
              "13     Araçatuba              7        4017   964   31857 0       8        \n",
              "14     Sorocaba               6       17972  2230    8366 0       8        \n",
              "15     São José do Rio Preto 15        3621   991   36241 0       8        \n",
              "16     Presidente Prudente    2       23789  4267   34765 0       8        \n",
              "17     Marília                5        5044   583   15366 0       8        \n",
              "18     Marília                5        3176   505    8488 0       8        \n",
              "19     Campinas               3      233458 40276   13391 0       8        \n",
              "20     Araraquara             8       40243  4465   12279 0       8        \n",
              "21     São José do Rio Preto 15        5736  1267   25288 0       8        \n",
              "22     Campinas               3       69639 12727   44532 0       8        \n",
              "23     Piracicaba            11        4850   813   32595 0       8        \n",
              "24     Araçatuba              7       56054 10776   96423 0       8        \n",
              "25     Sorocaba               6       24501  3775  102729 0       8        \n",
              "26     Bauru                 12        6672   975   73656 0       8        \n",
              "27     Presidente Prudente    2        3963   680   32084 0       8        \n",
              "28     Taubaté               17       35709  6043   12108 0       8        \n",
              "29     São José do Rio Preto 15        4132   997     179 0       8        \n",
              "30     Sorocaba               6       24666  3685   97432 0       8        \n",
              "⋮      ⋮                     ⋮       ⋮      ⋮      ⋮      ⋮       ⋮        \n",
              "561021 São José do Rio Preto 15        2006    448  18346 <600     4       \n",
              "561022 Piracicaba            11        4349    860  15013 <5000    2       \n",
              "561023 Ribeirão Preto         1        2077    377  14806 <300     5       \n",
              "561024 São João da Boa Vista 14       33729   4721  29534 >5000    1       \n",
              "561025 Marília                5       46110   8329 111475 >5000    1       \n",
              "561026 Araraquara             8        5525    728  13442 <600     4       \n",
              "561027 São José do Rio Preto 15       30804   6215  20654 >5000    1       \n",
              "561028 Piracicaba            11       26189   2736   9829 <5000    2       \n",
              "561029 Grande São Paulo      10       55086   8115  36333 >5000    1       \n",
              "561030 Araraquara             8        8562   1150  15403 <1200    3       \n",
              "561031 Piracicaba            11        6141    793  25262 <5000    2       \n",
              "561032 Presidente Prudente    2        2813    503  16675 <1200    3       \n",
              "561033 São José do Rio Preto 15        1509    444  12989 <600     4       \n",
              "561034 Grande São Paulo      10      138132  16604  17995 >5000    1       \n",
              "561035 São José do Rio Preto 15        2404    667   2098 <600     4       \n",
              "561036 Ribeirão Preto         1       26385   5912  75414 <5000    2       \n",
              "561037 Ribeirão Preto         1       25604   4413  28858 <5000    2       \n",
              "561038 São José do Rio Preto 15        1440    359   7919 <600     4       \n",
              "561039 Presidente Prudente    2       20127   3961  55288 <5000    2       \n",
              "561040 Grande São Paulo      10      693867 123293  17578 >5000    1       \n",
              "561041 Ribeirão Preto         1        6637   1255  31031 <600     4       \n",
              "561042 Campinas               3       22849   3160  15413 <5000    2       \n",
              "561043 Araçatuba              7        8252   1293 130843 <600     4       \n",
              "561044 São João da Boa Vista 14        5826   1169  10996 <5000    2       \n",
              "561045 Taubaté               17        6628   1061  13301 <5000    2       \n",
              "561046 Presidente Prudente    2        2972    585   9447 <300     5       \n",
              "561047 Araçatuba              7        4668    700  12803 <1200    3       \n",
              "561048 Baixada Santista      13      428703  95433  28103 >5000    1       \n",
              "561049 Taubaté               17       10530   2027  25258 <1200    3       \n",
              "561050                       NA          NA     NA     NA         NA       \n",
              "       latitude longitude semana_epidem\n",
              "1      -21,6820 -51,0737  9            \n",
              "2      -21,2325 -49,6451  9            \n",
              "3      -22,0572 -46,9735  9            \n",
              "4      -21,9319 -46,7176  9            \n",
              "5      -22,4733 -46,6314  9            \n",
              "6      -22,8812 -49,2421  9            \n",
              "7      -22,5977 -47,8734  9            \n",
              "8      -22,4694 -48,9863  9            \n",
              "9      -23,5503 -47,8980  9            \n",
              "10     -21,9527 -51,4140  9            \n",
              "11     -20,5242 -49,0571  9            \n",
              "12     -21,0214 -47,3712  9            \n",
              "13     -21,5811 -50,1680  9            \n",
              "14     -23,5306 -47,2546  9            \n",
              "15     -20,3203 -49,9141  9            \n",
              "16     -22,0764 -51,4722  9            \n",
              "17     -22,0841 -49,7190  9            \n",
              "18     -22,4435 -49,7623  9            \n",
              "19     -22,7374 -47,3331  9            \n",
              "20     -21,7288 -48,1147  9            \n",
              "21     -20,2985 -49,7359  9            \n",
              "22     -22,7088 -46,7720  9            \n",
              "23     -22,1289 -47,6619  9            \n",
              "24     -20,8948 -51,3786  9            \n",
              "25     -23,4917 -48,4139  9            \n",
              "26     -22,7930 -48,1336  9            \n",
              "27     -22,2934 -51,3895  9            \n",
              "28     -22,8495 -45,2325  9            \n",
              "29     -20,4487 -50,8835  9            \n",
              "30     -24,5108 -48,8443  9            \n",
              "⋮      ⋮        ⋮         ⋮            \n",
              "561021 -20,0900 -50,9491  28           \n",
              "561022 -22,1405 -47,4512  28           \n",
              "561023 -21,2951 -47,4304  28           \n",
              "561024 -21,8235 -47,2480  28           \n",
              "561025 -22,8988 -49,6354  28           \n",
              "561026 -21,4618 -48,3953  28           \n",
              "561027 -20,2083 -50,9320  28           \n",
              "561028 -22,4572 -47,5272  28           \n",
              "561029 -23,3172 -46,2237  28           \n",
              "561030 -21,6850 -48,0885  28           \n",
              "561031 -22,5661 -48,1593  28           \n",
              "561032 -21,3495 -51,7564  28           \n",
              "561033 -20,2523 -50,8014  28           \n",
              "561034 -23,4439 -46,9178  28           \n",
              "561035 -20,1414 -50,8358  28           \n",
              "561036 -21,7083 -47,4780  28           \n",
              "561037 -21,4776 -47,3622  28           \n",
              "561038 -20,2429 -50,6887  28           \n",
              "561039 -21,9747 -51,6527  28           \n",
              "561040 -23,6737 -46,5432  28           \n",
              "561041 -21,0864 -47,1464  28           \n",
              "561042 -22,6029 -46,9192  28           \n",
              "561043 -20,9331 -50,4980  28           \n",
              "561044 -22,1121 -46,6845  28           \n",
              "561045 -22,8270 -45,6630  28           \n",
              "561046 -21,8467 -51,3929  28           \n",
              "561047 -21,6376 -50,5044  28           \n",
              "561048 -23,9535 -46,3350  28           \n",
              "561049 -22,6837 -45,7287  28           \n",
              "561050                    NA           "
            ],
            "text/html": [
              "<table class=\"dataframe\">\n",
              "<caption>A data.frame: 561050 × 26</caption>\n",
              "<thead>\n",
              "\t<tr><th scope=col>nome_munic</th><th scope=col>codigo_ibge</th><th scope=col>dia</th><th scope=col>mes</th><th scope=col>datahora</th><th scope=col>casos</th><th scope=col>casos_novos</th><th scope=col>casos_pc</th><th scope=col>casos_mm7d</th><th scope=col>obitos</th><th scope=col>⋯</th><th scope=col>nome_drs</th><th scope=col>cod_drs</th><th scope=col>pop</th><th scope=col>pop_60</th><th scope=col>area</th><th scope=col>map_leg</th><th scope=col>map_leg_s</th><th scope=col>latitude</th><th scope=col>longitude</th><th scope=col>semana_epidem</th></tr>\n",
              "\t<tr><th scope=col>&lt;chr&gt;</th><th scope=col>&lt;int&gt;</th><th scope=col>&lt;int&gt;</th><th scope=col>&lt;int&gt;</th><th scope=col>&lt;chr&gt;</th><th scope=col>&lt;int&gt;</th><th scope=col>&lt;int&gt;</th><th scope=col>&lt;chr&gt;</th><th scope=col>&lt;chr&gt;</th><th scope=col>&lt;int&gt;</th><th scope=col>⋯</th><th scope=col>&lt;chr&gt;</th><th scope=col>&lt;int&gt;</th><th scope=col>&lt;int&gt;</th><th scope=col>&lt;int&gt;</th><th scope=col>&lt;int&gt;</th><th scope=col>&lt;chr&gt;</th><th scope=col>&lt;int&gt;</th><th scope=col>&lt;chr&gt;</th><th scope=col>&lt;chr&gt;</th><th scope=col>&lt;int&gt;</th></tr>\n",
              "</thead>\n",
              "<tbody>\n",
              "\t<tr><td>Adamantina            </td><td>3500105</td><td>25</td><td>2</td><td>2020-02-25</td><td>0</td><td>0</td><td>0,00000000000000e+00</td><td>0,000000000000000</td><td>0</td><td>⋯</td><td>Marília              </td><td> 5</td><td> 33894</td><td> 7398</td><td> 41199</td><td>0</td><td>8</td><td>-21,6820</td><td>-51,0737</td><td>9</td></tr>\n",
              "\t<tr><td>Adolfo                </td><td>3500204</td><td>25</td><td>2</td><td>2020-02-25</td><td>0</td><td>0</td><td>0,00000000000000e+00</td><td>0,000000000000000</td><td>0</td><td>⋯</td><td>São José do Rio Preto</td><td>15</td><td>  3447</td><td>  761</td><td> 21106</td><td>0</td><td>8</td><td>-21,2325</td><td>-49,6451</td><td>9</td></tr>\n",
              "\t<tr><td>Aguaí                 </td><td>3500303</td><td>25</td><td>2</td><td>2020-02-25</td><td>0</td><td>0</td><td>0,00000000000000e+00</td><td>0,000000000000000</td><td>0</td><td>⋯</td><td>São João da Boa Vista</td><td>14</td><td> 35608</td><td> 5245</td><td> 47455</td><td>0</td><td>8</td><td>-22,0572</td><td>-46,9735</td><td>9</td></tr>\n",
              "\t<tr><td>Águas da Prata        </td><td>3500402</td><td>25</td><td>2</td><td>2020-02-25</td><td>0</td><td>0</td><td>0,00000000000000e+00</td><td>0,000000000000000</td><td>0</td><td>⋯</td><td>São João da Boa Vista</td><td>14</td><td>  7797</td><td> 1729</td><td> 14267</td><td>0</td><td>8</td><td>-21,9319</td><td>-46,7176</td><td>9</td></tr>\n",
              "\t<tr><td>Águas de Lindóia      </td><td>3500501</td><td>25</td><td>2</td><td>2020-02-25</td><td>0</td><td>0</td><td>0,00000000000000e+00</td><td>0,000000000000000</td><td>0</td><td>⋯</td><td>Campinas             </td><td> 3</td><td> 18374</td><td> 3275</td><td>  6013</td><td>0</td><td>8</td><td>-22,4733</td><td>-46,6314</td><td>9</td></tr>\n",
              "\t<tr><td>Águas de Santa Bárbara</td><td>3500550</td><td>25</td><td>2</td><td>2020-02-25</td><td>0</td><td>0</td><td>0,00000000000000e+00</td><td>0,000000000000000</td><td>0</td><td>⋯</td><td>Bauru                </td><td>12</td><td>  5931</td><td> 1106</td><td> 40446</td><td>0</td><td>8</td><td>-22,8812</td><td>-49,2421</td><td>9</td></tr>\n",
              "\t<tr><td>Águas de São Pedro    </td><td>3500600</td><td>25</td><td>2</td><td>2020-02-25</td><td>0</td><td>0</td><td>0,00000000000000e+00</td><td>0,000000000000000</td><td>0</td><td>⋯</td><td>Piracicaba           </td><td>11</td><td>  3122</td><td>  764</td><td>   361</td><td>0</td><td>8</td><td>-22,5977</td><td>-47,8734</td><td>9</td></tr>\n",
              "\t<tr><td>Agudos                </td><td>3500709</td><td>25</td><td>2</td><td>2020-02-25</td><td>0</td><td>0</td><td>0,00000000000000e+00</td><td>0,000000000000000</td><td>0</td><td>⋯</td><td>Bauru                </td><td>12</td><td> 36134</td><td> 5524</td><td> 96671</td><td>0</td><td>8</td><td>-22,4694</td><td>-48,9863</td><td>9</td></tr>\n",
              "\t<tr><td>Alambari              </td><td>3500758</td><td>25</td><td>2</td><td>2020-02-25</td><td>0</td><td>0</td><td>0,00000000000000e+00</td><td>0,000000000000000</td><td>0</td><td>⋯</td><td>Sorocaba             </td><td> 6</td><td>  5779</td><td>  830</td><td>  1596</td><td>0</td><td>8</td><td>-23,5503</td><td>-47,8980</td><td>9</td></tr>\n",
              "\t<tr><td>Alfredo Marcondes     </td><td>3500808</td><td>25</td><td>2</td><td>2020-02-25</td><td>0</td><td>0</td><td>0,00000000000000e+00</td><td>0,000000000000000</td><td>0</td><td>⋯</td><td>Presidente Prudente  </td><td> 2</td><td>  3927</td><td>  907</td><td> 11892</td><td>0</td><td>8</td><td>-21,9527</td><td>-51,4140</td><td>9</td></tr>\n",
              "\t<tr><td>Altair                </td><td>3500907</td><td>25</td><td>2</td><td>2020-02-25</td><td>0</td><td>0</td><td>0,00000000000000e+00</td><td>0,000000000000000</td><td>0</td><td>⋯</td><td>Barretos             </td><td>16</td><td>  4036</td><td>  552</td><td> 31301</td><td>0</td><td>8</td><td>-20,5242</td><td>-49,0571</td><td>9</td></tr>\n",
              "\t<tr><td>Altinópolis           </td><td>3501004</td><td>25</td><td>2</td><td>2020-02-25</td><td>0</td><td>0</td><td>0,00000000000000e+00</td><td>0,000000000000000</td><td>0</td><td>⋯</td><td>Ribeirão Preto       </td><td> 1</td><td> 15553</td><td> 2980</td><td> 92896</td><td>0</td><td>8</td><td>-21,0214</td><td>-47,3712</td><td>9</td></tr>\n",
              "\t<tr><td>Alto Alegre           </td><td>3501103</td><td>25</td><td>2</td><td>2020-02-25</td><td>0</td><td>0</td><td>0,00000000000000e+00</td><td>0,000000000000000</td><td>0</td><td>⋯</td><td>Araçatuba            </td><td> 7</td><td>  4017</td><td>  964</td><td> 31857</td><td>0</td><td>8</td><td>-21,5811</td><td>-50,1680</td><td>9</td></tr>\n",
              "\t<tr><td>Alumínio              </td><td>3501152</td><td>25</td><td>2</td><td>2020-02-25</td><td>0</td><td>0</td><td>0,00000000000000e+00</td><td>0,000000000000000</td><td>0</td><td>⋯</td><td>Sorocaba             </td><td> 6</td><td> 17972</td><td> 2230</td><td>  8366</td><td>0</td><td>8</td><td>-23,5306</td><td>-47,2546</td><td>9</td></tr>\n",
              "\t<tr><td>Álvares Florence      </td><td>3501202</td><td>25</td><td>2</td><td>2020-02-25</td><td>0</td><td>0</td><td>0,00000000000000e+00</td><td>0,000000000000000</td><td>0</td><td>⋯</td><td>São José do Rio Preto</td><td>15</td><td>  3621</td><td>  991</td><td> 36241</td><td>0</td><td>8</td><td>-20,3203</td><td>-49,9141</td><td>9</td></tr>\n",
              "\t<tr><td>Álvares Machado       </td><td>3501301</td><td>25</td><td>2</td><td>2020-02-25</td><td>0</td><td>0</td><td>0,00000000000000e+00</td><td>0,000000000000000</td><td>0</td><td>⋯</td><td>Presidente Prudente  </td><td> 2</td><td> 23789</td><td> 4267</td><td> 34765</td><td>0</td><td>8</td><td>-22,0764</td><td>-51,4722</td><td>9</td></tr>\n",
              "\t<tr><td>Álvaro de Carvalho    </td><td>3501400</td><td>25</td><td>2</td><td>2020-02-25</td><td>0</td><td>0</td><td>0,00000000000000e+00</td><td>0,000000000000000</td><td>0</td><td>⋯</td><td>Marília              </td><td> 5</td><td>  5044</td><td>  583</td><td> 15366</td><td>0</td><td>8</td><td>-22,0841</td><td>-49,7190</td><td>9</td></tr>\n",
              "\t<tr><td>Alvinlândia           </td><td>3501509</td><td>25</td><td>2</td><td>2020-02-25</td><td>0</td><td>0</td><td>0,00000000000000e+00</td><td>0,000000000000000</td><td>0</td><td>⋯</td><td>Marília              </td><td> 5</td><td>  3176</td><td>  505</td><td>  8488</td><td>0</td><td>8</td><td>-22,4435</td><td>-49,7623</td><td>9</td></tr>\n",
              "\t<tr><td>Americana             </td><td>3501608</td><td>25</td><td>2</td><td>2020-02-25</td><td>0</td><td>0</td><td>0,00000000000000e+00</td><td>0,000000000000000</td><td>0</td><td>⋯</td><td>Campinas             </td><td> 3</td><td>233458</td><td>40276</td><td> 13391</td><td>0</td><td>8</td><td>-22,7374</td><td>-47,3331</td><td>9</td></tr>\n",
              "\t<tr><td>Américo Brasiliense   </td><td>3501707</td><td>25</td><td>2</td><td>2020-02-25</td><td>0</td><td>0</td><td>0,00000000000000e+00</td><td>0,000000000000000</td><td>0</td><td>⋯</td><td>Araraquara           </td><td> 8</td><td> 40243</td><td> 4465</td><td> 12279</td><td>0</td><td>8</td><td>-21,7288</td><td>-48,1147</td><td>9</td></tr>\n",
              "\t<tr><td>Américo de Campos     </td><td>3501806</td><td>25</td><td>2</td><td>2020-02-25</td><td>0</td><td>0</td><td>0,00000000000000e+00</td><td>0,000000000000000</td><td>0</td><td>⋯</td><td>São José do Rio Preto</td><td>15</td><td>  5736</td><td> 1267</td><td> 25288</td><td>0</td><td>8</td><td>-20,2985</td><td>-49,7359</td><td>9</td></tr>\n",
              "\t<tr><td>Amparo                </td><td>3501905</td><td>25</td><td>2</td><td>2020-02-25</td><td>0</td><td>0</td><td>0,00000000000000e+00</td><td>0,000000000000000</td><td>0</td><td>⋯</td><td>Campinas             </td><td> 3</td><td> 69639</td><td>12727</td><td> 44532</td><td>0</td><td>8</td><td>-22,7088</td><td>-46,7720</td><td>9</td></tr>\n",
              "\t<tr><td>Analândia             </td><td>3502002</td><td>25</td><td>2</td><td>2020-02-25</td><td>0</td><td>0</td><td>0,00000000000000e+00</td><td>0,000000000000000</td><td>0</td><td>⋯</td><td>Piracicaba           </td><td>11</td><td>  4850</td><td>  813</td><td> 32595</td><td>0</td><td>8</td><td>-22,1289</td><td>-47,6619</td><td>9</td></tr>\n",
              "\t<tr><td>Andradina             </td><td>3502101</td><td>25</td><td>2</td><td>2020-02-25</td><td>0</td><td>0</td><td>0,00000000000000e+00</td><td>0,000000000000000</td><td>0</td><td>⋯</td><td>Araçatuba            </td><td> 7</td><td> 56054</td><td>10776</td><td> 96423</td><td>0</td><td>8</td><td>-20,8948</td><td>-51,3786</td><td>9</td></tr>\n",
              "\t<tr><td>Angatuba              </td><td>3502200</td><td>25</td><td>2</td><td>2020-02-25</td><td>0</td><td>0</td><td>0,00000000000000e+00</td><td>0,000000000000000</td><td>0</td><td>⋯</td><td>Sorocaba             </td><td> 6</td><td> 24501</td><td> 3775</td><td>102729</td><td>0</td><td>8</td><td>-23,4917</td><td>-48,4139</td><td>9</td></tr>\n",
              "\t<tr><td>Anhembi               </td><td>3502309</td><td>25</td><td>2</td><td>2020-02-25</td><td>0</td><td>0</td><td>0,00000000000000e+00</td><td>0,000000000000000</td><td>0</td><td>⋯</td><td>Bauru                </td><td>12</td><td>  6672</td><td>  975</td><td> 73656</td><td>0</td><td>8</td><td>-22,7930</td><td>-48,1336</td><td>9</td></tr>\n",
              "\t<tr><td>Anhumas               </td><td>3502408</td><td>25</td><td>2</td><td>2020-02-25</td><td>0</td><td>0</td><td>0,00000000000000e+00</td><td>0,000000000000000</td><td>0</td><td>⋯</td><td>Presidente Prudente  </td><td> 2</td><td>  3963</td><td>  680</td><td> 32084</td><td>0</td><td>8</td><td>-22,2934</td><td>-51,3895</td><td>9</td></tr>\n",
              "\t<tr><td>Aparecida             </td><td>3502507</td><td>25</td><td>2</td><td>2020-02-25</td><td>0</td><td>0</td><td>0,00000000000000e+00</td><td>0,000000000000000</td><td>0</td><td>⋯</td><td>Taubaté              </td><td>17</td><td> 35709</td><td> 6043</td><td> 12108</td><td>0</td><td>8</td><td>-22,8495</td><td>-45,2325</td><td>9</td></tr>\n",
              "\t<tr><td>Aparecida d'Oeste     </td><td>3502606</td><td>25</td><td>2</td><td>2020-02-25</td><td>0</td><td>0</td><td>0,00000000000000e+00</td><td>0,000000000000000</td><td>0</td><td>⋯</td><td>São José do Rio Preto</td><td>15</td><td>  4132</td><td>  997</td><td>   179</td><td>0</td><td>8</td><td>-20,4487</td><td>-50,8835</td><td>9</td></tr>\n",
              "\t<tr><td>Apiaí                 </td><td>3502705</td><td>25</td><td>2</td><td>2020-02-25</td><td>0</td><td>0</td><td>0,00000000000000e+00</td><td>0,000000000000000</td><td>0</td><td>⋯</td><td>Sorocaba             </td><td> 6</td><td> 24666</td><td> 3685</td><td> 97432</td><td>0</td><td>8</td><td>-24,5108</td><td>-48,8443</td><td>9</td></tr>\n",
              "\t<tr><td>⋮</td><td>⋮</td><td>⋮</td><td>⋮</td><td>⋮</td><td>⋮</td><td>⋮</td><td>⋮</td><td>⋮</td><td>⋮</td><td>⋱</td><td>⋮</td><td>⋮</td><td>⋮</td><td>⋮</td><td>⋮</td><td>⋮</td><td>⋮</td><td>⋮</td><td>⋮</td><td>⋮</td></tr>\n",
              "\t<tr><td><span style=white-space:pre-wrap>Santa Clara d'Oeste       </span></td><td>3546108</td><td>13</td><td>7</td><td>2022-07-13</td><td><span style=white-space:pre-wrap>  476</span></td><td><span style=white-space:pre-wrap>  0</span></td><td>2,37288135593220e+04</td><td><span style=white-space:pre-wrap>0,000000000000000  </span></td><td><span style=white-space:pre-wrap>  21</span></td><td>⋯</td><td>São José do Rio Preto</td><td>15</td><td><span style=white-space:pre-wrap>  2006</span></td><td><span style=white-space:pre-wrap>   448</span></td><td> 18346</td><td>&lt;600 </td><td> 4</td><td>-20,0900</td><td>-50,9491</td><td>28</td></tr>\n",
              "\t<tr><td><span style=white-space:pre-wrap>Santa Cruz da Conceição   </span></td><td>3546207</td><td>13</td><td>7</td><td>2022-07-13</td><td> 1897</td><td><span style=white-space:pre-wrap>  0</span></td><td>4,36192228098413e+04</td><td><span style=white-space:pre-wrap>6,571428571428571  </span></td><td><span style=white-space:pre-wrap>  15</span></td><td>⋯</td><td><span style=white-space:pre-wrap>Piracicaba           </span></td><td>11</td><td><span style=white-space:pre-wrap>  4349</span></td><td><span style=white-space:pre-wrap>   860</span></td><td> 15013</td><td>&lt;5000</td><td> 2</td><td>-22,1405</td><td>-47,4512</td><td>28</td></tr>\n",
              "\t<tr><td><span style=white-space:pre-wrap>Santa Cruz da Esperança   </span></td><td>3546256</td><td>13</td><td>7</td><td>2022-07-13</td><td><span style=white-space:pre-wrap>  202</span></td><td><span style=white-space:pre-wrap>  0</span></td><td>9,72556571978816e+03</td><td><span style=white-space:pre-wrap>0,000000000000000  </span></td><td><span style=white-space:pre-wrap>   6</span></td><td>⋯</td><td><span style=white-space:pre-wrap>Ribeirão Preto       </span></td><td> 1</td><td><span style=white-space:pre-wrap>  2077</span></td><td><span style=white-space:pre-wrap>   377</span></td><td> 14806</td><td>&lt;300 </td><td> 5</td><td>-21,2951</td><td>-47,4304</td><td>28</td></tr>\n",
              "\t<tr><td><span style=white-space:pre-wrap>Santa Cruz das Palmeiras  </span></td><td>3546306</td><td>13</td><td>7</td><td>2022-07-13</td><td> 5229</td><td> 16</td><td>1,55029796317709e+04</td><td><span style=white-space:pre-wrap>7,142857142857143  </span></td><td> 136</td><td>⋯</td><td>São João da Boa Vista</td><td>14</td><td> 33729</td><td><span style=white-space:pre-wrap>  4721</span></td><td> 29534</td><td>&gt;5000</td><td> 1</td><td>-21,8235</td><td>-47,2480</td><td>28</td></tr>\n",
              "\t<tr><td><span style=white-space:pre-wrap>Santa Cruz do Rio Pardo   </span></td><td>3546405</td><td>13</td><td>7</td><td>2022-07-13</td><td> 8188</td><td><span style=white-space:pre-wrap>  0</span></td><td>1,77575363261765e+04</td><td><span style=white-space:pre-wrap>1,000000000000000  </span></td><td> 199</td><td>⋯</td><td><span style=white-space:pre-wrap>Marília              </span></td><td> 5</td><td> 46110</td><td><span style=white-space:pre-wrap>  8329</span></td><td>111475</td><td>&gt;5000</td><td> 1</td><td>-22,8988</td><td>-49,6354</td><td>28</td></tr>\n",
              "\t<tr><td><span style=white-space:pre-wrap>Santa Ernestina           </span></td><td>3546504</td><td>13</td><td>7</td><td>2022-07-13</td><td><span style=white-space:pre-wrap>  552</span></td><td><span style=white-space:pre-wrap>  0</span></td><td>9,99095022624434e+03</td><td><span style=white-space:pre-wrap>0,142857142857143  </span></td><td><span style=white-space:pre-wrap>  21</span></td><td>⋯</td><td><span style=white-space:pre-wrap>Araraquara           </span></td><td> 8</td><td><span style=white-space:pre-wrap>  5525</span></td><td><span style=white-space:pre-wrap>   728</span></td><td> 13442</td><td>&lt;600 </td><td> 4</td><td>-21,4618</td><td>-48,3953</td><td>28</td></tr>\n",
              "\t<tr><td><span style=white-space:pre-wrap>Santa Fé do Sul           </span></td><td>3546603</td><td>13</td><td>7</td><td>2022-07-13</td><td> 8547</td><td> 12</td><td>2,77463965718738e+04</td><td>18,857142857142858 </td><td> 150</td><td>⋯</td><td>São José do Rio Preto</td><td>15</td><td> 30804</td><td><span style=white-space:pre-wrap>  6215</span></td><td> 20654</td><td>&gt;5000</td><td> 1</td><td>-20,2083</td><td>-50,9320</td><td>28</td></tr>\n",
              "\t<tr><td><span style=white-space:pre-wrap>Santa Gertrudes           </span></td><td>3546702</td><td>13</td><td>7</td><td>2022-07-13</td><td> 3938</td><td><span style=white-space:pre-wrap>  0</span></td><td>1,50368475314063e+04</td><td><span style=white-space:pre-wrap>0,000000000000000  </span></td><td><span style=white-space:pre-wrap>  86</span></td><td>⋯</td><td><span style=white-space:pre-wrap>Piracicaba           </span></td><td>11</td><td> 26189</td><td><span style=white-space:pre-wrap>  2736</span></td><td><span style=white-space:pre-wrap>  9829</span></td><td>&lt;5000</td><td> 2</td><td>-22,4572</td><td>-47,5272</td><td>28</td></tr>\n",
              "\t<tr><td><span style=white-space:pre-wrap>Santa Isabel              </span></td><td>3546801</td><td>13</td><td>7</td><td>2022-07-13</td><td> 7342</td><td> 78</td><td>1,33282503721454e+04</td><td>25,428571428571427 </td><td> 294</td><td>⋯</td><td><span style=white-space:pre-wrap>Grande São Paulo     </span></td><td>10</td><td> 55086</td><td><span style=white-space:pre-wrap>  8115</span></td><td> 36333</td><td>&gt;5000</td><td> 1</td><td>-23,3172</td><td>-46,2237</td><td>28</td></tr>\n",
              "\t<tr><td><span style=white-space:pre-wrap>Santa Lúcia               </span></td><td>3546900</td><td>13</td><td>7</td><td>2022-07-13</td><td><span style=white-space:pre-wrap>  775</span></td><td><span style=white-space:pre-wrap>  2</span></td><td>9,05162345246438e+03</td><td><span style=white-space:pre-wrap>0,571428571428571  </span></td><td><span style=white-space:pre-wrap>  25</span></td><td>⋯</td><td><span style=white-space:pre-wrap>Araraquara           </span></td><td> 8</td><td><span style=white-space:pre-wrap>  8562</span></td><td><span style=white-space:pre-wrap>  1150</span></td><td> 15403</td><td>&lt;1200</td><td> 3</td><td>-21,6850</td><td>-48,0885</td><td>28</td></tr>\n",
              "\t<tr><td><span style=white-space:pre-wrap>Santa Maria da Serra      </span></td><td>3547007</td><td>13</td><td>7</td><td>2022-07-13</td><td> 1339</td><td><span style=white-space:pre-wrap>  0</span></td><td>2,18042664061228e+04</td><td><span style=white-space:pre-wrap>0,000000000000000  </span></td><td><span style=white-space:pre-wrap>  12</span></td><td>⋯</td><td><span style=white-space:pre-wrap>Piracicaba           </span></td><td>11</td><td><span style=white-space:pre-wrap>  6141</span></td><td><span style=white-space:pre-wrap>   793</span></td><td> 25262</td><td>&lt;5000</td><td> 2</td><td>-22,5661</td><td>-48,1593</td><td>28</td></tr>\n",
              "\t<tr><td><span style=white-space:pre-wrap>Santa Mercedes            </span></td><td>3547106</td><td>13</td><td>7</td><td>2022-07-13</td><td><span style=white-space:pre-wrap>  759</span></td><td> 15</td><td>2,69818698897974e+04</td><td><span style=white-space:pre-wrap>2,714285714285714  </span></td><td><span style=white-space:pre-wrap>  11</span></td><td>⋯</td><td><span style=white-space:pre-wrap>Presidente Prudente  </span></td><td> 2</td><td><span style=white-space:pre-wrap>  2813</span></td><td><span style=white-space:pre-wrap>   503</span></td><td> 16675</td><td>&lt;1200</td><td> 3</td><td>-21,3495</td><td>-51,7564</td><td>28</td></tr>\n",
              "\t<tr><td><span style=white-space:pre-wrap>Santana da Ponte Pensa    </span></td><td>3547205</td><td>13</td><td>7</td><td>2022-07-13</td><td><span style=white-space:pre-wrap>  479</span></td><td><span style=white-space:pre-wrap>  1</span></td><td>3,17428760768721e+04</td><td><span style=white-space:pre-wrap>2,428571428571428  </span></td><td><span style=white-space:pre-wrap>   5</span></td><td>⋯</td><td>São José do Rio Preto</td><td>15</td><td><span style=white-space:pre-wrap>  1509</span></td><td><span style=white-space:pre-wrap>   444</span></td><td> 12989</td><td>&lt;600 </td><td> 4</td><td>-20,2523</td><td>-50,8014</td><td>28</td></tr>\n",
              "\t<tr><td><span style=white-space:pre-wrap>Santana de Parnaíba       </span></td><td>3547304</td><td>13</td><td>7</td><td>2022-07-13</td><td>23508</td><td> 35</td><td>1,70185040396143e+04</td><td>47,857142857142854 </td><td> 427</td><td>⋯</td><td><span style=white-space:pre-wrap>Grande São Paulo     </span></td><td>10</td><td>138132</td><td> 16604</td><td> 17995</td><td>&gt;5000</td><td> 1</td><td>-23,4439</td><td>-46,9178</td><td>28</td></tr>\n",
              "\t<tr><td><span style=white-space:pre-wrap>Santa Rita d'Oeste        </span></td><td>3547403</td><td>13</td><td>7</td><td>2022-07-13</td><td><span style=white-space:pre-wrap>  436</span></td><td><span style=white-space:pre-wrap>  0</span></td><td>1,81364392678869e+04</td><td><span style=white-space:pre-wrap>0,000000000000000  </span></td><td><span style=white-space:pre-wrap>  14</span></td><td>⋯</td><td>São José do Rio Preto</td><td>15</td><td><span style=white-space:pre-wrap>  2404</span></td><td><span style=white-space:pre-wrap>   667</span></td><td><span style=white-space:pre-wrap>  2098</span></td><td>&lt;600 </td><td> 4</td><td>-20,1414</td><td>-50,8358</td><td>28</td></tr>\n",
              "\t<tr><td>Santa Rita do Passa Quatro</td><td>3547502</td><td>13</td><td>7</td><td>2022-07-13</td><td> 1808</td><td><span style=white-space:pre-wrap>  0</span></td><td>6,85237824521509e+03</td><td><span style=white-space:pre-wrap>0,000000000000000  </span></td><td><span style=white-space:pre-wrap>  46</span></td><td>⋯</td><td><span style=white-space:pre-wrap>Ribeirão Preto       </span></td><td> 1</td><td> 26385</td><td><span style=white-space:pre-wrap>  5912</span></td><td> 75414</td><td>&lt;5000</td><td> 2</td><td>-21,7083</td><td>-47,4780</td><td>28</td></tr>\n",
              "\t<tr><td><span style=white-space:pre-wrap>Santa Rosa de Viterbo     </span></td><td>3547601</td><td>13</td><td>7</td><td>2022-07-13</td><td> 2488</td><td><span style=white-space:pre-wrap>  1</span></td><td>9,71723168254960e+03</td><td><span style=white-space:pre-wrap>0,142857142857143  </span></td><td><span style=white-space:pre-wrap>  54</span></td><td>⋯</td><td><span style=white-space:pre-wrap>Ribeirão Preto       </span></td><td> 1</td><td> 25604</td><td><span style=white-space:pre-wrap>  4413</span></td><td> 28858</td><td>&lt;5000</td><td> 2</td><td>-21,4776</td><td>-47,3622</td><td>28</td></tr>\n",
              "\t<tr><td><span style=white-space:pre-wrap>Santa Salete              </span></td><td>3547650</td><td>13</td><td>7</td><td>2022-07-13</td><td><span style=white-space:pre-wrap>  542</span></td><td><span style=white-space:pre-wrap>  0</span></td><td>3,76388888888889e+04</td><td><span style=white-space:pre-wrap>0,000000000000000  </span></td><td><span style=white-space:pre-wrap>   8</span></td><td>⋯</td><td>São José do Rio Preto</td><td>15</td><td><span style=white-space:pre-wrap>  1440</span></td><td><span style=white-space:pre-wrap>   359</span></td><td><span style=white-space:pre-wrap>  7919</span></td><td>&lt;600 </td><td> 4</td><td>-20,2429</td><td>-50,6887</td><td>28</td></tr>\n",
              "\t<tr><td><span style=white-space:pre-wrap>Santo Anastácio           </span></td><td>3547700</td><td>13</td><td>7</td><td>2022-07-13</td><td> 3217</td><td> 20</td><td>1,59835047448701e+04</td><td>12,000000000000000 </td><td><span style=white-space:pre-wrap>  71</span></td><td>⋯</td><td><span style=white-space:pre-wrap>Presidente Prudente  </span></td><td> 2</td><td> 20127</td><td><span style=white-space:pre-wrap>  3961</span></td><td> 55288</td><td>&lt;5000</td><td> 2</td><td>-21,9747</td><td>-51,6527</td><td>28</td></tr>\n",
              "\t<tr><td><span style=white-space:pre-wrap>Santo André               </span></td><td>3547809</td><td>13</td><td>7</td><td>2022-07-13</td><td>91476</td><td><span style=white-space:pre-wrap>  7</span></td><td>1,31835063491995e+04</td><td><span style=white-space:pre-wrap>9,714285714285714  </span></td><td>3427</td><td>⋯</td><td><span style=white-space:pre-wrap>Grande São Paulo     </span></td><td>10</td><td>693867</td><td>123293</td><td> 17578</td><td>&gt;5000</td><td> 1</td><td>-23,6737</td><td>-46,5432</td><td>28</td></tr>\n",
              "\t<tr><td><span style=white-space:pre-wrap>Santo Antônio da Alegria  </span></td><td>3547908</td><td>13</td><td>7</td><td>2022-07-13</td><td><span style=white-space:pre-wrap>  539</span></td><td><span style=white-space:pre-wrap>  0</span></td><td>8,12113906885641e+03</td><td><span style=white-space:pre-wrap>0,142857142857143  </span></td><td><span style=white-space:pre-wrap>  22</span></td><td>⋯</td><td><span style=white-space:pre-wrap>Ribeirão Preto       </span></td><td> 1</td><td><span style=white-space:pre-wrap>  6637</span></td><td><span style=white-space:pre-wrap>  1255</span></td><td> 31031</td><td>&lt;600 </td><td> 4</td><td>-21,0864</td><td>-47,1464</td><td>28</td></tr>\n",
              "\t<tr><td><span style=white-space:pre-wrap>Santo Antônio de Posse    </span></td><td>3548005</td><td>13</td><td>7</td><td>2022-07-13</td><td> 4528</td><td><span style=white-space:pre-wrap>  7</span></td><td>1,98170598275636e+04</td><td><span style=white-space:pre-wrap>6,714285714285714  </span></td><td><span style=white-space:pre-wrap>  59</span></td><td>⋯</td><td><span style=white-space:pre-wrap>Campinas             </span></td><td> 3</td><td> 22849</td><td><span style=white-space:pre-wrap>  3160</span></td><td> 15413</td><td>&lt;5000</td><td> 2</td><td>-22,6029</td><td>-46,9192</td><td>28</td></tr>\n",
              "\t<tr><td>Santo Antônio do Aracanguá</td><td>3548054</td><td>13</td><td>7</td><td>2022-07-13</td><td><span style=white-space:pre-wrap>  590</span></td><td><span style=white-space:pre-wrap>  0</span></td><td>7,14978187106156e+03</td><td><span style=white-space:pre-wrap>0,000000000000000  </span></td><td><span style=white-space:pre-wrap>  39</span></td><td>⋯</td><td><span style=white-space:pre-wrap>Araçatuba            </span></td><td> 7</td><td><span style=white-space:pre-wrap>  8252</span></td><td><span style=white-space:pre-wrap>  1293</span></td><td>130843</td><td>&lt;600 </td><td> 4</td><td>-20,9331</td><td>-50,4980</td><td>28</td></tr>\n",
              "\t<tr><td><span style=white-space:pre-wrap>Santo Antônio do Jardim   </span></td><td>3548104</td><td>13</td><td>7</td><td>2022-07-13</td><td> 1246</td><td><span style=white-space:pre-wrap>  0</span></td><td>2,13868863714384e+04</td><td><span style=white-space:pre-wrap>1,285714285714286  </span></td><td><span style=white-space:pre-wrap>  24</span></td><td>⋯</td><td>São João da Boa Vista</td><td>14</td><td><span style=white-space:pre-wrap>  5826</span></td><td><span style=white-space:pre-wrap>  1169</span></td><td> 10996</td><td>&lt;5000</td><td> 2</td><td>-22,1121</td><td>-46,6845</td><td>28</td></tr>\n",
              "\t<tr><td><span style=white-space:pre-wrap>Santo Antônio do Pinhal   </span></td><td>3548203</td><td>13</td><td>7</td><td>2022-07-13</td><td> 1510</td><td><span style=white-space:pre-wrap>  1</span></td><td>2,27821363910682e+04</td><td><span style=white-space:pre-wrap>4,000000000000000  </span></td><td><span style=white-space:pre-wrap>  10</span></td><td>⋯</td><td><span style=white-space:pre-wrap>Taubaté              </span></td><td>17</td><td><span style=white-space:pre-wrap>  6628</span></td><td><span style=white-space:pre-wrap>  1061</span></td><td> 13301</td><td>&lt;5000</td><td> 2</td><td>-22,8270</td><td>-45,6630</td><td>28</td></tr>\n",
              "\t<tr><td><span style=white-space:pre-wrap>Santo Expedito            </span></td><td>3548302</td><td>13</td><td>7</td><td>2022-07-13</td><td><span style=white-space:pre-wrap>  212</span></td><td><span style=white-space:pre-wrap>  0</span></td><td>7,13324360699865e+03</td><td><span style=white-space:pre-wrap>0,285714285714286  </span></td><td><span style=white-space:pre-wrap>  11</span></td><td>⋯</td><td><span style=white-space:pre-wrap>Presidente Prudente  </span></td><td> 2</td><td><span style=white-space:pre-wrap>  2972</span></td><td><span style=white-space:pre-wrap>   585</span></td><td><span style=white-space:pre-wrap>  9447</span></td><td>&lt;300 </td><td> 5</td><td>-21,8467</td><td>-51,3929</td><td>28</td></tr>\n",
              "\t<tr><td><span style=white-space:pre-wrap>Santópolis do Aguapeí     </span></td><td>3548401</td><td>13</td><td>7</td><td>2022-07-13</td><td><span style=white-space:pre-wrap>  759</span></td><td><span style=white-space:pre-wrap>  0</span></td><td>1,62596401028278e+04</td><td><span style=white-space:pre-wrap>0,000000000000000  </span></td><td><span style=white-space:pre-wrap>  18</span></td><td>⋯</td><td><span style=white-space:pre-wrap>Araçatuba            </span></td><td> 7</td><td><span style=white-space:pre-wrap>  4668</span></td><td><span style=white-space:pre-wrap>   700</span></td><td> 12803</td><td>&lt;1200</td><td> 3</td><td>-21,6376</td><td>-50,5044</td><td>28</td></tr>\n",
              "\t<tr><td><span style=white-space:pre-wrap>Santos                    </span></td><td>3548500</td><td>13</td><td>7</td><td>2022-07-13</td><td>81074</td><td>160</td><td>1,89114608481863e+04</td><td>126,142857142857139</td><td>2570</td><td>⋯</td><td><span style=white-space:pre-wrap>Baixada Santista     </span></td><td>13</td><td>428703</td><td> 95433</td><td> 28103</td><td>&gt;5000</td><td> 1</td><td>-23,9535</td><td>-46,3350</td><td>28</td></tr>\n",
              "\t<tr><td><span style=white-space:pre-wrap>São Bento do Sapucaí      </span></td><td>3548609</td><td>13</td><td>7</td><td>2022-07-13</td><td><span style=white-space:pre-wrap>  813</span></td><td><span style=white-space:pre-wrap>  0</span></td><td>7,72079772079772e+03</td><td><span style=white-space:pre-wrap>0,000000000000000  </span></td><td><span style=white-space:pre-wrap>  14</span></td><td>⋯</td><td><span style=white-space:pre-wrap>Taubaté              </span></td><td>17</td><td> 10530</td><td><span style=white-space:pre-wrap>  2027</span></td><td> 25258</td><td>&lt;1200</td><td> 3</td><td>-22,6837</td><td>-45,7287</td><td>28</td></tr>\n",
              "\t<tr><td>São Bernardo do Campo     </td><td>3548708</td><td>13</td><td>7</td><td>2022-07-13</td><td>75796</td><td>  0</td><td>9,33349423583217e+03</td><td>4,857142857142857  </td><td>3705</td><td>⋯</td><td>                     </td><td>NA</td><td>    NA</td><td>    NA</td><td>    NA</td><td>     </td><td>NA</td><td>        </td><td>        </td><td>NA</td></tr>\n",
              "</tbody>\n",
              "</table>\n"
            ],
            "text/markdown": "\nA data.frame: 561050 × 26\n\n| nome_munic &lt;chr&gt; | codigo_ibge &lt;int&gt; | dia &lt;int&gt; | mes &lt;int&gt; | datahora &lt;chr&gt; | casos &lt;int&gt; | casos_novos &lt;int&gt; | casos_pc &lt;chr&gt; | casos_mm7d &lt;chr&gt; | obitos &lt;int&gt; | ⋯ ⋯ | nome_drs &lt;chr&gt; | cod_drs &lt;int&gt; | pop &lt;int&gt; | pop_60 &lt;int&gt; | area &lt;int&gt; | map_leg &lt;chr&gt; | map_leg_s &lt;int&gt; | latitude &lt;chr&gt; | longitude &lt;chr&gt; | semana_epidem &lt;int&gt; |\n|---|---|---|---|---|---|---|---|---|---|---|---|---|---|---|---|---|---|---|---|---|\n| Adamantina             | 3500105 | 25 | 2 | 2020-02-25 | 0 | 0 | 0,00000000000000e+00 | 0,000000000000000 | 0 | ⋯ | Marília               |  5 |  33894 |  7398 |  41199 | 0 | 8 | -21,6820 | -51,0737 | 9 |\n| Adolfo                 | 3500204 | 25 | 2 | 2020-02-25 | 0 | 0 | 0,00000000000000e+00 | 0,000000000000000 | 0 | ⋯ | São José do Rio Preto | 15 |   3447 |   761 |  21106 | 0 | 8 | -21,2325 | -49,6451 | 9 |\n| Aguaí                  | 3500303 | 25 | 2 | 2020-02-25 | 0 | 0 | 0,00000000000000e+00 | 0,000000000000000 | 0 | ⋯ | São João da Boa Vista | 14 |  35608 |  5245 |  47455 | 0 | 8 | -22,0572 | -46,9735 | 9 |\n| Águas da Prata         | 3500402 | 25 | 2 | 2020-02-25 | 0 | 0 | 0,00000000000000e+00 | 0,000000000000000 | 0 | ⋯ | São João da Boa Vista | 14 |   7797 |  1729 |  14267 | 0 | 8 | -21,9319 | -46,7176 | 9 |\n| Águas de Lindóia       | 3500501 | 25 | 2 | 2020-02-25 | 0 | 0 | 0,00000000000000e+00 | 0,000000000000000 | 0 | ⋯ | Campinas              |  3 |  18374 |  3275 |   6013 | 0 | 8 | -22,4733 | -46,6314 | 9 |\n| Águas de Santa Bárbara | 3500550 | 25 | 2 | 2020-02-25 | 0 | 0 | 0,00000000000000e+00 | 0,000000000000000 | 0 | ⋯ | Bauru                 | 12 |   5931 |  1106 |  40446 | 0 | 8 | -22,8812 | -49,2421 | 9 |\n| Águas de São Pedro     | 3500600 | 25 | 2 | 2020-02-25 | 0 | 0 | 0,00000000000000e+00 | 0,000000000000000 | 0 | ⋯ | Piracicaba            | 11 |   3122 |   764 |    361 | 0 | 8 | -22,5977 | -47,8734 | 9 |\n| Agudos                 | 3500709 | 25 | 2 | 2020-02-25 | 0 | 0 | 0,00000000000000e+00 | 0,000000000000000 | 0 | ⋯ | Bauru                 | 12 |  36134 |  5524 |  96671 | 0 | 8 | -22,4694 | -48,9863 | 9 |\n| Alambari               | 3500758 | 25 | 2 | 2020-02-25 | 0 | 0 | 0,00000000000000e+00 | 0,000000000000000 | 0 | ⋯ | Sorocaba              |  6 |   5779 |   830 |   1596 | 0 | 8 | -23,5503 | -47,8980 | 9 |\n| Alfredo Marcondes      | 3500808 | 25 | 2 | 2020-02-25 | 0 | 0 | 0,00000000000000e+00 | 0,000000000000000 | 0 | ⋯ | Presidente Prudente   |  2 |   3927 |   907 |  11892 | 0 | 8 | -21,9527 | -51,4140 | 9 |\n| Altair                 | 3500907 | 25 | 2 | 2020-02-25 | 0 | 0 | 0,00000000000000e+00 | 0,000000000000000 | 0 | ⋯ | Barretos              | 16 |   4036 |   552 |  31301 | 0 | 8 | -20,5242 | -49,0571 | 9 |\n| Altinópolis            | 3501004 | 25 | 2 | 2020-02-25 | 0 | 0 | 0,00000000000000e+00 | 0,000000000000000 | 0 | ⋯ | Ribeirão Preto        |  1 |  15553 |  2980 |  92896 | 0 | 8 | -21,0214 | -47,3712 | 9 |\n| Alto Alegre            | 3501103 | 25 | 2 | 2020-02-25 | 0 | 0 | 0,00000000000000e+00 | 0,000000000000000 | 0 | ⋯ | Araçatuba             |  7 |   4017 |   964 |  31857 | 0 | 8 | -21,5811 | -50,1680 | 9 |\n| Alumínio               | 3501152 | 25 | 2 | 2020-02-25 | 0 | 0 | 0,00000000000000e+00 | 0,000000000000000 | 0 | ⋯ | Sorocaba              |  6 |  17972 |  2230 |   8366 | 0 | 8 | -23,5306 | -47,2546 | 9 |\n| Álvares Florence       | 3501202 | 25 | 2 | 2020-02-25 | 0 | 0 | 0,00000000000000e+00 | 0,000000000000000 | 0 | ⋯ | São José do Rio Preto | 15 |   3621 |   991 |  36241 | 0 | 8 | -20,3203 | -49,9141 | 9 |\n| Álvares Machado        | 3501301 | 25 | 2 | 2020-02-25 | 0 | 0 | 0,00000000000000e+00 | 0,000000000000000 | 0 | ⋯ | Presidente Prudente   |  2 |  23789 |  4267 |  34765 | 0 | 8 | -22,0764 | -51,4722 | 9 |\n| Álvaro de Carvalho     | 3501400 | 25 | 2 | 2020-02-25 | 0 | 0 | 0,00000000000000e+00 | 0,000000000000000 | 0 | ⋯ | Marília               |  5 |   5044 |   583 |  15366 | 0 | 8 | -22,0841 | -49,7190 | 9 |\n| Alvinlândia            | 3501509 | 25 | 2 | 2020-02-25 | 0 | 0 | 0,00000000000000e+00 | 0,000000000000000 | 0 | ⋯ | Marília               |  5 |   3176 |   505 |   8488 | 0 | 8 | -22,4435 | -49,7623 | 9 |\n| Americana              | 3501608 | 25 | 2 | 2020-02-25 | 0 | 0 | 0,00000000000000e+00 | 0,000000000000000 | 0 | ⋯ | Campinas              |  3 | 233458 | 40276 |  13391 | 0 | 8 | -22,7374 | -47,3331 | 9 |\n| Américo Brasiliense    | 3501707 | 25 | 2 | 2020-02-25 | 0 | 0 | 0,00000000000000e+00 | 0,000000000000000 | 0 | ⋯ | Araraquara            |  8 |  40243 |  4465 |  12279 | 0 | 8 | -21,7288 | -48,1147 | 9 |\n| Américo de Campos      | 3501806 | 25 | 2 | 2020-02-25 | 0 | 0 | 0,00000000000000e+00 | 0,000000000000000 | 0 | ⋯ | São José do Rio Preto | 15 |   5736 |  1267 |  25288 | 0 | 8 | -20,2985 | -49,7359 | 9 |\n| Amparo                 | 3501905 | 25 | 2 | 2020-02-25 | 0 | 0 | 0,00000000000000e+00 | 0,000000000000000 | 0 | ⋯ | Campinas              |  3 |  69639 | 12727 |  44532 | 0 | 8 | -22,7088 | -46,7720 | 9 |\n| Analândia              | 3502002 | 25 | 2 | 2020-02-25 | 0 | 0 | 0,00000000000000e+00 | 0,000000000000000 | 0 | ⋯ | Piracicaba            | 11 |   4850 |   813 |  32595 | 0 | 8 | -22,1289 | -47,6619 | 9 |\n| Andradina              | 3502101 | 25 | 2 | 2020-02-25 | 0 | 0 | 0,00000000000000e+00 | 0,000000000000000 | 0 | ⋯ | Araçatuba             |  7 |  56054 | 10776 |  96423 | 0 | 8 | -20,8948 | -51,3786 | 9 |\n| Angatuba               | 3502200 | 25 | 2 | 2020-02-25 | 0 | 0 | 0,00000000000000e+00 | 0,000000000000000 | 0 | ⋯ | Sorocaba              |  6 |  24501 |  3775 | 102729 | 0 | 8 | -23,4917 | -48,4139 | 9 |\n| Anhembi                | 3502309 | 25 | 2 | 2020-02-25 | 0 | 0 | 0,00000000000000e+00 | 0,000000000000000 | 0 | ⋯ | Bauru                 | 12 |   6672 |   975 |  73656 | 0 | 8 | -22,7930 | -48,1336 | 9 |\n| Anhumas                | 3502408 | 25 | 2 | 2020-02-25 | 0 | 0 | 0,00000000000000e+00 | 0,000000000000000 | 0 | ⋯ | Presidente Prudente   |  2 |   3963 |   680 |  32084 | 0 | 8 | -22,2934 | -51,3895 | 9 |\n| Aparecida              | 3502507 | 25 | 2 | 2020-02-25 | 0 | 0 | 0,00000000000000e+00 | 0,000000000000000 | 0 | ⋯ | Taubaté               | 17 |  35709 |  6043 |  12108 | 0 | 8 | -22,8495 | -45,2325 | 9 |\n| Aparecida d'Oeste      | 3502606 | 25 | 2 | 2020-02-25 | 0 | 0 | 0,00000000000000e+00 | 0,000000000000000 | 0 | ⋯ | São José do Rio Preto | 15 |   4132 |   997 |    179 | 0 | 8 | -20,4487 | -50,8835 | 9 |\n| Apiaí                  | 3502705 | 25 | 2 | 2020-02-25 | 0 | 0 | 0,00000000000000e+00 | 0,000000000000000 | 0 | ⋯ | Sorocaba              |  6 |  24666 |  3685 |  97432 | 0 | 8 | -24,5108 | -48,8443 | 9 |\n| ⋮ | ⋮ | ⋮ | ⋮ | ⋮ | ⋮ | ⋮ | ⋮ | ⋮ | ⋮ | ⋱ | ⋮ | ⋮ | ⋮ | ⋮ | ⋮ | ⋮ | ⋮ | ⋮ | ⋮ | ⋮ |\n| Santa Clara d'Oeste        | 3546108 | 13 | 7 | 2022-07-13 |   476 |   0 | 2,37288135593220e+04 | 0,000000000000000   |   21 | ⋯ | São José do Rio Preto | 15 |   2006 |    448 |  18346 | &lt;600  |  4 | -20,0900 | -50,9491 | 28 |\n| Santa Cruz da Conceição    | 3546207 | 13 | 7 | 2022-07-13 |  1897 |   0 | 4,36192228098413e+04 | 6,571428571428571   |   15 | ⋯ | Piracicaba            | 11 |   4349 |    860 |  15013 | &lt;5000 |  2 | -22,1405 | -47,4512 | 28 |\n| Santa Cruz da Esperança    | 3546256 | 13 | 7 | 2022-07-13 |   202 |   0 | 9,72556571978816e+03 | 0,000000000000000   |    6 | ⋯ | Ribeirão Preto        |  1 |   2077 |    377 |  14806 | &lt;300  |  5 | -21,2951 | -47,4304 | 28 |\n| Santa Cruz das Palmeiras   | 3546306 | 13 | 7 | 2022-07-13 |  5229 |  16 | 1,55029796317709e+04 | 7,142857142857143   |  136 | ⋯ | São João da Boa Vista | 14 |  33729 |   4721 |  29534 | &gt;5000 |  1 | -21,8235 | -47,2480 | 28 |\n| Santa Cruz do Rio Pardo    | 3546405 | 13 | 7 | 2022-07-13 |  8188 |   0 | 1,77575363261765e+04 | 1,000000000000000   |  199 | ⋯ | Marília               |  5 |  46110 |   8329 | 111475 | &gt;5000 |  1 | -22,8988 | -49,6354 | 28 |\n| Santa Ernestina            | 3546504 | 13 | 7 | 2022-07-13 |   552 |   0 | 9,99095022624434e+03 | 0,142857142857143   |   21 | ⋯ | Araraquara            |  8 |   5525 |    728 |  13442 | &lt;600  |  4 | -21,4618 | -48,3953 | 28 |\n| Santa Fé do Sul            | 3546603 | 13 | 7 | 2022-07-13 |  8547 |  12 | 2,77463965718738e+04 | 18,857142857142858  |  150 | ⋯ | São José do Rio Preto | 15 |  30804 |   6215 |  20654 | &gt;5000 |  1 | -20,2083 | -50,9320 | 28 |\n| Santa Gertrudes            | 3546702 | 13 | 7 | 2022-07-13 |  3938 |   0 | 1,50368475314063e+04 | 0,000000000000000   |   86 | ⋯ | Piracicaba            | 11 |  26189 |   2736 |   9829 | &lt;5000 |  2 | -22,4572 | -47,5272 | 28 |\n| Santa Isabel               | 3546801 | 13 | 7 | 2022-07-13 |  7342 |  78 | 1,33282503721454e+04 | 25,428571428571427  |  294 | ⋯ | Grande São Paulo      | 10 |  55086 |   8115 |  36333 | &gt;5000 |  1 | -23,3172 | -46,2237 | 28 |\n| Santa Lúcia                | 3546900 | 13 | 7 | 2022-07-13 |   775 |   2 | 9,05162345246438e+03 | 0,571428571428571   |   25 | ⋯ | Araraquara            |  8 |   8562 |   1150 |  15403 | &lt;1200 |  3 | -21,6850 | -48,0885 | 28 |\n| Santa Maria da Serra       | 3547007 | 13 | 7 | 2022-07-13 |  1339 |   0 | 2,18042664061228e+04 | 0,000000000000000   |   12 | ⋯ | Piracicaba            | 11 |   6141 |    793 |  25262 | &lt;5000 |  2 | -22,5661 | -48,1593 | 28 |\n| Santa Mercedes             | 3547106 | 13 | 7 | 2022-07-13 |   759 |  15 | 2,69818698897974e+04 | 2,714285714285714   |   11 | ⋯ | Presidente Prudente   |  2 |   2813 |    503 |  16675 | &lt;1200 |  3 | -21,3495 | -51,7564 | 28 |\n| Santana da Ponte Pensa     | 3547205 | 13 | 7 | 2022-07-13 |   479 |   1 | 3,17428760768721e+04 | 2,428571428571428   |    5 | ⋯ | São José do Rio Preto | 15 |   1509 |    444 |  12989 | &lt;600  |  4 | -20,2523 | -50,8014 | 28 |\n| Santana de Parnaíba        | 3547304 | 13 | 7 | 2022-07-13 | 23508 |  35 | 1,70185040396143e+04 | 47,857142857142854  |  427 | ⋯ | Grande São Paulo      | 10 | 138132 |  16604 |  17995 | &gt;5000 |  1 | -23,4439 | -46,9178 | 28 |\n| Santa Rita d'Oeste         | 3547403 | 13 | 7 | 2022-07-13 |   436 |   0 | 1,81364392678869e+04 | 0,000000000000000   |   14 | ⋯ | São José do Rio Preto | 15 |   2404 |    667 |   2098 | &lt;600  |  4 | -20,1414 | -50,8358 | 28 |\n| Santa Rita do Passa Quatro | 3547502 | 13 | 7 | 2022-07-13 |  1808 |   0 | 6,85237824521509e+03 | 0,000000000000000   |   46 | ⋯ | Ribeirão Preto        |  1 |  26385 |   5912 |  75414 | &lt;5000 |  2 | -21,7083 | -47,4780 | 28 |\n| Santa Rosa de Viterbo      | 3547601 | 13 | 7 | 2022-07-13 |  2488 |   1 | 9,71723168254960e+03 | 0,142857142857143   |   54 | ⋯ | Ribeirão Preto        |  1 |  25604 |   4413 |  28858 | &lt;5000 |  2 | -21,4776 | -47,3622 | 28 |\n| Santa Salete               | 3547650 | 13 | 7 | 2022-07-13 |   542 |   0 | 3,76388888888889e+04 | 0,000000000000000   |    8 | ⋯ | São José do Rio Preto | 15 |   1440 |    359 |   7919 | &lt;600  |  4 | -20,2429 | -50,6887 | 28 |\n| Santo Anastácio            | 3547700 | 13 | 7 | 2022-07-13 |  3217 |  20 | 1,59835047448701e+04 | 12,000000000000000  |   71 | ⋯ | Presidente Prudente   |  2 |  20127 |   3961 |  55288 | &lt;5000 |  2 | -21,9747 | -51,6527 | 28 |\n| Santo André                | 3547809 | 13 | 7 | 2022-07-13 | 91476 |   7 | 1,31835063491995e+04 | 9,714285714285714   | 3427 | ⋯ | Grande São Paulo      | 10 | 693867 | 123293 |  17578 | &gt;5000 |  1 | -23,6737 | -46,5432 | 28 |\n| Santo Antônio da Alegria   | 3547908 | 13 | 7 | 2022-07-13 |   539 |   0 | 8,12113906885641e+03 | 0,142857142857143   |   22 | ⋯ | Ribeirão Preto        |  1 |   6637 |   1255 |  31031 | &lt;600  |  4 | -21,0864 | -47,1464 | 28 |\n| Santo Antônio de Posse     | 3548005 | 13 | 7 | 2022-07-13 |  4528 |   7 | 1,98170598275636e+04 | 6,714285714285714   |   59 | ⋯ | Campinas              |  3 |  22849 |   3160 |  15413 | &lt;5000 |  2 | -22,6029 | -46,9192 | 28 |\n| Santo Antônio do Aracanguá | 3548054 | 13 | 7 | 2022-07-13 |   590 |   0 | 7,14978187106156e+03 | 0,000000000000000   |   39 | ⋯ | Araçatuba             |  7 |   8252 |   1293 | 130843 | &lt;600  |  4 | -20,9331 | -50,4980 | 28 |\n| Santo Antônio do Jardim    | 3548104 | 13 | 7 | 2022-07-13 |  1246 |   0 | 2,13868863714384e+04 | 1,285714285714286   |   24 | ⋯ | São João da Boa Vista | 14 |   5826 |   1169 |  10996 | &lt;5000 |  2 | -22,1121 | -46,6845 | 28 |\n| Santo Antônio do Pinhal    | 3548203 | 13 | 7 | 2022-07-13 |  1510 |   1 | 2,27821363910682e+04 | 4,000000000000000   |   10 | ⋯ | Taubaté               | 17 |   6628 |   1061 |  13301 | &lt;5000 |  2 | -22,8270 | -45,6630 | 28 |\n| Santo Expedito             | 3548302 | 13 | 7 | 2022-07-13 |   212 |   0 | 7,13324360699865e+03 | 0,285714285714286   |   11 | ⋯ | Presidente Prudente   |  2 |   2972 |    585 |   9447 | &lt;300  |  5 | -21,8467 | -51,3929 | 28 |\n| Santópolis do Aguapeí      | 3548401 | 13 | 7 | 2022-07-13 |   759 |   0 | 1,62596401028278e+04 | 0,000000000000000   |   18 | ⋯ | Araçatuba             |  7 |   4668 |    700 |  12803 | &lt;1200 |  3 | -21,6376 | -50,5044 | 28 |\n| Santos                     | 3548500 | 13 | 7 | 2022-07-13 | 81074 | 160 | 1,89114608481863e+04 | 126,142857142857139 | 2570 | ⋯ | Baixada Santista      | 13 | 428703 |  95433 |  28103 | &gt;5000 |  1 | -23,9535 | -46,3350 | 28 |\n| São Bento do Sapucaí       | 3548609 | 13 | 7 | 2022-07-13 |   813 |   0 | 7,72079772079772e+03 | 0,000000000000000   |   14 | ⋯ | Taubaté               | 17 |  10530 |   2027 |  25258 | &lt;1200 |  3 | -22,6837 | -45,7287 | 28 |\n| São Bernardo do Campo      | 3548708 | 13 | 7 | 2022-07-13 | 75796 |   0 | 9,33349423583217e+03 | 4,857142857142857   | 3705 | ⋯ | <!----> | NA |     NA |     NA |     NA | <!----> | NA | <!----> | <!----> | NA |\n\n",
            "text/latex": "A data.frame: 561050 × 26\n\\begin{tabular}{lllllllllllllllllllll}\n nome\\_munic & codigo\\_ibge & dia & mes & datahora & casos & casos\\_novos & casos\\_pc & casos\\_mm7d & obitos & ⋯ & nome\\_drs & cod\\_drs & pop & pop\\_60 & area & map\\_leg & map\\_leg\\_s & latitude & longitude & semana\\_epidem\\\\\n <chr> & <int> & <int> & <int> & <chr> & <int> & <int> & <chr> & <chr> & <int> & ⋯ & <chr> & <int> & <int> & <int> & <int> & <chr> & <int> & <chr> & <chr> & <int>\\\\\n\\hline\n\t Adamantina             & 3500105 & 25 & 2 & 2020-02-25 & 0 & 0 & 0,00000000000000e+00 & 0,000000000000000 & 0 & ⋯ & Marília               &  5 &  33894 &  7398 &  41199 & 0 & 8 & -21,6820 & -51,0737 & 9\\\\\n\t Adolfo                 & 3500204 & 25 & 2 & 2020-02-25 & 0 & 0 & 0,00000000000000e+00 & 0,000000000000000 & 0 & ⋯ & São José do Rio Preto & 15 &   3447 &   761 &  21106 & 0 & 8 & -21,2325 & -49,6451 & 9\\\\\n\t Aguaí                  & 3500303 & 25 & 2 & 2020-02-25 & 0 & 0 & 0,00000000000000e+00 & 0,000000000000000 & 0 & ⋯ & São João da Boa Vista & 14 &  35608 &  5245 &  47455 & 0 & 8 & -22,0572 & -46,9735 & 9\\\\\n\t Águas da Prata         & 3500402 & 25 & 2 & 2020-02-25 & 0 & 0 & 0,00000000000000e+00 & 0,000000000000000 & 0 & ⋯ & São João da Boa Vista & 14 &   7797 &  1729 &  14267 & 0 & 8 & -21,9319 & -46,7176 & 9\\\\\n\t Águas de Lindóia       & 3500501 & 25 & 2 & 2020-02-25 & 0 & 0 & 0,00000000000000e+00 & 0,000000000000000 & 0 & ⋯ & Campinas              &  3 &  18374 &  3275 &   6013 & 0 & 8 & -22,4733 & -46,6314 & 9\\\\\n\t Águas de Santa Bárbara & 3500550 & 25 & 2 & 2020-02-25 & 0 & 0 & 0,00000000000000e+00 & 0,000000000000000 & 0 & ⋯ & Bauru                 & 12 &   5931 &  1106 &  40446 & 0 & 8 & -22,8812 & -49,2421 & 9\\\\\n\t Águas de São Pedro     & 3500600 & 25 & 2 & 2020-02-25 & 0 & 0 & 0,00000000000000e+00 & 0,000000000000000 & 0 & ⋯ & Piracicaba            & 11 &   3122 &   764 &    361 & 0 & 8 & -22,5977 & -47,8734 & 9\\\\\n\t Agudos                 & 3500709 & 25 & 2 & 2020-02-25 & 0 & 0 & 0,00000000000000e+00 & 0,000000000000000 & 0 & ⋯ & Bauru                 & 12 &  36134 &  5524 &  96671 & 0 & 8 & -22,4694 & -48,9863 & 9\\\\\n\t Alambari               & 3500758 & 25 & 2 & 2020-02-25 & 0 & 0 & 0,00000000000000e+00 & 0,000000000000000 & 0 & ⋯ & Sorocaba              &  6 &   5779 &   830 &   1596 & 0 & 8 & -23,5503 & -47,8980 & 9\\\\\n\t Alfredo Marcondes      & 3500808 & 25 & 2 & 2020-02-25 & 0 & 0 & 0,00000000000000e+00 & 0,000000000000000 & 0 & ⋯ & Presidente Prudente   &  2 &   3927 &   907 &  11892 & 0 & 8 & -21,9527 & -51,4140 & 9\\\\\n\t Altair                 & 3500907 & 25 & 2 & 2020-02-25 & 0 & 0 & 0,00000000000000e+00 & 0,000000000000000 & 0 & ⋯ & Barretos              & 16 &   4036 &   552 &  31301 & 0 & 8 & -20,5242 & -49,0571 & 9\\\\\n\t Altinópolis            & 3501004 & 25 & 2 & 2020-02-25 & 0 & 0 & 0,00000000000000e+00 & 0,000000000000000 & 0 & ⋯ & Ribeirão Preto        &  1 &  15553 &  2980 &  92896 & 0 & 8 & -21,0214 & -47,3712 & 9\\\\\n\t Alto Alegre            & 3501103 & 25 & 2 & 2020-02-25 & 0 & 0 & 0,00000000000000e+00 & 0,000000000000000 & 0 & ⋯ & Araçatuba             &  7 &   4017 &   964 &  31857 & 0 & 8 & -21,5811 & -50,1680 & 9\\\\\n\t Alumínio               & 3501152 & 25 & 2 & 2020-02-25 & 0 & 0 & 0,00000000000000e+00 & 0,000000000000000 & 0 & ⋯ & Sorocaba              &  6 &  17972 &  2230 &   8366 & 0 & 8 & -23,5306 & -47,2546 & 9\\\\\n\t Álvares Florence       & 3501202 & 25 & 2 & 2020-02-25 & 0 & 0 & 0,00000000000000e+00 & 0,000000000000000 & 0 & ⋯ & São José do Rio Preto & 15 &   3621 &   991 &  36241 & 0 & 8 & -20,3203 & -49,9141 & 9\\\\\n\t Álvares Machado        & 3501301 & 25 & 2 & 2020-02-25 & 0 & 0 & 0,00000000000000e+00 & 0,000000000000000 & 0 & ⋯ & Presidente Prudente   &  2 &  23789 &  4267 &  34765 & 0 & 8 & -22,0764 & -51,4722 & 9\\\\\n\t Álvaro de Carvalho     & 3501400 & 25 & 2 & 2020-02-25 & 0 & 0 & 0,00000000000000e+00 & 0,000000000000000 & 0 & ⋯ & Marília               &  5 &   5044 &   583 &  15366 & 0 & 8 & -22,0841 & -49,7190 & 9\\\\\n\t Alvinlândia            & 3501509 & 25 & 2 & 2020-02-25 & 0 & 0 & 0,00000000000000e+00 & 0,000000000000000 & 0 & ⋯ & Marília               &  5 &   3176 &   505 &   8488 & 0 & 8 & -22,4435 & -49,7623 & 9\\\\\n\t Americana              & 3501608 & 25 & 2 & 2020-02-25 & 0 & 0 & 0,00000000000000e+00 & 0,000000000000000 & 0 & ⋯ & Campinas              &  3 & 233458 & 40276 &  13391 & 0 & 8 & -22,7374 & -47,3331 & 9\\\\\n\t Américo Brasiliense    & 3501707 & 25 & 2 & 2020-02-25 & 0 & 0 & 0,00000000000000e+00 & 0,000000000000000 & 0 & ⋯ & Araraquara            &  8 &  40243 &  4465 &  12279 & 0 & 8 & -21,7288 & -48,1147 & 9\\\\\n\t Américo de Campos      & 3501806 & 25 & 2 & 2020-02-25 & 0 & 0 & 0,00000000000000e+00 & 0,000000000000000 & 0 & ⋯ & São José do Rio Preto & 15 &   5736 &  1267 &  25288 & 0 & 8 & -20,2985 & -49,7359 & 9\\\\\n\t Amparo                 & 3501905 & 25 & 2 & 2020-02-25 & 0 & 0 & 0,00000000000000e+00 & 0,000000000000000 & 0 & ⋯ & Campinas              &  3 &  69639 & 12727 &  44532 & 0 & 8 & -22,7088 & -46,7720 & 9\\\\\n\t Analândia              & 3502002 & 25 & 2 & 2020-02-25 & 0 & 0 & 0,00000000000000e+00 & 0,000000000000000 & 0 & ⋯ & Piracicaba            & 11 &   4850 &   813 &  32595 & 0 & 8 & -22,1289 & -47,6619 & 9\\\\\n\t Andradina              & 3502101 & 25 & 2 & 2020-02-25 & 0 & 0 & 0,00000000000000e+00 & 0,000000000000000 & 0 & ⋯ & Araçatuba             &  7 &  56054 & 10776 &  96423 & 0 & 8 & -20,8948 & -51,3786 & 9\\\\\n\t Angatuba               & 3502200 & 25 & 2 & 2020-02-25 & 0 & 0 & 0,00000000000000e+00 & 0,000000000000000 & 0 & ⋯ & Sorocaba              &  6 &  24501 &  3775 & 102729 & 0 & 8 & -23,4917 & -48,4139 & 9\\\\\n\t Anhembi                & 3502309 & 25 & 2 & 2020-02-25 & 0 & 0 & 0,00000000000000e+00 & 0,000000000000000 & 0 & ⋯ & Bauru                 & 12 &   6672 &   975 &  73656 & 0 & 8 & -22,7930 & -48,1336 & 9\\\\\n\t Anhumas                & 3502408 & 25 & 2 & 2020-02-25 & 0 & 0 & 0,00000000000000e+00 & 0,000000000000000 & 0 & ⋯ & Presidente Prudente   &  2 &   3963 &   680 &  32084 & 0 & 8 & -22,2934 & -51,3895 & 9\\\\\n\t Aparecida              & 3502507 & 25 & 2 & 2020-02-25 & 0 & 0 & 0,00000000000000e+00 & 0,000000000000000 & 0 & ⋯ & Taubaté               & 17 &  35709 &  6043 &  12108 & 0 & 8 & -22,8495 & -45,2325 & 9\\\\\n\t Aparecida d'Oeste      & 3502606 & 25 & 2 & 2020-02-25 & 0 & 0 & 0,00000000000000e+00 & 0,000000000000000 & 0 & ⋯ & São José do Rio Preto & 15 &   4132 &   997 &    179 & 0 & 8 & -20,4487 & -50,8835 & 9\\\\\n\t Apiaí                  & 3502705 & 25 & 2 & 2020-02-25 & 0 & 0 & 0,00000000000000e+00 & 0,000000000000000 & 0 & ⋯ & Sorocaba              &  6 &  24666 &  3685 &  97432 & 0 & 8 & -24,5108 & -48,8443 & 9\\\\\n\t ⋮ & ⋮ & ⋮ & ⋮ & ⋮ & ⋮ & ⋮ & ⋮ & ⋮ & ⋮ & ⋱ & ⋮ & ⋮ & ⋮ & ⋮ & ⋮ & ⋮ & ⋮ & ⋮ & ⋮ & ⋮\\\\\n\t Santa Clara d'Oeste        & 3546108 & 13 & 7 & 2022-07-13 &   476 &   0 & 2,37288135593220e+04 & 0,000000000000000   &   21 & ⋯ & São José do Rio Preto & 15 &   2006 &    448 &  18346 & <600  &  4 & -20,0900 & -50,9491 & 28\\\\\n\t Santa Cruz da Conceição    & 3546207 & 13 & 7 & 2022-07-13 &  1897 &   0 & 4,36192228098413e+04 & 6,571428571428571   &   15 & ⋯ & Piracicaba            & 11 &   4349 &    860 &  15013 & <5000 &  2 & -22,1405 & -47,4512 & 28\\\\\n\t Santa Cruz da Esperança    & 3546256 & 13 & 7 & 2022-07-13 &   202 &   0 & 9,72556571978816e+03 & 0,000000000000000   &    6 & ⋯ & Ribeirão Preto        &  1 &   2077 &    377 &  14806 & <300  &  5 & -21,2951 & -47,4304 & 28\\\\\n\t Santa Cruz das Palmeiras   & 3546306 & 13 & 7 & 2022-07-13 &  5229 &  16 & 1,55029796317709e+04 & 7,142857142857143   &  136 & ⋯ & São João da Boa Vista & 14 &  33729 &   4721 &  29534 & >5000 &  1 & -21,8235 & -47,2480 & 28\\\\\n\t Santa Cruz do Rio Pardo    & 3546405 & 13 & 7 & 2022-07-13 &  8188 &   0 & 1,77575363261765e+04 & 1,000000000000000   &  199 & ⋯ & Marília               &  5 &  46110 &   8329 & 111475 & >5000 &  1 & -22,8988 & -49,6354 & 28\\\\\n\t Santa Ernestina            & 3546504 & 13 & 7 & 2022-07-13 &   552 &   0 & 9,99095022624434e+03 & 0,142857142857143   &   21 & ⋯ & Araraquara            &  8 &   5525 &    728 &  13442 & <600  &  4 & -21,4618 & -48,3953 & 28\\\\\n\t Santa Fé do Sul            & 3546603 & 13 & 7 & 2022-07-13 &  8547 &  12 & 2,77463965718738e+04 & 18,857142857142858  &  150 & ⋯ & São José do Rio Preto & 15 &  30804 &   6215 &  20654 & >5000 &  1 & -20,2083 & -50,9320 & 28\\\\\n\t Santa Gertrudes            & 3546702 & 13 & 7 & 2022-07-13 &  3938 &   0 & 1,50368475314063e+04 & 0,000000000000000   &   86 & ⋯ & Piracicaba            & 11 &  26189 &   2736 &   9829 & <5000 &  2 & -22,4572 & -47,5272 & 28\\\\\n\t Santa Isabel               & 3546801 & 13 & 7 & 2022-07-13 &  7342 &  78 & 1,33282503721454e+04 & 25,428571428571427  &  294 & ⋯ & Grande São Paulo      & 10 &  55086 &   8115 &  36333 & >5000 &  1 & -23,3172 & -46,2237 & 28\\\\\n\t Santa Lúcia                & 3546900 & 13 & 7 & 2022-07-13 &   775 &   2 & 9,05162345246438e+03 & 0,571428571428571   &   25 & ⋯ & Araraquara            &  8 &   8562 &   1150 &  15403 & <1200 &  3 & -21,6850 & -48,0885 & 28\\\\\n\t Santa Maria da Serra       & 3547007 & 13 & 7 & 2022-07-13 &  1339 &   0 & 2,18042664061228e+04 & 0,000000000000000   &   12 & ⋯ & Piracicaba            & 11 &   6141 &    793 &  25262 & <5000 &  2 & -22,5661 & -48,1593 & 28\\\\\n\t Santa Mercedes             & 3547106 & 13 & 7 & 2022-07-13 &   759 &  15 & 2,69818698897974e+04 & 2,714285714285714   &   11 & ⋯ & Presidente Prudente   &  2 &   2813 &    503 &  16675 & <1200 &  3 & -21,3495 & -51,7564 & 28\\\\\n\t Santana da Ponte Pensa     & 3547205 & 13 & 7 & 2022-07-13 &   479 &   1 & 3,17428760768721e+04 & 2,428571428571428   &    5 & ⋯ & São José do Rio Preto & 15 &   1509 &    444 &  12989 & <600  &  4 & -20,2523 & -50,8014 & 28\\\\\n\t Santana de Parnaíba        & 3547304 & 13 & 7 & 2022-07-13 & 23508 &  35 & 1,70185040396143e+04 & 47,857142857142854  &  427 & ⋯ & Grande São Paulo      & 10 & 138132 &  16604 &  17995 & >5000 &  1 & -23,4439 & -46,9178 & 28\\\\\n\t Santa Rita d'Oeste         & 3547403 & 13 & 7 & 2022-07-13 &   436 &   0 & 1,81364392678869e+04 & 0,000000000000000   &   14 & ⋯ & São José do Rio Preto & 15 &   2404 &    667 &   2098 & <600  &  4 & -20,1414 & -50,8358 & 28\\\\\n\t Santa Rita do Passa Quatro & 3547502 & 13 & 7 & 2022-07-13 &  1808 &   0 & 6,85237824521509e+03 & 0,000000000000000   &   46 & ⋯ & Ribeirão Preto        &  1 &  26385 &   5912 &  75414 & <5000 &  2 & -21,7083 & -47,4780 & 28\\\\\n\t Santa Rosa de Viterbo      & 3547601 & 13 & 7 & 2022-07-13 &  2488 &   1 & 9,71723168254960e+03 & 0,142857142857143   &   54 & ⋯ & Ribeirão Preto        &  1 &  25604 &   4413 &  28858 & <5000 &  2 & -21,4776 & -47,3622 & 28\\\\\n\t Santa Salete               & 3547650 & 13 & 7 & 2022-07-13 &   542 &   0 & 3,76388888888889e+04 & 0,000000000000000   &    8 & ⋯ & São José do Rio Preto & 15 &   1440 &    359 &   7919 & <600  &  4 & -20,2429 & -50,6887 & 28\\\\\n\t Santo Anastácio            & 3547700 & 13 & 7 & 2022-07-13 &  3217 &  20 & 1,59835047448701e+04 & 12,000000000000000  &   71 & ⋯ & Presidente Prudente   &  2 &  20127 &   3961 &  55288 & <5000 &  2 & -21,9747 & -51,6527 & 28\\\\\n\t Santo André                & 3547809 & 13 & 7 & 2022-07-13 & 91476 &   7 & 1,31835063491995e+04 & 9,714285714285714   & 3427 & ⋯ & Grande São Paulo      & 10 & 693867 & 123293 &  17578 & >5000 &  1 & -23,6737 & -46,5432 & 28\\\\\n\t Santo Antônio da Alegria   & 3547908 & 13 & 7 & 2022-07-13 &   539 &   0 & 8,12113906885641e+03 & 0,142857142857143   &   22 & ⋯ & Ribeirão Preto        &  1 &   6637 &   1255 &  31031 & <600  &  4 & -21,0864 & -47,1464 & 28\\\\\n\t Santo Antônio de Posse     & 3548005 & 13 & 7 & 2022-07-13 &  4528 &   7 & 1,98170598275636e+04 & 6,714285714285714   &   59 & ⋯ & Campinas              &  3 &  22849 &   3160 &  15413 & <5000 &  2 & -22,6029 & -46,9192 & 28\\\\\n\t Santo Antônio do Aracanguá & 3548054 & 13 & 7 & 2022-07-13 &   590 &   0 & 7,14978187106156e+03 & 0,000000000000000   &   39 & ⋯ & Araçatuba             &  7 &   8252 &   1293 & 130843 & <600  &  4 & -20,9331 & -50,4980 & 28\\\\\n\t Santo Antônio do Jardim    & 3548104 & 13 & 7 & 2022-07-13 &  1246 &   0 & 2,13868863714384e+04 & 1,285714285714286   &   24 & ⋯ & São João da Boa Vista & 14 &   5826 &   1169 &  10996 & <5000 &  2 & -22,1121 & -46,6845 & 28\\\\\n\t Santo Antônio do Pinhal    & 3548203 & 13 & 7 & 2022-07-13 &  1510 &   1 & 2,27821363910682e+04 & 4,000000000000000   &   10 & ⋯ & Taubaté               & 17 &   6628 &   1061 &  13301 & <5000 &  2 & -22,8270 & -45,6630 & 28\\\\\n\t Santo Expedito             & 3548302 & 13 & 7 & 2022-07-13 &   212 &   0 & 7,13324360699865e+03 & 0,285714285714286   &   11 & ⋯ & Presidente Prudente   &  2 &   2972 &    585 &   9447 & <300  &  5 & -21,8467 & -51,3929 & 28\\\\\n\t Santópolis do Aguapeí      & 3548401 & 13 & 7 & 2022-07-13 &   759 &   0 & 1,62596401028278e+04 & 0,000000000000000   &   18 & ⋯ & Araçatuba             &  7 &   4668 &    700 &  12803 & <1200 &  3 & -21,6376 & -50,5044 & 28\\\\\n\t Santos                     & 3548500 & 13 & 7 & 2022-07-13 & 81074 & 160 & 1,89114608481863e+04 & 126,142857142857139 & 2570 & ⋯ & Baixada Santista      & 13 & 428703 &  95433 &  28103 & >5000 &  1 & -23,9535 & -46,3350 & 28\\\\\n\t São Bento do Sapucaí       & 3548609 & 13 & 7 & 2022-07-13 &   813 &   0 & 7,72079772079772e+03 & 0,000000000000000   &   14 & ⋯ & Taubaté               & 17 &  10530 &   2027 &  25258 & <1200 &  3 & -22,6837 & -45,7287 & 28\\\\\n\t São Bernardo do Campo      & 3548708 & 13 & 7 & 2022-07-13 & 75796 &   0 & 9,33349423583217e+03 & 4,857142857142857   & 3705 & ⋯ &                       & NA &     NA &     NA &     NA &       & NA &          &          & NA\\\\\n\\end{tabular}\n"
          },
          "metadata": {}
        }
      ]
    },
    {
      "cell_type": "code",
      "source": [
        "#utilizando o cv2 para variáveis numéricas e utiliando o enconding utf8\n",
        "covid_sp<-\n",
        "  read.csv2('/dados_covid_sp.csv', sep = \";\",encoding=\"UTF-8\")"
      ],
      "metadata": {
        "id": "C49p28rd0zjN"
      },
      "execution_count": 33,
      "outputs": []
    },
    {
      "cell_type": "code",
      "source": [
        "View(covid_sp)"
      ],
      "metadata": {
        "colab": {
          "base_uri": "https://localhost:8080/",
          "height": 1000
        },
        "id": "oiy6XS7d0zg4",
        "outputId": "c0df5124-f107-4d6f-e09a-48e00c9018c1"
      },
      "execution_count": 34,
      "outputs": [
        {
          "output_type": "display_data",
          "data": {
            "text/plain": [
              "       nome_munic             codigo_ibge dia mes datahora   casos casos_novos\n",
              "1      Adamantina             3500105     25  2   2020-02-25 0     0          \n",
              "2      Adolfo                 3500204     25  2   2020-02-25 0     0          \n",
              "3      Aguaí                  3500303     25  2   2020-02-25 0     0          \n",
              "4      Águas da Prata         3500402     25  2   2020-02-25 0     0          \n",
              "5      Águas de Lindóia       3500501     25  2   2020-02-25 0     0          \n",
              "6      Águas de Santa Bárbara 3500550     25  2   2020-02-25 0     0          \n",
              "7      Águas de São Pedro     3500600     25  2   2020-02-25 0     0          \n",
              "8      Agudos                 3500709     25  2   2020-02-25 0     0          \n",
              "9      Alambari               3500758     25  2   2020-02-25 0     0          \n",
              "10     Alfredo Marcondes      3500808     25  2   2020-02-25 0     0          \n",
              "11     Altair                 3500907     25  2   2020-02-25 0     0          \n",
              "12     Altinópolis            3501004     25  2   2020-02-25 0     0          \n",
              "13     Alto Alegre            3501103     25  2   2020-02-25 0     0          \n",
              "14     Alumínio               3501152     25  2   2020-02-25 0     0          \n",
              "15     Álvares Florence       3501202     25  2   2020-02-25 0     0          \n",
              "16     Álvares Machado        3501301     25  2   2020-02-25 0     0          \n",
              "17     Álvaro de Carvalho     3501400     25  2   2020-02-25 0     0          \n",
              "18     Alvinlândia            3501509     25  2   2020-02-25 0     0          \n",
              "19     Americana              3501608     25  2   2020-02-25 0     0          \n",
              "20     Américo Brasiliense    3501707     25  2   2020-02-25 0     0          \n",
              "21     Américo de Campos      3501806     25  2   2020-02-25 0     0          \n",
              "22     Amparo                 3501905     25  2   2020-02-25 0     0          \n",
              "23     Analândia              3502002     25  2   2020-02-25 0     0          \n",
              "24     Andradina              3502101     25  2   2020-02-25 0     0          \n",
              "25     Angatuba               3502200     25  2   2020-02-25 0     0          \n",
              "26     Anhembi                3502309     25  2   2020-02-25 0     0          \n",
              "27     Anhumas                3502408     25  2   2020-02-25 0     0          \n",
              "28     Aparecida              3502507     25  2   2020-02-25 0     0          \n",
              "29     Aparecida d'Oeste      3502606     25  2   2020-02-25 0     0          \n",
              "30     Apiaí                  3502705     25  2   2020-02-25 0     0          \n",
              "⋮      ⋮                      ⋮           ⋮   ⋮   ⋮          ⋮     ⋮          \n",
              "777755 Ignorado               9999999     14  5   2023-05-14 1325   -46       \n",
              "777756 Ignorado               9999999     15  5   2023-05-15 1274   -51       \n",
              "777757 Ignorado               9999999     16  5   2023-05-16 1199   -75       \n",
              "777758 Ignorado               9999999     17  5   2023-05-17 1128   -71       \n",
              "777759 Ignorado               9999999     18  5   2023-05-18 1143    15       \n",
              "777760 Ignorado               9999999     19  5   2023-05-19 1105   -38       \n",
              "777761 Ignorado               9999999     20  5   2023-05-20 1086   -19       \n",
              "777762 Ignorado               9999999     21  5   2023-05-21 1119    33       \n",
              "777763 Ignorado               9999999     22  5   2023-05-22 1086   -33       \n",
              "777764 Ignorado               9999999     23  5   2023-05-23 1056   -30       \n",
              "777765 Ignorado               9999999     24  5   2023-05-24  973   -83       \n",
              "777766 Ignorado               9999999     25  5   2023-05-25  951   -22       \n",
              "777767 Ignorado               9999999     26  5   2023-05-26  876   -75       \n",
              "777768 Ignorado               9999999     27  5   2023-05-27  853   -23       \n",
              "777769 Ignorado               9999999     28  5   2023-05-28  879    26       \n",
              "777770 Ignorado               9999999     29  5   2023-05-29  808   -71       \n",
              "777771 Ignorado               9999999     30  5   2023-05-30  976   168       \n",
              "777772 Ignorado               9999999     31  5   2023-05-31  872  -104       \n",
              "777773 Ignorado               9999999      1  6   2023-06-01 1011   139       \n",
              "777774 Ignorado               9999999      2  6   2023-06-02  879  -132       \n",
              "777775 Ignorado               9999999      3  6   2023-06-03  816   -63       \n",
              "777776 Ignorado               9999999      4  6   2023-06-04  691  -125       \n",
              "777777 Ignorado               9999999      5  6   2023-06-05  624   -67       \n",
              "777778 Ignorado               9999999      6  6   2023-06-06  505  -119       \n",
              "777779 Ignorado               9999999      7  6   2023-06-07  470   -35       \n",
              "777780 Ignorado               9999999      8  6   2023-06-08  435   -35       \n",
              "777781 Ignorado               9999999      9  6   2023-06-09  400   -35       \n",
              "777782 Ignorado               9999999     10  6   2023-06-10  369   -31       \n",
              "777783 Ignorado               9999999     11  6   2023-06-11  297   -72       \n",
              "777784 Ignorado               9999999     12  6   2023-06-12  269   -28       \n",
              "       casos_pc casos_mm7d  obitos ⋯ nome_drs              cod_drs pop   \n",
              "1      0        0           0      ⋯ Marília                5       33894\n",
              "2      0        0           0      ⋯ São José do Rio Preto 15        3447\n",
              "3      0        0           0      ⋯ São João da Boa Vista 14       35608\n",
              "4      0        0           0      ⋯ São João da Boa Vista 14        7797\n",
              "5      0        0           0      ⋯ Campinas               3       18374\n",
              "6      0        0           0      ⋯ Bauru                 12        5931\n",
              "7      0        0           0      ⋯ Piracicaba            11        3122\n",
              "8      0        0           0      ⋯ Bauru                 12       36134\n",
              "9      0        0           0      ⋯ Sorocaba               6        5779\n",
              "10     0        0           0      ⋯ Presidente Prudente    2        3927\n",
              "11     0        0           0      ⋯ Barretos              16        4036\n",
              "12     0        0           0      ⋯ Ribeirão Preto         1       15553\n",
              "13     0        0           0      ⋯ Araçatuba              7        4017\n",
              "14     0        0           0      ⋯ Sorocaba               6       17972\n",
              "15     0        0           0      ⋯ São José do Rio Preto 15        3621\n",
              "16     0        0           0      ⋯ Presidente Prudente    2       23789\n",
              "17     0        0           0      ⋯ Marília                5        5044\n",
              "18     0        0           0      ⋯ Marília                5        3176\n",
              "19     0        0           0      ⋯ Campinas               3      233458\n",
              "20     0        0           0      ⋯ Araraquara             8       40243\n",
              "21     0        0           0      ⋯ São José do Rio Preto 15        5736\n",
              "22     0        0           0      ⋯ Campinas               3       69639\n",
              "23     0        0           0      ⋯ Piracicaba            11        4850\n",
              "24     0        0           0      ⋯ Araçatuba              7       56054\n",
              "25     0        0           0      ⋯ Sorocaba               6       24501\n",
              "26     0        0           0      ⋯ Bauru                 12        6672\n",
              "27     0        0           0      ⋯ Presidente Prudente    2        3963\n",
              "28     0        0           0      ⋯ Taubaté               17       35709\n",
              "29     0        0           0      ⋯ São José do Rio Preto 15        4132\n",
              "30     0        0           0      ⋯ Sorocaba               6       24666\n",
              "⋮      ⋮        ⋮           ⋮      ⋱ ⋮                     ⋮       ⋮     \n",
              "777755 0         -3.5714286 8      ⋯                       0       0     \n",
              "777756 0        -15.0000000 8      ⋯                       0       0     \n",
              "777757 0        -22.7142857 6      ⋯                       0       0     \n",
              "777758 0        -30.5714286 8      ⋯                       0       0     \n",
              "777759 0        -28.5714286 6      ⋯                       0       0     \n",
              "777760 0        -42.5714286 5      ⋯                       0       0     \n",
              "777761 0        -40.7142857 5      ⋯                       0       0     \n",
              "777762 0        -29.4285714 5      ⋯                       0       0     \n",
              "777763 0        -26.8571429 5      ⋯                       0       0     \n",
              "777764 0        -20.4285714 5      ⋯                       0       0     \n",
              "777765 0        -22.1428571 4      ⋯                       0       0     \n",
              "777766 0        -27.4285714 5      ⋯                       0       0     \n",
              "777767 0        -32.7142857 7      ⋯                       0       0     \n",
              "777768 0        -33.2857143 7      ⋯                       0       0     \n",
              "777769 0        -34.2857143 8      ⋯                       0       0     \n",
              "777770 0        -39.7142857 8      ⋯                       0       0     \n",
              "777771 0        -11.4285714 9      ⋯                       0       0     \n",
              "777772 0        -14.4285714 7      ⋯                       0       0     \n",
              "777773 0          8.5714286 6      ⋯                       0       0     \n",
              "777774 0          0.4285714 6      ⋯                       0       0     \n",
              "777775 0         -5.2857143 6      ⋯                       0       0     \n",
              "777776 0        -26.8571429 5      ⋯                       0       0     \n",
              "777777 0        -26.2857143 5      ⋯                       0       0     \n",
              "777778 0        -67.2857143 2      ⋯                       0       0     \n",
              "777779 0        -57.4285714 2      ⋯                       0       0     \n",
              "777780 0        -82.2857143 2      ⋯                       0       0     \n",
              "777781 0        -68.4285714 2      ⋯                       0       0     \n",
              "777782 0        -63.8571429 2      ⋯                       0       0     \n",
              "777783 0        -56.2857143 0      ⋯                       0       0     \n",
              "777784 0        -50.7142857 0      ⋯                       0       0     \n",
              "       pop_60 area   map_leg map_leg_s latitude longitude semana_epidem\n",
              "1       7398   41199 0       8         -21.6820 -51.0737  9            \n",
              "2        761   21106 0       8         -21.2325 -49.6451  9            \n",
              "3       5245   47455 0       8         -22.0572 -46.9735  9            \n",
              "4       1729   14267 0       8         -21.9319 -46.7176  9            \n",
              "5       3275    6013 0       8         -22.4733 -46.6314  9            \n",
              "6       1106   40446 0       8         -22.8812 -49.2421  9            \n",
              "7        764     361 0       8         -22.5977 -47.8734  9            \n",
              "8       5524   96671 0       8         -22.4694 -48.9863  9            \n",
              "9        830    1596 0       8         -23.5503 -47.8980  9            \n",
              "10       907   11892 0       8         -21.9527 -51.4140  9            \n",
              "11       552   31301 0       8         -20.5242 -49.0571  9            \n",
              "12      2980   92896 0       8         -21.0214 -47.3712  9            \n",
              "13       964   31857 0       8         -21.5811 -50.1680  9            \n",
              "14      2230    8366 0       8         -23.5306 -47.2546  9            \n",
              "15       991   36241 0       8         -20.3203 -49.9141  9            \n",
              "16      4267   34765 0       8         -22.0764 -51.4722  9            \n",
              "17       583   15366 0       8         -22.0841 -49.7190  9            \n",
              "18       505    8488 0       8         -22.4435 -49.7623  9            \n",
              "19     40276   13391 0       8         -22.7374 -47.3331  9            \n",
              "20      4465   12279 0       8         -21.7288 -48.1147  9            \n",
              "21      1267   25288 0       8         -20.2985 -49.7359  9            \n",
              "22     12727   44532 0       8         -22.7088 -46.7720  9            \n",
              "23       813   32595 0       8         -22.1289 -47.6619  9            \n",
              "24     10776   96423 0       8         -20.8948 -51.3786  9            \n",
              "25      3775  102729 0       8         -23.4917 -48.4139  9            \n",
              "26       975   73656 0       8         -22.7930 -48.1336  9            \n",
              "27       680   32084 0       8         -22.2934 -51.3895  9            \n",
              "28      6043   12108 0       8         -22.8495 -45.2325  9            \n",
              "29       997     179 0       8         -20.4487 -50.8835  9            \n",
              "30      3685   97432 0       8         -24.5108 -48.8443  9            \n",
              "⋮      ⋮      ⋮      ⋮       ⋮         ⋮        ⋮         ⋮            \n",
              "777755 0      0              NA        0        0         20           \n",
              "777756 0      0              NA        0        0         20           \n",
              "777757 0      0              NA        0        0         20           \n",
              "777758 0      0              NA        0        0         20           \n",
              "777759 0      0              NA        0        0         20           \n",
              "777760 0      0              NA        0        0         20           \n",
              "777761 0      0              NA        0        0         20           \n",
              "777762 0      0              NA        0        0         21           \n",
              "777763 0      0              NA        0        0         21           \n",
              "777764 0      0              NA        0        0         21           \n",
              "777765 0      0              NA        0        0         21           \n",
              "777766 0      0              NA        0        0         21           \n",
              "777767 0      0              NA        0        0         21           \n",
              "777768 0      0              NA        0        0         21           \n",
              "777769 0      0              NA        0        0         22           \n",
              "777770 0      0              NA        0        0         22           \n",
              "777771 0      0              NA        0        0         22           \n",
              "777772 0      0              NA        0        0         22           \n",
              "777773 0      0              NA        0        0         22           \n",
              "777774 0      0              NA        0        0         22           \n",
              "777775 0      0              NA        0        0         22           \n",
              "777776 0      0              NA        0        0         23           \n",
              "777777 0      0              NA        0        0         23           \n",
              "777778 0      0              NA        0        0         23           \n",
              "777779 0      0              NA        0        0         23           \n",
              "777780 0      0              NA        0        0         23           \n",
              "777781 0      0              NA        0        0         23           \n",
              "777782 0      0              NA        0        0         23           \n",
              "777783 0      0              NA        0        0         24           \n",
              "777784 0      0              NA        0        0         24           "
            ],
            "text/html": [
              "<table class=\"dataframe\">\n",
              "<caption>A data.frame: 777784 × 26</caption>\n",
              "<thead>\n",
              "\t<tr><th scope=col>nome_munic</th><th scope=col>codigo_ibge</th><th scope=col>dia</th><th scope=col>mes</th><th scope=col>datahora</th><th scope=col>casos</th><th scope=col>casos_novos</th><th scope=col>casos_pc</th><th scope=col>casos_mm7d</th><th scope=col>obitos</th><th scope=col>⋯</th><th scope=col>nome_drs</th><th scope=col>cod_drs</th><th scope=col>pop</th><th scope=col>pop_60</th><th scope=col>area</th><th scope=col>map_leg</th><th scope=col>map_leg_s</th><th scope=col>latitude</th><th scope=col>longitude</th><th scope=col>semana_epidem</th></tr>\n",
              "\t<tr><th scope=col>&lt;chr&gt;</th><th scope=col>&lt;int&gt;</th><th scope=col>&lt;int&gt;</th><th scope=col>&lt;int&gt;</th><th scope=col>&lt;chr&gt;</th><th scope=col>&lt;int&gt;</th><th scope=col>&lt;int&gt;</th><th scope=col>&lt;dbl&gt;</th><th scope=col>&lt;dbl&gt;</th><th scope=col>&lt;int&gt;</th><th scope=col>⋯</th><th scope=col>&lt;chr&gt;</th><th scope=col>&lt;int&gt;</th><th scope=col>&lt;int&gt;</th><th scope=col>&lt;int&gt;</th><th scope=col>&lt;int&gt;</th><th scope=col>&lt;chr&gt;</th><th scope=col>&lt;int&gt;</th><th scope=col>&lt;dbl&gt;</th><th scope=col>&lt;dbl&gt;</th><th scope=col>&lt;int&gt;</th></tr>\n",
              "</thead>\n",
              "<tbody>\n",
              "\t<tr><td>Adamantina            </td><td>3500105</td><td>25</td><td>2</td><td>2020-02-25</td><td>0</td><td>0</td><td>0</td><td>0</td><td>0</td><td>⋯</td><td>Marília              </td><td> 5</td><td> 33894</td><td> 7398</td><td> 41199</td><td>0</td><td>8</td><td>-21.6820</td><td>-51.0737</td><td>9</td></tr>\n",
              "\t<tr><td>Adolfo                </td><td>3500204</td><td>25</td><td>2</td><td>2020-02-25</td><td>0</td><td>0</td><td>0</td><td>0</td><td>0</td><td>⋯</td><td>São José do Rio Preto</td><td>15</td><td>  3447</td><td>  761</td><td> 21106</td><td>0</td><td>8</td><td>-21.2325</td><td>-49.6451</td><td>9</td></tr>\n",
              "\t<tr><td>Aguaí                 </td><td>3500303</td><td>25</td><td>2</td><td>2020-02-25</td><td>0</td><td>0</td><td>0</td><td>0</td><td>0</td><td>⋯</td><td>São João da Boa Vista</td><td>14</td><td> 35608</td><td> 5245</td><td> 47455</td><td>0</td><td>8</td><td>-22.0572</td><td>-46.9735</td><td>9</td></tr>\n",
              "\t<tr><td>Águas da Prata        </td><td>3500402</td><td>25</td><td>2</td><td>2020-02-25</td><td>0</td><td>0</td><td>0</td><td>0</td><td>0</td><td>⋯</td><td>São João da Boa Vista</td><td>14</td><td>  7797</td><td> 1729</td><td> 14267</td><td>0</td><td>8</td><td>-21.9319</td><td>-46.7176</td><td>9</td></tr>\n",
              "\t<tr><td>Águas de Lindóia      </td><td>3500501</td><td>25</td><td>2</td><td>2020-02-25</td><td>0</td><td>0</td><td>0</td><td>0</td><td>0</td><td>⋯</td><td>Campinas             </td><td> 3</td><td> 18374</td><td> 3275</td><td>  6013</td><td>0</td><td>8</td><td>-22.4733</td><td>-46.6314</td><td>9</td></tr>\n",
              "\t<tr><td>Águas de Santa Bárbara</td><td>3500550</td><td>25</td><td>2</td><td>2020-02-25</td><td>0</td><td>0</td><td>0</td><td>0</td><td>0</td><td>⋯</td><td>Bauru                </td><td>12</td><td>  5931</td><td> 1106</td><td> 40446</td><td>0</td><td>8</td><td>-22.8812</td><td>-49.2421</td><td>9</td></tr>\n",
              "\t<tr><td>Águas de São Pedro    </td><td>3500600</td><td>25</td><td>2</td><td>2020-02-25</td><td>0</td><td>0</td><td>0</td><td>0</td><td>0</td><td>⋯</td><td>Piracicaba           </td><td>11</td><td>  3122</td><td>  764</td><td>   361</td><td>0</td><td>8</td><td>-22.5977</td><td>-47.8734</td><td>9</td></tr>\n",
              "\t<tr><td>Agudos                </td><td>3500709</td><td>25</td><td>2</td><td>2020-02-25</td><td>0</td><td>0</td><td>0</td><td>0</td><td>0</td><td>⋯</td><td>Bauru                </td><td>12</td><td> 36134</td><td> 5524</td><td> 96671</td><td>0</td><td>8</td><td>-22.4694</td><td>-48.9863</td><td>9</td></tr>\n",
              "\t<tr><td>Alambari              </td><td>3500758</td><td>25</td><td>2</td><td>2020-02-25</td><td>0</td><td>0</td><td>0</td><td>0</td><td>0</td><td>⋯</td><td>Sorocaba             </td><td> 6</td><td>  5779</td><td>  830</td><td>  1596</td><td>0</td><td>8</td><td>-23.5503</td><td>-47.8980</td><td>9</td></tr>\n",
              "\t<tr><td>Alfredo Marcondes     </td><td>3500808</td><td>25</td><td>2</td><td>2020-02-25</td><td>0</td><td>0</td><td>0</td><td>0</td><td>0</td><td>⋯</td><td>Presidente Prudente  </td><td> 2</td><td>  3927</td><td>  907</td><td> 11892</td><td>0</td><td>8</td><td>-21.9527</td><td>-51.4140</td><td>9</td></tr>\n",
              "\t<tr><td>Altair                </td><td>3500907</td><td>25</td><td>2</td><td>2020-02-25</td><td>0</td><td>0</td><td>0</td><td>0</td><td>0</td><td>⋯</td><td>Barretos             </td><td>16</td><td>  4036</td><td>  552</td><td> 31301</td><td>0</td><td>8</td><td>-20.5242</td><td>-49.0571</td><td>9</td></tr>\n",
              "\t<tr><td>Altinópolis           </td><td>3501004</td><td>25</td><td>2</td><td>2020-02-25</td><td>0</td><td>0</td><td>0</td><td>0</td><td>0</td><td>⋯</td><td>Ribeirão Preto       </td><td> 1</td><td> 15553</td><td> 2980</td><td> 92896</td><td>0</td><td>8</td><td>-21.0214</td><td>-47.3712</td><td>9</td></tr>\n",
              "\t<tr><td>Alto Alegre           </td><td>3501103</td><td>25</td><td>2</td><td>2020-02-25</td><td>0</td><td>0</td><td>0</td><td>0</td><td>0</td><td>⋯</td><td>Araçatuba            </td><td> 7</td><td>  4017</td><td>  964</td><td> 31857</td><td>0</td><td>8</td><td>-21.5811</td><td>-50.1680</td><td>9</td></tr>\n",
              "\t<tr><td>Alumínio              </td><td>3501152</td><td>25</td><td>2</td><td>2020-02-25</td><td>0</td><td>0</td><td>0</td><td>0</td><td>0</td><td>⋯</td><td>Sorocaba             </td><td> 6</td><td> 17972</td><td> 2230</td><td>  8366</td><td>0</td><td>8</td><td>-23.5306</td><td>-47.2546</td><td>9</td></tr>\n",
              "\t<tr><td>Álvares Florence      </td><td>3501202</td><td>25</td><td>2</td><td>2020-02-25</td><td>0</td><td>0</td><td>0</td><td>0</td><td>0</td><td>⋯</td><td>São José do Rio Preto</td><td>15</td><td>  3621</td><td>  991</td><td> 36241</td><td>0</td><td>8</td><td>-20.3203</td><td>-49.9141</td><td>9</td></tr>\n",
              "\t<tr><td>Álvares Machado       </td><td>3501301</td><td>25</td><td>2</td><td>2020-02-25</td><td>0</td><td>0</td><td>0</td><td>0</td><td>0</td><td>⋯</td><td>Presidente Prudente  </td><td> 2</td><td> 23789</td><td> 4267</td><td> 34765</td><td>0</td><td>8</td><td>-22.0764</td><td>-51.4722</td><td>9</td></tr>\n",
              "\t<tr><td>Álvaro de Carvalho    </td><td>3501400</td><td>25</td><td>2</td><td>2020-02-25</td><td>0</td><td>0</td><td>0</td><td>0</td><td>0</td><td>⋯</td><td>Marília              </td><td> 5</td><td>  5044</td><td>  583</td><td> 15366</td><td>0</td><td>8</td><td>-22.0841</td><td>-49.7190</td><td>9</td></tr>\n",
              "\t<tr><td>Alvinlândia           </td><td>3501509</td><td>25</td><td>2</td><td>2020-02-25</td><td>0</td><td>0</td><td>0</td><td>0</td><td>0</td><td>⋯</td><td>Marília              </td><td> 5</td><td>  3176</td><td>  505</td><td>  8488</td><td>0</td><td>8</td><td>-22.4435</td><td>-49.7623</td><td>9</td></tr>\n",
              "\t<tr><td>Americana             </td><td>3501608</td><td>25</td><td>2</td><td>2020-02-25</td><td>0</td><td>0</td><td>0</td><td>0</td><td>0</td><td>⋯</td><td>Campinas             </td><td> 3</td><td>233458</td><td>40276</td><td> 13391</td><td>0</td><td>8</td><td>-22.7374</td><td>-47.3331</td><td>9</td></tr>\n",
              "\t<tr><td>Américo Brasiliense   </td><td>3501707</td><td>25</td><td>2</td><td>2020-02-25</td><td>0</td><td>0</td><td>0</td><td>0</td><td>0</td><td>⋯</td><td>Araraquara           </td><td> 8</td><td> 40243</td><td> 4465</td><td> 12279</td><td>0</td><td>8</td><td>-21.7288</td><td>-48.1147</td><td>9</td></tr>\n",
              "\t<tr><td>Américo de Campos     </td><td>3501806</td><td>25</td><td>2</td><td>2020-02-25</td><td>0</td><td>0</td><td>0</td><td>0</td><td>0</td><td>⋯</td><td>São José do Rio Preto</td><td>15</td><td>  5736</td><td> 1267</td><td> 25288</td><td>0</td><td>8</td><td>-20.2985</td><td>-49.7359</td><td>9</td></tr>\n",
              "\t<tr><td>Amparo                </td><td>3501905</td><td>25</td><td>2</td><td>2020-02-25</td><td>0</td><td>0</td><td>0</td><td>0</td><td>0</td><td>⋯</td><td>Campinas             </td><td> 3</td><td> 69639</td><td>12727</td><td> 44532</td><td>0</td><td>8</td><td>-22.7088</td><td>-46.7720</td><td>9</td></tr>\n",
              "\t<tr><td>Analândia             </td><td>3502002</td><td>25</td><td>2</td><td>2020-02-25</td><td>0</td><td>0</td><td>0</td><td>0</td><td>0</td><td>⋯</td><td>Piracicaba           </td><td>11</td><td>  4850</td><td>  813</td><td> 32595</td><td>0</td><td>8</td><td>-22.1289</td><td>-47.6619</td><td>9</td></tr>\n",
              "\t<tr><td>Andradina             </td><td>3502101</td><td>25</td><td>2</td><td>2020-02-25</td><td>0</td><td>0</td><td>0</td><td>0</td><td>0</td><td>⋯</td><td>Araçatuba            </td><td> 7</td><td> 56054</td><td>10776</td><td> 96423</td><td>0</td><td>8</td><td>-20.8948</td><td>-51.3786</td><td>9</td></tr>\n",
              "\t<tr><td>Angatuba              </td><td>3502200</td><td>25</td><td>2</td><td>2020-02-25</td><td>0</td><td>0</td><td>0</td><td>0</td><td>0</td><td>⋯</td><td>Sorocaba             </td><td> 6</td><td> 24501</td><td> 3775</td><td>102729</td><td>0</td><td>8</td><td>-23.4917</td><td>-48.4139</td><td>9</td></tr>\n",
              "\t<tr><td>Anhembi               </td><td>3502309</td><td>25</td><td>2</td><td>2020-02-25</td><td>0</td><td>0</td><td>0</td><td>0</td><td>0</td><td>⋯</td><td>Bauru                </td><td>12</td><td>  6672</td><td>  975</td><td> 73656</td><td>0</td><td>8</td><td>-22.7930</td><td>-48.1336</td><td>9</td></tr>\n",
              "\t<tr><td>Anhumas               </td><td>3502408</td><td>25</td><td>2</td><td>2020-02-25</td><td>0</td><td>0</td><td>0</td><td>0</td><td>0</td><td>⋯</td><td>Presidente Prudente  </td><td> 2</td><td>  3963</td><td>  680</td><td> 32084</td><td>0</td><td>8</td><td>-22.2934</td><td>-51.3895</td><td>9</td></tr>\n",
              "\t<tr><td>Aparecida             </td><td>3502507</td><td>25</td><td>2</td><td>2020-02-25</td><td>0</td><td>0</td><td>0</td><td>0</td><td>0</td><td>⋯</td><td>Taubaté              </td><td>17</td><td> 35709</td><td> 6043</td><td> 12108</td><td>0</td><td>8</td><td>-22.8495</td><td>-45.2325</td><td>9</td></tr>\n",
              "\t<tr><td>Aparecida d'Oeste     </td><td>3502606</td><td>25</td><td>2</td><td>2020-02-25</td><td>0</td><td>0</td><td>0</td><td>0</td><td>0</td><td>⋯</td><td>São José do Rio Preto</td><td>15</td><td>  4132</td><td>  997</td><td>   179</td><td>0</td><td>8</td><td>-20.4487</td><td>-50.8835</td><td>9</td></tr>\n",
              "\t<tr><td>Apiaí                 </td><td>3502705</td><td>25</td><td>2</td><td>2020-02-25</td><td>0</td><td>0</td><td>0</td><td>0</td><td>0</td><td>⋯</td><td>Sorocaba             </td><td> 6</td><td> 24666</td><td> 3685</td><td> 97432</td><td>0</td><td>8</td><td>-24.5108</td><td>-48.8443</td><td>9</td></tr>\n",
              "\t<tr><td>⋮</td><td>⋮</td><td>⋮</td><td>⋮</td><td>⋮</td><td>⋮</td><td>⋮</td><td>⋮</td><td>⋮</td><td>⋮</td><td>⋱</td><td>⋮</td><td>⋮</td><td>⋮</td><td>⋮</td><td>⋮</td><td>⋮</td><td>⋮</td><td>⋮</td><td>⋮</td><td>⋮</td></tr>\n",
              "\t<tr><td>Ignorado</td><td>9999999</td><td>14</td><td>5</td><td>2023-05-14</td><td>1325</td><td> -46</td><td>0</td><td> -3.5714286</td><td>8</td><td>⋯</td><td></td><td>0</td><td>0</td><td>0</td><td>0</td><td></td><td>NA</td><td>0</td><td>0</td><td>20</td></tr>\n",
              "\t<tr><td>Ignorado</td><td>9999999</td><td>15</td><td>5</td><td>2023-05-15</td><td>1274</td><td> -51</td><td>0</td><td>-15.0000000</td><td>8</td><td>⋯</td><td></td><td>0</td><td>0</td><td>0</td><td>0</td><td></td><td>NA</td><td>0</td><td>0</td><td>20</td></tr>\n",
              "\t<tr><td>Ignorado</td><td>9999999</td><td>16</td><td>5</td><td>2023-05-16</td><td>1199</td><td> -75</td><td>0</td><td>-22.7142857</td><td>6</td><td>⋯</td><td></td><td>0</td><td>0</td><td>0</td><td>0</td><td></td><td>NA</td><td>0</td><td>0</td><td>20</td></tr>\n",
              "\t<tr><td>Ignorado</td><td>9999999</td><td>17</td><td>5</td><td>2023-05-17</td><td>1128</td><td> -71</td><td>0</td><td>-30.5714286</td><td>8</td><td>⋯</td><td></td><td>0</td><td>0</td><td>0</td><td>0</td><td></td><td>NA</td><td>0</td><td>0</td><td>20</td></tr>\n",
              "\t<tr><td>Ignorado</td><td>9999999</td><td>18</td><td>5</td><td>2023-05-18</td><td>1143</td><td>  15</td><td>0</td><td>-28.5714286</td><td>6</td><td>⋯</td><td></td><td>0</td><td>0</td><td>0</td><td>0</td><td></td><td>NA</td><td>0</td><td>0</td><td>20</td></tr>\n",
              "\t<tr><td>Ignorado</td><td>9999999</td><td>19</td><td>5</td><td>2023-05-19</td><td>1105</td><td> -38</td><td>0</td><td>-42.5714286</td><td>5</td><td>⋯</td><td></td><td>0</td><td>0</td><td>0</td><td>0</td><td></td><td>NA</td><td>0</td><td>0</td><td>20</td></tr>\n",
              "\t<tr><td>Ignorado</td><td>9999999</td><td>20</td><td>5</td><td>2023-05-20</td><td>1086</td><td> -19</td><td>0</td><td>-40.7142857</td><td>5</td><td>⋯</td><td></td><td>0</td><td>0</td><td>0</td><td>0</td><td></td><td>NA</td><td>0</td><td>0</td><td>20</td></tr>\n",
              "\t<tr><td>Ignorado</td><td>9999999</td><td>21</td><td>5</td><td>2023-05-21</td><td>1119</td><td>  33</td><td>0</td><td>-29.4285714</td><td>5</td><td>⋯</td><td></td><td>0</td><td>0</td><td>0</td><td>0</td><td></td><td>NA</td><td>0</td><td>0</td><td>21</td></tr>\n",
              "\t<tr><td>Ignorado</td><td>9999999</td><td>22</td><td>5</td><td>2023-05-22</td><td>1086</td><td> -33</td><td>0</td><td>-26.8571429</td><td>5</td><td>⋯</td><td></td><td>0</td><td>0</td><td>0</td><td>0</td><td></td><td>NA</td><td>0</td><td>0</td><td>21</td></tr>\n",
              "\t<tr><td>Ignorado</td><td>9999999</td><td>23</td><td>5</td><td>2023-05-23</td><td>1056</td><td> -30</td><td>0</td><td>-20.4285714</td><td>5</td><td>⋯</td><td></td><td>0</td><td>0</td><td>0</td><td>0</td><td></td><td>NA</td><td>0</td><td>0</td><td>21</td></tr>\n",
              "\t<tr><td>Ignorado</td><td>9999999</td><td>24</td><td>5</td><td>2023-05-24</td><td> 973</td><td> -83</td><td>0</td><td>-22.1428571</td><td>4</td><td>⋯</td><td></td><td>0</td><td>0</td><td>0</td><td>0</td><td></td><td>NA</td><td>0</td><td>0</td><td>21</td></tr>\n",
              "\t<tr><td>Ignorado</td><td>9999999</td><td>25</td><td>5</td><td>2023-05-25</td><td> 951</td><td> -22</td><td>0</td><td>-27.4285714</td><td>5</td><td>⋯</td><td></td><td>0</td><td>0</td><td>0</td><td>0</td><td></td><td>NA</td><td>0</td><td>0</td><td>21</td></tr>\n",
              "\t<tr><td>Ignorado</td><td>9999999</td><td>26</td><td>5</td><td>2023-05-26</td><td> 876</td><td> -75</td><td>0</td><td>-32.7142857</td><td>7</td><td>⋯</td><td></td><td>0</td><td>0</td><td>0</td><td>0</td><td></td><td>NA</td><td>0</td><td>0</td><td>21</td></tr>\n",
              "\t<tr><td>Ignorado</td><td>9999999</td><td>27</td><td>5</td><td>2023-05-27</td><td> 853</td><td> -23</td><td>0</td><td>-33.2857143</td><td>7</td><td>⋯</td><td></td><td>0</td><td>0</td><td>0</td><td>0</td><td></td><td>NA</td><td>0</td><td>0</td><td>21</td></tr>\n",
              "\t<tr><td>Ignorado</td><td>9999999</td><td>28</td><td>5</td><td>2023-05-28</td><td> 879</td><td>  26</td><td>0</td><td>-34.2857143</td><td>8</td><td>⋯</td><td></td><td>0</td><td>0</td><td>0</td><td>0</td><td></td><td>NA</td><td>0</td><td>0</td><td>22</td></tr>\n",
              "\t<tr><td>Ignorado</td><td>9999999</td><td>29</td><td>5</td><td>2023-05-29</td><td> 808</td><td> -71</td><td>0</td><td>-39.7142857</td><td>8</td><td>⋯</td><td></td><td>0</td><td>0</td><td>0</td><td>0</td><td></td><td>NA</td><td>0</td><td>0</td><td>22</td></tr>\n",
              "\t<tr><td>Ignorado</td><td>9999999</td><td>30</td><td>5</td><td>2023-05-30</td><td> 976</td><td> 168</td><td>0</td><td>-11.4285714</td><td>9</td><td>⋯</td><td></td><td>0</td><td>0</td><td>0</td><td>0</td><td></td><td>NA</td><td>0</td><td>0</td><td>22</td></tr>\n",
              "\t<tr><td>Ignorado</td><td>9999999</td><td>31</td><td>5</td><td>2023-05-31</td><td> 872</td><td>-104</td><td>0</td><td>-14.4285714</td><td>7</td><td>⋯</td><td></td><td>0</td><td>0</td><td>0</td><td>0</td><td></td><td>NA</td><td>0</td><td>0</td><td>22</td></tr>\n",
              "\t<tr><td>Ignorado</td><td>9999999</td><td> 1</td><td>6</td><td>2023-06-01</td><td>1011</td><td> 139</td><td>0</td><td>  8.5714286</td><td>6</td><td>⋯</td><td></td><td>0</td><td>0</td><td>0</td><td>0</td><td></td><td>NA</td><td>0</td><td>0</td><td>22</td></tr>\n",
              "\t<tr><td>Ignorado</td><td>9999999</td><td> 2</td><td>6</td><td>2023-06-02</td><td> 879</td><td>-132</td><td>0</td><td>  0.4285714</td><td>6</td><td>⋯</td><td></td><td>0</td><td>0</td><td>0</td><td>0</td><td></td><td>NA</td><td>0</td><td>0</td><td>22</td></tr>\n",
              "\t<tr><td>Ignorado</td><td>9999999</td><td> 3</td><td>6</td><td>2023-06-03</td><td> 816</td><td> -63</td><td>0</td><td> -5.2857143</td><td>6</td><td>⋯</td><td></td><td>0</td><td>0</td><td>0</td><td>0</td><td></td><td>NA</td><td>0</td><td>0</td><td>22</td></tr>\n",
              "\t<tr><td>Ignorado</td><td>9999999</td><td> 4</td><td>6</td><td>2023-06-04</td><td> 691</td><td>-125</td><td>0</td><td>-26.8571429</td><td>5</td><td>⋯</td><td></td><td>0</td><td>0</td><td>0</td><td>0</td><td></td><td>NA</td><td>0</td><td>0</td><td>23</td></tr>\n",
              "\t<tr><td>Ignorado</td><td>9999999</td><td> 5</td><td>6</td><td>2023-06-05</td><td> 624</td><td> -67</td><td>0</td><td>-26.2857143</td><td>5</td><td>⋯</td><td></td><td>0</td><td>0</td><td>0</td><td>0</td><td></td><td>NA</td><td>0</td><td>0</td><td>23</td></tr>\n",
              "\t<tr><td>Ignorado</td><td>9999999</td><td> 6</td><td>6</td><td>2023-06-06</td><td> 505</td><td>-119</td><td>0</td><td>-67.2857143</td><td>2</td><td>⋯</td><td></td><td>0</td><td>0</td><td>0</td><td>0</td><td></td><td>NA</td><td>0</td><td>0</td><td>23</td></tr>\n",
              "\t<tr><td>Ignorado</td><td>9999999</td><td> 7</td><td>6</td><td>2023-06-07</td><td> 470</td><td> -35</td><td>0</td><td>-57.4285714</td><td>2</td><td>⋯</td><td></td><td>0</td><td>0</td><td>0</td><td>0</td><td></td><td>NA</td><td>0</td><td>0</td><td>23</td></tr>\n",
              "\t<tr><td>Ignorado</td><td>9999999</td><td> 8</td><td>6</td><td>2023-06-08</td><td> 435</td><td> -35</td><td>0</td><td>-82.2857143</td><td>2</td><td>⋯</td><td></td><td>0</td><td>0</td><td>0</td><td>0</td><td></td><td>NA</td><td>0</td><td>0</td><td>23</td></tr>\n",
              "\t<tr><td>Ignorado</td><td>9999999</td><td> 9</td><td>6</td><td>2023-06-09</td><td> 400</td><td> -35</td><td>0</td><td>-68.4285714</td><td>2</td><td>⋯</td><td></td><td>0</td><td>0</td><td>0</td><td>0</td><td></td><td>NA</td><td>0</td><td>0</td><td>23</td></tr>\n",
              "\t<tr><td>Ignorado</td><td>9999999</td><td>10</td><td>6</td><td>2023-06-10</td><td> 369</td><td> -31</td><td>0</td><td>-63.8571429</td><td>2</td><td>⋯</td><td></td><td>0</td><td>0</td><td>0</td><td>0</td><td></td><td>NA</td><td>0</td><td>0</td><td>23</td></tr>\n",
              "\t<tr><td>Ignorado</td><td>9999999</td><td>11</td><td>6</td><td>2023-06-11</td><td> 297</td><td> -72</td><td>0</td><td>-56.2857143</td><td>0</td><td>⋯</td><td></td><td>0</td><td>0</td><td>0</td><td>0</td><td></td><td>NA</td><td>0</td><td>0</td><td>24</td></tr>\n",
              "\t<tr><td>Ignorado</td><td>9999999</td><td>12</td><td>6</td><td>2023-06-12</td><td> 269</td><td> -28</td><td>0</td><td>-50.7142857</td><td>0</td><td>⋯</td><td></td><td>0</td><td>0</td><td>0</td><td>0</td><td></td><td>NA</td><td>0</td><td>0</td><td>24</td></tr>\n",
              "</tbody>\n",
              "</table>\n"
            ],
            "text/markdown": "\nA data.frame: 777784 × 26\n\n| nome_munic &lt;chr&gt; | codigo_ibge &lt;int&gt; | dia &lt;int&gt; | mes &lt;int&gt; | datahora &lt;chr&gt; | casos &lt;int&gt; | casos_novos &lt;int&gt; | casos_pc &lt;dbl&gt; | casos_mm7d &lt;dbl&gt; | obitos &lt;int&gt; | ⋯ ⋯ | nome_drs &lt;chr&gt; | cod_drs &lt;int&gt; | pop &lt;int&gt; | pop_60 &lt;int&gt; | area &lt;int&gt; | map_leg &lt;chr&gt; | map_leg_s &lt;int&gt; | latitude &lt;dbl&gt; | longitude &lt;dbl&gt; | semana_epidem &lt;int&gt; |\n|---|---|---|---|---|---|---|---|---|---|---|---|---|---|---|---|---|---|---|---|---|\n| Adamantina             | 3500105 | 25 | 2 | 2020-02-25 | 0 | 0 | 0 | 0 | 0 | ⋯ | Marília               |  5 |  33894 |  7398 |  41199 | 0 | 8 | -21.6820 | -51.0737 | 9 |\n| Adolfo                 | 3500204 | 25 | 2 | 2020-02-25 | 0 | 0 | 0 | 0 | 0 | ⋯ | São José do Rio Preto | 15 |   3447 |   761 |  21106 | 0 | 8 | -21.2325 | -49.6451 | 9 |\n| Aguaí                  | 3500303 | 25 | 2 | 2020-02-25 | 0 | 0 | 0 | 0 | 0 | ⋯ | São João da Boa Vista | 14 |  35608 |  5245 |  47455 | 0 | 8 | -22.0572 | -46.9735 | 9 |\n| Águas da Prata         | 3500402 | 25 | 2 | 2020-02-25 | 0 | 0 | 0 | 0 | 0 | ⋯ | São João da Boa Vista | 14 |   7797 |  1729 |  14267 | 0 | 8 | -21.9319 | -46.7176 | 9 |\n| Águas de Lindóia       | 3500501 | 25 | 2 | 2020-02-25 | 0 | 0 | 0 | 0 | 0 | ⋯ | Campinas              |  3 |  18374 |  3275 |   6013 | 0 | 8 | -22.4733 | -46.6314 | 9 |\n| Águas de Santa Bárbara | 3500550 | 25 | 2 | 2020-02-25 | 0 | 0 | 0 | 0 | 0 | ⋯ | Bauru                 | 12 |   5931 |  1106 |  40446 | 0 | 8 | -22.8812 | -49.2421 | 9 |\n| Águas de São Pedro     | 3500600 | 25 | 2 | 2020-02-25 | 0 | 0 | 0 | 0 | 0 | ⋯ | Piracicaba            | 11 |   3122 |   764 |    361 | 0 | 8 | -22.5977 | -47.8734 | 9 |\n| Agudos                 | 3500709 | 25 | 2 | 2020-02-25 | 0 | 0 | 0 | 0 | 0 | ⋯ | Bauru                 | 12 |  36134 |  5524 |  96671 | 0 | 8 | -22.4694 | -48.9863 | 9 |\n| Alambari               | 3500758 | 25 | 2 | 2020-02-25 | 0 | 0 | 0 | 0 | 0 | ⋯ | Sorocaba              |  6 |   5779 |   830 |   1596 | 0 | 8 | -23.5503 | -47.8980 | 9 |\n| Alfredo Marcondes      | 3500808 | 25 | 2 | 2020-02-25 | 0 | 0 | 0 | 0 | 0 | ⋯ | Presidente Prudente   |  2 |   3927 |   907 |  11892 | 0 | 8 | -21.9527 | -51.4140 | 9 |\n| Altair                 | 3500907 | 25 | 2 | 2020-02-25 | 0 | 0 | 0 | 0 | 0 | ⋯ | Barretos              | 16 |   4036 |   552 |  31301 | 0 | 8 | -20.5242 | -49.0571 | 9 |\n| Altinópolis            | 3501004 | 25 | 2 | 2020-02-25 | 0 | 0 | 0 | 0 | 0 | ⋯ | Ribeirão Preto        |  1 |  15553 |  2980 |  92896 | 0 | 8 | -21.0214 | -47.3712 | 9 |\n| Alto Alegre            | 3501103 | 25 | 2 | 2020-02-25 | 0 | 0 | 0 | 0 | 0 | ⋯ | Araçatuba             |  7 |   4017 |   964 |  31857 | 0 | 8 | -21.5811 | -50.1680 | 9 |\n| Alumínio               | 3501152 | 25 | 2 | 2020-02-25 | 0 | 0 | 0 | 0 | 0 | ⋯ | Sorocaba              |  6 |  17972 |  2230 |   8366 | 0 | 8 | -23.5306 | -47.2546 | 9 |\n| Álvares Florence       | 3501202 | 25 | 2 | 2020-02-25 | 0 | 0 | 0 | 0 | 0 | ⋯ | São José do Rio Preto | 15 |   3621 |   991 |  36241 | 0 | 8 | -20.3203 | -49.9141 | 9 |\n| Álvares Machado        | 3501301 | 25 | 2 | 2020-02-25 | 0 | 0 | 0 | 0 | 0 | ⋯ | Presidente Prudente   |  2 |  23789 |  4267 |  34765 | 0 | 8 | -22.0764 | -51.4722 | 9 |\n| Álvaro de Carvalho     | 3501400 | 25 | 2 | 2020-02-25 | 0 | 0 | 0 | 0 | 0 | ⋯ | Marília               |  5 |   5044 |   583 |  15366 | 0 | 8 | -22.0841 | -49.7190 | 9 |\n| Alvinlândia            | 3501509 | 25 | 2 | 2020-02-25 | 0 | 0 | 0 | 0 | 0 | ⋯ | Marília               |  5 |   3176 |   505 |   8488 | 0 | 8 | -22.4435 | -49.7623 | 9 |\n| Americana              | 3501608 | 25 | 2 | 2020-02-25 | 0 | 0 | 0 | 0 | 0 | ⋯ | Campinas              |  3 | 233458 | 40276 |  13391 | 0 | 8 | -22.7374 | -47.3331 | 9 |\n| Américo Brasiliense    | 3501707 | 25 | 2 | 2020-02-25 | 0 | 0 | 0 | 0 | 0 | ⋯ | Araraquara            |  8 |  40243 |  4465 |  12279 | 0 | 8 | -21.7288 | -48.1147 | 9 |\n| Américo de Campos      | 3501806 | 25 | 2 | 2020-02-25 | 0 | 0 | 0 | 0 | 0 | ⋯ | São José do Rio Preto | 15 |   5736 |  1267 |  25288 | 0 | 8 | -20.2985 | -49.7359 | 9 |\n| Amparo                 | 3501905 | 25 | 2 | 2020-02-25 | 0 | 0 | 0 | 0 | 0 | ⋯ | Campinas              |  3 |  69639 | 12727 |  44532 | 0 | 8 | -22.7088 | -46.7720 | 9 |\n| Analândia              | 3502002 | 25 | 2 | 2020-02-25 | 0 | 0 | 0 | 0 | 0 | ⋯ | Piracicaba            | 11 |   4850 |   813 |  32595 | 0 | 8 | -22.1289 | -47.6619 | 9 |\n| Andradina              | 3502101 | 25 | 2 | 2020-02-25 | 0 | 0 | 0 | 0 | 0 | ⋯ | Araçatuba             |  7 |  56054 | 10776 |  96423 | 0 | 8 | -20.8948 | -51.3786 | 9 |\n| Angatuba               | 3502200 | 25 | 2 | 2020-02-25 | 0 | 0 | 0 | 0 | 0 | ⋯ | Sorocaba              |  6 |  24501 |  3775 | 102729 | 0 | 8 | -23.4917 | -48.4139 | 9 |\n| Anhembi                | 3502309 | 25 | 2 | 2020-02-25 | 0 | 0 | 0 | 0 | 0 | ⋯ | Bauru                 | 12 |   6672 |   975 |  73656 | 0 | 8 | -22.7930 | -48.1336 | 9 |\n| Anhumas                | 3502408 | 25 | 2 | 2020-02-25 | 0 | 0 | 0 | 0 | 0 | ⋯ | Presidente Prudente   |  2 |   3963 |   680 |  32084 | 0 | 8 | -22.2934 | -51.3895 | 9 |\n| Aparecida              | 3502507 | 25 | 2 | 2020-02-25 | 0 | 0 | 0 | 0 | 0 | ⋯ | Taubaté               | 17 |  35709 |  6043 |  12108 | 0 | 8 | -22.8495 | -45.2325 | 9 |\n| Aparecida d'Oeste      | 3502606 | 25 | 2 | 2020-02-25 | 0 | 0 | 0 | 0 | 0 | ⋯ | São José do Rio Preto | 15 |   4132 |   997 |    179 | 0 | 8 | -20.4487 | -50.8835 | 9 |\n| Apiaí                  | 3502705 | 25 | 2 | 2020-02-25 | 0 | 0 | 0 | 0 | 0 | ⋯ | Sorocaba              |  6 |  24666 |  3685 |  97432 | 0 | 8 | -24.5108 | -48.8443 | 9 |\n| ⋮ | ⋮ | ⋮ | ⋮ | ⋮ | ⋮ | ⋮ | ⋮ | ⋮ | ⋮ | ⋱ | ⋮ | ⋮ | ⋮ | ⋮ | ⋮ | ⋮ | ⋮ | ⋮ | ⋮ | ⋮ |\n| Ignorado | 9999999 | 14 | 5 | 2023-05-14 | 1325 |  -46 | 0 |  -3.5714286 | 8 | ⋯ | <!----> | 0 | 0 | 0 | 0 | <!----> | NA | 0 | 0 | 20 |\n| Ignorado | 9999999 | 15 | 5 | 2023-05-15 | 1274 |  -51 | 0 | -15.0000000 | 8 | ⋯ | <!----> | 0 | 0 | 0 | 0 | <!----> | NA | 0 | 0 | 20 |\n| Ignorado | 9999999 | 16 | 5 | 2023-05-16 | 1199 |  -75 | 0 | -22.7142857 | 6 | ⋯ | <!----> | 0 | 0 | 0 | 0 | <!----> | NA | 0 | 0 | 20 |\n| Ignorado | 9999999 | 17 | 5 | 2023-05-17 | 1128 |  -71 | 0 | -30.5714286 | 8 | ⋯ | <!----> | 0 | 0 | 0 | 0 | <!----> | NA | 0 | 0 | 20 |\n| Ignorado | 9999999 | 18 | 5 | 2023-05-18 | 1143 |   15 | 0 | -28.5714286 | 6 | ⋯ | <!----> | 0 | 0 | 0 | 0 | <!----> | NA | 0 | 0 | 20 |\n| Ignorado | 9999999 | 19 | 5 | 2023-05-19 | 1105 |  -38 | 0 | -42.5714286 | 5 | ⋯ | <!----> | 0 | 0 | 0 | 0 | <!----> | NA | 0 | 0 | 20 |\n| Ignorado | 9999999 | 20 | 5 | 2023-05-20 | 1086 |  -19 | 0 | -40.7142857 | 5 | ⋯ | <!----> | 0 | 0 | 0 | 0 | <!----> | NA | 0 | 0 | 20 |\n| Ignorado | 9999999 | 21 | 5 | 2023-05-21 | 1119 |   33 | 0 | -29.4285714 | 5 | ⋯ | <!----> | 0 | 0 | 0 | 0 | <!----> | NA | 0 | 0 | 21 |\n| Ignorado | 9999999 | 22 | 5 | 2023-05-22 | 1086 |  -33 | 0 | -26.8571429 | 5 | ⋯ | <!----> | 0 | 0 | 0 | 0 | <!----> | NA | 0 | 0 | 21 |\n| Ignorado | 9999999 | 23 | 5 | 2023-05-23 | 1056 |  -30 | 0 | -20.4285714 | 5 | ⋯ | <!----> | 0 | 0 | 0 | 0 | <!----> | NA | 0 | 0 | 21 |\n| Ignorado | 9999999 | 24 | 5 | 2023-05-24 |  973 |  -83 | 0 | -22.1428571 | 4 | ⋯ | <!----> | 0 | 0 | 0 | 0 | <!----> | NA | 0 | 0 | 21 |\n| Ignorado | 9999999 | 25 | 5 | 2023-05-25 |  951 |  -22 | 0 | -27.4285714 | 5 | ⋯ | <!----> | 0 | 0 | 0 | 0 | <!----> | NA | 0 | 0 | 21 |\n| Ignorado | 9999999 | 26 | 5 | 2023-05-26 |  876 |  -75 | 0 | -32.7142857 | 7 | ⋯ | <!----> | 0 | 0 | 0 | 0 | <!----> | NA | 0 | 0 | 21 |\n| Ignorado | 9999999 | 27 | 5 | 2023-05-27 |  853 |  -23 | 0 | -33.2857143 | 7 | ⋯ | <!----> | 0 | 0 | 0 | 0 | <!----> | NA | 0 | 0 | 21 |\n| Ignorado | 9999999 | 28 | 5 | 2023-05-28 |  879 |   26 | 0 | -34.2857143 | 8 | ⋯ | <!----> | 0 | 0 | 0 | 0 | <!----> | NA | 0 | 0 | 22 |\n| Ignorado | 9999999 | 29 | 5 | 2023-05-29 |  808 |  -71 | 0 | -39.7142857 | 8 | ⋯ | <!----> | 0 | 0 | 0 | 0 | <!----> | NA | 0 | 0 | 22 |\n| Ignorado | 9999999 | 30 | 5 | 2023-05-30 |  976 |  168 | 0 | -11.4285714 | 9 | ⋯ | <!----> | 0 | 0 | 0 | 0 | <!----> | NA | 0 | 0 | 22 |\n| Ignorado | 9999999 | 31 | 5 | 2023-05-31 |  872 | -104 | 0 | -14.4285714 | 7 | ⋯ | <!----> | 0 | 0 | 0 | 0 | <!----> | NA | 0 | 0 | 22 |\n| Ignorado | 9999999 |  1 | 6 | 2023-06-01 | 1011 |  139 | 0 |   8.5714286 | 6 | ⋯ | <!----> | 0 | 0 | 0 | 0 | <!----> | NA | 0 | 0 | 22 |\n| Ignorado | 9999999 |  2 | 6 | 2023-06-02 |  879 | -132 | 0 |   0.4285714 | 6 | ⋯ | <!----> | 0 | 0 | 0 | 0 | <!----> | NA | 0 | 0 | 22 |\n| Ignorado | 9999999 |  3 | 6 | 2023-06-03 |  816 |  -63 | 0 |  -5.2857143 | 6 | ⋯ | <!----> | 0 | 0 | 0 | 0 | <!----> | NA | 0 | 0 | 22 |\n| Ignorado | 9999999 |  4 | 6 | 2023-06-04 |  691 | -125 | 0 | -26.8571429 | 5 | ⋯ | <!----> | 0 | 0 | 0 | 0 | <!----> | NA | 0 | 0 | 23 |\n| Ignorado | 9999999 |  5 | 6 | 2023-06-05 |  624 |  -67 | 0 | -26.2857143 | 5 | ⋯ | <!----> | 0 | 0 | 0 | 0 | <!----> | NA | 0 | 0 | 23 |\n| Ignorado | 9999999 |  6 | 6 | 2023-06-06 |  505 | -119 | 0 | -67.2857143 | 2 | ⋯ | <!----> | 0 | 0 | 0 | 0 | <!----> | NA | 0 | 0 | 23 |\n| Ignorado | 9999999 |  7 | 6 | 2023-06-07 |  470 |  -35 | 0 | -57.4285714 | 2 | ⋯ | <!----> | 0 | 0 | 0 | 0 | <!----> | NA | 0 | 0 | 23 |\n| Ignorado | 9999999 |  8 | 6 | 2023-06-08 |  435 |  -35 | 0 | -82.2857143 | 2 | ⋯ | <!----> | 0 | 0 | 0 | 0 | <!----> | NA | 0 | 0 | 23 |\n| Ignorado | 9999999 |  9 | 6 | 2023-06-09 |  400 |  -35 | 0 | -68.4285714 | 2 | ⋯ | <!----> | 0 | 0 | 0 | 0 | <!----> | NA | 0 | 0 | 23 |\n| Ignorado | 9999999 | 10 | 6 | 2023-06-10 |  369 |  -31 | 0 | -63.8571429 | 2 | ⋯ | <!----> | 0 | 0 | 0 | 0 | <!----> | NA | 0 | 0 | 23 |\n| Ignorado | 9999999 | 11 | 6 | 2023-06-11 |  297 |  -72 | 0 | -56.2857143 | 0 | ⋯ | <!----> | 0 | 0 | 0 | 0 | <!----> | NA | 0 | 0 | 24 |\n| Ignorado | 9999999 | 12 | 6 | 2023-06-12 |  269 |  -28 | 0 | -50.7142857 | 0 | ⋯ | <!----> | 0 | 0 | 0 | 0 | <!----> | NA | 0 | 0 | 24 |\n\n",
            "text/latex": "A data.frame: 777784 × 26\n\\begin{tabular}{lllllllllllllllllllll}\n nome\\_munic & codigo\\_ibge & dia & mes & datahora & casos & casos\\_novos & casos\\_pc & casos\\_mm7d & obitos & ⋯ & nome\\_drs & cod\\_drs & pop & pop\\_60 & area & map\\_leg & map\\_leg\\_s & latitude & longitude & semana\\_epidem\\\\\n <chr> & <int> & <int> & <int> & <chr> & <int> & <int> & <dbl> & <dbl> & <int> & ⋯ & <chr> & <int> & <int> & <int> & <int> & <chr> & <int> & <dbl> & <dbl> & <int>\\\\\n\\hline\n\t Adamantina             & 3500105 & 25 & 2 & 2020-02-25 & 0 & 0 & 0 & 0 & 0 & ⋯ & Marília               &  5 &  33894 &  7398 &  41199 & 0 & 8 & -21.6820 & -51.0737 & 9\\\\\n\t Adolfo                 & 3500204 & 25 & 2 & 2020-02-25 & 0 & 0 & 0 & 0 & 0 & ⋯ & São José do Rio Preto & 15 &   3447 &   761 &  21106 & 0 & 8 & -21.2325 & -49.6451 & 9\\\\\n\t Aguaí                  & 3500303 & 25 & 2 & 2020-02-25 & 0 & 0 & 0 & 0 & 0 & ⋯ & São João da Boa Vista & 14 &  35608 &  5245 &  47455 & 0 & 8 & -22.0572 & -46.9735 & 9\\\\\n\t Águas da Prata         & 3500402 & 25 & 2 & 2020-02-25 & 0 & 0 & 0 & 0 & 0 & ⋯ & São João da Boa Vista & 14 &   7797 &  1729 &  14267 & 0 & 8 & -21.9319 & -46.7176 & 9\\\\\n\t Águas de Lindóia       & 3500501 & 25 & 2 & 2020-02-25 & 0 & 0 & 0 & 0 & 0 & ⋯ & Campinas              &  3 &  18374 &  3275 &   6013 & 0 & 8 & -22.4733 & -46.6314 & 9\\\\\n\t Águas de Santa Bárbara & 3500550 & 25 & 2 & 2020-02-25 & 0 & 0 & 0 & 0 & 0 & ⋯ & Bauru                 & 12 &   5931 &  1106 &  40446 & 0 & 8 & -22.8812 & -49.2421 & 9\\\\\n\t Águas de São Pedro     & 3500600 & 25 & 2 & 2020-02-25 & 0 & 0 & 0 & 0 & 0 & ⋯ & Piracicaba            & 11 &   3122 &   764 &    361 & 0 & 8 & -22.5977 & -47.8734 & 9\\\\\n\t Agudos                 & 3500709 & 25 & 2 & 2020-02-25 & 0 & 0 & 0 & 0 & 0 & ⋯ & Bauru                 & 12 &  36134 &  5524 &  96671 & 0 & 8 & -22.4694 & -48.9863 & 9\\\\\n\t Alambari               & 3500758 & 25 & 2 & 2020-02-25 & 0 & 0 & 0 & 0 & 0 & ⋯ & Sorocaba              &  6 &   5779 &   830 &   1596 & 0 & 8 & -23.5503 & -47.8980 & 9\\\\\n\t Alfredo Marcondes      & 3500808 & 25 & 2 & 2020-02-25 & 0 & 0 & 0 & 0 & 0 & ⋯ & Presidente Prudente   &  2 &   3927 &   907 &  11892 & 0 & 8 & -21.9527 & -51.4140 & 9\\\\\n\t Altair                 & 3500907 & 25 & 2 & 2020-02-25 & 0 & 0 & 0 & 0 & 0 & ⋯ & Barretos              & 16 &   4036 &   552 &  31301 & 0 & 8 & -20.5242 & -49.0571 & 9\\\\\n\t Altinópolis            & 3501004 & 25 & 2 & 2020-02-25 & 0 & 0 & 0 & 0 & 0 & ⋯ & Ribeirão Preto        &  1 &  15553 &  2980 &  92896 & 0 & 8 & -21.0214 & -47.3712 & 9\\\\\n\t Alto Alegre            & 3501103 & 25 & 2 & 2020-02-25 & 0 & 0 & 0 & 0 & 0 & ⋯ & Araçatuba             &  7 &   4017 &   964 &  31857 & 0 & 8 & -21.5811 & -50.1680 & 9\\\\\n\t Alumínio               & 3501152 & 25 & 2 & 2020-02-25 & 0 & 0 & 0 & 0 & 0 & ⋯ & Sorocaba              &  6 &  17972 &  2230 &   8366 & 0 & 8 & -23.5306 & -47.2546 & 9\\\\\n\t Álvares Florence       & 3501202 & 25 & 2 & 2020-02-25 & 0 & 0 & 0 & 0 & 0 & ⋯ & São José do Rio Preto & 15 &   3621 &   991 &  36241 & 0 & 8 & -20.3203 & -49.9141 & 9\\\\\n\t Álvares Machado        & 3501301 & 25 & 2 & 2020-02-25 & 0 & 0 & 0 & 0 & 0 & ⋯ & Presidente Prudente   &  2 &  23789 &  4267 &  34765 & 0 & 8 & -22.0764 & -51.4722 & 9\\\\\n\t Álvaro de Carvalho     & 3501400 & 25 & 2 & 2020-02-25 & 0 & 0 & 0 & 0 & 0 & ⋯ & Marília               &  5 &   5044 &   583 &  15366 & 0 & 8 & -22.0841 & -49.7190 & 9\\\\\n\t Alvinlândia            & 3501509 & 25 & 2 & 2020-02-25 & 0 & 0 & 0 & 0 & 0 & ⋯ & Marília               &  5 &   3176 &   505 &   8488 & 0 & 8 & -22.4435 & -49.7623 & 9\\\\\n\t Americana              & 3501608 & 25 & 2 & 2020-02-25 & 0 & 0 & 0 & 0 & 0 & ⋯ & Campinas              &  3 & 233458 & 40276 &  13391 & 0 & 8 & -22.7374 & -47.3331 & 9\\\\\n\t Américo Brasiliense    & 3501707 & 25 & 2 & 2020-02-25 & 0 & 0 & 0 & 0 & 0 & ⋯ & Araraquara            &  8 &  40243 &  4465 &  12279 & 0 & 8 & -21.7288 & -48.1147 & 9\\\\\n\t Américo de Campos      & 3501806 & 25 & 2 & 2020-02-25 & 0 & 0 & 0 & 0 & 0 & ⋯ & São José do Rio Preto & 15 &   5736 &  1267 &  25288 & 0 & 8 & -20.2985 & -49.7359 & 9\\\\\n\t Amparo                 & 3501905 & 25 & 2 & 2020-02-25 & 0 & 0 & 0 & 0 & 0 & ⋯ & Campinas              &  3 &  69639 & 12727 &  44532 & 0 & 8 & -22.7088 & -46.7720 & 9\\\\\n\t Analândia              & 3502002 & 25 & 2 & 2020-02-25 & 0 & 0 & 0 & 0 & 0 & ⋯ & Piracicaba            & 11 &   4850 &   813 &  32595 & 0 & 8 & -22.1289 & -47.6619 & 9\\\\\n\t Andradina              & 3502101 & 25 & 2 & 2020-02-25 & 0 & 0 & 0 & 0 & 0 & ⋯ & Araçatuba             &  7 &  56054 & 10776 &  96423 & 0 & 8 & -20.8948 & -51.3786 & 9\\\\\n\t Angatuba               & 3502200 & 25 & 2 & 2020-02-25 & 0 & 0 & 0 & 0 & 0 & ⋯ & Sorocaba              &  6 &  24501 &  3775 & 102729 & 0 & 8 & -23.4917 & -48.4139 & 9\\\\\n\t Anhembi                & 3502309 & 25 & 2 & 2020-02-25 & 0 & 0 & 0 & 0 & 0 & ⋯ & Bauru                 & 12 &   6672 &   975 &  73656 & 0 & 8 & -22.7930 & -48.1336 & 9\\\\\n\t Anhumas                & 3502408 & 25 & 2 & 2020-02-25 & 0 & 0 & 0 & 0 & 0 & ⋯ & Presidente Prudente   &  2 &   3963 &   680 &  32084 & 0 & 8 & -22.2934 & -51.3895 & 9\\\\\n\t Aparecida              & 3502507 & 25 & 2 & 2020-02-25 & 0 & 0 & 0 & 0 & 0 & ⋯ & Taubaté               & 17 &  35709 &  6043 &  12108 & 0 & 8 & -22.8495 & -45.2325 & 9\\\\\n\t Aparecida d'Oeste      & 3502606 & 25 & 2 & 2020-02-25 & 0 & 0 & 0 & 0 & 0 & ⋯ & São José do Rio Preto & 15 &   4132 &   997 &    179 & 0 & 8 & -20.4487 & -50.8835 & 9\\\\\n\t Apiaí                  & 3502705 & 25 & 2 & 2020-02-25 & 0 & 0 & 0 & 0 & 0 & ⋯ & Sorocaba              &  6 &  24666 &  3685 &  97432 & 0 & 8 & -24.5108 & -48.8443 & 9\\\\\n\t ⋮ & ⋮ & ⋮ & ⋮ & ⋮ & ⋮ & ⋮ & ⋮ & ⋮ & ⋮ & ⋱ & ⋮ & ⋮ & ⋮ & ⋮ & ⋮ & ⋮ & ⋮ & ⋮ & ⋮ & ⋮\\\\\n\t Ignorado & 9999999 & 14 & 5 & 2023-05-14 & 1325 &  -46 & 0 &  -3.5714286 & 8 & ⋯ &  & 0 & 0 & 0 & 0 &  & NA & 0 & 0 & 20\\\\\n\t Ignorado & 9999999 & 15 & 5 & 2023-05-15 & 1274 &  -51 & 0 & -15.0000000 & 8 & ⋯ &  & 0 & 0 & 0 & 0 &  & NA & 0 & 0 & 20\\\\\n\t Ignorado & 9999999 & 16 & 5 & 2023-05-16 & 1199 &  -75 & 0 & -22.7142857 & 6 & ⋯ &  & 0 & 0 & 0 & 0 &  & NA & 0 & 0 & 20\\\\\n\t Ignorado & 9999999 & 17 & 5 & 2023-05-17 & 1128 &  -71 & 0 & -30.5714286 & 8 & ⋯ &  & 0 & 0 & 0 & 0 &  & NA & 0 & 0 & 20\\\\\n\t Ignorado & 9999999 & 18 & 5 & 2023-05-18 & 1143 &   15 & 0 & -28.5714286 & 6 & ⋯ &  & 0 & 0 & 0 & 0 &  & NA & 0 & 0 & 20\\\\\n\t Ignorado & 9999999 & 19 & 5 & 2023-05-19 & 1105 &  -38 & 0 & -42.5714286 & 5 & ⋯ &  & 0 & 0 & 0 & 0 &  & NA & 0 & 0 & 20\\\\\n\t Ignorado & 9999999 & 20 & 5 & 2023-05-20 & 1086 &  -19 & 0 & -40.7142857 & 5 & ⋯ &  & 0 & 0 & 0 & 0 &  & NA & 0 & 0 & 20\\\\\n\t Ignorado & 9999999 & 21 & 5 & 2023-05-21 & 1119 &   33 & 0 & -29.4285714 & 5 & ⋯ &  & 0 & 0 & 0 & 0 &  & NA & 0 & 0 & 21\\\\\n\t Ignorado & 9999999 & 22 & 5 & 2023-05-22 & 1086 &  -33 & 0 & -26.8571429 & 5 & ⋯ &  & 0 & 0 & 0 & 0 &  & NA & 0 & 0 & 21\\\\\n\t Ignorado & 9999999 & 23 & 5 & 2023-05-23 & 1056 &  -30 & 0 & -20.4285714 & 5 & ⋯ &  & 0 & 0 & 0 & 0 &  & NA & 0 & 0 & 21\\\\\n\t Ignorado & 9999999 & 24 & 5 & 2023-05-24 &  973 &  -83 & 0 & -22.1428571 & 4 & ⋯ &  & 0 & 0 & 0 & 0 &  & NA & 0 & 0 & 21\\\\\n\t Ignorado & 9999999 & 25 & 5 & 2023-05-25 &  951 &  -22 & 0 & -27.4285714 & 5 & ⋯ &  & 0 & 0 & 0 & 0 &  & NA & 0 & 0 & 21\\\\\n\t Ignorado & 9999999 & 26 & 5 & 2023-05-26 &  876 &  -75 & 0 & -32.7142857 & 7 & ⋯ &  & 0 & 0 & 0 & 0 &  & NA & 0 & 0 & 21\\\\\n\t Ignorado & 9999999 & 27 & 5 & 2023-05-27 &  853 &  -23 & 0 & -33.2857143 & 7 & ⋯ &  & 0 & 0 & 0 & 0 &  & NA & 0 & 0 & 21\\\\\n\t Ignorado & 9999999 & 28 & 5 & 2023-05-28 &  879 &   26 & 0 & -34.2857143 & 8 & ⋯ &  & 0 & 0 & 0 & 0 &  & NA & 0 & 0 & 22\\\\\n\t Ignorado & 9999999 & 29 & 5 & 2023-05-29 &  808 &  -71 & 0 & -39.7142857 & 8 & ⋯ &  & 0 & 0 & 0 & 0 &  & NA & 0 & 0 & 22\\\\\n\t Ignorado & 9999999 & 30 & 5 & 2023-05-30 &  976 &  168 & 0 & -11.4285714 & 9 & ⋯ &  & 0 & 0 & 0 & 0 &  & NA & 0 & 0 & 22\\\\\n\t Ignorado & 9999999 & 31 & 5 & 2023-05-31 &  872 & -104 & 0 & -14.4285714 & 7 & ⋯ &  & 0 & 0 & 0 & 0 &  & NA & 0 & 0 & 22\\\\\n\t Ignorado & 9999999 &  1 & 6 & 2023-06-01 & 1011 &  139 & 0 &   8.5714286 & 6 & ⋯ &  & 0 & 0 & 0 & 0 &  & NA & 0 & 0 & 22\\\\\n\t Ignorado & 9999999 &  2 & 6 & 2023-06-02 &  879 & -132 & 0 &   0.4285714 & 6 & ⋯ &  & 0 & 0 & 0 & 0 &  & NA & 0 & 0 & 22\\\\\n\t Ignorado & 9999999 &  3 & 6 & 2023-06-03 &  816 &  -63 & 0 &  -5.2857143 & 6 & ⋯ &  & 0 & 0 & 0 & 0 &  & NA & 0 & 0 & 22\\\\\n\t Ignorado & 9999999 &  4 & 6 & 2023-06-04 &  691 & -125 & 0 & -26.8571429 & 5 & ⋯ &  & 0 & 0 & 0 & 0 &  & NA & 0 & 0 & 23\\\\\n\t Ignorado & 9999999 &  5 & 6 & 2023-06-05 &  624 &  -67 & 0 & -26.2857143 & 5 & ⋯ &  & 0 & 0 & 0 & 0 &  & NA & 0 & 0 & 23\\\\\n\t Ignorado & 9999999 &  6 & 6 & 2023-06-06 &  505 & -119 & 0 & -67.2857143 & 2 & ⋯ &  & 0 & 0 & 0 & 0 &  & NA & 0 & 0 & 23\\\\\n\t Ignorado & 9999999 &  7 & 6 & 2023-06-07 &  470 &  -35 & 0 & -57.4285714 & 2 & ⋯ &  & 0 & 0 & 0 & 0 &  & NA & 0 & 0 & 23\\\\\n\t Ignorado & 9999999 &  8 & 6 & 2023-06-08 &  435 &  -35 & 0 & -82.2857143 & 2 & ⋯ &  & 0 & 0 & 0 & 0 &  & NA & 0 & 0 & 23\\\\\n\t Ignorado & 9999999 &  9 & 6 & 2023-06-09 &  400 &  -35 & 0 & -68.4285714 & 2 & ⋯ &  & 0 & 0 & 0 & 0 &  & NA & 0 & 0 & 23\\\\\n\t Ignorado & 9999999 & 10 & 6 & 2023-06-10 &  369 &  -31 & 0 & -63.8571429 & 2 & ⋯ &  & 0 & 0 & 0 & 0 &  & NA & 0 & 0 & 23\\\\\n\t Ignorado & 9999999 & 11 & 6 & 2023-06-11 &  297 &  -72 & 0 & -56.2857143 & 0 & ⋯ &  & 0 & 0 & 0 & 0 &  & NA & 0 & 0 & 24\\\\\n\t Ignorado & 9999999 & 12 & 6 & 2023-06-12 &  269 &  -28 & 0 & -50.7142857 & 0 & ⋯ &  & 0 & 0 & 0 & 0 &  & NA & 0 & 0 & 24\\\\\n\\end{tabular}\n"
          },
          "metadata": {}
        }
      ]
    },
    {
      "cell_type": "code",
      "source": [
        "#VERIFICANDO A QUANTIDADE DE LINHAS E COLUNAS DO DATASET\n",
        "dim(covid_sp)"
      ],
      "metadata": {
        "colab": {
          "base_uri": "https://localhost:8080/",
          "height": 34
        },
        "id": "n_tM49FUA3dL",
        "outputId": "2ecd4392-f154-4df9-dfa4-b2e68351a3b6"
      },
      "execution_count": 41,
      "outputs": [
        {
          "output_type": "display_data",
          "data": {
            "text/html": [
              "<style>\n",
              ".list-inline {list-style: none; margin:0; padding: 0}\n",
              ".list-inline>li {display: inline-block}\n",
              ".list-inline>li:not(:last-child)::after {content: \"\\00b7\"; padding: 0 .5ex}\n",
              "</style>\n",
              "<ol class=list-inline><li>777784</li><li>26</li></ol>\n"
            ],
            "text/markdown": "1. 777784\n2. 26\n\n\n",
            "text/latex": "\\begin{enumerate*}\n\\item 777784\n\\item 26\n\\end{enumerate*}\n",
            "text/plain": [
              "[1] 777784     26"
            ]
          },
          "metadata": {}
        }
      ]
    },
    {
      "cell_type": "code",
      "source": [
        "#verificando o tipo dos dados\n",
        "str(covid_sp)"
      ],
      "metadata": {
        "colab": {
          "base_uri": "https://localhost:8080/"
        },
        "id": "06tgnOsK-tEJ",
        "outputId": "4cd0beb3-4873-4256-afb4-3a8638de9f51"
      },
      "execution_count": 35,
      "outputs": [
        {
          "output_type": "stream",
          "name": "stdout",
          "text": [
            "'data.frame':\t777784 obs. of  26 variables:\n",
            " $ nome_munic   : chr  \"Adamantina\" \"Adolfo\" \"Aguaí\" \"Águas da Prata\" ...\n",
            " $ codigo_ibge  : int  3500105 3500204 3500303 3500402 3500501 3500550 3500600 3500709 3500758 3500808 ...\n",
            " $ dia          : int  25 25 25 25 25 25 25 25 25 25 ...\n",
            " $ mes          : int  2 2 2 2 2 2 2 2 2 2 ...\n",
            " $ datahora     : chr  \"2020-02-25\" \"2020-02-25\" \"2020-02-25\" \"2020-02-25\" ...\n",
            " $ casos        : int  0 0 0 0 0 0 0 0 0 0 ...\n",
            " $ casos_novos  : int  0 0 0 0 0 0 0 0 0 0 ...\n",
            " $ casos_pc     : num  0 0 0 0 0 0 0 0 0 0 ...\n",
            " $ casos_mm7d   : num  0 0 0 0 0 0 0 0 0 0 ...\n",
            " $ obitos       : int  0 0 0 0 0 0 0 0 0 0 ...\n",
            " $ obitos_novos : int  0 0 0 0 0 0 0 0 0 0 ...\n",
            " $ obitos_pc    : num  0 0 0 0 0 0 0 0 0 0 ...\n",
            " $ obitos_mm7d  : num  0 0 0 0 0 0 0 0 0 0 ...\n",
            " $ letalidade   : num  0 0 0 0 0 0 0 0 0 0 ...\n",
            " $ nome_ra      : chr  \"RA de Presidente Prudente\" \"RA de São José do Rio Preto\" \"RA de Campinas\" \"RA de Campinas\" ...\n",
            " $ cod_ra       : int  9 14 4 4 4 13 4 3 13 9 ...\n",
            " $ nome_drs     : chr  \"Marília\" \"São José do Rio Preto\" \"São João da Boa Vista\" \"São João da Boa Vista\" ...\n",
            " $ cod_drs      : int  5 15 14 14 3 12 11 12 6 2 ...\n",
            " $ pop          : int  33894 3447 35608 7797 18374 5931 3122 36134 5779 3927 ...\n",
            " $ pop_60       : int  7398 761 5245 1729 3275 1106 764 5524 830 907 ...\n",
            " $ area         : int  41199 21106 47455 14267 6013 40446 361 96671 1596 11892 ...\n",
            " $ map_leg      : chr  \"0\" \"0\" \"0\" \"0\" ...\n",
            " $ map_leg_s    : int  8 8 8 8 8 8 8 8 8 8 ...\n",
            " $ latitude     : num  -21.7 -21.2 -22.1 -21.9 -22.5 ...\n",
            " $ longitude    : num  -51.1 -49.6 -47 -46.7 -46.6 ...\n",
            " $ semana_epidem: int  9 9 9 9 9 9 9 9 9 9 ...\n"
          ]
        }
      ]
    },
    {
      "cell_type": "markdown",
      "source": [
        "#####2.1-VERIFICAÇÃO DOS DADOS AUSENTES"
      ],
      "metadata": {
        "id": "JtgIpI1r-9om"
      }
    },
    {
      "cell_type": "code",
      "source": [
        "# NA = valores ausentes\n",
        "sapply(covid_sp,function(x) sum(is.na(x)))"
      ],
      "metadata": {
        "colab": {
          "base_uri": "https://localhost:8080/",
          "height": 69
        },
        "id": "soZ3Hoo4-9Yj",
        "outputId": "631d387f-0f8a-45d6-a2f5-142dff80f007"
      },
      "execution_count": 36,
      "outputs": [
        {
          "output_type": "display_data",
          "data": {
            "text/html": [
              "<style>\n",
              ".dl-inline {width: auto; margin:0; padding: 0}\n",
              ".dl-inline>dt, .dl-inline>dd {float: none; width: auto; display: inline-block}\n",
              ".dl-inline>dt::after {content: \":\\0020\"; padding-right: .5ex}\n",
              ".dl-inline>dt:not(:first-of-type) {padding-left: .5ex}\n",
              "</style><dl class=dl-inline><dt>nome_munic</dt><dd>0</dd><dt>codigo_ibge</dt><dd>0</dd><dt>dia</dt><dd>0</dd><dt>mes</dt><dd>0</dd><dt>datahora</dt><dd>0</dd><dt>casos</dt><dd>0</dd><dt>casos_novos</dt><dd>0</dd><dt>casos_pc</dt><dd>0</dd><dt>casos_mm7d</dt><dd>0</dd><dt>obitos</dt><dd>0</dd><dt>obitos_novos</dt><dd>0</dd><dt>obitos_pc</dt><dd>0</dd><dt>obitos_mm7d</dt><dd>0</dd><dt>letalidade</dt><dd>0</dd><dt>nome_ra</dt><dd>0</dd><dt>cod_ra</dt><dd>0</dd><dt>nome_drs</dt><dd>0</dd><dt>cod_drs</dt><dd>0</dd><dt>pop</dt><dd>0</dd><dt>pop_60</dt><dd>0</dd><dt>area</dt><dd>0</dd><dt>map_leg</dt><dd>0</dd><dt>map_leg_s</dt><dd>1204</dd><dt>latitude</dt><dd>0</dd><dt>longitude</dt><dd>0</dd><dt>semana_epidem</dt><dd>0</dd></dl>\n"
            ],
            "text/markdown": "nome_munic\n:   0codigo_ibge\n:   0dia\n:   0mes\n:   0datahora\n:   0casos\n:   0casos_novos\n:   0casos_pc\n:   0casos_mm7d\n:   0obitos\n:   0obitos_novos\n:   0obitos_pc\n:   0obitos_mm7d\n:   0letalidade\n:   0nome_ra\n:   0cod_ra\n:   0nome_drs\n:   0cod_drs\n:   0pop\n:   0pop_60\n:   0area\n:   0map_leg\n:   0map_leg_s\n:   1204latitude\n:   0longitude\n:   0semana_epidem\n:   0\n\n",
            "text/latex": "\\begin{description*}\n\\item[nome\\textbackslash{}\\_munic] 0\n\\item[codigo\\textbackslash{}\\_ibge] 0\n\\item[dia] 0\n\\item[mes] 0\n\\item[datahora] 0\n\\item[casos] 0\n\\item[casos\\textbackslash{}\\_novos] 0\n\\item[casos\\textbackslash{}\\_pc] 0\n\\item[casos\\textbackslash{}\\_mm7d] 0\n\\item[obitos] 0\n\\item[obitos\\textbackslash{}\\_novos] 0\n\\item[obitos\\textbackslash{}\\_pc] 0\n\\item[obitos\\textbackslash{}\\_mm7d] 0\n\\item[letalidade] 0\n\\item[nome\\textbackslash{}\\_ra] 0\n\\item[cod\\textbackslash{}\\_ra] 0\n\\item[nome\\textbackslash{}\\_drs] 0\n\\item[cod\\textbackslash{}\\_drs] 0\n\\item[pop] 0\n\\item[pop\\textbackslash{}\\_60] 0\n\\item[area] 0\n\\item[map\\textbackslash{}\\_leg] 0\n\\item[map\\textbackslash{}\\_leg\\textbackslash{}\\_s] 1204\n\\item[latitude] 0\n\\item[longitude] 0\n\\item[semana\\textbackslash{}\\_epidem] 0\n\\end{description*}\n",
            "text/plain": [
              "   nome_munic   codigo_ibge           dia           mes      datahora \n",
              "            0             0             0             0             0 \n",
              "        casos   casos_novos      casos_pc    casos_mm7d        obitos \n",
              "            0             0             0             0             0 \n",
              " obitos_novos     obitos_pc   obitos_mm7d    letalidade       nome_ra \n",
              "            0             0             0             0             0 \n",
              "       cod_ra      nome_drs       cod_drs           pop        pop_60 \n",
              "            0             0             0             0             0 \n",
              "         area       map_leg     map_leg_s      latitude     longitude \n",
              "            0             0          1204             0             0 \n",
              "semana_epidem \n",
              "            0 "
            ]
          },
          "metadata": {}
        }
      ]
    },
    {
      "cell_type": "code",
      "source": [
        "#somente map legs com valores ausentes"
      ],
      "metadata": {
        "id": "ZpXTsSeT-tBr"
      },
      "execution_count": 38,
      "outputs": []
    },
    {
      "cell_type": "code",
      "source": [
        "# NAN = not a number(valor indefinido)\n",
        "sapply(covid_sp,function(x) sum(is.nan(x)))"
      ],
      "metadata": {
        "colab": {
          "base_uri": "https://localhost:8080/",
          "height": 69
        },
        "id": "h8xLD3Hs-s_O",
        "outputId": "d952dfec-3744-4369-dbbe-bbbb910342f8"
      },
      "execution_count": 37,
      "outputs": [
        {
          "output_type": "display_data",
          "data": {
            "text/html": [
              "<style>\n",
              ".dl-inline {width: auto; margin:0; padding: 0}\n",
              ".dl-inline>dt, .dl-inline>dd {float: none; width: auto; display: inline-block}\n",
              ".dl-inline>dt::after {content: \":\\0020\"; padding-right: .5ex}\n",
              ".dl-inline>dt:not(:first-of-type) {padding-left: .5ex}\n",
              "</style><dl class=dl-inline><dt>nome_munic</dt><dd>0</dd><dt>codigo_ibge</dt><dd>0</dd><dt>dia</dt><dd>0</dd><dt>mes</dt><dd>0</dd><dt>datahora</dt><dd>0</dd><dt>casos</dt><dd>0</dd><dt>casos_novos</dt><dd>0</dd><dt>casos_pc</dt><dd>0</dd><dt>casos_mm7d</dt><dd>0</dd><dt>obitos</dt><dd>0</dd><dt>obitos_novos</dt><dd>0</dd><dt>obitos_pc</dt><dd>0</dd><dt>obitos_mm7d</dt><dd>0</dd><dt>letalidade</dt><dd>0</dd><dt>nome_ra</dt><dd>0</dd><dt>cod_ra</dt><dd>0</dd><dt>nome_drs</dt><dd>0</dd><dt>cod_drs</dt><dd>0</dd><dt>pop</dt><dd>0</dd><dt>pop_60</dt><dd>0</dd><dt>area</dt><dd>0</dd><dt>map_leg</dt><dd>0</dd><dt>map_leg_s</dt><dd>0</dd><dt>latitude</dt><dd>0</dd><dt>longitude</dt><dd>0</dd><dt>semana_epidem</dt><dd>0</dd></dl>\n"
            ],
            "text/markdown": "nome_munic\n:   0codigo_ibge\n:   0dia\n:   0mes\n:   0datahora\n:   0casos\n:   0casos_novos\n:   0casos_pc\n:   0casos_mm7d\n:   0obitos\n:   0obitos_novos\n:   0obitos_pc\n:   0obitos_mm7d\n:   0letalidade\n:   0nome_ra\n:   0cod_ra\n:   0nome_drs\n:   0cod_drs\n:   0pop\n:   0pop_60\n:   0area\n:   0map_leg\n:   0map_leg_s\n:   0latitude\n:   0longitude\n:   0semana_epidem\n:   0\n\n",
            "text/latex": "\\begin{description*}\n\\item[nome\\textbackslash{}\\_munic] 0\n\\item[codigo\\textbackslash{}\\_ibge] 0\n\\item[dia] 0\n\\item[mes] 0\n\\item[datahora] 0\n\\item[casos] 0\n\\item[casos\\textbackslash{}\\_novos] 0\n\\item[casos\\textbackslash{}\\_pc] 0\n\\item[casos\\textbackslash{}\\_mm7d] 0\n\\item[obitos] 0\n\\item[obitos\\textbackslash{}\\_novos] 0\n\\item[obitos\\textbackslash{}\\_pc] 0\n\\item[obitos\\textbackslash{}\\_mm7d] 0\n\\item[letalidade] 0\n\\item[nome\\textbackslash{}\\_ra] 0\n\\item[cod\\textbackslash{}\\_ra] 0\n\\item[nome\\textbackslash{}\\_drs] 0\n\\item[cod\\textbackslash{}\\_drs] 0\n\\item[pop] 0\n\\item[pop\\textbackslash{}\\_60] 0\n\\item[area] 0\n\\item[map\\textbackslash{}\\_leg] 0\n\\item[map\\textbackslash{}\\_leg\\textbackslash{}\\_s] 0\n\\item[latitude] 0\n\\item[longitude] 0\n\\item[semana\\textbackslash{}\\_epidem] 0\n\\end{description*}\n",
            "text/plain": [
              "   nome_munic   codigo_ibge           dia           mes      datahora \n",
              "            0             0             0             0             0 \n",
              "        casos   casos_novos      casos_pc    casos_mm7d        obitos \n",
              "            0             0             0             0             0 \n",
              " obitos_novos     obitos_pc   obitos_mm7d    letalidade       nome_ra \n",
              "            0             0             0             0             0 \n",
              "       cod_ra      nome_drs       cod_drs           pop        pop_60 \n",
              "            0             0             0             0             0 \n",
              "         area       map_leg     map_leg_s      latitude     longitude \n",
              "            0             0             0             0             0 \n",
              "semana_epidem \n",
              "            0 "
            ]
          },
          "metadata": {}
        }
      ]
    },
    {
      "cell_type": "code",
      "source": [
        "#sem dados indefinidos"
      ],
      "metadata": {
        "id": "VLtD_bqc0zeY"
      },
      "execution_count": 39,
      "outputs": []
    },
    {
      "cell_type": "markdown",
      "source": [
        "####3-TRATAMENTO DOS DADOS"
      ],
      "metadata": {
        "id": "xMETioePEwez"
      }
    },
    {
      "cell_type": "code",
      "source": [],
      "metadata": {
        "id": "917pqOFw0zbl"
      },
      "execution_count": null,
      "outputs": []
    },
    {
      "cell_type": "code",
      "source": [],
      "metadata": {
        "id": "Ehf9cZFyEDEE"
      },
      "execution_count": null,
      "outputs": []
    },
    {
      "cell_type": "code",
      "source": [],
      "metadata": {
        "id": "3Ah6wX41EEwD"
      },
      "execution_count": null,
      "outputs": []
    },
    {
      "cell_type": "code",
      "source": [],
      "metadata": {
        "id": "j-K0jcc80zY3"
      },
      "execution_count": null,
      "outputs": []
    }
  ]
}