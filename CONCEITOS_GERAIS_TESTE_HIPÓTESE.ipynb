{
  "nbformat": 4,
  "nbformat_minor": 0,
  "metadata": {
    "colab": {
      "provenance": [],
      "authorship_tag": "ABX9TyOkoG15RMno6vAUQrt/6PLe",
      "include_colab_link": true
    },
    "kernelspec": {
      "name": "ir",
      "display_name": "R"
    },
    "language_info": {
      "name": "R"
    }
  },
  "cells": [
    {
      "cell_type": "markdown",
      "metadata": {
        "id": "view-in-github",
        "colab_type": "text"
      },
      "source": [
        "<a href=\"https://colab.research.google.com/github/hsantos1985/R-Jobs/blob/main/CONCEITOS_GERAIS_TESTE_HIP%C3%93TESE.ipynb\" target=\"_parent\"><img src=\"https://colab.research.google.com/assets/colab-badge.svg\" alt=\"Open In Colab\"/></a>"
      ]
    },
    {
      "cell_type": "markdown",
      "source": [
        "# <font color=white size=10>CONCEITOS DE TESTE DE HIPÓTESE</font>\n",
        "\n",
        "***\n",
        "\n",
        "\n",
        "Este notebook contém conceitos e pressias básicas para a realização deste de hipótese.\n",
        "Estes conceitos e notebook são provenientes do curso de \"Estatística com R: Testes de Hipótese\" da Alura\n"
      ],
      "metadata": {
        "id": "A4de2m90lqfN"
      }
    },
    {
      "cell_type": "markdown",
      "source": [
        "# <font color=white>1 TESTES DE HIPÓTESES</font>\n",
        "***"
      ],
      "metadata": {
        "id": "0_CWAC7Ml8MS"
      }
    },
    {
      "cell_type": "markdown",
      "source": [
        "Testes estatísticos são regras de decisão que permitem avaliar a razoabilidade das hipóteses feitas sobre os parâmetros populacionais e aceitá-las ou rejeitá-las como provavelmente verdadeiras ou falsas tendo como base uma amostra."
      ],
      "metadata": {
        "id": "Itg9_XH-5hw9"
      }
    },
    {
      "cell_type": "markdown",
      "source": [
        "## <font color=white>1.1 Teste de normalidade</font>\n",
        "***"
      ],
      "metadata": {
        "id": "TYiAXr_bg3Cv"
      }
    },
    {
      "cell_type": "markdown",
      "source": [
        "A função *shapiro.test* testa a hipótese nula $H_0$ de que a amostra é proveniente de uma distribuição normal, ou seja, os dados são normalmente distribuídos."
      ],
      "metadata": {
        "id": "B-LsbrF-g70b"
      }
    },
    {
      "cell_type": "markdown",
      "source": [
        "#### <font color=red>Documentações:\n",
        "\n",
        "- [**shapiro.test**](https://www.rdocumentation.org/packages/stats/versions/3.6.1/topics/shapiro.test)"
      ],
      "metadata": {
        "id": "VZyBxpVcg78m"
      }
    },
    {
      "cell_type": "markdown",
      "source": [
        "### <font color='red'>Critério do valor $p$</font>\n",
        "\n",
        "> ### Rejeitar $H_0$ se o valor $p\\leq \\alpha$"
      ],
      "metadata": {
        "id": "mAA0iuQng8CP"
      }
    },
    {
      "cell_type": "markdown",
      "source": [
        "# <font color=white>2 TESTES DE HIPÓTESES</font>\n",
        "***"
      ],
      "metadata": {
        "id": "u9dM2j90g8Ku"
      }
    },
    {
      "cell_type": "markdown",
      "source": [
        "## <font color=white>2.1 Etapas Básicas de um Teste</font>\n",
        "***"
      ],
      "metadata": {
        "id": "ic5lQnJtg8E4"
      }
    },
    {
      "cell_type": "markdown",
      "source": [
        "### **Passo 1** - formulação das hipóteses $H_0$ e $H_1$;\n",
        "\n",
        "> ### <font color='red'>Pontos importantes</font>\n",
        "> - De maneira geral, o alvo do estudo deve ser formulado como a hipótese alternativa $H_1$.\n",
        "> - A hipótese nula sempre afirma uma igualdade ou propriedade populacional, e $H_1$ a desigualdade que nega $H_0$.\n",
        "> - No caso da hipótese nula $H_0$ a igualdade pode ser representada por uma igualdade simples \"$=$\" ou por \"$\\geq$\" e \"$\\leq$\". Sempre complementar ao estabelecido pela hipótese alternativa.\n",
        "> - A hipótese alternativa $H_1$ deve definir uma desigualdade que pode ser uma diferença simples \"$\\neq$\" ou dos tipos \"$>$\" e \"$<$\".\n",
        "\n",
        "\n",
        "### **Passo 2** - escolha da distribuição amostral adequada;\n",
        "\n",
        "> ### <font color='red'>Pontos importantes</font>\n",
        "> - Quando o tamanho da amostra tiver 30 elementos ou mais, deve-se utilizar a distribuição normal, como estabelecido pelo **teorema do limite central**.\n",
        "> - Para um tamanho de amostra menor que 30 elementos, e se pudermos afirmar que a população se distribui aproximadamente como uma normal e o desvio padrão populacional for conhecido, deve-se utilizar a distribuição normal.\n",
        "> - Para um tamanho de amostra menor que 30 elementos, e se pudermos afirmar que a população se distribui aproximadamente como uma normal e o desvio padrão populacional for desconhecido, deve-se utilizar a distribuição t de Student.\n",
        "\n",
        "<img src='https://caelum-online-public.s3.amazonaws.com/1229-estatistica-parte3/01/img003.png' width=70%>\n",
        "\n",
        "### **Passo 3** - fixação da significância do teste ($\\alpha$), que define as regiões de aceitação e rejeição das hipóteses (os valores mais freqüentes são 10%, 5% e 1%);\n",
        "\n",
        "> ### <font color='red'>Pontos importantes</font>\n",
        "> - O **nível de confiança** ($1 - \\alpha$) representa a probabilidade de acerto da estimativa. De forma complementar o **nível de significância** ($\\alpha$) expressa a probabilidade de erro da estimativa.\n",
        ">\n",
        "> ![Níveis de Confiança e significância](https://caelum-online-public.s3.amazonaws.com/1229-estatistica-parte3/01/img001.png)\n",
        ">\n",
        "> - O **nível de confiança** representa o grau de confiabilidade do resultado da estimativa estar dentro de determinado intervalo. Quando fixamos em uma pesquisa um **nível de confiança** de 95%, por exemplo, estamos assumindo que existe uma probabilidade de 95% dos resultados da pesquisa representarem bem a realidade, ou seja, estarem corretos.\n",
        ">\n",
        "> ![Áreas de Aceitação e Rejeição](https://caelum-online-public.s3.amazonaws.com/1229-estatistica-parte3/01/img002.png)\n",
        "\n",
        "### **Passo 4** - cálculo da estatística-teste e verificação desse valor com as áreas de aceitação e rejeição do teste;\n",
        "\n",
        "> ### <font color='red'>Pontos importantes</font>\n",
        "> - Nos testes paramétricos, distância relativa entre a estatística amostral e o valor alegado como provável.\n",
        "> - Neste passo são obtidas as estatísticas amostrais necessárias à execução do teste (média, desvio-padrão, graus de liberdade etc.)\n",
        "\n",
        "\n",
        "### **Passo 5** - Aceitação ou rejeição da hipótese nula.\n",
        "\n",
        "> ### <font color='red'>Pontos importantes</font>\n",
        "> - No caso de o intervalo de aceitação conter a estatística-teste, aceita-se $H_0$ como estatisticamente válido e rejeita-se $H_1$ como tal.\n",
        "> - No caso de o intervalo de aceitação não conter a estatística-teste, rejeita-se $H_0$ e aceita-se $H_1$ como provavelmente verdadeira. \n",
        "> - A aceitação também se verifica com a probabilidade de cauda (p-valor): se maior que $\\alpha$, aceita-se $H_0$."
      ],
      "metadata": {
        "id": "ChXO10Mog8IM"
      }
    },
    {
      "cell_type": "markdown",
      "source": [
        "# <font color=white>3 TESTES PARAMÉTRICOS</font>\n",
        "***"
      ],
      "metadata": {
        "id": "ZX9lFeqOg8Mp"
      }
    },
    {
      "cell_type": "markdown",
      "source": [
        "Quando um teste assume determinadas premissas sobre como os parâmetros de uma população se distribuem, estamos trabalhando com **Testes Paramétricos**."
      ],
      "metadata": {
        "id": "HE14lRY6g8OH"
      }
    },
    {
      "cell_type": "markdown",
      "source": [
        "## <font color=white>3.1 Teste Bicaudal</font>\n",
        "***"
      ],
      "metadata": {
        "id": "sqnRSbtjg8SZ"
      }
    },
    {
      "cell_type": "markdown",
      "source": [
        "O **teste bicaudal** é muito utilizado em **testes de qualidade**, como o apresentado em nosso problema acima. Outro exemplo é a avaliação de peças que devem ter um encaixe perfeito (porcas e parafusos, chaves e fechaduras etc.)."
      ],
      "metadata": {
        "id": "Is26OvSRg8VS"
      }
    },
    {
      "cell_type": "markdown",
      "source": [
        "![Teste Bicaudal](https://caelum-online-public.s3.amazonaws.com/1229-estatistica-parte3/01/img005.png)"
      ],
      "metadata": {
        "id": "hRGvaDSLj6Uf"
      }
    },
    {
      "cell_type": "markdown",
      "source": [
        "<img src='https://caelum-online-public.s3.amazonaws.com/1229-estatistica-parte3/01/img013.png' width=90%>"
      ],
      "metadata": {
        "id": "WJvyw2nSj6c-"
      }
    },
    {
      "cell_type": "markdown",
      "source": [
        "### <font color='red'>Critério do valor crítico</font>\n",
        "\n",
        "> ### Teste Bicaudal\n",
        "> ### Rejeitar $H_0$ se $z \\leq -z_{\\alpha / 2}$ ou se $z \\geq z_{\\alpha / 2}$"
      ],
      "metadata": {
        "id": "3E8ljaLFj6gc"
      }
    },
    {
      "cell_type": "markdown",
      "source": [
        "### <font color='red'>Critério do $p-valor$</font>\n",
        "\n",
        "> ### Teste Bicaudal\n",
        "> ### Rejeitar $H_0$ se o valor $p\\leq\\alpha$"
      ],
      "metadata": {
        "id": "M8oAovb4j6ii"
      }
    },
    {
      "cell_type": "markdown",
      "source": [
        "## <font color=white>3.2 Teste Unicaudal</font>"
      ],
      "metadata": {
        "id": "ssrVBtnzj6lW"
      }
    },
    {
      "cell_type": "markdown",
      "source": [
        "<img src='https://caelum-online-public.s3.amazonaws.com/1229-estatistica-parte3/01/img004.png' width='250px'>\n",
        "\n",
        "As células da tabela acima são valores de $t$ para uma área ou probabilidade na cauda superior da distribuição $t$."
      ],
      "metadata": {
        "id": "LBSn7niwpom_"
      }
    },
    {
      "cell_type": "markdown",
      "source": [
        "Os **testes unicaudais** verificam as variáveis em relação a um piso ou a um teto e avaliam os valores máximos ou mínimos esperados para os parâmetros em estudo e a chance de as estatísticas amostrais serem inferiores ou superiores a dado limite."
      ],
      "metadata": {
        "id": "S1fGc-f0poww"
      }
    },
    {
      "cell_type": "markdown",
      "source": [
        "<img src='https://caelum-online-public.s3.amazonaws.com/1229-estatistica-parte3/01/img008.png' width='700px'>"
      ],
      "metadata": {
        "id": "isYyZRSBpo9W"
      }
    },
    {
      "cell_type": "markdown",
      "source": [
        "<img src='https://caelum-online-public.s3.amazonaws.com/1229-estatistica-parte3/01/img013.png' width=90%>"
      ],
      "metadata": {
        "id": "pIlRM9bDlVwG"
      }
    },
    {
      "cell_type": "markdown",
      "source": [
        "### <font color='red'>Critério do valor crítico</font>\n",
        "\n",
        "> ### Teste Unicaudal Superior\n",
        "> ### Rejeitar $H_0$ se $t \\geq t_{\\alpha}$\n",
        "> ### Teste Unicaudal Superior\n",
        "> ### Rejeitar $H_0$ se $t \\geq t_{\\alpha}$"
      ],
      "metadata": {
        "id": "C1vA-fLflV2c"
      }
    },
    {
      "cell_type": "markdown",
      "source": [
        "### <font color='red'>Critério do valor $p$</font>\n",
        "\n",
        "> ### Teste Unicaudal Superior\n",
        "> ### Rejeitar $H_0$ se o valor $p\\leq\\alpha$"
      ],
      "metadata": {
        "id": "00jErrDIlVzc"
      }
    },
    {
      "cell_type": "markdown",
      "source": [
        "## <font color=white>3.4 Testes para Duas Amostras</font>"
      ],
      "metadata": {
        "id": "-anE6BsHlV6H"
      }
    },
    {
      "cell_type": "markdown",
      "source": [
        "É possível também utilizar testes de hipóteses para comparar duas diferentes amostras. Neste tipo de teste se deseja decidir se uma amostra é diferente da outra."
      ],
      "metadata": {
        "id": "Jf3SwSXVC7Tb"
      }
    },
    {
      "cell_type": "markdown",
      "source": [
        "### **Passo 1** - formulação das hipóteses $H_0$ e $H_1$\n",
        "\n",
        "#### <font color='red'>Lembre-se, a hipótese nula sempre contém a alegação de igualdade</font>"
      ],
      "metadata": {
        "id": "aBhJ1mgrC7dG"
      }
    },
    {
      "cell_type": "markdown",
      "source": [
        "### $\\mu_1 \\Rightarrow$ Média das rendas dos chefes de domicílios do sexo masculino\n",
        "### $\\mu_2 \\Rightarrow$ Média das rendas dos chefes de domicílios do sexo feminino\n",
        "\n",
        "### $\n",
        "\\begin{cases}\n",
        "H_0: \\mu_1 \\leq \\mu_2\\\\\n",
        "H_1: \\mu_1 > \\mu_2\n",
        "\\end{cases}\n",
        "$\n",
        "\n",
        "### ou\n",
        "\n",
        "### $\n",
        "\\begin{cases}\n",
        "H_0: \\mu_1 -\\mu_2 \\leq 0\\\\\n",
        "H_1: \\mu_1 -\\mu_2 > 0\n",
        "\\end{cases}\n",
        "$"
      ],
      "metadata": {
        "id": "laAjTCh5C7lt"
      }
    },
    {
      "cell_type": "markdown",
      "source": [
        "### **Passo 2** - escolha da distribuição amostral adequada\n",
        "<img src='https://caelum-online-public.s3.amazonaws.com/1229-estatistica-parte3/01/img003.png' width=70%>\n",
        "\n",
        "### <font color='red'>Observação importante</font>\n",
        "> Em testes que envolvam duas amostras com o emprego da tabela $t$ de Student, o número de graus de liberdade será sempre igual a $n_1 + n_2 - 2$"
      ],
      "metadata": {
        "id": "dszbI71PC7tA"
      }
    },
    {
      "cell_type": "markdown",
      "source": [
        "### **Passo 4** - cálculo da estatística-teste e verificação desse valor com as áreas de aceitação e rejeição do teste\n",
        "\n",
        "# $$z = \\frac{(\\bar{x_1} - \\bar{x_2})-D_0}{\\sqrt{\\frac{s_1^2}{n_1} + \\frac{s_2^2}{n_2}}}$$"
      ],
      "metadata": {
        "id": "xi70ZC9tC709"
      }
    },
    {
      "cell_type": "markdown",
      "source": [
        "### **Passo 5** - Aceitação ou rejeição da hipótese nula"
      ],
      "metadata": {
        "id": "SMzZbz8bD7d2"
      }
    },
    {
      "cell_type": "markdown",
      "source": [
        "<img src='https://caelum-online-public.s3.amazonaws.com/1229-estatistica-parte3/01/img014.png' width=90%>"
      ],
      "metadata": {
        "id": "-OlAOdcQD7qO"
      }
    },
    {
      "cell_type": "markdown",
      "source": [
        "### <font color='red'>Critério do valor crítico</font>\n",
        "\n",
        "> ### Teste Unicaudal\n",
        "> ### Rejeitar $H_0$ se $z \\geq z_{\\alpha}$"
      ],
      "metadata": {
        "id": "feRP5hXNlWKI"
      }
    },
    {
      "cell_type": "markdown",
      "source": [
        "### <font color='red'>Critério do valor $p$</font>\n",
        "\n",
        "> ### Teste Unicaudal\n",
        "> ### Rejeitar $H_0$ se o valor $p\\leq\\alpha$"
      ],
      "metadata": {
        "id": "-0QDcluCEMGG"
      }
    },
    {
      "cell_type": "markdown",
      "source": [
        "# <font color=white>4 TESTES NÃO PARAMÉTRICOS</font>\n",
        "***"
      ],
      "metadata": {
        "id": "iBKmw2F2EMOu"
      }
    },
    {
      "cell_type": "markdown",
      "source": [
        "O trabalho com pequenas amostras pode levar a não aceitação da validade do teorema central do limite e também na impossibilidade de fazer suposições sobre a distribuição da variável avaliada. Quando isso ocorre torna-se necessária a aplicação de testes não paramétricos. Nos testes não paramétricos, não fazemos hipóteses sobre a distribuição (de probabilidade) das quais as observações são extraídas."
      ],
      "metadata": {
        "id": "_yIoscJxEMWt"
      }
    },
    {
      "cell_type": "markdown",
      "source": [
        "## <font color=white>4.1 Teste do Qui-Quadrado ( $\\chi^2$)</font>\n",
        "***"
      ],
      "metadata": {
        "id": "VjxjlfMoEMeF"
      }
    },
    {
      "cell_type": "markdown",
      "source": [
        "Também conhecido como teste de adequação ao ajustamento, seu nome se deve ao fato de utilizar uma variável estatística padronizada, representada pela letra grega qui ( $\\chi$) elevada ao quadrado. A tabela com os valores padronizados e como obtê-la podem ser vistos logo abaixo.\n",
        "\n",
        "O teste do $\\chi^2$ testa a hipótese nula de não haver diferença entre as frequências observadas de um determinado evento e as frequências que são realmente esperadas para este evento.\n",
        "\n",
        "Os passos de aplicação do teste são bem parecidos aos vistos para os testes paramétricos.\n",
        "\n",
        "![Região de Aceitação](https://caelum-online-public.s3.amazonaws.com/1229-estatistica-parte3/01/img017.png)\n"
      ],
      "metadata": {
        "id": "bpdLYKUNK1Mw"
      }
    },
    {
      "cell_type": "markdown",
      "source": [
        "<img src='https://caelum-online-public.s3.amazonaws.com/1229-estatistica-parte3/01/img016.png' width='250px'>\n",
        "\n",
        "Tabela com os valores de $\\chi_p^2$ em função dos graus de liberdade $(n - 1)$ e de $p = P(\\chi^2 \\leq \\chi_p^2)$"
      ],
      "metadata": {
        "id": "PP3KdinyK1U9"
      }
    },
    {
      "cell_type": "markdown",
      "source": [
        "### **Passo 3** - cálculo da estatística-teste e verificação desse valor com as áreas de aceitação e rejeição do teste\n",
        "\n",
        "# $$\\chi^2 = \\sum_{i=1}^{k}{\\frac{(F_{i}^{Obs} - F_{i}^{Esp})^2}{F_{i}^{Esp}}}$$\n",
        "\n",
        "Onde\n",
        "\n",
        "$F_{i}^{Obs}$ = frequência observada para o evento $i$\n",
        "\n",
        "$F_{i}^{Esp}$ = frequência esperada para o evento $i$\n",
        "\n",
        "$k$ = total de eventos possíveis"
      ],
      "metadata": {
        "id": "qilkFCVnK1Yl"
      }
    },
    {
      "cell_type": "markdown",
      "source": [
        "<img src='https://caelum-online-public.s3.amazonaws.com/1229-estatistica-parte3/01/img020.png' width=80%>"
      ],
      "metadata": {
        "id": "rwWYVgBEK1bY"
      }
    },
    {
      "cell_type": "markdown",
      "source": [
        "### <font color='red'>Critério do valor crítico</font>\n",
        "\n",
        "> ### Rejeitar $H_0$ se $\\chi_{teste}^2 > \\chi_{\\alpha}^2$"
      ],
      "metadata": {
        "id": "IZ3O42r0Mh6Q"
      }
    },
    {
      "cell_type": "markdown",
      "source": [
        "### <font color='red'>Critério do valor $p$</font>\n",
        "\n",
        "> ### Rejeitar $H_0$ se o valor $p\\leq\\alpha$"
      ],
      "metadata": {
        "id": "0DFjgkTgMiDN"
      }
    },
    {
      "cell_type": "markdown",
      "source": [
        "## <font color=white>4.2 Teste Wilcoxon</font>\n",
        "### Comparação de duas populações - amostras dependentes"
      ],
      "metadata": {
        "id": "Njf30OD5MiLm"
      }
    },
    {
      "cell_type": "markdown",
      "source": [
        "Empregado quando se deseja comparar duas amostras relacionadas, amostras emparelhadas. Pode ser aplicado quando se deseja testar a diferença de duas condições, isto é, quando um mesmo elemento é submetido a duas medidas."
      ],
      "metadata": {
        "id": "LBca2AifM1T-"
      }
    },
    {
      "cell_type": "markdown",
      "source": [
        "### **Passo 1** - formulação das hipóteses $H_0$ e $H_1$\n",
        "\n",
        "#### <font color='red'>Lembre-se, a hipótese nula sempre contém a alegação de igualdade</font>"
      ],
      "metadata": {
        "id": "Uk8-aR9dM1av"
      }
    },
    {
      "cell_type": "markdown",
      "source": [
        "### $H_0: \\mu_{antes} = \\mu_{depois}$\n",
        "\n",
        "### $H_1: \\mu_{antes} > \\mu_{depois}$"
      ],
      "metadata": {
        "id": "KnlaE_6iM1gt"
      }
    },
    {
      "cell_type": "markdown",
      "source": [
        "<img src='https://caelum-online-public.s3.amazonaws.com/1229-estatistica-parte3/01/img022.png' width='80%'>"
      ],
      "metadata": {
        "id": "uP2-9QX1Ofy3"
      }
    },
    {
      "cell_type": "markdown",
      "source": [
        "### <font color='red'>Critério do valor crítico</font>\n",
        "\n",
        "> ### Rejeitar $H_0$ se $Z \\leq -z_{\\alpha / 2}$ ou se $Z \\geq z_{\\alpha / 2}$"
      ],
      "metadata": {
        "id": "6yJEDVySOgAW"
      }
    },
    {
      "cell_type": "markdown",
      "source": [
        "### <font color='red'>Critério do valor $p$</font>\n",
        "\n",
        "> ### Rejeitar $H_0$ se o valor $p\\leq\\alpha$"
      ],
      "metadata": {
        "id": "1ZmXiprjM1jt"
      }
    },
    {
      "cell_type": "markdown",
      "source": [],
      "metadata": {
        "id": "R7HoiI17PNGC"
      }
    }
  ]
}