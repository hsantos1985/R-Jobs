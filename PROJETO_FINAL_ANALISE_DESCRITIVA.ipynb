{
  "nbformat": 4,
  "nbformat_minor": 0,
  "metadata": {
    "colab": {
      "provenance": [],
      "authorship_tag": "ABX9TyMv7EjJtMZhLLeteSCd7lWb",
      "include_colab_link": true
    },
    "kernelspec": {
      "name": "ir",
      "display_name": "R"
    },
    "language_info": {
      "name": "R"
    },
    "gpuClass": "standard"
  },
  "cells": [
    {
      "cell_type": "markdown",
      "metadata": {
        "id": "view-in-github",
        "colab_type": "text"
      },
      "source": [
        "<a href=\"https://colab.research.google.com/github/hsantos1985/R-Jobs/blob/main/PROJETO_FINAL_ANALISE_DESCRITIVA.ipynb\" target=\"_parent\"><img src=\"https://colab.research.google.com/assets/colab-badge.svg\" alt=\"Open In Colab\"/></a>"
      ]
    },
    {
      "cell_type": "markdown",
      "source": [
        "### CURSO DE ESTATÍSTICA - PARTE 1\n",
        "Trabalho de Análise Descritiva de um Conjunto de Dados\n",
        "Utilizando os conhecimentos adquiridos em nosso treinamento realize uma análise descritiva básica de um conjunto de dados retirados da Pesquisa Nacional por Amostra de Domicílios - 2015 do IBGE.\n",
        "\n",
        "Vamos construir histogramas, calcular e avaliar medidas de tendência central, medidas separatrizes e de dispersão dos dados.\n",
        "\n",
        "Siga o roteiro proposto e vá completando as células vazias. Procure pensar em mais informações interessantes que podem ser exploradas em nosso dataset."
      ],
      "metadata": {
        "id": "sWgkc9bBIQLg"
      }
    },
    {
      "cell_type": "markdown",
      "source": [
        "### DATASET DO PROJETO"
      ],
      "metadata": {
        "id": "JQ98Mq__ISOo"
      }
    },
    {
      "cell_type": "markdown",
      "source": [
        "Pesquisa Nacional por Amostra de Domicílios - 2015\n",
        "A Pesquisa Nacional por Amostra de Domicílios - PNAD investiga anualmente, de forma permanente, características gerais da população, de educação, trabalho, rendimento e habitação e outras, com periodicidade variável, de acordo com as necessidades de informação para o país, como as características sobre migração, fecundidade, nupcialidade, saúde, segurança alimentar, entre outros temas. O levantamento dessas estatísticas constitui, ao longo dos 49 anos de realização da pesquisa, um importante instrumento para formulação, validação e avaliação de políticas orientadas para o desenvolvimento socioeconômico e a melhoria das condições de vida no Brasil."
      ],
      "metadata": {
        "id": "sg-9SHLhI30J"
      }
    },
    {
      "cell_type": "markdown",
      "source": [
        "Fonte dos Dados\n",
        "https://ww2.ibge.gov.br/home/estatistica/populacao/trabalhoerendimento/pnad2015/microdados.shtm\n",
        "\n",
        "Variáveis utilizadas\n",
        "Renda\n",
        "Rendimento mensal do trabalho principal para pessoas de 10 anos ou mais de idade.\n",
        "\n",
        "Idade\n",
        "Idade do morador na data de referência em anos.\n",
        "\n",
        "Altura (elaboração própria)\n"
      ],
      "metadata": {
        "id": "DuDjXT7EI85W"
      }
    },
    {
      "cell_type": "markdown",
      "source": [
        "### Variáveis utilizadas\n",
        "\n",
        "> ### Renda\n",
        "> ***\n",
        "\n",
        "Rendimento mensal do trabalho principal para pessoas de 10 anos ou mais de idade.\n",
        "\n",
        "> ### Idade\n",
        "> ***\n",
        "\n",
        "Idade do morador na data de referência em anos.\n",
        "\n",
        "> ### Altura (elaboração própria)\n",
        "> ***\n",
        "\n",
        "Altura do morador em metros.\n",
        "\n",
        "> ### UF\n",
        "> ***\n",
        "\n",
        "|Código|Descrição|\n",
        "|---|---|\n",
        "|11|Rondônia|\n",
        "|12|Acre|\n",
        "|13|Amazonas|\n",
        "|14|Roraima|\n",
        "|15|Pará|\n",
        "|16|Amapá|\n",
        "|17|Tocantins|\n",
        "|21|Maranhão|\n",
        "|22|Piauí|\n",
        "|23|Ceará|\n",
        "|24|Rio Grande do Norte|\n",
        "|25|Paraíba|\n",
        "|26|Pernambuco|\n",
        "|27|Alagoas|\n",
        "|28|Sergipe|\n",
        "|29|Bahia|\n",
        "|31|Minas Gerais|\n",
        "|32|Espírito Santo|\n",
        "|33|Rio de Janeiro|\n",
        "|35|São Paulo|\n",
        "|41|Paraná|\n",
        "|42|Santa Catarina|\n",
        "|43|Rio Grande do Sul|\n",
        "|50|Mato Grosso do Sul|\n",
        "|51|Mato Grosso|\n",
        "|52|Goiás|\n",
        "|53|Distrito Federal|\n",
        "\n",
        "> ### Sexo\t\n",
        "> ***\n",
        "\n",
        "|Código|Descrição|\n",
        "|---|---|\n",
        "|0|Masculino|\n",
        "|1|Feminino|\n",
        "\n",
        "> ### Anos de Estudo\n",
        "> ***\n",
        "\n",
        "|Código|Descrição|\n",
        "|---|---|\n",
        "|1|Sem instrução e menos de 1 ano|\n",
        "|2|1 ano|\n",
        "|3|2 anos|\n",
        "|4|3 anos|\n",
        "|5|4 anos|\n",
        "|6|5 anos|\n",
        "|7|6 anos|\n",
        "|8|7 anos|\n",
        "|9|8 anos|\n",
        "|10|9 anos|\n",
        "|11|10 anos|\n",
        "|12|11 anos|\n",
        "|13|12 anos|\n",
        "|14|13 anos|\n",
        "|15|14 anos|\n",
        "|16|15 anos ou mais|\n",
        "|17|Não determinados| \n",
        "||Não aplicável|\n",
        "\n",
        "> ### Cor\n",
        "> ***\n",
        "\n",
        "|Código|Descrição|\n",
        "|---|---|\n",
        "|0|Indígena|\n",
        "|2|Branca|\n",
        "|4|Preta|\n",
        "|6|Amarela|\n",
        "|8|Parda|\n",
        "|9|Sem declaração|"
      ],
      "metadata": {
        "id": "xpiHzbwvJSDx"
      }
    },
    {
      "cell_type": "markdown",
      "source": [
        "#### <font color='red'>Observação</font>\n",
        "***\n",
        "> Os seguintes tratamentos foram realizados nos dados originais:\n",
        "> 1. Foram eliminados os registros onde a <b>Renda</b> era inválida (999 999 999 999);\n",
        "> 2. Foram eliminados os registros onde a <b>Renda</b> era missing;\n",
        "> 3. Foram considerados somente os registros das <b>Pessoas de Referência</b> de cada domicílio (responsável pelo domicílio)."
      ],
      "metadata": {
        "id": "Wf9c0LxLJWR5"
      }
    },
    {
      "cell_type": "code",
      "source": [
        "#instalação das bibliotecas\n",
        "\n",
        "install.packages('ggplot2')\n",
        "install.packages('ggplot')\n",
        "install.packages('tapply')"
      ],
      "metadata": {
        "colab": {
          "base_uri": "https://localhost:8080/"
        },
        "id": "BeUlMOrbPCsu",
        "outputId": "549ca0a8-fa7f-4894-b53b-f64ca87a9356"
      },
      "execution_count": 5,
      "outputs": [
        {
          "output_type": "stream",
          "name": "stderr",
          "text": [
            "Installing package into ‘/usr/local/lib/R/site-library’\n",
            "(as ‘lib’ is unspecified)\n",
            "\n",
            "Installing package into ‘/usr/local/lib/R/site-library’\n",
            "(as ‘lib’ is unspecified)\n",
            "\n",
            "Warning message:\n",
            "“package ‘ggplot’ is not available for this version of R\n",
            "\n",
            "A version of this package for your version of R might be available elsewhere,\n",
            "see the ideas at\n",
            "https://cran.r-project.org/doc/manuals/r-patched/R-admin.html#Installing-packages”\n",
            "Installing package into ‘/usr/local/lib/R/site-library’\n",
            "(as ‘lib’ is unspecified)\n",
            "\n",
            "Warning message:\n",
            "“package ‘tapply’ is not available for this version of R\n",
            "\n",
            "A version of this package for your version of R might be available elsewhere,\n",
            "see the ideas at\n",
            "https://cran.r-project.org/doc/manuals/r-patched/R-admin.html#Installing-packages”\n"
          ]
        }
      ]
    },
    {
      "cell_type": "code",
      "source": [
        "#importação das bibliotecas\n",
        "library(ggplot2)\n",
        "#library(ggplot)\n",
        "\n",
        "\n",
        "\n",
        "#library(tapply)\n"
      ],
      "metadata": {
        "id": "0JGg7o3iDq2-"
      },
      "execution_count": 8,
      "outputs": []
    },
    {
      "cell_type": "code",
      "source": [
        "## 1 IMPORTAÇÃO DOS DADOS\n",
        "\n",
        "dados<-read.csv('/content/dados.csv', sep=',')\n",
        "dados"
      ],
      "metadata": {
        "colab": {
          "base_uri": "https://localhost:8080/",
          "height": 1000
        },
        "id": "L8jjPavGRwNu",
        "outputId": "f4be8081-3929-4f1a-aa07-e3f50c254a72"
      },
      "execution_count": 9,
      "outputs": [
        {
          "output_type": "display_data",
          "data": {
            "text/html": [
              "<table class=\"dataframe\">\n",
              "<caption>A data.frame: 76840 × 7</caption>\n",
              "<thead>\n",
              "\t<tr><th scope=col>UF</th><th scope=col>Sexo</th><th scope=col>Idade</th><th scope=col>Cor</th><th scope=col>Anos.de.Estudo</th><th scope=col>Renda</th><th scope=col>Altura</th></tr>\n",
              "\t<tr><th scope=col>&lt;int&gt;</th><th scope=col>&lt;int&gt;</th><th scope=col>&lt;int&gt;</th><th scope=col>&lt;int&gt;</th><th scope=col>&lt;int&gt;</th><th scope=col>&lt;int&gt;</th><th scope=col>&lt;dbl&gt;</th></tr>\n",
              "</thead>\n",
              "<tbody>\n",
              "\t<tr><td>11</td><td>0</td><td>23</td><td>8</td><td>12</td><td> 800</td><td>1.603808</td></tr>\n",
              "\t<tr><td>11</td><td>1</td><td>23</td><td>2</td><td>12</td><td>1150</td><td>1.739790</td></tr>\n",
              "\t<tr><td>11</td><td>1</td><td>35</td><td>8</td><td>15</td><td> 880</td><td>1.760444</td></tr>\n",
              "\t<tr><td>11</td><td>0</td><td>46</td><td>2</td><td> 6</td><td>3500</td><td>1.783158</td></tr>\n",
              "\t<tr><td>11</td><td>1</td><td>47</td><td>8</td><td> 9</td><td> 150</td><td>1.690631</td></tr>\n",
              "\t<tr><td>11</td><td>1</td><td>34</td><td>8</td><td>12</td><td> 790</td><td>1.637906</td></tr>\n",
              "\t<tr><td>11</td><td>0</td><td>57</td><td>8</td><td>12</td><td>3150</td><td>1.570078</td></tr>\n",
              "\t<tr><td>11</td><td>1</td><td>60</td><td>8</td><td>12</td><td>1700</td><td>1.608495</td></tr>\n",
              "\t<tr><td>11</td><td>1</td><td>50</td><td>4</td><td>14</td><td>1800</td><td>1.780329</td></tr>\n",
              "\t<tr><td>11</td><td>0</td><td>26</td><td>8</td><td>12</td><td>1150</td><td>1.793203</td></tr>\n",
              "\t<tr><td>11</td><td>1</td><td>46</td><td>8</td><td>12</td><td>3000</td><td>1.787003</td></tr>\n",
              "\t<tr><td>11</td><td>1</td><td>49</td><td>8</td><td> 6</td><td>2500</td><td>1.712912</td></tr>\n",
              "\t<tr><td>11</td><td>1</td><td>52</td><td>2</td><td> 6</td><td>1200</td><td>1.736442</td></tr>\n",
              "\t<tr><td>11</td><td>0</td><td>38</td><td>8</td><td>12</td><td>2000</td><td>1.750827</td></tr>\n",
              "\t<tr><td>11</td><td>0</td><td>45</td><td>2</td><td>12</td><td>2000</td><td>1.780450</td></tr>\n",
              "\t<tr><td>11</td><td>0</td><td>34</td><td>2</td><td>16</td><td>6000</td><td>1.711825</td></tr>\n",
              "\t<tr><td>11</td><td>1</td><td>43</td><td>8</td><td>10</td><td>1050</td><td>1.789012</td></tr>\n",
              "\t<tr><td>11</td><td>0</td><td>53</td><td>8</td><td>16</td><td>7000</td><td>1.673665</td></tr>\n",
              "\t<tr><td>11</td><td>0</td><td>57</td><td>2</td><td>12</td><td>2000</td><td>1.715138</td></tr>\n",
              "\t<tr><td>11</td><td>1</td><td>62</td><td>8</td><td>12</td><td>1150</td><td>1.765973</td></tr>\n",
              "\t<tr><td>11</td><td>0</td><td>69</td><td>8</td><td> 1</td><td>3030</td><td>1.746351</td></tr>\n",
              "\t<tr><td>11</td><td>1</td><td>41</td><td>8</td><td>16</td><td>4000</td><td>1.660873</td></tr>\n",
              "\t<tr><td>11</td><td>0</td><td>34</td><td>8</td><td> 5</td><td> 788</td><td>1.746048</td></tr>\n",
              "\t<tr><td>11</td><td>0</td><td>25</td><td>8</td><td>12</td><td>1000</td><td>1.726496</td></tr>\n",
              "\t<tr><td>11</td><td>0</td><td>33</td><td>8</td><td> 9</td><td> 800</td><td>1.778914</td></tr>\n",
              "\t<tr><td>11</td><td>1</td><td>44</td><td>8</td><td> 5</td><td> 788</td><td>1.668638</td></tr>\n",
              "\t<tr><td>11</td><td>0</td><td>33</td><td>2</td><td>16</td><td>1600</td><td>1.783771</td></tr>\n",
              "\t<tr><td>11</td><td>0</td><td>65</td><td>2</td><td>12</td><td>1700</td><td>1.873445</td></tr>\n",
              "\t<tr><td>11</td><td>0</td><td>33</td><td>8</td><td>14</td><td>2000</td><td>1.890250</td></tr>\n",
              "\t<tr><td>11</td><td>0</td><td>32</td><td>8</td><td>12</td><td>2400</td><td>1.660204</td></tr>\n",
              "\t<tr><td>⋮</td><td>⋮</td><td>⋮</td><td>⋮</td><td>⋮</td><td>⋮</td><td>⋮</td></tr>\n",
              "\t<tr><td>53</td><td>0</td><td>34</td><td>4</td><td>12</td><td> 2500</td><td>1.802241</td></tr>\n",
              "\t<tr><td>53</td><td>1</td><td>57</td><td>2</td><td>11</td><td> 1000</td><td>1.823047</td></tr>\n",
              "\t<tr><td>53</td><td>1</td><td>32</td><td>4</td><td>12</td><td>  788</td><td>1.681405</td></tr>\n",
              "\t<tr><td>53</td><td>0</td><td>35</td><td>4</td><td> 9</td><td> 2100</td><td>1.671112</td></tr>\n",
              "\t<tr><td>53</td><td>1</td><td>49</td><td>8</td><td>12</td><td> 5260</td><td>1.799319</td></tr>\n",
              "\t<tr><td>53</td><td>0</td><td>51</td><td>8</td><td> 1</td><td> 5000</td><td>1.599400</td></tr>\n",
              "\t<tr><td>53</td><td>0</td><td>37</td><td>8</td><td>12</td><td>  950</td><td>1.620497</td></tr>\n",
              "\t<tr><td>53</td><td>0</td><td>47</td><td>8</td><td>12</td><td> 1109</td><td>1.920274</td></tr>\n",
              "\t<tr><td>53</td><td>0</td><td>27</td><td>8</td><td>10</td><td>  850</td><td>1.793074</td></tr>\n",
              "\t<tr><td>53</td><td>1</td><td>49</td><td>8</td><td> 9</td><td>  788</td><td>1.695710</td></tr>\n",
              "\t<tr><td>53</td><td>1</td><td>27</td><td>8</td><td>12</td><td>  866</td><td>1.729035</td></tr>\n",
              "\t<tr><td>53</td><td>0</td><td>20</td><td>2</td><td> 8</td><td> 1300</td><td>1.660409</td></tr>\n",
              "\t<tr><td>53</td><td>0</td><td>49</td><td>8</td><td>12</td><td> 8700</td><td>1.775182</td></tr>\n",
              "\t<tr><td>53</td><td>0</td><td>43</td><td>8</td><td>10</td><td> 5000</td><td>1.584493</td></tr>\n",
              "\t<tr><td>53</td><td>0</td><td>64</td><td>2</td><td>12</td><td> 5000</td><td>1.717452</td></tr>\n",
              "\t<tr><td>53</td><td>0</td><td>55</td><td>2</td><td>16</td><td>13000</td><td>1.729995</td></tr>\n",
              "\t<tr><td>53</td><td>0</td><td>39</td><td>2</td><td>12</td><td> 6000</td><td>1.739046</td></tr>\n",
              "\t<tr><td>53</td><td>1</td><td>41</td><td>2</td><td>16</td><td>10000</td><td>1.696208</td></tr>\n",
              "\t<tr><td>53</td><td>0</td><td>62</td><td>2</td><td>16</td><td>10000</td><td>1.817097</td></tr>\n",
              "\t<tr><td>53</td><td>0</td><td>42</td><td>8</td><td>12</td><td>32000</td><td>1.788923</td></tr>\n",
              "\t<tr><td>53</td><td>0</td><td>62</td><td>2</td><td>16</td><td> 3500</td><td>1.725379</td></tr>\n",
              "\t<tr><td>53</td><td>1</td><td>44</td><td>2</td><td>16</td><td>30000</td><td>1.783962</td></tr>\n",
              "\t<tr><td>53</td><td>1</td><td>49</td><td>2</td><td>12</td><td> 5000</td><td>1.757146</td></tr>\n",
              "\t<tr><td>53</td><td>0</td><td>30</td><td>4</td><td> 6</td><td> 1900</td><td>1.662560</td></tr>\n",
              "\t<tr><td>53</td><td>1</td><td>35</td><td>4</td><td> 1</td><td> 1100</td><td>1.741089</td></tr>\n",
              "\t<tr><td>53</td><td>1</td><td>46</td><td>2</td><td>11</td><td>  812</td><td>1.687030</td></tr>\n",
              "\t<tr><td>53</td><td>0</td><td>30</td><td>4</td><td> 7</td><td> 1500</td><td>1.792934</td></tr>\n",
              "\t<tr><td>53</td><td>0</td><td>32</td><td>8</td><td>12</td><td> 1300</td><td>1.830587</td></tr>\n",
              "\t<tr><td>53</td><td>0</td><td>57</td><td>8</td><td> 4</td><td> 1500</td><td>1.726344</td></tr>\n",
              "\t<tr><td>53</td><td>0</td><td>38</td><td>8</td><td> 4</td><td>  900</td><td>1.658305</td></tr>\n",
              "</tbody>\n",
              "</table>\n"
            ],
            "text/markdown": "\nA data.frame: 76840 × 7\n\n| UF &lt;int&gt; | Sexo &lt;int&gt; | Idade &lt;int&gt; | Cor &lt;int&gt; | Anos.de.Estudo &lt;int&gt; | Renda &lt;int&gt; | Altura &lt;dbl&gt; |\n|---|---|---|---|---|---|---|\n| 11 | 0 | 23 | 8 | 12 |  800 | 1.603808 |\n| 11 | 1 | 23 | 2 | 12 | 1150 | 1.739790 |\n| 11 | 1 | 35 | 8 | 15 |  880 | 1.760444 |\n| 11 | 0 | 46 | 2 |  6 | 3500 | 1.783158 |\n| 11 | 1 | 47 | 8 |  9 |  150 | 1.690631 |\n| 11 | 1 | 34 | 8 | 12 |  790 | 1.637906 |\n| 11 | 0 | 57 | 8 | 12 | 3150 | 1.570078 |\n| 11 | 1 | 60 | 8 | 12 | 1700 | 1.608495 |\n| 11 | 1 | 50 | 4 | 14 | 1800 | 1.780329 |\n| 11 | 0 | 26 | 8 | 12 | 1150 | 1.793203 |\n| 11 | 1 | 46 | 8 | 12 | 3000 | 1.787003 |\n| 11 | 1 | 49 | 8 |  6 | 2500 | 1.712912 |\n| 11 | 1 | 52 | 2 |  6 | 1200 | 1.736442 |\n| 11 | 0 | 38 | 8 | 12 | 2000 | 1.750827 |\n| 11 | 0 | 45 | 2 | 12 | 2000 | 1.780450 |\n| 11 | 0 | 34 | 2 | 16 | 6000 | 1.711825 |\n| 11 | 1 | 43 | 8 | 10 | 1050 | 1.789012 |\n| 11 | 0 | 53 | 8 | 16 | 7000 | 1.673665 |\n| 11 | 0 | 57 | 2 | 12 | 2000 | 1.715138 |\n| 11 | 1 | 62 | 8 | 12 | 1150 | 1.765973 |\n| 11 | 0 | 69 | 8 |  1 | 3030 | 1.746351 |\n| 11 | 1 | 41 | 8 | 16 | 4000 | 1.660873 |\n| 11 | 0 | 34 | 8 |  5 |  788 | 1.746048 |\n| 11 | 0 | 25 | 8 | 12 | 1000 | 1.726496 |\n| 11 | 0 | 33 | 8 |  9 |  800 | 1.778914 |\n| 11 | 1 | 44 | 8 |  5 |  788 | 1.668638 |\n| 11 | 0 | 33 | 2 | 16 | 1600 | 1.783771 |\n| 11 | 0 | 65 | 2 | 12 | 1700 | 1.873445 |\n| 11 | 0 | 33 | 8 | 14 | 2000 | 1.890250 |\n| 11 | 0 | 32 | 8 | 12 | 2400 | 1.660204 |\n| ⋮ | ⋮ | ⋮ | ⋮ | ⋮ | ⋮ | ⋮ |\n| 53 | 0 | 34 | 4 | 12 |  2500 | 1.802241 |\n| 53 | 1 | 57 | 2 | 11 |  1000 | 1.823047 |\n| 53 | 1 | 32 | 4 | 12 |   788 | 1.681405 |\n| 53 | 0 | 35 | 4 |  9 |  2100 | 1.671112 |\n| 53 | 1 | 49 | 8 | 12 |  5260 | 1.799319 |\n| 53 | 0 | 51 | 8 |  1 |  5000 | 1.599400 |\n| 53 | 0 | 37 | 8 | 12 |   950 | 1.620497 |\n| 53 | 0 | 47 | 8 | 12 |  1109 | 1.920274 |\n| 53 | 0 | 27 | 8 | 10 |   850 | 1.793074 |\n| 53 | 1 | 49 | 8 |  9 |   788 | 1.695710 |\n| 53 | 1 | 27 | 8 | 12 |   866 | 1.729035 |\n| 53 | 0 | 20 | 2 |  8 |  1300 | 1.660409 |\n| 53 | 0 | 49 | 8 | 12 |  8700 | 1.775182 |\n| 53 | 0 | 43 | 8 | 10 |  5000 | 1.584493 |\n| 53 | 0 | 64 | 2 | 12 |  5000 | 1.717452 |\n| 53 | 0 | 55 | 2 | 16 | 13000 | 1.729995 |\n| 53 | 0 | 39 | 2 | 12 |  6000 | 1.739046 |\n| 53 | 1 | 41 | 2 | 16 | 10000 | 1.696208 |\n| 53 | 0 | 62 | 2 | 16 | 10000 | 1.817097 |\n| 53 | 0 | 42 | 8 | 12 | 32000 | 1.788923 |\n| 53 | 0 | 62 | 2 | 16 |  3500 | 1.725379 |\n| 53 | 1 | 44 | 2 | 16 | 30000 | 1.783962 |\n| 53 | 1 | 49 | 2 | 12 |  5000 | 1.757146 |\n| 53 | 0 | 30 | 4 |  6 |  1900 | 1.662560 |\n| 53 | 1 | 35 | 4 |  1 |  1100 | 1.741089 |\n| 53 | 1 | 46 | 2 | 11 |   812 | 1.687030 |\n| 53 | 0 | 30 | 4 |  7 |  1500 | 1.792934 |\n| 53 | 0 | 32 | 8 | 12 |  1300 | 1.830587 |\n| 53 | 0 | 57 | 8 |  4 |  1500 | 1.726344 |\n| 53 | 0 | 38 | 8 |  4 |   900 | 1.658305 |\n\n",
            "text/latex": "A data.frame: 76840 × 7\n\\begin{tabular}{lllllll}\n UF & Sexo & Idade & Cor & Anos.de.Estudo & Renda & Altura\\\\\n <int> & <int> & <int> & <int> & <int> & <int> & <dbl>\\\\\n\\hline\n\t 11 & 0 & 23 & 8 & 12 &  800 & 1.603808\\\\\n\t 11 & 1 & 23 & 2 & 12 & 1150 & 1.739790\\\\\n\t 11 & 1 & 35 & 8 & 15 &  880 & 1.760444\\\\\n\t 11 & 0 & 46 & 2 &  6 & 3500 & 1.783158\\\\\n\t 11 & 1 & 47 & 8 &  9 &  150 & 1.690631\\\\\n\t 11 & 1 & 34 & 8 & 12 &  790 & 1.637906\\\\\n\t 11 & 0 & 57 & 8 & 12 & 3150 & 1.570078\\\\\n\t 11 & 1 & 60 & 8 & 12 & 1700 & 1.608495\\\\\n\t 11 & 1 & 50 & 4 & 14 & 1800 & 1.780329\\\\\n\t 11 & 0 & 26 & 8 & 12 & 1150 & 1.793203\\\\\n\t 11 & 1 & 46 & 8 & 12 & 3000 & 1.787003\\\\\n\t 11 & 1 & 49 & 8 &  6 & 2500 & 1.712912\\\\\n\t 11 & 1 & 52 & 2 &  6 & 1200 & 1.736442\\\\\n\t 11 & 0 & 38 & 8 & 12 & 2000 & 1.750827\\\\\n\t 11 & 0 & 45 & 2 & 12 & 2000 & 1.780450\\\\\n\t 11 & 0 & 34 & 2 & 16 & 6000 & 1.711825\\\\\n\t 11 & 1 & 43 & 8 & 10 & 1050 & 1.789012\\\\\n\t 11 & 0 & 53 & 8 & 16 & 7000 & 1.673665\\\\\n\t 11 & 0 & 57 & 2 & 12 & 2000 & 1.715138\\\\\n\t 11 & 1 & 62 & 8 & 12 & 1150 & 1.765973\\\\\n\t 11 & 0 & 69 & 8 &  1 & 3030 & 1.746351\\\\\n\t 11 & 1 & 41 & 8 & 16 & 4000 & 1.660873\\\\\n\t 11 & 0 & 34 & 8 &  5 &  788 & 1.746048\\\\\n\t 11 & 0 & 25 & 8 & 12 & 1000 & 1.726496\\\\\n\t 11 & 0 & 33 & 8 &  9 &  800 & 1.778914\\\\\n\t 11 & 1 & 44 & 8 &  5 &  788 & 1.668638\\\\\n\t 11 & 0 & 33 & 2 & 16 & 1600 & 1.783771\\\\\n\t 11 & 0 & 65 & 2 & 12 & 1700 & 1.873445\\\\\n\t 11 & 0 & 33 & 8 & 14 & 2000 & 1.890250\\\\\n\t 11 & 0 & 32 & 8 & 12 & 2400 & 1.660204\\\\\n\t ⋮ & ⋮ & ⋮ & ⋮ & ⋮ & ⋮ & ⋮\\\\\n\t 53 & 0 & 34 & 4 & 12 &  2500 & 1.802241\\\\\n\t 53 & 1 & 57 & 2 & 11 &  1000 & 1.823047\\\\\n\t 53 & 1 & 32 & 4 & 12 &   788 & 1.681405\\\\\n\t 53 & 0 & 35 & 4 &  9 &  2100 & 1.671112\\\\\n\t 53 & 1 & 49 & 8 & 12 &  5260 & 1.799319\\\\\n\t 53 & 0 & 51 & 8 &  1 &  5000 & 1.599400\\\\\n\t 53 & 0 & 37 & 8 & 12 &   950 & 1.620497\\\\\n\t 53 & 0 & 47 & 8 & 12 &  1109 & 1.920274\\\\\n\t 53 & 0 & 27 & 8 & 10 &   850 & 1.793074\\\\\n\t 53 & 1 & 49 & 8 &  9 &   788 & 1.695710\\\\\n\t 53 & 1 & 27 & 8 & 12 &   866 & 1.729035\\\\\n\t 53 & 0 & 20 & 2 &  8 &  1300 & 1.660409\\\\\n\t 53 & 0 & 49 & 8 & 12 &  8700 & 1.775182\\\\\n\t 53 & 0 & 43 & 8 & 10 &  5000 & 1.584493\\\\\n\t 53 & 0 & 64 & 2 & 12 &  5000 & 1.717452\\\\\n\t 53 & 0 & 55 & 2 & 16 & 13000 & 1.729995\\\\\n\t 53 & 0 & 39 & 2 & 12 &  6000 & 1.739046\\\\\n\t 53 & 1 & 41 & 2 & 16 & 10000 & 1.696208\\\\\n\t 53 & 0 & 62 & 2 & 16 & 10000 & 1.817097\\\\\n\t 53 & 0 & 42 & 8 & 12 & 32000 & 1.788923\\\\\n\t 53 & 0 & 62 & 2 & 16 &  3500 & 1.725379\\\\\n\t 53 & 1 & 44 & 2 & 16 & 30000 & 1.783962\\\\\n\t 53 & 1 & 49 & 2 & 12 &  5000 & 1.757146\\\\\n\t 53 & 0 & 30 & 4 &  6 &  1900 & 1.662560\\\\\n\t 53 & 1 & 35 & 4 &  1 &  1100 & 1.741089\\\\\n\t 53 & 1 & 46 & 2 & 11 &   812 & 1.687030\\\\\n\t 53 & 0 & 30 & 4 &  7 &  1500 & 1.792934\\\\\n\t 53 & 0 & 32 & 8 & 12 &  1300 & 1.830587\\\\\n\t 53 & 0 & 57 & 8 &  4 &  1500 & 1.726344\\\\\n\t 53 & 0 & 38 & 8 &  4 &   900 & 1.658305\\\\\n\\end{tabular}\n",
            "text/plain": [
              "      UF Sexo Idade Cor Anos.de.Estudo Renda Altura  \n",
              "1     11 0    23    8   12              800  1.603808\n",
              "2     11 1    23    2   12             1150  1.739790\n",
              "3     11 1    35    8   15              880  1.760444\n",
              "4     11 0    46    2    6             3500  1.783158\n",
              "5     11 1    47    8    9              150  1.690631\n",
              "6     11 1    34    8   12              790  1.637906\n",
              "7     11 0    57    8   12             3150  1.570078\n",
              "8     11 1    60    8   12             1700  1.608495\n",
              "9     11 1    50    4   14             1800  1.780329\n",
              "10    11 0    26    8   12             1150  1.793203\n",
              "11    11 1    46    8   12             3000  1.787003\n",
              "12    11 1    49    8    6             2500  1.712912\n",
              "13    11 1    52    2    6             1200  1.736442\n",
              "14    11 0    38    8   12             2000  1.750827\n",
              "15    11 0    45    2   12             2000  1.780450\n",
              "16    11 0    34    2   16             6000  1.711825\n",
              "17    11 1    43    8   10             1050  1.789012\n",
              "18    11 0    53    8   16             7000  1.673665\n",
              "19    11 0    57    2   12             2000  1.715138\n",
              "20    11 1    62    8   12             1150  1.765973\n",
              "21    11 0    69    8    1             3030  1.746351\n",
              "22    11 1    41    8   16             4000  1.660873\n",
              "23    11 0    34    8    5              788  1.746048\n",
              "24    11 0    25    8   12             1000  1.726496\n",
              "25    11 0    33    8    9              800  1.778914\n",
              "26    11 1    44    8    5              788  1.668638\n",
              "27    11 0    33    2   16             1600  1.783771\n",
              "28    11 0    65    2   12             1700  1.873445\n",
              "29    11 0    33    8   14             2000  1.890250\n",
              "30    11 0    32    8   12             2400  1.660204\n",
              "⋮     ⋮  ⋮    ⋮     ⋮   ⋮              ⋮     ⋮       \n",
              "76811 53 0    34    4   12              2500 1.802241\n",
              "76812 53 1    57    2   11              1000 1.823047\n",
              "76813 53 1    32    4   12               788 1.681405\n",
              "76814 53 0    35    4    9              2100 1.671112\n",
              "76815 53 1    49    8   12              5260 1.799319\n",
              "76816 53 0    51    8    1              5000 1.599400\n",
              "76817 53 0    37    8   12               950 1.620497\n",
              "76818 53 0    47    8   12              1109 1.920274\n",
              "76819 53 0    27    8   10               850 1.793074\n",
              "76820 53 1    49    8    9               788 1.695710\n",
              "76821 53 1    27    8   12               866 1.729035\n",
              "76822 53 0    20    2    8              1300 1.660409\n",
              "76823 53 0    49    8   12              8700 1.775182\n",
              "76824 53 0    43    8   10              5000 1.584493\n",
              "76825 53 0    64    2   12              5000 1.717452\n",
              "76826 53 0    55    2   16             13000 1.729995\n",
              "76827 53 0    39    2   12              6000 1.739046\n",
              "76828 53 1    41    2   16             10000 1.696208\n",
              "76829 53 0    62    2   16             10000 1.817097\n",
              "76830 53 0    42    8   12             32000 1.788923\n",
              "76831 53 0    62    2   16              3500 1.725379\n",
              "76832 53 1    44    2   16             30000 1.783962\n",
              "76833 53 1    49    2   12              5000 1.757146\n",
              "76834 53 0    30    4    6              1900 1.662560\n",
              "76835 53 1    35    4    1              1100 1.741089\n",
              "76836 53 1    46    2   11               812 1.687030\n",
              "76837 53 0    30    4    7              1500 1.792934\n",
              "76838 53 0    32    8   12              1300 1.830587\n",
              "76839 53 0    57    8    4              1500 1.726344\n",
              "76840 53 0    38    8    4               900 1.658305"
            ]
          },
          "metadata": {}
        }
      ]
    },
    {
      "cell_type": "code",
      "source": [
        "head(dados)"
      ],
      "metadata": {
        "id": "VUq6lR7rSTPA",
        "outputId": "21a7c65a-ee44-4f08-eddb-151335e6e6d3",
        "colab": {
          "base_uri": "https://localhost:8080/",
          "height": 286
        }
      },
      "execution_count": 10,
      "outputs": [
        {
          "output_type": "display_data",
          "data": {
            "text/html": [
              "<table class=\"dataframe\">\n",
              "<caption>A data.frame: 6 × 7</caption>\n",
              "<thead>\n",
              "\t<tr><th></th><th scope=col>UF</th><th scope=col>Sexo</th><th scope=col>Idade</th><th scope=col>Cor</th><th scope=col>Anos.de.Estudo</th><th scope=col>Renda</th><th scope=col>Altura</th></tr>\n",
              "\t<tr><th></th><th scope=col>&lt;int&gt;</th><th scope=col>&lt;int&gt;</th><th scope=col>&lt;int&gt;</th><th scope=col>&lt;int&gt;</th><th scope=col>&lt;int&gt;</th><th scope=col>&lt;int&gt;</th><th scope=col>&lt;dbl&gt;</th></tr>\n",
              "</thead>\n",
              "<tbody>\n",
              "\t<tr><th scope=row>1</th><td>11</td><td>0</td><td>23</td><td>8</td><td>12</td><td> 800</td><td>1.603808</td></tr>\n",
              "\t<tr><th scope=row>2</th><td>11</td><td>1</td><td>23</td><td>2</td><td>12</td><td>1150</td><td>1.739790</td></tr>\n",
              "\t<tr><th scope=row>3</th><td>11</td><td>1</td><td>35</td><td>8</td><td>15</td><td> 880</td><td>1.760444</td></tr>\n",
              "\t<tr><th scope=row>4</th><td>11</td><td>0</td><td>46</td><td>2</td><td> 6</td><td>3500</td><td>1.783158</td></tr>\n",
              "\t<tr><th scope=row>5</th><td>11</td><td>1</td><td>47</td><td>8</td><td> 9</td><td> 150</td><td>1.690631</td></tr>\n",
              "\t<tr><th scope=row>6</th><td>11</td><td>1</td><td>34</td><td>8</td><td>12</td><td> 790</td><td>1.637906</td></tr>\n",
              "</tbody>\n",
              "</table>\n"
            ],
            "text/markdown": "\nA data.frame: 6 × 7\n\n| <!--/--> | UF &lt;int&gt; | Sexo &lt;int&gt; | Idade &lt;int&gt; | Cor &lt;int&gt; | Anos.de.Estudo &lt;int&gt; | Renda &lt;int&gt; | Altura &lt;dbl&gt; |\n|---|---|---|---|---|---|---|---|\n| 1 | 11 | 0 | 23 | 8 | 12 |  800 | 1.603808 |\n| 2 | 11 | 1 | 23 | 2 | 12 | 1150 | 1.739790 |\n| 3 | 11 | 1 | 35 | 8 | 15 |  880 | 1.760444 |\n| 4 | 11 | 0 | 46 | 2 |  6 | 3500 | 1.783158 |\n| 5 | 11 | 1 | 47 | 8 |  9 |  150 | 1.690631 |\n| 6 | 11 | 1 | 34 | 8 | 12 |  790 | 1.637906 |\n\n",
            "text/latex": "A data.frame: 6 × 7\n\\begin{tabular}{r|lllllll}\n  & UF & Sexo & Idade & Cor & Anos.de.Estudo & Renda & Altura\\\\\n  & <int> & <int> & <int> & <int> & <int> & <int> & <dbl>\\\\\n\\hline\n\t1 & 11 & 0 & 23 & 8 & 12 &  800 & 1.603808\\\\\n\t2 & 11 & 1 & 23 & 2 & 12 & 1150 & 1.739790\\\\\n\t3 & 11 & 1 & 35 & 8 & 15 &  880 & 1.760444\\\\\n\t4 & 11 & 0 & 46 & 2 &  6 & 3500 & 1.783158\\\\\n\t5 & 11 & 1 & 47 & 8 &  9 &  150 & 1.690631\\\\\n\t6 & 11 & 1 & 34 & 8 & 12 &  790 & 1.637906\\\\\n\\end{tabular}\n",
            "text/plain": [
              "  UF Sexo Idade Cor Anos.de.Estudo Renda Altura  \n",
              "1 11 0    23    8   12              800  1.603808\n",
              "2 11 1    23    2   12             1150  1.739790\n",
              "3 11 1    35    8   15              880  1.760444\n",
              "4 11 0    46    2    6             3500  1.783158\n",
              "5 11 1    47    8    9              150  1.690631\n",
              "6 11 1    34    8   12              790  1.637906"
            ]
          },
          "metadata": {}
        }
      ]
    },
    {
      "cell_type": "code",
      "source": [
        "## 2 DISTRIBUIÇÃO DE FREQUENCIAS DA VARIÁVEL RENDA\n",
        "\"\n",
        "Para avaliar o comportamento da variável RENDA vamos construir uma tabela de frequências considerando as seguintes classes em salários mínimos (SM)\n",
        "Descreva os pontos mais relevantes que você observa na tabela e no gráfico.\n",
        "Classes de renda:\n",
        "\n",
        "A ► Acima de 25 SM\n",
        "\n",
        "B ► De 15 a 25 SM\n",
        "\n",
        "C ► De 5 a 15 SM\n",
        "\n",
        "D ► De 2 a 5 SM\n",
        "\n",
        "E ► Até 2 SM\n",
        "\n",
        "Para construir as classes de renda considere que o salário mínimo na época da pesquisa era de R$ 788,00.\n",
        "\n",
        "\"\n",
        "\n",
        "#2.1 DEFINIR O INTERVALO DAS CLASSES EM REAIS\n",
        "\n",
        "\n",
        "classes<-c(min(dados$Renda),\n",
        "           2 * 788,\n",
        "           5 * 788,\n",
        "           15 * 788,\n",
        "           25 * 788,\n",
        "           max(dados$Renda)\n",
        ")\n",
        "\n",
        "classes"
      ],
      "metadata": {
        "colab": {
          "base_uri": "https://localhost:8080/",
          "height": 104
        },
        "id": "sQRHfjz2EPPw",
        "outputId": "7c001ccb-9bf1-40c1-a406-19ca8b2ed7ef"
      },
      "execution_count": 12,
      "outputs": [
        {
          "output_type": "display_data",
          "data": {
            "text/html": [
              "'\\nPara avaliar o comportamento da variável RENDA vamos construir uma tabela de frequências considerando as seguintes classes em salários mínimos (SM)\\nDescreva os pontos mais relevantes que você observa na tabela e no gráfico.\\nClasses de renda:\\n\\nA ► Acima de 25 SM\\n\\nB ► De 15 a 25 SM\\n\\nC ► De 5 a 15 SM\\n\\nD ► De 2 a 5 SM\\n\\nE ► Até 2 SM\\n\\nPara construir as classes de renda considere que o salário mínimo na época da pesquisa era de R$ 788,00.\\n\\n'"
            ],
            "text/markdown": "'\\nPara avaliar o comportamento da variável RENDA vamos construir uma tabela de frequências considerando as seguintes classes em salários mínimos (SM)\\nDescreva os pontos mais relevantes que você observa na tabela e no gráfico.\\nClasses de renda:\\n\\nA ► Acima de 25 SM\\n\\nB ► De 15 a 25 SM\\n\\nC ► De 5 a 15 SM\\n\\nD ► De 2 a 5 SM\\n\\nE ► Até 2 SM\\n\\nPara construir as classes de renda considere que o salário mínimo na época da pesquisa era de R$ 788,00.\\n\\n'",
            "text/latex": "'\\textbackslash{}nPara avaliar o comportamento da variável RENDA vamos construir uma tabela de frequências considerando as seguintes classes em salários mínimos (SM)\\textbackslash{}nDescreva os pontos mais relevantes que você observa na tabela e no gráfico.\\textbackslash{}nClasses de renda:\\textbackslash{}n\\textbackslash{}nA ► Acima de 25 SM\\textbackslash{}n\\textbackslash{}nB ► De 15 a 25 SM\\textbackslash{}n\\textbackslash{}nC ► De 5 a 15 SM\\textbackslash{}n\\textbackslash{}nD ► De 2 a 5 SM\\textbackslash{}n\\textbackslash{}nE ► Até 2 SM\\textbackslash{}n\\textbackslash{}nPara construir as classes de renda considere que o salário mínimo na época da pesquisa era de R\\$ 788,00.\\textbackslash{}n\\textbackslash{}n'",
            "text/plain": [
              "[1] \"\\nPara avaliar o comportamento da variável RENDA vamos construir uma tabela de frequências considerando as seguintes classes em salários mínimos (SM)\\nDescreva os pontos mais relevantes que você observa na tabela e no gráfico.\\nClasses de renda:\\n\\nA ► Acima de 25 SM\\n\\nB ► De 15 a 25 SM\\n\\nC ► De 5 a 15 SM\\n\\nD ► De 2 a 5 SM\\n\\nE ► Até 2 SM\\n\\nPara construir as classes de renda considere que o salário mínimo na época da pesquisa era de R$ 788,00.\\n\\n\""
            ]
          },
          "metadata": {}
        },
        {
          "output_type": "display_data",
          "data": {
            "text/html": [
              "<style>\n",
              ".list-inline {list-style: none; margin:0; padding: 0}\n",
              ".list-inline>li {display: inline-block}\n",
              ".list-inline>li:not(:last-child)::after {content: \"\\00b7\"; padding: 0 .5ex}\n",
              "</style>\n",
              "<ol class=list-inline><li>0</li><li>1576</li><li>3940</li><li>11820</li><li>19700</li><li>2e+05</li></ol>\n"
            ],
            "text/markdown": "1. 0\n2. 1576\n3. 3940\n4. 11820\n5. 19700\n6. 2e+05\n\n\n",
            "text/latex": "\\begin{enumerate*}\n\\item 0\n\\item 1576\n\\item 3940\n\\item 11820\n\\item 19700\n\\item 2e+05\n\\end{enumerate*}\n",
            "text/plain": [
              "[1]      0   1576   3940  11820  19700 200000"
            ]
          },
          "metadata": {}
        }
      ]
    },
    {
      "cell_type": "code",
      "source": [
        "# 2.2 Definir os labels das classes# 2º Definir os labels das classes\n",
        "\n",
        "labels<-c('E','D','C','B','A')\n"
      ],
      "metadata": {
        "id": "ZUrG3JVMEfBA"
      },
      "execution_count": 13,
      "outputs": []
    },
    {
      "cell_type": "code",
      "source": [
        "#2.3 DEFININDO A COLUNA DE FREQUENCIAS\n",
        "\n",
        "frequencia<-table(\n",
        "  cut(\n",
        "  x=dados$Renda,\n",
        "  breaks = classes,\n",
        "  labels=labels,\n",
        "  include.lowest=TRUE\n",
        "  )\n",
        ")\n",
        "\n",
        "  frequencia"
      ],
      "metadata": {
        "colab": {
          "base_uri": "https://localhost:8080/",
          "height": 69
        },
        "id": "C9mGaxuXEfMn",
        "outputId": "4050da3e-ec40-453f-d58b-176120f70fb9"
      },
      "execution_count": 14,
      "outputs": [
        {
          "output_type": "display_data",
          "data": {
            "text/plain": [
              "\n",
              "    E     D     C     B     A \n",
              "49755 18602  7241   822   420 "
            ]
          },
          "metadata": {}
        }
      ]
    },
    {
      "cell_type": "code",
      "source": [
        "\n",
        "#2.3 DEFININDO A COLUNA DE FREQUENCIAS E PORCENTAGEM\n",
        "  percentual<-round(prop.table(frequencia)*100,2)\n",
        "percentual"
      ],
      "metadata": {
        "colab": {
          "base_uri": "https://localhost:8080/",
          "height": 69
        },
        "id": "6qyOiPXWEqZQ",
        "outputId": "28ab980d-7d75-4307-f66b-2d5799a25f0f"
      },
      "execution_count": 15,
      "outputs": [
        {
          "output_type": "display_data",
          "data": {
            "text/plain": [
              "\n",
              "    E     D     C     B     A \n",
              "64.75 24.21  9.42  1.07  0.55 "
            ]
          },
          "metadata": {}
        }
      ]
    },
    {
      "cell_type": "code",
      "source": [
        "# 2.4 Construir a coluna de percentuais\n",
        "\n",
        "dist_freq_tab<-cbind('Frequência'=frequencia, 'Porcentagem %'=percentual)\n",
        "dist_freq_tab\n"
      ],
      "metadata": {
        "colab": {
          "base_uri": "https://localhost:8080/",
          "height": 223
        },
        "id": "aNuxPcL8Eqkd",
        "outputId": "f7b403c3-fe03-4a8e-a6f5-692bd0d84314"
      },
      "execution_count": 21,
      "outputs": [
        {
          "output_type": "display_data",
          "data": {
            "text/html": [
              "<table class=\"dataframe\">\n",
              "<caption>A matrix: 5 × 2 of type dbl</caption>\n",
              "<thead>\n",
              "\t<tr><th></th><th scope=col>Frequência</th><th scope=col>Porcentagem %</th></tr>\n",
              "</thead>\n",
              "<tbody>\n",
              "\t<tr><th scope=row>E</th><td>49755</td><td>64.75</td></tr>\n",
              "\t<tr><th scope=row>D</th><td>18602</td><td>24.21</td></tr>\n",
              "\t<tr><th scope=row>C</th><td> 7241</td><td> 9.42</td></tr>\n",
              "\t<tr><th scope=row>B</th><td>  822</td><td> 1.07</td></tr>\n",
              "\t<tr><th scope=row>A</th><td>  420</td><td> 0.55</td></tr>\n",
              "</tbody>\n",
              "</table>\n"
            ],
            "text/markdown": "\nA matrix: 5 × 2 of type dbl\n\n| <!--/--> | Frequência | Porcentagem % |\n|---|---|---|\n| E | 49755 | 64.75 |\n| D | 18602 | 24.21 |\n| C |  7241 |  9.42 |\n| B |   822 |  1.07 |\n| A |   420 |  0.55 |\n\n",
            "text/latex": "A matrix: 5 × 2 of type dbl\n\\begin{tabular}{r|ll}\n  & Frequência & Porcentagem \\%\\\\\n\\hline\n\tE & 49755 & 64.75\\\\\n\tD & 18602 & 24.21\\\\\n\tC &  7241 &  9.42\\\\\n\tB &   822 &  1.07\\\\\n\tA &   420 &  0.55\\\\\n\\end{tabular}\n",
            "text/plain": [
              "  Frequência Porcentagem %\n",
              "E 49755      64.75        \n",
              "D 18602      24.21        \n",
              "C  7241       9.42        \n",
              "B   822       1.07        \n",
              "A   420       0.55        "
            ]
          },
          "metadata": {}
        }
      ]
    },
    {
      "cell_type": "code",
      "source": [
        "# 2.5 Juntar as colunas de frequência e percentuais e ordenar as linhas de acordo com os labels das classes\n",
        "\n",
        "dist_freq_tab[order(row.names(dist_freq_tab)),\n",
        "  ]"
      ],
      "metadata": {
        "colab": {
          "base_uri": "https://localhost:8080/",
          "height": 223
        },
        "id": "BC6_qXviEucW",
        "outputId": "5b92ec5e-17f1-4987-ee19-40e0c7ac168f"
      },
      "execution_count": 19,
      "outputs": [
        {
          "output_type": "display_data",
          "data": {
            "text/html": [
              "<table class=\"dataframe\">\n",
              "<caption>A matrix: 5 × 2 of type dbl</caption>\n",
              "<thead>\n",
              "\t<tr><th></th><th scope=col>Frequência</th><th scope=col>Porcentagem %</th></tr>\n",
              "</thead>\n",
              "<tbody>\n",
              "\t<tr><th scope=row>A</th><td>  420</td><td> 0.55</td></tr>\n",
              "\t<tr><th scope=row>B</th><td>  822</td><td> 1.07</td></tr>\n",
              "\t<tr><th scope=row>C</th><td> 7241</td><td> 9.42</td></tr>\n",
              "\t<tr><th scope=row>D</th><td>18602</td><td>24.21</td></tr>\n",
              "\t<tr><th scope=row>E</th><td>49755</td><td>64.75</td></tr>\n",
              "</tbody>\n",
              "</table>\n"
            ],
            "text/markdown": "\nA matrix: 5 × 2 of type dbl\n\n| <!--/--> | Frequência | Porcentagem % |\n|---|---|---|\n| A |   420 |  0.55 |\n| B |   822 |  1.07 |\n| C |  7241 |  9.42 |\n| D | 18602 | 24.21 |\n| E | 49755 | 64.75 |\n\n",
            "text/latex": "A matrix: 5 × 2 of type dbl\n\\begin{tabular}{r|ll}\n  & Frequência & Porcentagem \\%\\\\\n\\hline\n\tA &   420 &  0.55\\\\\n\tB &   822 &  1.07\\\\\n\tC &  7241 &  9.42\\\\\n\tD & 18602 & 24.21\\\\\n\tE & 49755 & 64.75\\\\\n\\end{tabular}\n",
            "text/plain": [
              "  Frequência Porcentagem %\n",
              "A   420       0.55        \n",
              "B   822       1.07        \n",
              "C  7241       9.42        \n",
              "D 18602      24.21        \n",
              "E 49755      64.75        "
            ]
          },
          "metadata": {}
        }
      ]
    },
    {
      "cell_type": "code",
      "source": [
        "#2.6 Construa um gráfico de barras para visualizar as informações da tabela de frequências acima\n",
        "\n",
        "\n",
        "\n",
        "bar_chat<-data.frame(dist_freq_tab)\n",
        "bar_chat\n",
        "\n",
        "\n",
        "\n",
        "ggplot(\n",
        "  \n",
        "  bar_chat,\n",
        "  aes(x=row.names(bar_chat),\n",
        "      y=bar_chat$Frequência)) +\n",
        "    geom_bar(stat='identity')+\n",
        "    ylab('Freqência')+\n",
        "    xlab('Classes de Renda')+\n",
        "    ggtitle('Gráficos Classes de Renda')"
      ],
      "metadata": {
        "colab": {
          "base_uri": "https://localhost:8080/",
          "height": 675
        },
        "id": "X7uaezuzE0Lw",
        "outputId": "c968f9ce-498a-4a7c-d00c-54fce2999b08"
      },
      "execution_count": 23,
      "outputs": [
        {
          "output_type": "display_data",
          "data": {
            "text/html": [
              "<table class=\"dataframe\">\n",
              "<caption>A data.frame: 5 × 2</caption>\n",
              "<thead>\n",
              "\t<tr><th></th><th scope=col>Frequência</th><th scope=col>Porcentagem..</th></tr>\n",
              "\t<tr><th></th><th scope=col>&lt;dbl&gt;</th><th scope=col>&lt;dbl&gt;</th></tr>\n",
              "</thead>\n",
              "<tbody>\n",
              "\t<tr><th scope=row>E</th><td>49755</td><td>64.75</td></tr>\n",
              "\t<tr><th scope=row>D</th><td>18602</td><td>24.21</td></tr>\n",
              "\t<tr><th scope=row>C</th><td> 7241</td><td> 9.42</td></tr>\n",
              "\t<tr><th scope=row>B</th><td>  822</td><td> 1.07</td></tr>\n",
              "\t<tr><th scope=row>A</th><td>  420</td><td> 0.55</td></tr>\n",
              "</tbody>\n",
              "</table>\n"
            ],
            "text/markdown": "\nA data.frame: 5 × 2\n\n| <!--/--> | Frequência &lt;dbl&gt; | Porcentagem.. &lt;dbl&gt; |\n|---|---|---|\n| E | 49755 | 64.75 |\n| D | 18602 | 24.21 |\n| C |  7241 |  9.42 |\n| B |   822 |  1.07 |\n| A |   420 |  0.55 |\n\n",
            "text/latex": "A data.frame: 5 × 2\n\\begin{tabular}{r|ll}\n  & Frequência & Porcentagem..\\\\\n  & <dbl> & <dbl>\\\\\n\\hline\n\tE & 49755 & 64.75\\\\\n\tD & 18602 & 24.21\\\\\n\tC &  7241 &  9.42\\\\\n\tB &   822 &  1.07\\\\\n\tA &   420 &  0.55\\\\\n\\end{tabular}\n",
            "text/plain": [
              "  Frequência Porcentagem..\n",
              "E 49755      64.75        \n",
              "D 18602      24.21        \n",
              "C  7241       9.42        \n",
              "B   822       1.07        \n",
              "A   420       0.55        "
            ]
          },
          "metadata": {}
        },
        {
          "output_type": "display_data",
          "data": {
            "text/plain": [
              "plot without title"
            ],
            "image/png": "[encoded data removed]"
          },
          "metadata": {
            "image/png": {
              "width": 420,
              "height": 420
            }
          }
        }
      ]
    },
    {
      "cell_type": "code",
      "source": [
        "# CONCLUSÕES \n",
        "\"Conclui-se que a clasee A possui a maior renda da população, contudo, apenas 0.55% da população se enquandra nesta classe, a qual posssui renda igual ou superior a 25 sálarios mínimos\""
      ],
      "metadata": {
        "colab": {
          "base_uri": "https://localhost:8080/",
          "height": 52
        },
        "id": "WtBzXDomE0Sx",
        "outputId": "459f10d0-175e-4ce5-d74f-fa69a34f410f"
      },
      "execution_count": 42,
      "outputs": [
        {
          "output_type": "display_data",
          "data": {
            "text/html": [
              "'Conclui-se que a clasee A possui a maior renda da população, contudo, apenas 0.55% da população se enquandra nesta classe, a qual posssui renda igual ou superior a 25 sálarios mínimos'"
            ],
            "text/markdown": "'Conclui-se que a clasee A possui a maior renda da população, contudo, apenas 0.55% da população se enquandra nesta classe, a qual posssui renda igual ou superior a 25 sálarios mínimos'",
            "text/latex": "'Conclui-se que a clasee A possui a maior renda da população, contudo, apenas 0.55\\% da população se enquandra nesta classe, a qual posssui renda igual ou superior a 25 sálarios mínimos'",
            "text/plain": [
              "[1] \"Conclui-se que a clasee A possui a maior renda da população, contudo, apenas 0.55% da população se enquandra nesta classe, a qual posssui renda igual ou superior a 25 sálarios mínimos\""
            ]
          },
          "metadata": {}
        }
      ]
    },
    {
      "cell_type": "code",
      "source": [
        "#3 Crie um histograma para as variáveis QUANTITATIVAS de nosso dataset\n",
        "\n",
        "\n",
        "\n",
        "#3.1 HISTOGRAMAS\n",
        "#3.11 IDADE\n",
        "\n",
        "dados\n",
        "\n",
        "\n",
        "ggplot(dados, aes(x = Idade)) + \n",
        "  geom_histogram(bins = 50) + \n",
        "  ylab(\"Frequência\") + \n",
        "  xlab(\"Idades\") + \n",
        "  ggtitle('Histograma das Idades')"
      ],
      "metadata": {
        "colab": {
          "base_uri": "https://localhost:8080/",
          "height": 1000
        },
        "id": "hnGM6A1nFdGz",
        "outputId": "d46e85cf-3268-4f7d-a5dc-bef5b872ad84"
      },
      "execution_count": 25,
      "outputs": [
        {
          "output_type": "display_data",
          "data": {
            "text/html": [
              "<table class=\"dataframe\">\n",
              "<caption>A data.frame: 76840 × 7</caption>\n",
              "<thead>\n",
              "\t<tr><th scope=col>UF</th><th scope=col>Sexo</th><th scope=col>Idade</th><th scope=col>Cor</th><th scope=col>Anos.de.Estudo</th><th scope=col>Renda</th><th scope=col>Altura</th></tr>\n",
              "\t<tr><th scope=col>&lt;int&gt;</th><th scope=col>&lt;int&gt;</th><th scope=col>&lt;int&gt;</th><th scope=col>&lt;int&gt;</th><th scope=col>&lt;int&gt;</th><th scope=col>&lt;int&gt;</th><th scope=col>&lt;dbl&gt;</th></tr>\n",
              "</thead>\n",
              "<tbody>\n",
              "\t<tr><td>11</td><td>0</td><td>23</td><td>8</td><td>12</td><td> 800</td><td>1.603808</td></tr>\n",
              "\t<tr><td>11</td><td>1</td><td>23</td><td>2</td><td>12</td><td>1150</td><td>1.739790</td></tr>\n",
              "\t<tr><td>11</td><td>1</td><td>35</td><td>8</td><td>15</td><td> 880</td><td>1.760444</td></tr>\n",
              "\t<tr><td>11</td><td>0</td><td>46</td><td>2</td><td> 6</td><td>3500</td><td>1.783158</td></tr>\n",
              "\t<tr><td>11</td><td>1</td><td>47</td><td>8</td><td> 9</td><td> 150</td><td>1.690631</td></tr>\n",
              "\t<tr><td>11</td><td>1</td><td>34</td><td>8</td><td>12</td><td> 790</td><td>1.637906</td></tr>\n",
              "\t<tr><td>11</td><td>0</td><td>57</td><td>8</td><td>12</td><td>3150</td><td>1.570078</td></tr>\n",
              "\t<tr><td>11</td><td>1</td><td>60</td><td>8</td><td>12</td><td>1700</td><td>1.608495</td></tr>\n",
              "\t<tr><td>11</td><td>1</td><td>50</td><td>4</td><td>14</td><td>1800</td><td>1.780329</td></tr>\n",
              "\t<tr><td>11</td><td>0</td><td>26</td><td>8</td><td>12</td><td>1150</td><td>1.793203</td></tr>\n",
              "\t<tr><td>11</td><td>1</td><td>46</td><td>8</td><td>12</td><td>3000</td><td>1.787003</td></tr>\n",
              "\t<tr><td>11</td><td>1</td><td>49</td><td>8</td><td> 6</td><td>2500</td><td>1.712912</td></tr>\n",
              "\t<tr><td>11</td><td>1</td><td>52</td><td>2</td><td> 6</td><td>1200</td><td>1.736442</td></tr>\n",
              "\t<tr><td>11</td><td>0</td><td>38</td><td>8</td><td>12</td><td>2000</td><td>1.750827</td></tr>\n",
              "\t<tr><td>11</td><td>0</td><td>45</td><td>2</td><td>12</td><td>2000</td><td>1.780450</td></tr>\n",
              "\t<tr><td>11</td><td>0</td><td>34</td><td>2</td><td>16</td><td>6000</td><td>1.711825</td></tr>\n",
              "\t<tr><td>11</td><td>1</td><td>43</td><td>8</td><td>10</td><td>1050</td><td>1.789012</td></tr>\n",
              "\t<tr><td>11</td><td>0</td><td>53</td><td>8</td><td>16</td><td>7000</td><td>1.673665</td></tr>\n",
              "\t<tr><td>11</td><td>0</td><td>57</td><td>2</td><td>12</td><td>2000</td><td>1.715138</td></tr>\n",
              "\t<tr><td>11</td><td>1</td><td>62</td><td>8</td><td>12</td><td>1150</td><td>1.765973</td></tr>\n",
              "\t<tr><td>11</td><td>0</td><td>69</td><td>8</td><td> 1</td><td>3030</td><td>1.746351</td></tr>\n",
              "\t<tr><td>11</td><td>1</td><td>41</td><td>8</td><td>16</td><td>4000</td><td>1.660873</td></tr>\n",
              "\t<tr><td>11</td><td>0</td><td>34</td><td>8</td><td> 5</td><td> 788</td><td>1.746048</td></tr>\n",
              "\t<tr><td>11</td><td>0</td><td>25</td><td>8</td><td>12</td><td>1000</td><td>1.726496</td></tr>\n",
              "\t<tr><td>11</td><td>0</td><td>33</td><td>8</td><td> 9</td><td> 800</td><td>1.778914</td></tr>\n",
              "\t<tr><td>11</td><td>1</td><td>44</td><td>8</td><td> 5</td><td> 788</td><td>1.668638</td></tr>\n",
              "\t<tr><td>11</td><td>0</td><td>33</td><td>2</td><td>16</td><td>1600</td><td>1.783771</td></tr>\n",
              "\t<tr><td>11</td><td>0</td><td>65</td><td>2</td><td>12</td><td>1700</td><td>1.873445</td></tr>\n",
              "\t<tr><td>11</td><td>0</td><td>33</td><td>8</td><td>14</td><td>2000</td><td>1.890250</td></tr>\n",
              "\t<tr><td>11</td><td>0</td><td>32</td><td>8</td><td>12</td><td>2400</td><td>1.660204</td></tr>\n",
              "\t<tr><td>⋮</td><td>⋮</td><td>⋮</td><td>⋮</td><td>⋮</td><td>⋮</td><td>⋮</td></tr>\n",
              "\t<tr><td>53</td><td>0</td><td>34</td><td>4</td><td>12</td><td> 2500</td><td>1.802241</td></tr>\n",
              "\t<tr><td>53</td><td>1</td><td>57</td><td>2</td><td>11</td><td> 1000</td><td>1.823047</td></tr>\n",
              "\t<tr><td>53</td><td>1</td><td>32</td><td>4</td><td>12</td><td>  788</td><td>1.681405</td></tr>\n",
              "\t<tr><td>53</td><td>0</td><td>35</td><td>4</td><td> 9</td><td> 2100</td><td>1.671112</td></tr>\n",
              "\t<tr><td>53</td><td>1</td><td>49</td><td>8</td><td>12</td><td> 5260</td><td>1.799319</td></tr>\n",
              "\t<tr><td>53</td><td>0</td><td>51</td><td>8</td><td> 1</td><td> 5000</td><td>1.599400</td></tr>\n",
              "\t<tr><td>53</td><td>0</td><td>37</td><td>8</td><td>12</td><td>  950</td><td>1.620497</td></tr>\n",
              "\t<tr><td>53</td><td>0</td><td>47</td><td>8</td><td>12</td><td> 1109</td><td>1.920274</td></tr>\n",
              "\t<tr><td>53</td><td>0</td><td>27</td><td>8</td><td>10</td><td>  850</td><td>1.793074</td></tr>\n",
              "\t<tr><td>53</td><td>1</td><td>49</td><td>8</td><td> 9</td><td>  788</td><td>1.695710</td></tr>\n",
              "\t<tr><td>53</td><td>1</td><td>27</td><td>8</td><td>12</td><td>  866</td><td>1.729035</td></tr>\n",
              "\t<tr><td>53</td><td>0</td><td>20</td><td>2</td><td> 8</td><td> 1300</td><td>1.660409</td></tr>\n",
              "\t<tr><td>53</td><td>0</td><td>49</td><td>8</td><td>12</td><td> 8700</td><td>1.775182</td></tr>\n",
              "\t<tr><td>53</td><td>0</td><td>43</td><td>8</td><td>10</td><td> 5000</td><td>1.584493</td></tr>\n",
              "\t<tr><td>53</td><td>0</td><td>64</td><td>2</td><td>12</td><td> 5000</td><td>1.717452</td></tr>\n",
              "\t<tr><td>53</td><td>0</td><td>55</td><td>2</td><td>16</td><td>13000</td><td>1.729995</td></tr>\n",
              "\t<tr><td>53</td><td>0</td><td>39</td><td>2</td><td>12</td><td> 6000</td><td>1.739046</td></tr>\n",
              "\t<tr><td>53</td><td>1</td><td>41</td><td>2</td><td>16</td><td>10000</td><td>1.696208</td></tr>\n",
              "\t<tr><td>53</td><td>0</td><td>62</td><td>2</td><td>16</td><td>10000</td><td>1.817097</td></tr>\n",
              "\t<tr><td>53</td><td>0</td><td>42</td><td>8</td><td>12</td><td>32000</td><td>1.788923</td></tr>\n",
              "\t<tr><td>53</td><td>0</td><td>62</td><td>2</td><td>16</td><td> 3500</td><td>1.725379</td></tr>\n",
              "\t<tr><td>53</td><td>1</td><td>44</td><td>2</td><td>16</td><td>30000</td><td>1.783962</td></tr>\n",
              "\t<tr><td>53</td><td>1</td><td>49</td><td>2</td><td>12</td><td> 5000</td><td>1.757146</td></tr>\n",
              "\t<tr><td>53</td><td>0</td><td>30</td><td>4</td><td> 6</td><td> 1900</td><td>1.662560</td></tr>\n",
              "\t<tr><td>53</td><td>1</td><td>35</td><td>4</td><td> 1</td><td> 1100</td><td>1.741089</td></tr>\n",
              "\t<tr><td>53</td><td>1</td><td>46</td><td>2</td><td>11</td><td>  812</td><td>1.687030</td></tr>\n",
              "\t<tr><td>53</td><td>0</td><td>30</td><td>4</td><td> 7</td><td> 1500</td><td>1.792934</td></tr>\n",
              "\t<tr><td>53</td><td>0</td><td>32</td><td>8</td><td>12</td><td> 1300</td><td>1.830587</td></tr>\n",
              "\t<tr><td>53</td><td>0</td><td>57</td><td>8</td><td> 4</td><td> 1500</td><td>1.726344</td></tr>\n",
              "\t<tr><td>53</td><td>0</td><td>38</td><td>8</td><td> 4</td><td>  900</td><td>1.658305</td></tr>\n",
              "</tbody>\n",
              "</table>\n"
            ],
            "text/markdown": "\nA data.frame: 76840 × 7\n\n| UF &lt;int&gt; | Sexo &lt;int&gt; | Idade &lt;int&gt; | Cor &lt;int&gt; | Anos.de.Estudo &lt;int&gt; | Renda &lt;int&gt; | Altura &lt;dbl&gt; |\n|---|---|---|---|---|---|---|\n| 11 | 0 | 23 | 8 | 12 |  800 | 1.603808 |\n| 11 | 1 | 23 | 2 | 12 | 1150 | 1.739790 |\n| 11 | 1 | 35 | 8 | 15 |  880 | 1.760444 |\n| 11 | 0 | 46 | 2 |  6 | 3500 | 1.783158 |\n| 11 | 1 | 47 | 8 |  9 |  150 | 1.690631 |\n| 11 | 1 | 34 | 8 | 12 |  790 | 1.637906 |\n| 11 | 0 | 57 | 8 | 12 | 3150 | 1.570078 |\n| 11 | 1 | 60 | 8 | 12 | 1700 | 1.608495 |\n| 11 | 1 | 50 | 4 | 14 | 1800 | 1.780329 |\n| 11 | 0 | 26 | 8 | 12 | 1150 | 1.793203 |\n| 11 | 1 | 46 | 8 | 12 | 3000 | 1.787003 |\n| 11 | 1 | 49 | 8 |  6 | 2500 | 1.712912 |\n| 11 | 1 | 52 | 2 |  6 | 1200 | 1.736442 |\n| 11 | 0 | 38 | 8 | 12 | 2000 | 1.750827 |\n| 11 | 0 | 45 | 2 | 12 | 2000 | 1.780450 |\n| 11 | 0 | 34 | 2 | 16 | 6000 | 1.711825 |\n| 11 | 1 | 43 | 8 | 10 | 1050 | 1.789012 |\n| 11 | 0 | 53 | 8 | 16 | 7000 | 1.673665 |\n| 11 | 0 | 57 | 2 | 12 | 2000 | 1.715138 |\n| 11 | 1 | 62 | 8 | 12 | 1150 | 1.765973 |\n| 11 | 0 | 69 | 8 |  1 | 3030 | 1.746351 |\n| 11 | 1 | 41 | 8 | 16 | 4000 | 1.660873 |\n| 11 | 0 | 34 | 8 |  5 |  788 | 1.746048 |\n| 11 | 0 | 25 | 8 | 12 | 1000 | 1.726496 |\n| 11 | 0 | 33 | 8 |  9 |  800 | 1.778914 |\n| 11 | 1 | 44 | 8 |  5 |  788 | 1.668638 |\n| 11 | 0 | 33 | 2 | 16 | 1600 | 1.783771 |\n| 11 | 0 | 65 | 2 | 12 | 1700 | 1.873445 |\n| 11 | 0 | 33 | 8 | 14 | 2000 | 1.890250 |\n| 11 | 0 | 32 | 8 | 12 | 2400 | 1.660204 |\n| ⋮ | ⋮ | ⋮ | ⋮ | ⋮ | ⋮ | ⋮ |\n| 53 | 0 | 34 | 4 | 12 |  2500 | 1.802241 |\n| 53 | 1 | 57 | 2 | 11 |  1000 | 1.823047 |\n| 53 | 1 | 32 | 4 | 12 |   788 | 1.681405 |\n| 53 | 0 | 35 | 4 |  9 |  2100 | 1.671112 |\n| 53 | 1 | 49 | 8 | 12 |  5260 | 1.799319 |\n| 53 | 0 | 51 | 8 |  1 |  5000 | 1.599400 |\n| 53 | 0 | 37 | 8 | 12 |   950 | 1.620497 |\n| 53 | 0 | 47 | 8 | 12 |  1109 | 1.920274 |\n| 53 | 0 | 27 | 8 | 10 |   850 | 1.793074 |\n| 53 | 1 | 49 | 8 |  9 |   788 | 1.695710 |\n| 53 | 1 | 27 | 8 | 12 |   866 | 1.729035 |\n| 53 | 0 | 20 | 2 |  8 |  1300 | 1.660409 |\n| 53 | 0 | 49 | 8 | 12 |  8700 | 1.775182 |\n| 53 | 0 | 43 | 8 | 10 |  5000 | 1.584493 |\n| 53 | 0 | 64 | 2 | 12 |  5000 | 1.717452 |\n| 53 | 0 | 55 | 2 | 16 | 13000 | 1.729995 |\n| 53 | 0 | 39 | 2 | 12 |  6000 | 1.739046 |\n| 53 | 1 | 41 | 2 | 16 | 10000 | 1.696208 |\n| 53 | 0 | 62 | 2 | 16 | 10000 | 1.817097 |\n| 53 | 0 | 42 | 8 | 12 | 32000 | 1.788923 |\n| 53 | 0 | 62 | 2 | 16 |  3500 | 1.725379 |\n| 53 | 1 | 44 | 2 | 16 | 30000 | 1.783962 |\n| 53 | 1 | 49 | 2 | 12 |  5000 | 1.757146 |\n| 53 | 0 | 30 | 4 |  6 |  1900 | 1.662560 |\n| 53 | 1 | 35 | 4 |  1 |  1100 | 1.741089 |\n| 53 | 1 | 46 | 2 | 11 |   812 | 1.687030 |\n| 53 | 0 | 30 | 4 |  7 |  1500 | 1.792934 |\n| 53 | 0 | 32 | 8 | 12 |  1300 | 1.830587 |\n| 53 | 0 | 57 | 8 |  4 |  1500 | 1.726344 |\n| 53 | 0 | 38 | 8 |  4 |   900 | 1.658305 |\n\n",
            "text/latex": "A data.frame: 76840 × 7\n\\begin{tabular}{lllllll}\n UF & Sexo & Idade & Cor & Anos.de.Estudo & Renda & Altura\\\\\n <int> & <int> & <int> & <int> & <int> & <int> & <dbl>\\\\\n\\hline\n\t 11 & 0 & 23 & 8 & 12 &  800 & 1.603808\\\\\n\t 11 & 1 & 23 & 2 & 12 & 1150 & 1.739790\\\\\n\t 11 & 1 & 35 & 8 & 15 &  880 & 1.760444\\\\\n\t 11 & 0 & 46 & 2 &  6 & 3500 & 1.783158\\\\\n\t 11 & 1 & 47 & 8 &  9 &  150 & 1.690631\\\\\n\t 11 & 1 & 34 & 8 & 12 &  790 & 1.637906\\\\\n\t 11 & 0 & 57 & 8 & 12 & 3150 & 1.570078\\\\\n\t 11 & 1 & 60 & 8 & 12 & 1700 & 1.608495\\\\\n\t 11 & 1 & 50 & 4 & 14 & 1800 & 1.780329\\\\\n\t 11 & 0 & 26 & 8 & 12 & 1150 & 1.793203\\\\\n\t 11 & 1 & 46 & 8 & 12 & 3000 & 1.787003\\\\\n\t 11 & 1 & 49 & 8 &  6 & 2500 & 1.712912\\\\\n\t 11 & 1 & 52 & 2 &  6 & 1200 & 1.736442\\\\\n\t 11 & 0 & 38 & 8 & 12 & 2000 & 1.750827\\\\\n\t 11 & 0 & 45 & 2 & 12 & 2000 & 1.780450\\\\\n\t 11 & 0 & 34 & 2 & 16 & 6000 & 1.711825\\\\\n\t 11 & 1 & 43 & 8 & 10 & 1050 & 1.789012\\\\\n\t 11 & 0 & 53 & 8 & 16 & 7000 & 1.673665\\\\\n\t 11 & 0 & 57 & 2 & 12 & 2000 & 1.715138\\\\\n\t 11 & 1 & 62 & 8 & 12 & 1150 & 1.765973\\\\\n\t 11 & 0 & 69 & 8 &  1 & 3030 & 1.746351\\\\\n\t 11 & 1 & 41 & 8 & 16 & 4000 & 1.660873\\\\\n\t 11 & 0 & 34 & 8 &  5 &  788 & 1.746048\\\\\n\t 11 & 0 & 25 & 8 & 12 & 1000 & 1.726496\\\\\n\t 11 & 0 & 33 & 8 &  9 &  800 & 1.778914\\\\\n\t 11 & 1 & 44 & 8 &  5 &  788 & 1.668638\\\\\n\t 11 & 0 & 33 & 2 & 16 & 1600 & 1.783771\\\\\n\t 11 & 0 & 65 & 2 & 12 & 1700 & 1.873445\\\\\n\t 11 & 0 & 33 & 8 & 14 & 2000 & 1.890250\\\\\n\t 11 & 0 & 32 & 8 & 12 & 2400 & 1.660204\\\\\n\t ⋮ & ⋮ & ⋮ & ⋮ & ⋮ & ⋮ & ⋮\\\\\n\t 53 & 0 & 34 & 4 & 12 &  2500 & 1.802241\\\\\n\t 53 & 1 & 57 & 2 & 11 &  1000 & 1.823047\\\\\n\t 53 & 1 & 32 & 4 & 12 &   788 & 1.681405\\\\\n\t 53 & 0 & 35 & 4 &  9 &  2100 & 1.671112\\\\\n\t 53 & 1 & 49 & 8 & 12 &  5260 & 1.799319\\\\\n\t 53 & 0 & 51 & 8 &  1 &  5000 & 1.599400\\\\\n\t 53 & 0 & 37 & 8 & 12 &   950 & 1.620497\\\\\n\t 53 & 0 & 47 & 8 & 12 &  1109 & 1.920274\\\\\n\t 53 & 0 & 27 & 8 & 10 &   850 & 1.793074\\\\\n\t 53 & 1 & 49 & 8 &  9 &   788 & 1.695710\\\\\n\t 53 & 1 & 27 & 8 & 12 &   866 & 1.729035\\\\\n\t 53 & 0 & 20 & 2 &  8 &  1300 & 1.660409\\\\\n\t 53 & 0 & 49 & 8 & 12 &  8700 & 1.775182\\\\\n\t 53 & 0 & 43 & 8 & 10 &  5000 & 1.584493\\\\\n\t 53 & 0 & 64 & 2 & 12 &  5000 & 1.717452\\\\\n\t 53 & 0 & 55 & 2 & 16 & 13000 & 1.729995\\\\\n\t 53 & 0 & 39 & 2 & 12 &  6000 & 1.739046\\\\\n\t 53 & 1 & 41 & 2 & 16 & 10000 & 1.696208\\\\\n\t 53 & 0 & 62 & 2 & 16 & 10000 & 1.817097\\\\\n\t 53 & 0 & 42 & 8 & 12 & 32000 & 1.788923\\\\\n\t 53 & 0 & 62 & 2 & 16 &  3500 & 1.725379\\\\\n\t 53 & 1 & 44 & 2 & 16 & 30000 & 1.783962\\\\\n\t 53 & 1 & 49 & 2 & 12 &  5000 & 1.757146\\\\\n\t 53 & 0 & 30 & 4 &  6 &  1900 & 1.662560\\\\\n\t 53 & 1 & 35 & 4 &  1 &  1100 & 1.741089\\\\\n\t 53 & 1 & 46 & 2 & 11 &   812 & 1.687030\\\\\n\t 53 & 0 & 30 & 4 &  7 &  1500 & 1.792934\\\\\n\t 53 & 0 & 32 & 8 & 12 &  1300 & 1.830587\\\\\n\t 53 & 0 & 57 & 8 &  4 &  1500 & 1.726344\\\\\n\t 53 & 0 & 38 & 8 &  4 &   900 & 1.658305\\\\\n\\end{tabular}\n",
            "text/plain": [
              "      UF Sexo Idade Cor Anos.de.Estudo Renda Altura  \n",
              "1     11 0    23    8   12              800  1.603808\n",
              "2     11 1    23    2   12             1150  1.739790\n",
              "3     11 1    35    8   15              880  1.760444\n",
              "4     11 0    46    2    6             3500  1.783158\n",
              "5     11 1    47    8    9              150  1.690631\n",
              "6     11 1    34    8   12              790  1.637906\n",
              "7     11 0    57    8   12             3150  1.570078\n",
              "8     11 1    60    8   12             1700  1.608495\n",
              "9     11 1    50    4   14             1800  1.780329\n",
              "10    11 0    26    8   12             1150  1.793203\n",
              "11    11 1    46    8   12             3000  1.787003\n",
              "12    11 1    49    8    6             2500  1.712912\n",
              "13    11 1    52    2    6             1200  1.736442\n",
              "14    11 0    38    8   12             2000  1.750827\n",
              "15    11 0    45    2   12             2000  1.780450\n",
              "16    11 0    34    2   16             6000  1.711825\n",
              "17    11 1    43    8   10             1050  1.789012\n",
              "18    11 0    53    8   16             7000  1.673665\n",
              "19    11 0    57    2   12             2000  1.715138\n",
              "20    11 1    62    8   12             1150  1.765973\n",
              "21    11 0    69    8    1             3030  1.746351\n",
              "22    11 1    41    8   16             4000  1.660873\n",
              "23    11 0    34    8    5              788  1.746048\n",
              "24    11 0    25    8   12             1000  1.726496\n",
              "25    11 0    33    8    9              800  1.778914\n",
              "26    11 1    44    8    5              788  1.668638\n",
              "27    11 0    33    2   16             1600  1.783771\n",
              "28    11 0    65    2   12             1700  1.873445\n",
              "29    11 0    33    8   14             2000  1.890250\n",
              "30    11 0    32    8   12             2400  1.660204\n",
              "⋮     ⋮  ⋮    ⋮     ⋮   ⋮              ⋮     ⋮       \n",
              "76811 53 0    34    4   12              2500 1.802241\n",
              "76812 53 1    57    2   11              1000 1.823047\n",
              "76813 53 1    32    4   12               788 1.681405\n",
              "76814 53 0    35    4    9              2100 1.671112\n",
              "76815 53 1    49    8   12              5260 1.799319\n",
              "76816 53 0    51    8    1              5000 1.599400\n",
              "76817 53 0    37    8   12               950 1.620497\n",
              "76818 53 0    47    8   12              1109 1.920274\n",
              "76819 53 0    27    8   10               850 1.793074\n",
              "76820 53 1    49    8    9               788 1.695710\n",
              "76821 53 1    27    8   12               866 1.729035\n",
              "76822 53 0    20    2    8              1300 1.660409\n",
              "76823 53 0    49    8   12              8700 1.775182\n",
              "76824 53 0    43    8   10              5000 1.584493\n",
              "76825 53 0    64    2   12              5000 1.717452\n",
              "76826 53 0    55    2   16             13000 1.729995\n",
              "76827 53 0    39    2   12              6000 1.739046\n",
              "76828 53 1    41    2   16             10000 1.696208\n",
              "76829 53 0    62    2   16             10000 1.817097\n",
              "76830 53 0    42    8   12             32000 1.788923\n",
              "76831 53 0    62    2   16              3500 1.725379\n",
              "76832 53 1    44    2   16             30000 1.783962\n",
              "76833 53 1    49    2   12              5000 1.757146\n",
              "76834 53 0    30    4    6              1900 1.662560\n",
              "76835 53 1    35    4    1              1100 1.741089\n",
              "76836 53 1    46    2   11               812 1.687030\n",
              "76837 53 0    30    4    7              1500 1.792934\n",
              "76838 53 0    32    8   12              1300 1.830587\n",
              "76839 53 0    57    8    4              1500 1.726344\n",
              "76840 53 0    38    8    4               900 1.658305"
            ]
          },
          "metadata": {}
        },
        {
          "output_type": "display_data",
          "data": {
            "text/plain": [
              "plot without title"
            ],
            "image/png": "[encoded data removed]"
          },
          "metadata": {
            "image/png": {
              "width": 420,
              "height": 420
            }
          }
        }
      ]
    },
    {
      "cell_type": "code",
      "source": [
        "#3.12 ALTURA\n",
        "\n",
        "ggplot(dados, aes(x = Altura)) + \n",
        "  geom_histogram() + \n",
        "  ylab(\"Frequência\") + \n",
        "  xlab(\"Altura\") + \n",
        "  ggtitle('Histograma das Alturas')"
      ],
      "metadata": {
        "colab": {
          "base_uri": "https://localhost:8080/",
          "height": 454
        },
        "id": "ucK21rq8Fd36",
        "outputId": "561ea7d8-3164-4295-fe5c-f0b4cb719c34"
      },
      "execution_count": 27,
      "outputs": [
        {
          "output_type": "stream",
          "name": "stderr",
          "text": [
            "\u001b[1m\u001b[22m`stat_bin()` using `bins = 30`. Pick better value with `binwidth`.\n"
          ]
        },
        {
          "output_type": "display_data",
          "data": {
            "text/plain": [
              "plot without title"
            ],
            "image/png": "[encoded data removed]"
          },
          "metadata": {
            "image/png": {
              "width": 420,
              "height": 420
            }
          }
        }
      ]
    },
    {
      "cell_type": "code",
      "source": [
        "\n",
        "#3.13 RENDA\n",
        "\n",
        "ggplot(dados, aes(x = Renda)) + \n",
        "  geom_histogram(bins = 100) + \n",
        "  ylab(\"Frequência\") + \n",
        "  xlab(\"R$\") + \n",
        "  ggtitle('Histograma das Rendas') \n"
      ],
      "metadata": {
        "colab": {
          "base_uri": "https://localhost:8080/",
          "height": 437
        },
        "id": "2OCqdYyZFlwP",
        "outputId": "1ad0bc17-f645-4f3a-ef5b-e43f54f47c8b"
      },
      "execution_count": 29,
      "outputs": [
        {
          "output_type": "display_data",
          "data": {
            "text/plain": [
              "plot without title"
            ],
            "image/png": "[encoded data removed]"
          },
          "metadata": {
            "image/png": {
              "width": 420,
              "height": 420
            }
          }
        }
      ]
    },
    {
      "cell_type": "code",
      "source": [
        "#3.14 ANOS DE ESTUDO\n",
        "\n",
        "\n",
        "dados\n",
        "\n",
        "ggplot(dados, aes(x = Anos.de.Estudo)) + \n",
        "  geom_histogram(bins = 16) + \n",
        "  ylab(\"Frequência\") + \n",
        "  xlab(\"Anos\") + \n",
        "  ggtitle('Histograma dos anos de estudo') \n",
        "\n",
        "# ou ainda \n",
        "\n",
        "\n",
        "hist(\n",
        "  x=dados$Anos.de.Estudo,\n",
        "  breakes='Sturges',\n",
        "  col = 'yellow',\n",
        "  main = 'Histograma Anos de estudo',\n",
        "  xlab = 'Anos',\n",
        "  ylab = 'Frequências',\n",
        "  prob = TRUE,\n",
        "  las = 1\n",
        ")\n"
      ],
      "metadata": {
        "colab": {
          "base_uri": "https://localhost:8080/",
          "height": 1000
        },
        "id": "ayc1IeRsFyS3",
        "outputId": "3d67f151-f328-41e5-8720-8508394699d9"
      },
      "execution_count": 31,
      "outputs": [
        {
          "output_type": "display_data",
          "data": {
            "text/html": [
              "<table class=\"dataframe\">\n",
              "<caption>A data.frame: 76840 × 7</caption>\n",
              "<thead>\n",
              "\t<tr><th scope=col>UF</th><th scope=col>Sexo</th><th scope=col>Idade</th><th scope=col>Cor</th><th scope=col>Anos.de.Estudo</th><th scope=col>Renda</th><th scope=col>Altura</th></tr>\n",
              "\t<tr><th scope=col>&lt;int&gt;</th><th scope=col>&lt;int&gt;</th><th scope=col>&lt;int&gt;</th><th scope=col>&lt;int&gt;</th><th scope=col>&lt;int&gt;</th><th scope=col>&lt;int&gt;</th><th scope=col>&lt;dbl&gt;</th></tr>\n",
              "</thead>\n",
              "<tbody>\n",
              "\t<tr><td>11</td><td>0</td><td>23</td><td>8</td><td>12</td><td> 800</td><td>1.603808</td></tr>\n",
              "\t<tr><td>11</td><td>1</td><td>23</td><td>2</td><td>12</td><td>1150</td><td>1.739790</td></tr>\n",
              "\t<tr><td>11</td><td>1</td><td>35</td><td>8</td><td>15</td><td> 880</td><td>1.760444</td></tr>\n",
              "\t<tr><td>11</td><td>0</td><td>46</td><td>2</td><td> 6</td><td>3500</td><td>1.783158</td></tr>\n",
              "\t<tr><td>11</td><td>1</td><td>47</td><td>8</td><td> 9</td><td> 150</td><td>1.690631</td></tr>\n",
              "\t<tr><td>11</td><td>1</td><td>34</td><td>8</td><td>12</td><td> 790</td><td>1.637906</td></tr>\n",
              "\t<tr><td>11</td><td>0</td><td>57</td><td>8</td><td>12</td><td>3150</td><td>1.570078</td></tr>\n",
              "\t<tr><td>11</td><td>1</td><td>60</td><td>8</td><td>12</td><td>1700</td><td>1.608495</td></tr>\n",
              "\t<tr><td>11</td><td>1</td><td>50</td><td>4</td><td>14</td><td>1800</td><td>1.780329</td></tr>\n",
              "\t<tr><td>11</td><td>0</td><td>26</td><td>8</td><td>12</td><td>1150</td><td>1.793203</td></tr>\n",
              "\t<tr><td>11</td><td>1</td><td>46</td><td>8</td><td>12</td><td>3000</td><td>1.787003</td></tr>\n",
              "\t<tr><td>11</td><td>1</td><td>49</td><td>8</td><td> 6</td><td>2500</td><td>1.712912</td></tr>\n",
              "\t<tr><td>11</td><td>1</td><td>52</td><td>2</td><td> 6</td><td>1200</td><td>1.736442</td></tr>\n",
              "\t<tr><td>11</td><td>0</td><td>38</td><td>8</td><td>12</td><td>2000</td><td>1.750827</td></tr>\n",
              "\t<tr><td>11</td><td>0</td><td>45</td><td>2</td><td>12</td><td>2000</td><td>1.780450</td></tr>\n",
              "\t<tr><td>11</td><td>0</td><td>34</td><td>2</td><td>16</td><td>6000</td><td>1.711825</td></tr>\n",
              "\t<tr><td>11</td><td>1</td><td>43</td><td>8</td><td>10</td><td>1050</td><td>1.789012</td></tr>\n",
              "\t<tr><td>11</td><td>0</td><td>53</td><td>8</td><td>16</td><td>7000</td><td>1.673665</td></tr>\n",
              "\t<tr><td>11</td><td>0</td><td>57</td><td>2</td><td>12</td><td>2000</td><td>1.715138</td></tr>\n",
              "\t<tr><td>11</td><td>1</td><td>62</td><td>8</td><td>12</td><td>1150</td><td>1.765973</td></tr>\n",
              "\t<tr><td>11</td><td>0</td><td>69</td><td>8</td><td> 1</td><td>3030</td><td>1.746351</td></tr>\n",
              "\t<tr><td>11</td><td>1</td><td>41</td><td>8</td><td>16</td><td>4000</td><td>1.660873</td></tr>\n",
              "\t<tr><td>11</td><td>0</td><td>34</td><td>8</td><td> 5</td><td> 788</td><td>1.746048</td></tr>\n",
              "\t<tr><td>11</td><td>0</td><td>25</td><td>8</td><td>12</td><td>1000</td><td>1.726496</td></tr>\n",
              "\t<tr><td>11</td><td>0</td><td>33</td><td>8</td><td> 9</td><td> 800</td><td>1.778914</td></tr>\n",
              "\t<tr><td>11</td><td>1</td><td>44</td><td>8</td><td> 5</td><td> 788</td><td>1.668638</td></tr>\n",
              "\t<tr><td>11</td><td>0</td><td>33</td><td>2</td><td>16</td><td>1600</td><td>1.783771</td></tr>\n",
              "\t<tr><td>11</td><td>0</td><td>65</td><td>2</td><td>12</td><td>1700</td><td>1.873445</td></tr>\n",
              "\t<tr><td>11</td><td>0</td><td>33</td><td>8</td><td>14</td><td>2000</td><td>1.890250</td></tr>\n",
              "\t<tr><td>11</td><td>0</td><td>32</td><td>8</td><td>12</td><td>2400</td><td>1.660204</td></tr>\n",
              "\t<tr><td>⋮</td><td>⋮</td><td>⋮</td><td>⋮</td><td>⋮</td><td>⋮</td><td>⋮</td></tr>\n",
              "\t<tr><td>53</td><td>0</td><td>34</td><td>4</td><td>12</td><td> 2500</td><td>1.802241</td></tr>\n",
              "\t<tr><td>53</td><td>1</td><td>57</td><td>2</td><td>11</td><td> 1000</td><td>1.823047</td></tr>\n",
              "\t<tr><td>53</td><td>1</td><td>32</td><td>4</td><td>12</td><td>  788</td><td>1.681405</td></tr>\n",
              "\t<tr><td>53</td><td>0</td><td>35</td><td>4</td><td> 9</td><td> 2100</td><td>1.671112</td></tr>\n",
              "\t<tr><td>53</td><td>1</td><td>49</td><td>8</td><td>12</td><td> 5260</td><td>1.799319</td></tr>\n",
              "\t<tr><td>53</td><td>0</td><td>51</td><td>8</td><td> 1</td><td> 5000</td><td>1.599400</td></tr>\n",
              "\t<tr><td>53</td><td>0</td><td>37</td><td>8</td><td>12</td><td>  950</td><td>1.620497</td></tr>\n",
              "\t<tr><td>53</td><td>0</td><td>47</td><td>8</td><td>12</td><td> 1109</td><td>1.920274</td></tr>\n",
              "\t<tr><td>53</td><td>0</td><td>27</td><td>8</td><td>10</td><td>  850</td><td>1.793074</td></tr>\n",
              "\t<tr><td>53</td><td>1</td><td>49</td><td>8</td><td> 9</td><td>  788</td><td>1.695710</td></tr>\n",
              "\t<tr><td>53</td><td>1</td><td>27</td><td>8</td><td>12</td><td>  866</td><td>1.729035</td></tr>\n",
              "\t<tr><td>53</td><td>0</td><td>20</td><td>2</td><td> 8</td><td> 1300</td><td>1.660409</td></tr>\n",
              "\t<tr><td>53</td><td>0</td><td>49</td><td>8</td><td>12</td><td> 8700</td><td>1.775182</td></tr>\n",
              "\t<tr><td>53</td><td>0</td><td>43</td><td>8</td><td>10</td><td> 5000</td><td>1.584493</td></tr>\n",
              "\t<tr><td>53</td><td>0</td><td>64</td><td>2</td><td>12</td><td> 5000</td><td>1.717452</td></tr>\n",
              "\t<tr><td>53</td><td>0</td><td>55</td><td>2</td><td>16</td><td>13000</td><td>1.729995</td></tr>\n",
              "\t<tr><td>53</td><td>0</td><td>39</td><td>2</td><td>12</td><td> 6000</td><td>1.739046</td></tr>\n",
              "\t<tr><td>53</td><td>1</td><td>41</td><td>2</td><td>16</td><td>10000</td><td>1.696208</td></tr>\n",
              "\t<tr><td>53</td><td>0</td><td>62</td><td>2</td><td>16</td><td>10000</td><td>1.817097</td></tr>\n",
              "\t<tr><td>53</td><td>0</td><td>42</td><td>8</td><td>12</td><td>32000</td><td>1.788923</td></tr>\n",
              "\t<tr><td>53</td><td>0</td><td>62</td><td>2</td><td>16</td><td> 3500</td><td>1.725379</td></tr>\n",
              "\t<tr><td>53</td><td>1</td><td>44</td><td>2</td><td>16</td><td>30000</td><td>1.783962</td></tr>\n",
              "\t<tr><td>53</td><td>1</td><td>49</td><td>2</td><td>12</td><td> 5000</td><td>1.757146</td></tr>\n",
              "\t<tr><td>53</td><td>0</td><td>30</td><td>4</td><td> 6</td><td> 1900</td><td>1.662560</td></tr>\n",
              "\t<tr><td>53</td><td>1</td><td>35</td><td>4</td><td> 1</td><td> 1100</td><td>1.741089</td></tr>\n",
              "\t<tr><td>53</td><td>1</td><td>46</td><td>2</td><td>11</td><td>  812</td><td>1.687030</td></tr>\n",
              "\t<tr><td>53</td><td>0</td><td>30</td><td>4</td><td> 7</td><td> 1500</td><td>1.792934</td></tr>\n",
              "\t<tr><td>53</td><td>0</td><td>32</td><td>8</td><td>12</td><td> 1300</td><td>1.830587</td></tr>\n",
              "\t<tr><td>53</td><td>0</td><td>57</td><td>8</td><td> 4</td><td> 1500</td><td>1.726344</td></tr>\n",
              "\t<tr><td>53</td><td>0</td><td>38</td><td>8</td><td> 4</td><td>  900</td><td>1.658305</td></tr>\n",
              "</tbody>\n",
              "</table>\n"
            ],
            "text/markdown": "\nA data.frame: 76840 × 7\n\n| UF &lt;int&gt; | Sexo &lt;int&gt; | Idade &lt;int&gt; | Cor &lt;int&gt; | Anos.de.Estudo &lt;int&gt; | Renda &lt;int&gt; | Altura &lt;dbl&gt; |\n|---|---|---|---|---|---|---|\n| 11 | 0 | 23 | 8 | 12 |  800 | 1.603808 |\n| 11 | 1 | 23 | 2 | 12 | 1150 | 1.739790 |\n| 11 | 1 | 35 | 8 | 15 |  880 | 1.760444 |\n| 11 | 0 | 46 | 2 |  6 | 3500 | 1.783158 |\n| 11 | 1 | 47 | 8 |  9 |  150 | 1.690631 |\n| 11 | 1 | 34 | 8 | 12 |  790 | 1.637906 |\n| 11 | 0 | 57 | 8 | 12 | 3150 | 1.570078 |\n| 11 | 1 | 60 | 8 | 12 | 1700 | 1.608495 |\n| 11 | 1 | 50 | 4 | 14 | 1800 | 1.780329 |\n| 11 | 0 | 26 | 8 | 12 | 1150 | 1.793203 |\n| 11 | 1 | 46 | 8 | 12 | 3000 | 1.787003 |\n| 11 | 1 | 49 | 8 |  6 | 2500 | 1.712912 |\n| 11 | 1 | 52 | 2 |  6 | 1200 | 1.736442 |\n| 11 | 0 | 38 | 8 | 12 | 2000 | 1.750827 |\n| 11 | 0 | 45 | 2 | 12 | 2000 | 1.780450 |\n| 11 | 0 | 34 | 2 | 16 | 6000 | 1.711825 |\n| 11 | 1 | 43 | 8 | 10 | 1050 | 1.789012 |\n| 11 | 0 | 53 | 8 | 16 | 7000 | 1.673665 |\n| 11 | 0 | 57 | 2 | 12 | 2000 | 1.715138 |\n| 11 | 1 | 62 | 8 | 12 | 1150 | 1.765973 |\n| 11 | 0 | 69 | 8 |  1 | 3030 | 1.746351 |\n| 11 | 1 | 41 | 8 | 16 | 4000 | 1.660873 |\n| 11 | 0 | 34 | 8 |  5 |  788 | 1.746048 |\n| 11 | 0 | 25 | 8 | 12 | 1000 | 1.726496 |\n| 11 | 0 | 33 | 8 |  9 |  800 | 1.778914 |\n| 11 | 1 | 44 | 8 |  5 |  788 | 1.668638 |\n| 11 | 0 | 33 | 2 | 16 | 1600 | 1.783771 |\n| 11 | 0 | 65 | 2 | 12 | 1700 | 1.873445 |\n| 11 | 0 | 33 | 8 | 14 | 2000 | 1.890250 |\n| 11 | 0 | 32 | 8 | 12 | 2400 | 1.660204 |\n| ⋮ | ⋮ | ⋮ | ⋮ | ⋮ | ⋮ | ⋮ |\n| 53 | 0 | 34 | 4 | 12 |  2500 | 1.802241 |\n| 53 | 1 | 57 | 2 | 11 |  1000 | 1.823047 |\n| 53 | 1 | 32 | 4 | 12 |   788 | 1.681405 |\n| 53 | 0 | 35 | 4 |  9 |  2100 | 1.671112 |\n| 53 | 1 | 49 | 8 | 12 |  5260 | 1.799319 |\n| 53 | 0 | 51 | 8 |  1 |  5000 | 1.599400 |\n| 53 | 0 | 37 | 8 | 12 |   950 | 1.620497 |\n| 53 | 0 | 47 | 8 | 12 |  1109 | 1.920274 |\n| 53 | 0 | 27 | 8 | 10 |   850 | 1.793074 |\n| 53 | 1 | 49 | 8 |  9 |   788 | 1.695710 |\n| 53 | 1 | 27 | 8 | 12 |   866 | 1.729035 |\n| 53 | 0 | 20 | 2 |  8 |  1300 | 1.660409 |\n| 53 | 0 | 49 | 8 | 12 |  8700 | 1.775182 |\n| 53 | 0 | 43 | 8 | 10 |  5000 | 1.584493 |\n| 53 | 0 | 64 | 2 | 12 |  5000 | 1.717452 |\n| 53 | 0 | 55 | 2 | 16 | 13000 | 1.729995 |\n| 53 | 0 | 39 | 2 | 12 |  6000 | 1.739046 |\n| 53 | 1 | 41 | 2 | 16 | 10000 | 1.696208 |\n| 53 | 0 | 62 | 2 | 16 | 10000 | 1.817097 |\n| 53 | 0 | 42 | 8 | 12 | 32000 | 1.788923 |\n| 53 | 0 | 62 | 2 | 16 |  3500 | 1.725379 |\n| 53 | 1 | 44 | 2 | 16 | 30000 | 1.783962 |\n| 53 | 1 | 49 | 2 | 12 |  5000 | 1.757146 |\n| 53 | 0 | 30 | 4 |  6 |  1900 | 1.662560 |\n| 53 | 1 | 35 | 4 |  1 |  1100 | 1.741089 |\n| 53 | 1 | 46 | 2 | 11 |   812 | 1.687030 |\n| 53 | 0 | 30 | 4 |  7 |  1500 | 1.792934 |\n| 53 | 0 | 32 | 8 | 12 |  1300 | 1.830587 |\n| 53 | 0 | 57 | 8 |  4 |  1500 | 1.726344 |\n| 53 | 0 | 38 | 8 |  4 |   900 | 1.658305 |\n\n",
            "text/latex": "A data.frame: 76840 × 7\n\\begin{tabular}{lllllll}\n UF & Sexo & Idade & Cor & Anos.de.Estudo & Renda & Altura\\\\\n <int> & <int> & <int> & <int> & <int> & <int> & <dbl>\\\\\n\\hline\n\t 11 & 0 & 23 & 8 & 12 &  800 & 1.603808\\\\\n\t 11 & 1 & 23 & 2 & 12 & 1150 & 1.739790\\\\\n\t 11 & 1 & 35 & 8 & 15 &  880 & 1.760444\\\\\n\t 11 & 0 & 46 & 2 &  6 & 3500 & 1.783158\\\\\n\t 11 & 1 & 47 & 8 &  9 &  150 & 1.690631\\\\\n\t 11 & 1 & 34 & 8 & 12 &  790 & 1.637906\\\\\n\t 11 & 0 & 57 & 8 & 12 & 3150 & 1.570078\\\\\n\t 11 & 1 & 60 & 8 & 12 & 1700 & 1.608495\\\\\n\t 11 & 1 & 50 & 4 & 14 & 1800 & 1.780329\\\\\n\t 11 & 0 & 26 & 8 & 12 & 1150 & 1.793203\\\\\n\t 11 & 1 & 46 & 8 & 12 & 3000 & 1.787003\\\\\n\t 11 & 1 & 49 & 8 &  6 & 2500 & 1.712912\\\\\n\t 11 & 1 & 52 & 2 &  6 & 1200 & 1.736442\\\\\n\t 11 & 0 & 38 & 8 & 12 & 2000 & 1.750827\\\\\n\t 11 & 0 & 45 & 2 & 12 & 2000 & 1.780450\\\\\n\t 11 & 0 & 34 & 2 & 16 & 6000 & 1.711825\\\\\n\t 11 & 1 & 43 & 8 & 10 & 1050 & 1.789012\\\\\n\t 11 & 0 & 53 & 8 & 16 & 7000 & 1.673665\\\\\n\t 11 & 0 & 57 & 2 & 12 & 2000 & 1.715138\\\\\n\t 11 & 1 & 62 & 8 & 12 & 1150 & 1.765973\\\\\n\t 11 & 0 & 69 & 8 &  1 & 3030 & 1.746351\\\\\n\t 11 & 1 & 41 & 8 & 16 & 4000 & 1.660873\\\\\n\t 11 & 0 & 34 & 8 &  5 &  788 & 1.746048\\\\\n\t 11 & 0 & 25 & 8 & 12 & 1000 & 1.726496\\\\\n\t 11 & 0 & 33 & 8 &  9 &  800 & 1.778914\\\\\n\t 11 & 1 & 44 & 8 &  5 &  788 & 1.668638\\\\\n\t 11 & 0 & 33 & 2 & 16 & 1600 & 1.783771\\\\\n\t 11 & 0 & 65 & 2 & 12 & 1700 & 1.873445\\\\\n\t 11 & 0 & 33 & 8 & 14 & 2000 & 1.890250\\\\\n\t 11 & 0 & 32 & 8 & 12 & 2400 & 1.660204\\\\\n\t ⋮ & ⋮ & ⋮ & ⋮ & ⋮ & ⋮ & ⋮\\\\\n\t 53 & 0 & 34 & 4 & 12 &  2500 & 1.802241\\\\\n\t 53 & 1 & 57 & 2 & 11 &  1000 & 1.823047\\\\\n\t 53 & 1 & 32 & 4 & 12 &   788 & 1.681405\\\\\n\t 53 & 0 & 35 & 4 &  9 &  2100 & 1.671112\\\\\n\t 53 & 1 & 49 & 8 & 12 &  5260 & 1.799319\\\\\n\t 53 & 0 & 51 & 8 &  1 &  5000 & 1.599400\\\\\n\t 53 & 0 & 37 & 8 & 12 &   950 & 1.620497\\\\\n\t 53 & 0 & 47 & 8 & 12 &  1109 & 1.920274\\\\\n\t 53 & 0 & 27 & 8 & 10 &   850 & 1.793074\\\\\n\t 53 & 1 & 49 & 8 &  9 &   788 & 1.695710\\\\\n\t 53 & 1 & 27 & 8 & 12 &   866 & 1.729035\\\\\n\t 53 & 0 & 20 & 2 &  8 &  1300 & 1.660409\\\\\n\t 53 & 0 & 49 & 8 & 12 &  8700 & 1.775182\\\\\n\t 53 & 0 & 43 & 8 & 10 &  5000 & 1.584493\\\\\n\t 53 & 0 & 64 & 2 & 12 &  5000 & 1.717452\\\\\n\t 53 & 0 & 55 & 2 & 16 & 13000 & 1.729995\\\\\n\t 53 & 0 & 39 & 2 & 12 &  6000 & 1.739046\\\\\n\t 53 & 1 & 41 & 2 & 16 & 10000 & 1.696208\\\\\n\t 53 & 0 & 62 & 2 & 16 & 10000 & 1.817097\\\\\n\t 53 & 0 & 42 & 8 & 12 & 32000 & 1.788923\\\\\n\t 53 & 0 & 62 & 2 & 16 &  3500 & 1.725379\\\\\n\t 53 & 1 & 44 & 2 & 16 & 30000 & 1.783962\\\\\n\t 53 & 1 & 49 & 2 & 12 &  5000 & 1.757146\\\\\n\t 53 & 0 & 30 & 4 &  6 &  1900 & 1.662560\\\\\n\t 53 & 1 & 35 & 4 &  1 &  1100 & 1.741089\\\\\n\t 53 & 1 & 46 & 2 & 11 &   812 & 1.687030\\\\\n\t 53 & 0 & 30 & 4 &  7 &  1500 & 1.792934\\\\\n\t 53 & 0 & 32 & 8 & 12 &  1300 & 1.830587\\\\\n\t 53 & 0 & 57 & 8 &  4 &  1500 & 1.726344\\\\\n\t 53 & 0 & 38 & 8 &  4 &   900 & 1.658305\\\\\n\\end{tabular}\n",
            "text/plain": [
              "      UF Sexo Idade Cor Anos.de.Estudo Renda Altura  \n",
              "1     11 0    23    8   12              800  1.603808\n",
              "2     11 1    23    2   12             1150  1.739790\n",
              "3     11 1    35    8   15              880  1.760444\n",
              "4     11 0    46    2    6             3500  1.783158\n",
              "5     11 1    47    8    9              150  1.690631\n",
              "6     11 1    34    8   12              790  1.637906\n",
              "7     11 0    57    8   12             3150  1.570078\n",
              "8     11 1    60    8   12             1700  1.608495\n",
              "9     11 1    50    4   14             1800  1.780329\n",
              "10    11 0    26    8   12             1150  1.793203\n",
              "11    11 1    46    8   12             3000  1.787003\n",
              "12    11 1    49    8    6             2500  1.712912\n",
              "13    11 1    52    2    6             1200  1.736442\n",
              "14    11 0    38    8   12             2000  1.750827\n",
              "15    11 0    45    2   12             2000  1.780450\n",
              "16    11 0    34    2   16             6000  1.711825\n",
              "17    11 1    43    8   10             1050  1.789012\n",
              "18    11 0    53    8   16             7000  1.673665\n",
              "19    11 0    57    2   12             2000  1.715138\n",
              "20    11 1    62    8   12             1150  1.765973\n",
              "21    11 0    69    8    1             3030  1.746351\n",
              "22    11 1    41    8   16             4000  1.660873\n",
              "23    11 0    34    8    5              788  1.746048\n",
              "24    11 0    25    8   12             1000  1.726496\n",
              "25    11 0    33    8    9              800  1.778914\n",
              "26    11 1    44    8    5              788  1.668638\n",
              "27    11 0    33    2   16             1600  1.783771\n",
              "28    11 0    65    2   12             1700  1.873445\n",
              "29    11 0    33    8   14             2000  1.890250\n",
              "30    11 0    32    8   12             2400  1.660204\n",
              "⋮     ⋮  ⋮    ⋮     ⋮   ⋮              ⋮     ⋮       \n",
              "76811 53 0    34    4   12              2500 1.802241\n",
              "76812 53 1    57    2   11              1000 1.823047\n",
              "76813 53 1    32    4   12               788 1.681405\n",
              "76814 53 0    35    4    9              2100 1.671112\n",
              "76815 53 1    49    8   12              5260 1.799319\n",
              "76816 53 0    51    8    1              5000 1.599400\n",
              "76817 53 0    37    8   12               950 1.620497\n",
              "76818 53 0    47    8   12              1109 1.920274\n",
              "76819 53 0    27    8   10               850 1.793074\n",
              "76820 53 1    49    8    9               788 1.695710\n",
              "76821 53 1    27    8   12               866 1.729035\n",
              "76822 53 0    20    2    8              1300 1.660409\n",
              "76823 53 0    49    8   12              8700 1.775182\n",
              "76824 53 0    43    8   10              5000 1.584493\n",
              "76825 53 0    64    2   12              5000 1.717452\n",
              "76826 53 0    55    2   16             13000 1.729995\n",
              "76827 53 0    39    2   12              6000 1.739046\n",
              "76828 53 1    41    2   16             10000 1.696208\n",
              "76829 53 0    62    2   16             10000 1.817097\n",
              "76830 53 0    42    8   12             32000 1.788923\n",
              "76831 53 0    62    2   16              3500 1.725379\n",
              "76832 53 1    44    2   16             30000 1.783962\n",
              "76833 53 1    49    2   12              5000 1.757146\n",
              "76834 53 0    30    4    6              1900 1.662560\n",
              "76835 53 1    35    4    1              1100 1.741089\n",
              "76836 53 1    46    2   11               812 1.687030\n",
              "76837 53 0    30    4    7              1500 1.792934\n",
              "76838 53 0    32    8   12              1300 1.830587\n",
              "76839 53 0    57    8    4              1500 1.726344\n",
              "76840 53 0    38    8    4               900 1.658305"
            ]
          },
          "metadata": {}
        },
        {
          "output_type": "stream",
          "name": "stderr",
          "text": [
            "Warning message in plot.window(xlim, ylim, \"\", ...):\n",
            "“\"breakes\" is not a graphical parameter”\n",
            "Warning message in title(main = main, sub = sub, xlab = xlab, ylab = ylab, ...):\n",
            "“\"breakes\" is not a graphical parameter”\n",
            "Warning message in axis(1, ...):\n",
            "“\"breakes\" is not a graphical parameter”\n",
            "Warning message in axis(2, at = yt, ...):\n",
            "“\"breakes\" is not a graphical parameter”\n"
          ]
        },
        {
          "output_type": "display_data",
          "data": {
            "text/plain": [
              "plot without title"
            ],
            "image/png": "[encoded data removed]"
          },
          "metadata": {
            "image/png": {
              "width": 420,
              "height": 420
            }
          }
        },
        {
          "output_type": "display_data",
          "data": {
            "text/plain": [
              "Plot with title “Histograma Anos de estudo”"
            ],
            "image/png": "[encoded data removed]"
          },
          "metadata": {
            "image/png": {
              "width": 420,
              "height": 420
            }
          }
        }
      ]
    },
    {
      "cell_type": "code",
      "source": [
        "#3.2 RENDIMENTO ATÉ R$20.000, HISTOGRAMA DE RENDA\n",
        "\n",
        "ggplot(dados[dados$Renda < 20000, ], aes(x = Renda)) + \n",
        "  geom_histogram() + \n",
        "  ylab(\"Frequência\") + \n",
        "  xlab(\"R$\") + \n",
        "  ggtitle('Histograma das Rendas - Pessoas com renda até R$ 20.000,00')"
      ],
      "metadata": {
        "colab": {
          "base_uri": "https://localhost:8080/",
          "height": 454
        },
        "id": "VJegdj-DF-TG",
        "outputId": "19762da6-c2f2-4b07-b024-34d1add59133"
      },
      "execution_count": 32,
      "outputs": [
        {
          "output_type": "stream",
          "name": "stderr",
          "text": [
            "\u001b[1m\u001b[22m`stat_bin()` using `bins = 30`. Pick better value with `binwidth`.\n"
          ]
        },
        {
          "output_type": "display_data",
          "data": {
            "text/plain": [
              "plot without title"
            ],
            "image/png": "[encoded data removed]"
          },
          "metadata": {
            "image/png": {
              "width": 420,
              "height": 420
            }
          }
        }
      ]
    },
    {
      "cell_type": "code",
      "source": [
        "# 4 TABELA DE FREQUENCIA SEXO E COR\n",
        "\n",
        "#Construir uma tabela de frequências e uma com os percentuais cruzando das variáveis SEXO e COR\n",
        "\n",
        "\n",
        "\n",
        "#Substituindo os valores da coluna sexo\n",
        "\n",
        "sexo = c(\n",
        "  'Masculino', \n",
        "  'Feminino'\n",
        ")\n",
        "cor = c(\n",
        "  'Indígena', \n",
        "  'Branca', \n",
        "  'Preta', \n",
        "  'Amarela', \n",
        "  'Parda'\n",
        ")\n",
        "anos_de_estudo = c(\n",
        "  'Sem instrução e menos de 1 ano', \n",
        "  '1 ano', \n",
        "  '2 anos', \n",
        "  '3 anos', \n",
        "  '4 anos', \n",
        "  '5 anos', \n",
        "  '6 anos', \n",
        "  '7 anos', \n",
        "  '8 anos', \n",
        "  '9 anos', \n",
        "  '10 anos', \n",
        "  '11 anos', \n",
        "  '12 anos', \n",
        "  '13 anos', \n",
        "  '14 anos', \n",
        "  '15 anos ou mais', \n",
        "  'Não determinados')"
      ],
      "metadata": {
        "id": "VXmAIX3HF-hE"
      },
      "execution_count": 33,
      "outputs": []
    },
    {
      "cell_type": "code",
      "source": [
        "# Sexo\n",
        "dados$Cat.Sexo<-factor(dados$Sexo)\n",
        "levels(dados$Cat.Sexo)<-sexo"
      ],
      "metadata": {
        "id": "nI6wC8JeGGBm"
      },
      "execution_count": 34,
      "outputs": []
    },
    {
      "cell_type": "code",
      "source": [
        "#Cor\n",
        "dados$Cat.Cor<-factor(dados$Cor)\n",
        "levels(dados$Cat.Cor)<-cor"
      ],
      "metadata": {
        "id": "__f8SoQIGVjg"
      },
      "execution_count": 35,
      "outputs": []
    },
    {
      "cell_type": "code",
      "source": [
        "#Anos de Estudo\n",
        "dados$Cat.Anos.de.Estudo<-factor(dados$Anos.de.Estudo,order=TRUE)\n",
        "levels(dados$Cat.Anos.de.Estudo)<-anos_de_estudo\n",
        "\n",
        "head(dados)"
      ],
      "metadata": {
        "colab": {
          "base_uri": "https://localhost:8080/",
          "height": 286
        },
        "id": "366bu55vGapv",
        "outputId": "561f70dc-0c82-4f92-c576-d9856ec0186d"
      },
      "execution_count": 36,
      "outputs": [
        {
          "output_type": "display_data",
          "data": {
            "text/html": [
              "<table class=\"dataframe\">\n",
              "<caption>A data.frame: 6 × 10</caption>\n",
              "<thead>\n",
              "\t<tr><th></th><th scope=col>UF</th><th scope=col>Sexo</th><th scope=col>Idade</th><th scope=col>Cor</th><th scope=col>Anos.de.Estudo</th><th scope=col>Renda</th><th scope=col>Altura</th><th scope=col>Cat.Sexo</th><th scope=col>Cat.Cor</th><th scope=col>Cat.Anos.de.Estudo</th></tr>\n",
              "\t<tr><th></th><th scope=col>&lt;int&gt;</th><th scope=col>&lt;int&gt;</th><th scope=col>&lt;int&gt;</th><th scope=col>&lt;int&gt;</th><th scope=col>&lt;int&gt;</th><th scope=col>&lt;int&gt;</th><th scope=col>&lt;dbl&gt;</th><th scope=col>&lt;fct&gt;</th><th scope=col>&lt;fct&gt;</th><th scope=col>&lt;ord&gt;</th></tr>\n",
              "</thead>\n",
              "<tbody>\n",
              "\t<tr><th scope=row>1</th><td>11</td><td>0</td><td>23</td><td>8</td><td>12</td><td> 800</td><td>1.603808</td><td>Masculino</td><td>Parda </td><td>11 anos</td></tr>\n",
              "\t<tr><th scope=row>2</th><td>11</td><td>1</td><td>23</td><td>2</td><td>12</td><td>1150</td><td>1.739790</td><td>Feminino </td><td>Branca</td><td>11 anos</td></tr>\n",
              "\t<tr><th scope=row>3</th><td>11</td><td>1</td><td>35</td><td>8</td><td>15</td><td> 880</td><td>1.760444</td><td>Feminino </td><td>Parda </td><td>14 anos</td></tr>\n",
              "\t<tr><th scope=row>4</th><td>11</td><td>0</td><td>46</td><td>2</td><td> 6</td><td>3500</td><td>1.783158</td><td>Masculino</td><td>Branca</td><td>5 anos </td></tr>\n",
              "\t<tr><th scope=row>5</th><td>11</td><td>1</td><td>47</td><td>8</td><td> 9</td><td> 150</td><td>1.690631</td><td>Feminino </td><td>Parda </td><td>8 anos </td></tr>\n",
              "\t<tr><th scope=row>6</th><td>11</td><td>1</td><td>34</td><td>8</td><td>12</td><td> 790</td><td>1.637906</td><td>Feminino </td><td>Parda </td><td>11 anos</td></tr>\n",
              "</tbody>\n",
              "</table>\n"
            ],
            "text/markdown": "\nA data.frame: 6 × 10\n\n| <!--/--> | UF &lt;int&gt; | Sexo &lt;int&gt; | Idade &lt;int&gt; | Cor &lt;int&gt; | Anos.de.Estudo &lt;int&gt; | Renda &lt;int&gt; | Altura &lt;dbl&gt; | Cat.Sexo &lt;fct&gt; | Cat.Cor &lt;fct&gt; | Cat.Anos.de.Estudo &lt;ord&gt; |\n|---|---|---|---|---|---|---|---|---|---|---|\n| 1 | 11 | 0 | 23 | 8 | 12 |  800 | 1.603808 | Masculino | Parda  | 11 anos |\n| 2 | 11 | 1 | 23 | 2 | 12 | 1150 | 1.739790 | Feminino  | Branca | 11 anos |\n| 3 | 11 | 1 | 35 | 8 | 15 |  880 | 1.760444 | Feminino  | Parda  | 14 anos |\n| 4 | 11 | 0 | 46 | 2 |  6 | 3500 | 1.783158 | Masculino | Branca | 5 anos  |\n| 5 | 11 | 1 | 47 | 8 |  9 |  150 | 1.690631 | Feminino  | Parda  | 8 anos  |\n| 6 | 11 | 1 | 34 | 8 | 12 |  790 | 1.637906 | Feminino  | Parda  | 11 anos |\n\n",
            "text/latex": "A data.frame: 6 × 10\n\\begin{tabular}{r|llllllllll}\n  & UF & Sexo & Idade & Cor & Anos.de.Estudo & Renda & Altura & Cat.Sexo & Cat.Cor & Cat.Anos.de.Estudo\\\\\n  & <int> & <int> & <int> & <int> & <int> & <int> & <dbl> & <fct> & <fct> & <ord>\\\\\n\\hline\n\t1 & 11 & 0 & 23 & 8 & 12 &  800 & 1.603808 & Masculino & Parda  & 11 anos\\\\\n\t2 & 11 & 1 & 23 & 2 & 12 & 1150 & 1.739790 & Feminino  & Branca & 11 anos\\\\\n\t3 & 11 & 1 & 35 & 8 & 15 &  880 & 1.760444 & Feminino  & Parda  & 14 anos\\\\\n\t4 & 11 & 0 & 46 & 2 &  6 & 3500 & 1.783158 & Masculino & Branca & 5 anos \\\\\n\t5 & 11 & 1 & 47 & 8 &  9 &  150 & 1.690631 & Feminino  & Parda  & 8 anos \\\\\n\t6 & 11 & 1 & 34 & 8 & 12 &  790 & 1.637906 & Feminino  & Parda  & 11 anos\\\\\n\\end{tabular}\n",
            "text/plain": [
              "  UF Sexo Idade Cor Anos.de.Estudo Renda Altura   Cat.Sexo  Cat.Cor\n",
              "1 11 0    23    8   12              800  1.603808 Masculino Parda  \n",
              "2 11 1    23    2   12             1150  1.739790 Feminino  Branca \n",
              "3 11 1    35    8   15              880  1.760444 Feminino  Parda  \n",
              "4 11 0    46    2    6             3500  1.783158 Masculino Branca \n",
              "5 11 1    47    8    9              150  1.690631 Feminino  Parda  \n",
              "6 11 1    34    8   12              790  1.637906 Feminino  Parda  \n",
              "  Cat.Anos.de.Estudo\n",
              "1 11 anos           \n",
              "2 11 anos           \n",
              "3 14 anos           \n",
              "4 5 anos            \n",
              "5 8 anos            \n",
              "6 11 anos           "
            ]
          },
          "metadata": {}
        }
      ]
    },
    {
      "cell_type": "code",
      "source": [
        "#Sexo e Anos de estudo\n",
        "frequencia<-table(dados$Cat.Sexo, dados$Cat.Anos.de.Estudo)\n",
        "frequencia<-cbind(frequencia)\n",
        "frequencia"
      ],
      "metadata": {
        "colab": {
          "base_uri": "https://localhost:8080/",
          "height": 201
        },
        "id": "mPFG9w23Ga1W",
        "outputId": "2690256e-9ba1-49a8-afe1-4fe30687a2b3"
      },
      "execution_count": 37,
      "outputs": [
        {
          "output_type": "display_data",
          "data": {
            "text/html": [
              "<table class=\"dataframe\">\n",
              "<caption>A matrix: 2 × 17 of type int</caption>\n",
              "<thead>\n",
              "\t<tr><th></th><th scope=col>Sem instrução e menos de 1 ano</th><th scope=col>1 ano</th><th scope=col>2 anos</th><th scope=col>3 anos</th><th scope=col>4 anos</th><th scope=col>5 anos</th><th scope=col>6 anos</th><th scope=col>7 anos</th><th scope=col>8 anos</th><th scope=col>9 anos</th><th scope=col>10 anos</th><th scope=col>11 anos</th><th scope=col>12 anos</th><th scope=col>13 anos</th><th scope=col>14 anos</th><th scope=col>15 anos ou mais</th><th scope=col>Não determinados</th></tr>\n",
              "</thead>\n",
              "<tbody>\n",
              "\t<tr><th scope=row>Masculino</th><td>4476</td><td>1081</td><td>1637</td><td>2227</td><td>5020</td><td>3247</td><td>1790</td><td>1942</td><td>5700</td><td>1287</td><td>1499</td><td>13933</td><td>1173</td><td>827</td><td>819</td><td>6487</td><td>105</td></tr>\n",
              "\t<tr><th scope=row>Feminino</th><td>1373</td><td> 307</td><td> 464</td><td> 664</td><td>1709</td><td>1252</td><td> 655</td><td> 747</td><td>2280</td><td> 553</td><td> 619</td><td> 6915</td><td> 663</td><td>426</td><td>569</td><td>4308</td><td> 86</td></tr>\n",
              "</tbody>\n",
              "</table>\n"
            ],
            "text/markdown": "\nA matrix: 2 × 17 of type int\n\n| <!--/--> | Sem instrução e menos de 1 ano | 1 ano | 2 anos | 3 anos | 4 anos | 5 anos | 6 anos | 7 anos | 8 anos | 9 anos | 10 anos | 11 anos | 12 anos | 13 anos | 14 anos | 15 anos ou mais | Não determinados |\n|---|---|---|---|---|---|---|---|---|---|---|---|---|---|---|---|---|---|\n| Masculino | 4476 | 1081 | 1637 | 2227 | 5020 | 3247 | 1790 | 1942 | 5700 | 1287 | 1499 | 13933 | 1173 | 827 | 819 | 6487 | 105 |\n| Feminino | 1373 |  307 |  464 |  664 | 1709 | 1252 |  655 |  747 | 2280 |  553 |  619 |  6915 |  663 | 426 | 569 | 4308 |  86 |\n\n",
            "text/latex": "A matrix: 2 × 17 of type int\n\\begin{tabular}{r|lllllllllllllllll}\n  & Sem instrução e menos de 1 ano & 1 ano & 2 anos & 3 anos & 4 anos & 5 anos & 6 anos & 7 anos & 8 anos & 9 anos & 10 anos & 11 anos & 12 anos & 13 anos & 14 anos & 15 anos ou mais & Não determinados\\\\\n\\hline\n\tMasculino & 4476 & 1081 & 1637 & 2227 & 5020 & 3247 & 1790 & 1942 & 5700 & 1287 & 1499 & 13933 & 1173 & 827 & 819 & 6487 & 105\\\\\n\tFeminino & 1373 &  307 &  464 &  664 & 1709 & 1252 &  655 &  747 & 2280 &  553 &  619 &  6915 &  663 & 426 & 569 & 4308 &  86\\\\\n\\end{tabular}\n",
            "text/plain": [
              "          Sem instrução e menos de 1 ano 1 ano 2 anos 3 anos 4 anos 5 anos\n",
              "Masculino 4476                           1081  1637   2227   5020   3247  \n",
              "Feminino  1373                            307   464    664   1709   1252  \n",
              "          6 anos 7 anos 8 anos 9 anos 10 anos 11 anos 12 anos 13 anos 14 anos\n",
              "Masculino 1790   1942   5700   1287   1499    13933   1173    827     819    \n",
              "Feminino   655    747   2280    553    619     6915    663    426     569    \n",
              "          15 anos ou mais Não determinados\n",
              "Masculino 6487            105             \n",
              "Feminino  4308             86             "
            ]
          },
          "metadata": {}
        }
      ]
    },
    {
      "cell_type": "code",
      "source": [
        "#Sexo e Cor\n",
        "frequencia<-table(dados$Cat.Sexo, dados$Cat.Cor)\n",
        "frequencia<-cbind(frequencia)\n",
        "frequencia\n",
        "\n",
        "percentual<-round(cbind(prop.table(frequencia)*100),2)\n",
        "percentual\n",
        "\n",
        "\n",
        "\n",
        "freq<-table(dados$Renda,dados$Sexo )\n",
        "freq<-cbind(freq)\n",
        "freq"
      ],
      "metadata": {
        "colab": {
          "base_uri": "https://localhost:8080/",
          "height": 1000
        },
        "id": "JV5at3VdGixj",
        "outputId": "4c6af7c8-f033-4b26-bc46-d31fed4d89af"
      },
      "execution_count": 38,
      "outputs": [
        {
          "output_type": "display_data",
          "data": {
            "text/html": [
              "<table class=\"dataframe\">\n",
              "<caption>A matrix: 2 × 5 of type int</caption>\n",
              "<thead>\n",
              "\t<tr><th></th><th scope=col>Indígena</th><th scope=col>Branca</th><th scope=col>Preta</th><th scope=col>Amarela</th><th scope=col>Parda</th></tr>\n",
              "</thead>\n",
              "<tbody>\n",
              "\t<tr><th scope=row>Masculino</th><td>256</td><td>22194</td><td>5502</td><td>235</td><td>25063</td></tr>\n",
              "\t<tr><th scope=row>Feminino</th><td>101</td><td> 9621</td><td>2889</td><td>117</td><td>10862</td></tr>\n",
              "</tbody>\n",
              "</table>\n"
            ],
            "text/markdown": "\nA matrix: 2 × 5 of type int\n\n| <!--/--> | Indígena | Branca | Preta | Amarela | Parda |\n|---|---|---|---|---|---|\n| Masculino | 256 | 22194 | 5502 | 235 | 25063 |\n| Feminino | 101 |  9621 | 2889 | 117 | 10862 |\n\n",
            "text/latex": "A matrix: 2 × 5 of type int\n\\begin{tabular}{r|lllll}\n  & Indígena & Branca & Preta & Amarela & Parda\\\\\n\\hline\n\tMasculino & 256 & 22194 & 5502 & 235 & 25063\\\\\n\tFeminino & 101 &  9621 & 2889 & 117 & 10862\\\\\n\\end{tabular}\n",
            "text/plain": [
              "          Indígena Branca Preta Amarela Parda\n",
              "Masculino 256      22194  5502  235     25063\n",
              "Feminino  101       9621  2889  117     10862"
            ]
          },
          "metadata": {}
        },
        {
          "output_type": "display_data",
          "data": {
            "text/html": [
              "<table class=\"dataframe\">\n",
              "<caption>A matrix: 2 × 5 of type dbl</caption>\n",
              "<thead>\n",
              "\t<tr><th></th><th scope=col>Indígena</th><th scope=col>Branca</th><th scope=col>Preta</th><th scope=col>Amarela</th><th scope=col>Parda</th></tr>\n",
              "</thead>\n",
              "<tbody>\n",
              "\t<tr><th scope=row>Masculino</th><td>0.33</td><td>28.88</td><td>7.16</td><td>0.31</td><td>32.62</td></tr>\n",
              "\t<tr><th scope=row>Feminino</th><td>0.13</td><td>12.52</td><td>3.76</td><td>0.15</td><td>14.14</td></tr>\n",
              "</tbody>\n",
              "</table>\n"
            ],
            "text/markdown": "\nA matrix: 2 × 5 of type dbl\n\n| <!--/--> | Indígena | Branca | Preta | Amarela | Parda |\n|---|---|---|---|---|---|\n| Masculino | 0.33 | 28.88 | 7.16 | 0.31 | 32.62 |\n| Feminino | 0.13 | 12.52 | 3.76 | 0.15 | 14.14 |\n\n",
            "text/latex": "A matrix: 2 × 5 of type dbl\n\\begin{tabular}{r|lllll}\n  & Indígena & Branca & Preta & Amarela & Parda\\\\\n\\hline\n\tMasculino & 0.33 & 28.88 & 7.16 & 0.31 & 32.62\\\\\n\tFeminino & 0.13 & 12.52 & 3.76 & 0.15 & 14.14\\\\\n\\end{tabular}\n",
            "text/plain": [
              "          Indígena Branca Preta Amarela Parda\n",
              "Masculino 0.33     28.88  7.16  0.31    32.62\n",
              "Feminino  0.13     12.52  3.76  0.15    14.14"
            ]
          },
          "metadata": {}
        },
        {
          "output_type": "display_data",
          "data": {
            "text/html": [
              "<table class=\"dataframe\">\n",
              "<caption>A matrix: 1606 × 2 of type int</caption>\n",
              "<thead>\n",
              "\t<tr><th></th><th scope=col>0</th><th scope=col>1</th></tr>\n",
              "</thead>\n",
              "<tbody>\n",
              "\t<tr><th scope=row>0</th><td>1830</td><td>1037</td></tr>\n",
              "\t<tr><th scope=row>5</th><td>   1</td><td>   0</td></tr>\n",
              "\t<tr><th scope=row>6</th><td>   1</td><td>   0</td></tr>\n",
              "\t<tr><th scope=row>8</th><td>   1</td><td>   1</td></tr>\n",
              "\t<tr><th scope=row>10</th><td>   4</td><td>   5</td></tr>\n",
              "\t<tr><th scope=row>12</th><td>   0</td><td>   1</td></tr>\n",
              "\t<tr><th scope=row>13</th><td>   2</td><td>   1</td></tr>\n",
              "\t<tr><th scope=row>14</th><td>   1</td><td>   0</td></tr>\n",
              "\t<tr><th scope=row>15</th><td>   6</td><td>   2</td></tr>\n",
              "\t<tr><th scope=row>19</th><td>   1</td><td>   0</td></tr>\n",
              "\t<tr><th scope=row>20</th><td>   7</td><td>  14</td></tr>\n",
              "\t<tr><th scope=row>22</th><td>   1</td><td>   0</td></tr>\n",
              "\t<tr><th scope=row>24</th><td>   1</td><td>   0</td></tr>\n",
              "\t<tr><th scope=row>25</th><td>   5</td><td>   3</td></tr>\n",
              "\t<tr><th scope=row>26</th><td>   0</td><td>   1</td></tr>\n",
              "\t<tr><th scope=row>27</th><td>   0</td><td>   1</td></tr>\n",
              "\t<tr><th scope=row>30</th><td>  13</td><td>  20</td></tr>\n",
              "\t<tr><th scope=row>31</th><td>   1</td><td>   1</td></tr>\n",
              "\t<tr><th scope=row>33</th><td>   2</td><td>   0</td></tr>\n",
              "\t<tr><th scope=row>35</th><td>   9</td><td>   2</td></tr>\n",
              "\t<tr><th scope=row>38</th><td>   2</td><td>   0</td></tr>\n",
              "\t<tr><th scope=row>39</th><td>   1</td><td>   0</td></tr>\n",
              "\t<tr><th scope=row>40</th><td>  12</td><td>  24</td></tr>\n",
              "\t<tr><th scope=row>41</th><td>   1</td><td>   0</td></tr>\n",
              "\t<tr><th scope=row>42</th><td>   2</td><td>   0</td></tr>\n",
              "\t<tr><th scope=row>45</th><td>   6</td><td>   4</td></tr>\n",
              "\t<tr><th scope=row>46</th><td>   1</td><td>   0</td></tr>\n",
              "\t<tr><th scope=row>48</th><td>   1</td><td>   1</td></tr>\n",
              "\t<tr><th scope=row>50</th><td>  59</td><td>  72</td></tr>\n",
              "\t<tr><th scope=row>55</th><td>   1</td><td>   0</td></tr>\n",
              "\t<tr><th scope=row>⋮</th><td>⋮</td><td>⋮</td></tr>\n",
              "\t<tr><th scope=row>24000</th><td> 4</td><td> 1</td></tr>\n",
              "\t<tr><th scope=row>24500</th><td> 0</td><td> 1</td></tr>\n",
              "\t<tr><th scope=row>24800</th><td> 1</td><td> 0</td></tr>\n",
              "\t<tr><th scope=row>25000</th><td>44</td><td> 3</td></tr>\n",
              "\t<tr><th scope=row>26000</th><td> 3</td><td> 1</td></tr>\n",
              "\t<tr><th scope=row>26400</th><td> 0</td><td> 1</td></tr>\n",
              "\t<tr><th scope=row>27000</th><td> 6</td><td> 0</td></tr>\n",
              "\t<tr><th scope=row>28000</th><td>12</td><td> 1</td></tr>\n",
              "\t<tr><th scope=row>30000</th><td>58</td><td>11</td></tr>\n",
              "\t<tr><th scope=row>32000</th><td> 4</td><td> 0</td></tr>\n",
              "\t<tr><th scope=row>33000</th><td> 2</td><td> 1</td></tr>\n",
              "\t<tr><th scope=row>33400</th><td> 1</td><td> 0</td></tr>\n",
              "\t<tr><th scope=row>34000</th><td> 2</td><td> 0</td></tr>\n",
              "\t<tr><th scope=row>35000</th><td>11</td><td> 0</td></tr>\n",
              "\t<tr><th scope=row>36000</th><td> 1</td><td> 0</td></tr>\n",
              "\t<tr><th scope=row>38000</th><td> 1</td><td> 1</td></tr>\n",
              "\t<tr><th scope=row>40000</th><td>11</td><td> 0</td></tr>\n",
              "\t<tr><th scope=row>42000</th><td> 1</td><td> 0</td></tr>\n",
              "\t<tr><th scope=row>43000</th><td> 1</td><td> 0</td></tr>\n",
              "\t<tr><th scope=row>45000</th><td> 3</td><td> 0</td></tr>\n",
              "\t<tr><th scope=row>48000</th><td> 3</td><td> 0</td></tr>\n",
              "\t<tr><th scope=row>50000</th><td> 9</td><td> 2</td></tr>\n",
              "\t<tr><th scope=row>57000</th><td> 1</td><td> 0</td></tr>\n",
              "\t<tr><th scope=row>58000</th><td> 1</td><td> 0</td></tr>\n",
              "\t<tr><th scope=row>60000</th><td> 4</td><td> 1</td></tr>\n",
              "\t<tr><th scope=row>80000</th><td> 4</td><td> 0</td></tr>\n",
              "\t<tr><th scope=row>90000</th><td> 1</td><td> 0</td></tr>\n",
              "\t<tr><th scope=row>100000</th><td> 4</td><td> 2</td></tr>\n",
              "\t<tr><th scope=row>120000</th><td> 0</td><td> 1</td></tr>\n",
              "\t<tr><th scope=row>200000</th><td> 3</td><td> 0</td></tr>\n",
              "</tbody>\n",
              "</table>\n"
            ],
            "text/markdown": "\nA matrix: 1606 × 2 of type int\n\n| <!--/--> | 0 | 1 |\n|---|---|---|\n| 0 | 1830 | 1037 |\n| 5 |    1 |    0 |\n| 6 |    1 |    0 |\n| 8 |    1 |    1 |\n| 10 |    4 |    5 |\n| 12 |    0 |    1 |\n| 13 |    2 |    1 |\n| 14 |    1 |    0 |\n| 15 |    6 |    2 |\n| 19 |    1 |    0 |\n| 20 |    7 |   14 |\n| 22 |    1 |    0 |\n| 24 |    1 |    0 |\n| 25 |    5 |    3 |\n| 26 |    0 |    1 |\n| 27 |    0 |    1 |\n| 30 |   13 |   20 |\n| 31 |    1 |    1 |\n| 33 |    2 |    0 |\n| 35 |    9 |    2 |\n| 38 |    2 |    0 |\n| 39 |    1 |    0 |\n| 40 |   12 |   24 |\n| 41 |    1 |    0 |\n| 42 |    2 |    0 |\n| 45 |    6 |    4 |\n| 46 |    1 |    0 |\n| 48 |    1 |    1 |\n| 50 |   59 |   72 |\n| 55 |    1 |    0 |\n| ⋮ | ⋮ | ⋮ |\n| 24000 |  4 |  1 |\n| 24500 |  0 |  1 |\n| 24800 |  1 |  0 |\n| 25000 | 44 |  3 |\n| 26000 |  3 |  1 |\n| 26400 |  0 |  1 |\n| 27000 |  6 |  0 |\n| 28000 | 12 |  1 |\n| 30000 | 58 | 11 |\n| 32000 |  4 |  0 |\n| 33000 |  2 |  1 |\n| 33400 |  1 |  0 |\n| 34000 |  2 |  0 |\n| 35000 | 11 |  0 |\n| 36000 |  1 |  0 |\n| 38000 |  1 |  1 |\n| 40000 | 11 |  0 |\n| 42000 |  1 |  0 |\n| 43000 |  1 |  0 |\n| 45000 |  3 |  0 |\n| 48000 |  3 |  0 |\n| 50000 |  9 |  2 |\n| 57000 |  1 |  0 |\n| 58000 |  1 |  0 |\n| 60000 |  4 |  1 |\n| 80000 |  4 |  0 |\n| 90000 |  1 |  0 |\n| 100000 |  4 |  2 |\n| 120000 |  0 |  1 |\n| 200000 |  3 |  0 |\n\n",
            "text/latex": "A matrix: 1606 × 2 of type int\n\\begin{tabular}{r|ll}\n  & 0 & 1\\\\\n\\hline\n\t0 & 1830 & 1037\\\\\n\t5 &    1 &    0\\\\\n\t6 &    1 &    0\\\\\n\t8 &    1 &    1\\\\\n\t10 &    4 &    5\\\\\n\t12 &    0 &    1\\\\\n\t13 &    2 &    1\\\\\n\t14 &    1 &    0\\\\\n\t15 &    6 &    2\\\\\n\t19 &    1 &    0\\\\\n\t20 &    7 &   14\\\\\n\t22 &    1 &    0\\\\\n\t24 &    1 &    0\\\\\n\t25 &    5 &    3\\\\\n\t26 &    0 &    1\\\\\n\t27 &    0 &    1\\\\\n\t30 &   13 &   20\\\\\n\t31 &    1 &    1\\\\\n\t33 &    2 &    0\\\\\n\t35 &    9 &    2\\\\\n\t38 &    2 &    0\\\\\n\t39 &    1 &    0\\\\\n\t40 &   12 &   24\\\\\n\t41 &    1 &    0\\\\\n\t42 &    2 &    0\\\\\n\t45 &    6 &    4\\\\\n\t46 &    1 &    0\\\\\n\t48 &    1 &    1\\\\\n\t50 &   59 &   72\\\\\n\t55 &    1 &    0\\\\\n\t⋮ & ⋮ & ⋮\\\\\n\t24000 &  4 &  1\\\\\n\t24500 &  0 &  1\\\\\n\t24800 &  1 &  0\\\\\n\t25000 & 44 &  3\\\\\n\t26000 &  3 &  1\\\\\n\t26400 &  0 &  1\\\\\n\t27000 &  6 &  0\\\\\n\t28000 & 12 &  1\\\\\n\t30000 & 58 & 11\\\\\n\t32000 &  4 &  0\\\\\n\t33000 &  2 &  1\\\\\n\t33400 &  1 &  0\\\\\n\t34000 &  2 &  0\\\\\n\t35000 & 11 &  0\\\\\n\t36000 &  1 &  0\\\\\n\t38000 &  1 &  1\\\\\n\t40000 & 11 &  0\\\\\n\t42000 &  1 &  0\\\\\n\t43000 &  1 &  0\\\\\n\t45000 &  3 &  0\\\\\n\t48000 &  3 &  0\\\\\n\t50000 &  9 &  2\\\\\n\t57000 &  1 &  0\\\\\n\t58000 &  1 &  0\\\\\n\t60000 &  4 &  1\\\\\n\t80000 &  4 &  0\\\\\n\t90000 &  1 &  0\\\\\n\t100000 &  4 &  2\\\\\n\t120000 &  0 &  1\\\\\n\t200000 &  3 &  0\\\\\n\\end{tabular}\n",
            "text/plain": [
              "       0    1   \n",
              "0      1830 1037\n",
              "5         1    0\n",
              "6         1    0\n",
              "8         1    1\n",
              "10        4    5\n",
              "12        0    1\n",
              "13        2    1\n",
              "14        1    0\n",
              "15        6    2\n",
              "19        1    0\n",
              "20        7   14\n",
              "22        1    0\n",
              "24        1    0\n",
              "25        5    3\n",
              "26        0    1\n",
              "27        0    1\n",
              "30       13   20\n",
              "31        1    1\n",
              "33        2    0\n",
              "35        9    2\n",
              "38        2    0\n",
              "39        1    0\n",
              "40       12   24\n",
              "41        1    0\n",
              "42        2    0\n",
              "45        6    4\n",
              "46        1    0\n",
              "48        1    1\n",
              "50       59   72\n",
              "55        1    0\n",
              "⋮      ⋮    ⋮   \n",
              "24000   4    1  \n",
              "24500   0    1  \n",
              "24800   1    0  \n",
              "25000  44    3  \n",
              "26000   3    1  \n",
              "26400   0    1  \n",
              "27000   6    0  \n",
              "28000  12    1  \n",
              "30000  58   11  \n",
              "32000   4    0  \n",
              "33000   2    1  \n",
              "33400   1    0  \n",
              "34000   2    0  \n",
              "35000  11    0  \n",
              "36000   1    0  \n",
              "38000   1    1  \n",
              "40000  11    0  \n",
              "42000   1    0  \n",
              "43000   1    0  \n",
              "45000   3    0  \n",
              "48000   3    0  \n",
              "50000   9    2  \n",
              "57000   1    0  \n",
              "58000   1    0  \n",
              "60000   4    1  \n",
              "80000   4    0  \n",
              "90000   1    0  \n",
              "100000  4    2  \n",
              "120000  0    1  \n",
              "200000  3    0  "
            ]
          },
          "metadata": {}
        }
      ]
    },
    {
      "cell_type": "code",
      "source": [
        "#CONCLUSÕES\n",
        "'Percebe-se que 32,6% da população asculina é de cor parda, para o feminino 14,1%'"
      ],
      "metadata": {
        "colab": {
          "base_uri": "https://localhost:8080/",
          "height": 34
        },
        "id": "Q_eHE6rzGmke",
        "outputId": "6315e148-e0f8-4889-8adc-0ef0a83f7a5f"
      },
      "execution_count": 40,
      "outputs": [
        {
          "output_type": "display_data",
          "data": {
            "text/html": [
              "'Percebe-se que 32,6% da população asculina é de cor parda, para o feminino 14,1%'"
            ],
            "text/markdown": "'Percebe-se que 32,6% da população asculina é de cor parda, para o feminino 14,1%'",
            "text/latex": "'Percebe-se que 32,6\\% da população asculina é de cor parda, para o feminino 14,1\\%'",
            "text/plain": [
              "[1] \"Percebe-se que 32,6% da população asculina é de cor parda, para o feminino 14,1%\""
            ]
          },
          "metadata": {}
        }
      ]
    },
    {
      "cell_type": "code",
      "source": [
        "#ANÁLISE DESCRITIVA DA RENDA\n",
        "\n",
        "mean(dados$Renda)\n",
        "\n",
        "\n",
        "median(dados$Renda)\n",
        "\n",
        "\n",
        "Moda <- function(x) {\n",
        "  frequencias <- table(x) \n",
        "  return(names(frequencias)[frequencias == max(frequencias)])\n",
        "}\n",
        "\n",
        "as.numeric(Moda(dados$Renda))\n",
        "\n",
        "var(dados$Renda)\n",
        "\n",
        "\n",
        "sd(dados$Renda)\n"
      ],
      "metadata": {
        "colab": {
          "base_uri": "https://localhost:8080/",
          "height": 104
        },
        "id": "U8cE2BkvGrh3",
        "outputId": "f0bc15eb-1707-4e68-9d87-ecc1b4a17659"
      },
      "execution_count": 43,
      "outputs": [
        {
          "output_type": "display_data",
          "data": {
            "text/html": [
              "2000.38319885476"
            ],
            "text/markdown": "2000.38319885476",
            "text/latex": "2000.38319885476",
            "text/plain": [
              "[1] 2000.383"
            ]
          },
          "metadata": {}
        },
        {
          "output_type": "display_data",
          "data": {
            "text/html": [
              "1200"
            ],
            "text/markdown": "1200",
            "text/latex": "1200",
            "text/plain": [
              "[1] 1200"
            ]
          },
          "metadata": {}
        },
        {
          "output_type": "display_data",
          "data": {
            "text/html": [
              "788"
            ],
            "text/markdown": "788",
            "text/latex": "788",
            "text/plain": [
              "[1] 788"
            ]
          },
          "metadata": {}
        },
        {
          "output_type": "display_data",
          "data": {
            "text/html": [
              "11044906.006217"
            ],
            "text/markdown": "11044906.006217",
            "text/latex": "11044906.006217",
            "text/plain": [
              "[1] 11044906"
            ]
          },
          "metadata": {}
        },
        {
          "output_type": "display_data",
          "data": {
            "text/html": [
              "3323.3877303464"
            ],
            "text/markdown": "3323.3877303464",
            "text/latex": "3323.3877303464",
            "text/plain": [
              "[1] 3323.388"
            ]
          },
          "metadata": {}
        }
      ]
    },
    {
      "cell_type": "code",
      "source": [
        "\n",
        "#Média, mediana,  valor máximo, desvio padrão e variância da variável RENDA segundo cor\n",
        "\n",
        "medias<-tapply(dados$Renda, list(dados$Cat.Sexo, dados$Cat.Cor), mean)\n",
        "medias\n",
        "\n",
        "\n",
        "mediana<-tapply(dados$Renda, list(dados$Cat.Sexo, dados$Cat.Cor), median)\n",
        "mediana\n",
        "\n",
        "maximo<-tapply(dados$Renda, list(dados$Cat.Sexo, dados$Cat.Cor), max)\n",
        "maximo\n",
        "\n",
        "variancia<-tapply(dados$Renda, list(dados$Cat.Sexo, dados$Cat.Cor), var)\n",
        "variancia\n",
        "\n",
        "desvio_padrao<-tapply(dados$Renda, list(dados$Cat.Sexo, dados$Cat.Cor), sd)\n",
        "desvio_padrao"
      ],
      "metadata": {
        "colab": {
          "base_uri": "https://localhost:8080/",
          "height": 577
        },
        "id": "Ev-rnXASHDgN",
        "outputId": "9091618f-9587-41bc-dd2d-d09878b199f1"
      },
      "execution_count": 44,
      "outputs": [
        {
          "output_type": "display_data",
          "data": {
            "text/html": [
              "<table class=\"dataframe\">\n",
              "<caption>A matrix: 2 × 5 of type dbl</caption>\n",
              "<thead>\n",
              "\t<tr><th></th><th scope=col>Indígena</th><th scope=col>Branca</th><th scope=col>Preta</th><th scope=col>Amarela</th><th scope=col>Parda</th></tr>\n",
              "</thead>\n",
              "<tbody>\n",
              "\t<tr><th scope=row>Masculino</th><td>1081.711</td><td>2925.744</td><td>1603.862</td><td>4758.251</td><td>1659.577</td></tr>\n",
              "\t<tr><th scope=row>Feminino</th><td>2464.386</td><td>2109.867</td><td>1134.596</td><td>3027.342</td><td>1176.759</td></tr>\n",
              "</tbody>\n",
              "</table>\n"
            ],
            "text/markdown": "\nA matrix: 2 × 5 of type dbl\n\n| <!--/--> | Indígena | Branca | Preta | Amarela | Parda |\n|---|---|---|---|---|---|\n| Masculino | 1081.711 | 2925.744 | 1603.862 | 4758.251 | 1659.577 |\n| Feminino | 2464.386 | 2109.867 | 1134.596 | 3027.342 | 1176.759 |\n\n",
            "text/latex": "A matrix: 2 × 5 of type dbl\n\\begin{tabular}{r|lllll}\n  & Indígena & Branca & Preta & Amarela & Parda\\\\\n\\hline\n\tMasculino & 1081.711 & 2925.744 & 1603.862 & 4758.251 & 1659.577\\\\\n\tFeminino & 2464.386 & 2109.867 & 1134.596 & 3027.342 & 1176.759\\\\\n\\end{tabular}\n",
            "text/plain": [
              "          Indígena Branca   Preta    Amarela  Parda   \n",
              "Masculino 1081.711 2925.744 1603.862 4758.251 1659.577\n",
              "Feminino  2464.386 2109.867 1134.596 3027.342 1176.759"
            ]
          },
          "metadata": {}
        },
        {
          "output_type": "display_data",
          "data": {
            "text/html": [
              "<table class=\"dataframe\">\n",
              "<caption>A matrix: 2 × 5 of type dbl</caption>\n",
              "<thead>\n",
              "\t<tr><th></th><th scope=col>Indígena</th><th scope=col>Branca</th><th scope=col>Preta</th><th scope=col>Amarela</th><th scope=col>Parda</th></tr>\n",
              "</thead>\n",
              "<tbody>\n",
              "\t<tr><th scope=row>Masculino</th><td>797.5</td><td>1700</td><td>1200</td><td>2800</td><td>1200</td></tr>\n",
              "\t<tr><th scope=row>Feminino</th><td>788.0</td><td>1200</td><td> 800</td><td>1500</td><td> 800</td></tr>\n",
              "</tbody>\n",
              "</table>\n"
            ],
            "text/markdown": "\nA matrix: 2 × 5 of type dbl\n\n| <!--/--> | Indígena | Branca | Preta | Amarela | Parda |\n|---|---|---|---|---|---|\n| Masculino | 797.5 | 1700 | 1200 | 2800 | 1200 |\n| Feminino | 788.0 | 1200 |  800 | 1500 |  800 |\n\n",
            "text/latex": "A matrix: 2 × 5 of type dbl\n\\begin{tabular}{r|lllll}\n  & Indígena & Branca & Preta & Amarela & Parda\\\\\n\\hline\n\tMasculino & 797.5 & 1700 & 1200 & 2800 & 1200\\\\\n\tFeminino & 788.0 & 1200 &  800 & 1500 &  800\\\\\n\\end{tabular}\n",
            "text/plain": [
              "          Indígena Branca Preta Amarela Parda\n",
              "Masculino 797.5    1700   1200  2800    1200 \n",
              "Feminino  788.0    1200    800  1500     800 "
            ]
          },
          "metadata": {}
        },
        {
          "output_type": "display_data",
          "data": {
            "text/html": [
              "<table class=\"dataframe\">\n",
              "<caption>A matrix: 2 × 5 of type int</caption>\n",
              "<thead>\n",
              "\t<tr><th></th><th scope=col>Indígena</th><th scope=col>Branca</th><th scope=col>Preta</th><th scope=col>Amarela</th><th scope=col>Parda</th></tr>\n",
              "</thead>\n",
              "<tbody>\n",
              "\t<tr><th scope=row>Masculino</th><td> 10000</td><td>200000</td><td>50000</td><td>50000</td><td>100000</td></tr>\n",
              "\t<tr><th scope=row>Feminino</th><td>120000</td><td>100000</td><td>23000</td><td>20000</td><td> 30000</td></tr>\n",
              "</tbody>\n",
              "</table>\n"
            ],
            "text/markdown": "\nA matrix: 2 × 5 of type int\n\n| <!--/--> | Indígena | Branca | Preta | Amarela | Parda |\n|---|---|---|---|---|---|\n| Masculino |  10000 | 200000 | 50000 | 50000 | 100000 |\n| Feminino | 120000 | 100000 | 23000 | 20000 |  30000 |\n\n",
            "text/latex": "A matrix: 2 × 5 of type int\n\\begin{tabular}{r|lllll}\n  & Indígena & Branca & Preta & Amarela & Parda\\\\\n\\hline\n\tMasculino &  10000 & 200000 & 50000 & 50000 & 100000\\\\\n\tFeminino & 120000 & 100000 & 23000 & 20000 &  30000\\\\\n\\end{tabular}\n",
            "text/plain": [
              "          Indígena Branca Preta Amarela Parda \n",
              "Masculino  10000   200000 50000 50000   100000\n",
              "Feminino  120000   100000 23000 20000    30000"
            ]
          },
          "metadata": {}
        },
        {
          "output_type": "display_data",
          "data": {
            "text/html": [
              "<table class=\"dataframe\">\n",
              "<caption>A matrix: 2 × 5 of type dbl</caption>\n",
              "<thead>\n",
              "\t<tr><th></th><th scope=col>Indígena</th><th scope=col>Branca</th><th scope=col>Preta</th><th scope=col>Amarela</th><th scope=col>Parda</th></tr>\n",
              "</thead>\n",
              "<tbody>\n",
              "\t<tr><th scope=row>Masculino</th><td>  1449841</td><td>22570023</td><td>3749294</td><td>32957070</td><td>5345747</td></tr>\n",
              "\t<tr><th scope=row>Feminino</th><td>142981765</td><td>10569087</td><td>1821960</td><td>13921657</td><td>2547960</td></tr>\n",
              "</tbody>\n",
              "</table>\n"
            ],
            "text/markdown": "\nA matrix: 2 × 5 of type dbl\n\n| <!--/--> | Indígena | Branca | Preta | Amarela | Parda |\n|---|---|---|---|---|---|\n| Masculino |   1449841 | 22570023 | 3749294 | 32957070 | 5345747 |\n| Feminino | 142981765 | 10569087 | 1821960 | 13921657 | 2547960 |\n\n",
            "text/latex": "A matrix: 2 × 5 of type dbl\n\\begin{tabular}{r|lllll}\n  & Indígena & Branca & Preta & Amarela & Parda\\\\\n\\hline\n\tMasculino &   1449841 & 22570023 & 3749294 & 32957070 & 5345747\\\\\n\tFeminino & 142981765 & 10569087 & 1821960 & 13921657 & 2547960\\\\\n\\end{tabular}\n",
            "text/plain": [
              "          Indígena  Branca   Preta   Amarela  Parda  \n",
              "Masculino   1449841 22570023 3749294 32957070 5345747\n",
              "Feminino  142981765 10569087 1821960 13921657 2547960"
            ]
          },
          "metadata": {}
        },
        {
          "output_type": "display_data",
          "data": {
            "text/html": [
              "<table class=\"dataframe\">\n",
              "<caption>A matrix: 2 × 5 of type dbl</caption>\n",
              "<thead>\n",
              "\t<tr><th></th><th scope=col>Indígena</th><th scope=col>Branca</th><th scope=col>Preta</th><th scope=col>Amarela</th><th scope=col>Parda</th></tr>\n",
              "</thead>\n",
              "<tbody>\n",
              "\t<tr><th scope=row>Masculino</th><td> 1204.093</td><td>4750.792</td><td>1936.309</td><td>5740.825</td><td>2312.087</td></tr>\n",
              "\t<tr><th scope=row>Feminino</th><td>11957.498</td><td>3251.013</td><td>1349.800</td><td>3731.174</td><td>1596.233</td></tr>\n",
              "</tbody>\n",
              "</table>\n"
            ],
            "text/markdown": "\nA matrix: 2 × 5 of type dbl\n\n| <!--/--> | Indígena | Branca | Preta | Amarela | Parda |\n|---|---|---|---|---|---|\n| Masculino |  1204.093 | 4750.792 | 1936.309 | 5740.825 | 2312.087 |\n| Feminino | 11957.498 | 3251.013 | 1349.800 | 3731.174 | 1596.233 |\n\n",
            "text/latex": "A matrix: 2 × 5 of type dbl\n\\begin{tabular}{r|lllll}\n  & Indígena & Branca & Preta & Amarela & Parda\\\\\n\\hline\n\tMasculino &  1204.093 & 4750.792 & 1936.309 & 5740.825 & 2312.087\\\\\n\tFeminino & 11957.498 & 3251.013 & 1349.800 & 3731.174 & 1596.233\\\\\n\\end{tabular}\n",
            "text/plain": [
              "          Indígena  Branca   Preta    Amarela  Parda   \n",
              "Masculino  1204.093 4750.792 1936.309 5740.825 2312.087\n",
              "Feminino  11957.498 3251.013 1349.800 3731.174 1596.233"
            ]
          },
          "metadata": {}
        }
      ]
    },
    {
      "cell_type": "code",
      "source": [
        "#Conclusões\n",
        "'Conclui-se que a maior média de renda se encontra para a cor Amarela, tanto para masculino e feminino'"
      ],
      "metadata": {
        "colab": {
          "base_uri": "https://localhost:8080/",
          "height": 34
        },
        "id": "vN-TA5y_HDzI",
        "outputId": "b0eaae78-6ea6-48c7-ec04-b2dd5542662e"
      },
      "execution_count": 45,
      "outputs": [
        {
          "output_type": "display_data",
          "data": {
            "text/html": [
              "'Conclui-se que a maior média de renda se encontra para a cor Amarela, tanto para masculino e feminino'"
            ],
            "text/markdown": "'Conclui-se que a maior média de renda se encontra para a cor Amarela, tanto para masculino e feminino'",
            "text/latex": "'Conclui-se que a maior média de renda se encontra para a cor Amarela, tanto para masculino e feminino'",
            "text/plain": [
              "[1] \"Conclui-se que a maior média de renda se encontra para a cor Amarela, tanto para masculino e feminino\""
            ]
          },
          "metadata": {}
        }
      ]
    },
    {
      "cell_type": "code",
      "source": [
        "#análise da renda cor e sexo\n",
        "\n",
        "ggplot(data = dados[dados$Renda < 10000, ], aes(x = Cat.Cor, y = Renda, fill = Cat.Sexo)) + \n",
        "  geom_boxplot(size = 0.2) + \n",
        "  coord_flip() +\n",
        "  ylab(\"R$\") + \n",
        "  xlab(\"Cor\") + \n",
        "  guides(fill = guide_legend(title = 'Sexo')) +\n",
        "  ggtitle('Box-plot da RENDA por SEXO e COR') "
      ],
      "metadata": {
        "colab": {
          "base_uri": "https://localhost:8080/",
          "height": 437
        },
        "id": "QmkcZUsXHPlo",
        "outputId": "4a5ae5b9-736f-46a7-99d0-caafecf5821b"
      },
      "execution_count": 46,
      "outputs": [
        {
          "output_type": "display_data",
          "data": {
            "text/plain": [
              "plot without title"
            ],
            "image/png": "[encoded data removed]"
          },
          "metadata": {
            "image/png": {
              "width": 420,
              "height": 420
            }
          }
        }
      ]
    },
    {
      "cell_type": "code",
      "source": [
        "#Percentual de pessoas do dataset ganham salário mímimo (R$788,00) ou enos?\n",
        "\n",
        "round(\n",
        "  \n",
        "  length(dados$Renda[dados$Renda <= 788]) / length(dados$Renda) ,3\n",
        ")"
      ],
      "metadata": {
        "colab": {
          "base_uri": "https://localhost:8080/",
          "height": 34
        },
        "id": "_mt9-yNZHVin",
        "outputId": "6f6b1f19-ce72-4496-8d52-cce36a9fd36e"
      },
      "execution_count": 47,
      "outputs": [
        {
          "output_type": "display_data",
          "data": {
            "text/html": [
              "0.289"
            ],
            "text/markdown": "0.289",
            "text/latex": "0.289",
            "text/plain": [
              "[1] 0.289"
            ]
          },
          "metadata": {}
        }
      ]
    },
    {
      "cell_type": "code",
      "source": [
        "\n",
        "#o valor máximo ganho por 99% das pessoas de nosso dataset\n",
        "\n",
        "quantile(dados$Renda, .99)"
      ],
      "metadata": {
        "colab": {
          "base_uri": "https://localhost:8080/",
          "height": 34
        },
        "id": "7q0GqZokHjjw",
        "outputId": "43fc6b48-9072-4fe9-d15b-1ccc04ff5088"
      },
      "execution_count": 48,
      "outputs": [
        {
          "output_type": "display_data",
          "data": {
            "text/html": [
              "<strong>99%:</strong> 15000"
            ],
            "text/markdown": "**99%:** 15000",
            "text/latex": "\\textbf{99\\textbackslash{}\\%:} 15000",
            "text/plain": [
              "  99% \n",
              "15000 "
            ]
          },
          "metadata": {}
        }
      ]
    },
    {
      "cell_type": "code",
      "source": [
        "\n",
        "#Média, mediana, valor máximo e desvio-padrão da variável RENDA segundo ANOS DE ESTUDO e SEXO\n",
        "\n",
        "dados\n",
        "\n",
        "medias<-\n",
        "  tapply(\n",
        "    dados$Renda, list(\n",
        "      dados$Cat.Anos.de.Estudo,\n",
        "      dados$Cat.Sexo),mean    )\n",
        "    \n",
        " medias   \n",
        "\n",
        " \n",
        " \n",
        " medianas<-\n",
        "   tapply(\n",
        "     dados$Renda, list(\n",
        "       dados$Cat.Anos.de.Estudo,\n",
        "       dados$Cat.Sexo),median )\n",
        " \n",
        " medianas\n",
        " \n",
        " \n",
        " \n",
        " maximos<-\n",
        "   tapply(\n",
        "     dados$Renda, list(\n",
        "       dados$Cat.Anos.de.Estudo,\n",
        "       dados$Cat.Sexo),max )\n",
        " \n",
        " maximos\n",
        " \n",
        " \n",
        " desvio_padrao <- tapply(dados$Renda, list(dados$Cat.Anos.de.Estudo, dados$Cat.Sexo), sd)\n",
        " desvio_padrao"
      ],
      "metadata": {
        "colab": {
          "base_uri": "https://localhost:8080/",
          "height": 1000
        },
        "id": "3dzoe5wIHmvg",
        "outputId": "8f5c425d-51e0-484d-9d8f-759511be513f"
      },
      "execution_count": 49,
      "outputs": [
        {
          "output_type": "display_data",
          "data": {
            "text/html": [
              "<table class=\"dataframe\">\n",
              "<caption>A data.frame: 76840 × 10</caption>\n",
              "<thead>\n",
              "\t<tr><th scope=col>UF</th><th scope=col>Sexo</th><th scope=col>Idade</th><th scope=col>Cor</th><th scope=col>Anos.de.Estudo</th><th scope=col>Renda</th><th scope=col>Altura</th><th scope=col>Cat.Sexo</th><th scope=col>Cat.Cor</th><th scope=col>Cat.Anos.de.Estudo</th></tr>\n",
              "\t<tr><th scope=col>&lt;int&gt;</th><th scope=col>&lt;int&gt;</th><th scope=col>&lt;int&gt;</th><th scope=col>&lt;int&gt;</th><th scope=col>&lt;int&gt;</th><th scope=col>&lt;int&gt;</th><th scope=col>&lt;dbl&gt;</th><th scope=col>&lt;fct&gt;</th><th scope=col>&lt;fct&gt;</th><th scope=col>&lt;ord&gt;</th></tr>\n",
              "</thead>\n",
              "<tbody>\n",
              "\t<tr><td>11</td><td>0</td><td>23</td><td>8</td><td>12</td><td> 800</td><td>1.603808</td><td>Masculino</td><td>Parda </td><td>11 anos                       </td></tr>\n",
              "\t<tr><td>11</td><td>1</td><td>23</td><td>2</td><td>12</td><td>1150</td><td>1.739790</td><td>Feminino </td><td>Branca</td><td>11 anos                       </td></tr>\n",
              "\t<tr><td>11</td><td>1</td><td>35</td><td>8</td><td>15</td><td> 880</td><td>1.760444</td><td>Feminino </td><td>Parda </td><td>14 anos                       </td></tr>\n",
              "\t<tr><td>11</td><td>0</td><td>46</td><td>2</td><td> 6</td><td>3500</td><td>1.783158</td><td>Masculino</td><td>Branca</td><td>5 anos                        </td></tr>\n",
              "\t<tr><td>11</td><td>1</td><td>47</td><td>8</td><td> 9</td><td> 150</td><td>1.690631</td><td>Feminino </td><td>Parda </td><td>8 anos                        </td></tr>\n",
              "\t<tr><td>11</td><td>1</td><td>34</td><td>8</td><td>12</td><td> 790</td><td>1.637906</td><td>Feminino </td><td>Parda </td><td>11 anos                       </td></tr>\n",
              "\t<tr><td>11</td><td>0</td><td>57</td><td>8</td><td>12</td><td>3150</td><td>1.570078</td><td>Masculino</td><td>Parda </td><td>11 anos                       </td></tr>\n",
              "\t<tr><td>11</td><td>1</td><td>60</td><td>8</td><td>12</td><td>1700</td><td>1.608495</td><td>Feminino </td><td>Parda </td><td>11 anos                       </td></tr>\n",
              "\t<tr><td>11</td><td>1</td><td>50</td><td>4</td><td>14</td><td>1800</td><td>1.780329</td><td>Feminino </td><td>Preta </td><td>13 anos                       </td></tr>\n",
              "\t<tr><td>11</td><td>0</td><td>26</td><td>8</td><td>12</td><td>1150</td><td>1.793203</td><td>Masculino</td><td>Parda </td><td>11 anos                       </td></tr>\n",
              "\t<tr><td>11</td><td>1</td><td>46</td><td>8</td><td>12</td><td>3000</td><td>1.787003</td><td>Feminino </td><td>Parda </td><td>11 anos                       </td></tr>\n",
              "\t<tr><td>11</td><td>1</td><td>49</td><td>8</td><td> 6</td><td>2500</td><td>1.712912</td><td>Feminino </td><td>Parda </td><td>5 anos                        </td></tr>\n",
              "\t<tr><td>11</td><td>1</td><td>52</td><td>2</td><td> 6</td><td>1200</td><td>1.736442</td><td>Feminino </td><td>Branca</td><td>5 anos                        </td></tr>\n",
              "\t<tr><td>11</td><td>0</td><td>38</td><td>8</td><td>12</td><td>2000</td><td>1.750827</td><td>Masculino</td><td>Parda </td><td>11 anos                       </td></tr>\n",
              "\t<tr><td>11</td><td>0</td><td>45</td><td>2</td><td>12</td><td>2000</td><td>1.780450</td><td>Masculino</td><td>Branca</td><td>11 anos                       </td></tr>\n",
              "\t<tr><td>11</td><td>0</td><td>34</td><td>2</td><td>16</td><td>6000</td><td>1.711825</td><td>Masculino</td><td>Branca</td><td>15 anos ou mais               </td></tr>\n",
              "\t<tr><td>11</td><td>1</td><td>43</td><td>8</td><td>10</td><td>1050</td><td>1.789012</td><td>Feminino </td><td>Parda </td><td>9 anos                        </td></tr>\n",
              "\t<tr><td>11</td><td>0</td><td>53</td><td>8</td><td>16</td><td>7000</td><td>1.673665</td><td>Masculino</td><td>Parda </td><td>15 anos ou mais               </td></tr>\n",
              "\t<tr><td>11</td><td>0</td><td>57</td><td>2</td><td>12</td><td>2000</td><td>1.715138</td><td>Masculino</td><td>Branca</td><td>11 anos                       </td></tr>\n",
              "\t<tr><td>11</td><td>1</td><td>62</td><td>8</td><td>12</td><td>1150</td><td>1.765973</td><td>Feminino </td><td>Parda </td><td>11 anos                       </td></tr>\n",
              "\t<tr><td>11</td><td>0</td><td>69</td><td>8</td><td> 1</td><td>3030</td><td>1.746351</td><td>Masculino</td><td>Parda </td><td>Sem instrução e menos de 1 ano</td></tr>\n",
              "\t<tr><td>11</td><td>1</td><td>41</td><td>8</td><td>16</td><td>4000</td><td>1.660873</td><td>Feminino </td><td>Parda </td><td>15 anos ou mais               </td></tr>\n",
              "\t<tr><td>11</td><td>0</td><td>34</td><td>8</td><td> 5</td><td> 788</td><td>1.746048</td><td>Masculino</td><td>Parda </td><td>4 anos                        </td></tr>\n",
              "\t<tr><td>11</td><td>0</td><td>25</td><td>8</td><td>12</td><td>1000</td><td>1.726496</td><td>Masculino</td><td>Parda </td><td>11 anos                       </td></tr>\n",
              "\t<tr><td>11</td><td>0</td><td>33</td><td>8</td><td> 9</td><td> 800</td><td>1.778914</td><td>Masculino</td><td>Parda </td><td>8 anos                        </td></tr>\n",
              "\t<tr><td>11</td><td>1</td><td>44</td><td>8</td><td> 5</td><td> 788</td><td>1.668638</td><td>Feminino </td><td>Parda </td><td>4 anos                        </td></tr>\n",
              "\t<tr><td>11</td><td>0</td><td>33</td><td>2</td><td>16</td><td>1600</td><td>1.783771</td><td>Masculino</td><td>Branca</td><td>15 anos ou mais               </td></tr>\n",
              "\t<tr><td>11</td><td>0</td><td>65</td><td>2</td><td>12</td><td>1700</td><td>1.873445</td><td>Masculino</td><td>Branca</td><td>11 anos                       </td></tr>\n",
              "\t<tr><td>11</td><td>0</td><td>33</td><td>8</td><td>14</td><td>2000</td><td>1.890250</td><td>Masculino</td><td>Parda </td><td>13 anos                       </td></tr>\n",
              "\t<tr><td>11</td><td>0</td><td>32</td><td>8</td><td>12</td><td>2400</td><td>1.660204</td><td>Masculino</td><td>Parda </td><td>11 anos                       </td></tr>\n",
              "\t<tr><td>⋮</td><td>⋮</td><td>⋮</td><td>⋮</td><td>⋮</td><td>⋮</td><td>⋮</td><td>⋮</td><td>⋮</td><td>⋮</td></tr>\n",
              "\t<tr><td>53</td><td>0</td><td>34</td><td>4</td><td>12</td><td> 2500</td><td>1.802241</td><td>Masculino</td><td>Preta </td><td>11 anos                       </td></tr>\n",
              "\t<tr><td>53</td><td>1</td><td>57</td><td>2</td><td>11</td><td> 1000</td><td>1.823047</td><td>Feminino </td><td>Branca</td><td>10 anos                       </td></tr>\n",
              "\t<tr><td>53</td><td>1</td><td>32</td><td>4</td><td>12</td><td>  788</td><td>1.681405</td><td>Feminino </td><td>Preta </td><td>11 anos                       </td></tr>\n",
              "\t<tr><td>53</td><td>0</td><td>35</td><td>4</td><td> 9</td><td> 2100</td><td>1.671112</td><td>Masculino</td><td>Preta </td><td>8 anos                        </td></tr>\n",
              "\t<tr><td>53</td><td>1</td><td>49</td><td>8</td><td>12</td><td> 5260</td><td>1.799319</td><td>Feminino </td><td>Parda </td><td>11 anos                       </td></tr>\n",
              "\t<tr><td>53</td><td>0</td><td>51</td><td>8</td><td> 1</td><td> 5000</td><td>1.599400</td><td>Masculino</td><td>Parda </td><td>Sem instrução e menos de 1 ano</td></tr>\n",
              "\t<tr><td>53</td><td>0</td><td>37</td><td>8</td><td>12</td><td>  950</td><td>1.620497</td><td>Masculino</td><td>Parda </td><td>11 anos                       </td></tr>\n",
              "\t<tr><td>53</td><td>0</td><td>47</td><td>8</td><td>12</td><td> 1109</td><td>1.920274</td><td>Masculino</td><td>Parda </td><td>11 anos                       </td></tr>\n",
              "\t<tr><td>53</td><td>0</td><td>27</td><td>8</td><td>10</td><td>  850</td><td>1.793074</td><td>Masculino</td><td>Parda </td><td>9 anos                        </td></tr>\n",
              "\t<tr><td>53</td><td>1</td><td>49</td><td>8</td><td> 9</td><td>  788</td><td>1.695710</td><td>Feminino </td><td>Parda </td><td>8 anos                        </td></tr>\n",
              "\t<tr><td>53</td><td>1</td><td>27</td><td>8</td><td>12</td><td>  866</td><td>1.729035</td><td>Feminino </td><td>Parda </td><td>11 anos                       </td></tr>\n",
              "\t<tr><td>53</td><td>0</td><td>20</td><td>2</td><td> 8</td><td> 1300</td><td>1.660409</td><td>Masculino</td><td>Branca</td><td>7 anos                        </td></tr>\n",
              "\t<tr><td>53</td><td>0</td><td>49</td><td>8</td><td>12</td><td> 8700</td><td>1.775182</td><td>Masculino</td><td>Parda </td><td>11 anos                       </td></tr>\n",
              "\t<tr><td>53</td><td>0</td><td>43</td><td>8</td><td>10</td><td> 5000</td><td>1.584493</td><td>Masculino</td><td>Parda </td><td>9 anos                        </td></tr>\n",
              "\t<tr><td>53</td><td>0</td><td>64</td><td>2</td><td>12</td><td> 5000</td><td>1.717452</td><td>Masculino</td><td>Branca</td><td>11 anos                       </td></tr>\n",
              "\t<tr><td>53</td><td>0</td><td>55</td><td>2</td><td>16</td><td>13000</td><td>1.729995</td><td>Masculino</td><td>Branca</td><td>15 anos ou mais               </td></tr>\n",
              "\t<tr><td>53</td><td>0</td><td>39</td><td>2</td><td>12</td><td> 6000</td><td>1.739046</td><td>Masculino</td><td>Branca</td><td>11 anos                       </td></tr>\n",
              "\t<tr><td>53</td><td>1</td><td>41</td><td>2</td><td>16</td><td>10000</td><td>1.696208</td><td>Feminino </td><td>Branca</td><td>15 anos ou mais               </td></tr>\n",
              "\t<tr><td>53</td><td>0</td><td>62</td><td>2</td><td>16</td><td>10000</td><td>1.817097</td><td>Masculino</td><td>Branca</td><td>15 anos ou mais               </td></tr>\n",
              "\t<tr><td>53</td><td>0</td><td>42</td><td>8</td><td>12</td><td>32000</td><td>1.788923</td><td>Masculino</td><td>Parda </td><td>11 anos                       </td></tr>\n",
              "\t<tr><td>53</td><td>0</td><td>62</td><td>2</td><td>16</td><td> 3500</td><td>1.725379</td><td>Masculino</td><td>Branca</td><td>15 anos ou mais               </td></tr>\n",
              "\t<tr><td>53</td><td>1</td><td>44</td><td>2</td><td>16</td><td>30000</td><td>1.783962</td><td>Feminino </td><td>Branca</td><td>15 anos ou mais               </td></tr>\n",
              "\t<tr><td>53</td><td>1</td><td>49</td><td>2</td><td>12</td><td> 5000</td><td>1.757146</td><td>Feminino </td><td>Branca</td><td>11 anos                       </td></tr>\n",
              "\t<tr><td>53</td><td>0</td><td>30</td><td>4</td><td> 6</td><td> 1900</td><td>1.662560</td><td>Masculino</td><td>Preta </td><td>5 anos                        </td></tr>\n",
              "\t<tr><td>53</td><td>1</td><td>35</td><td>4</td><td> 1</td><td> 1100</td><td>1.741089</td><td>Feminino </td><td>Preta </td><td>Sem instrução e menos de 1 ano</td></tr>\n",
              "\t<tr><td>53</td><td>1</td><td>46</td><td>2</td><td>11</td><td>  812</td><td>1.687030</td><td>Feminino </td><td>Branca</td><td>10 anos                       </td></tr>\n",
              "\t<tr><td>53</td><td>0</td><td>30</td><td>4</td><td> 7</td><td> 1500</td><td>1.792934</td><td>Masculino</td><td>Preta </td><td>6 anos                        </td></tr>\n",
              "\t<tr><td>53</td><td>0</td><td>32</td><td>8</td><td>12</td><td> 1300</td><td>1.830587</td><td>Masculino</td><td>Parda </td><td>11 anos                       </td></tr>\n",
              "\t<tr><td>53</td><td>0</td><td>57</td><td>8</td><td> 4</td><td> 1500</td><td>1.726344</td><td>Masculino</td><td>Parda </td><td>3 anos                        </td></tr>\n",
              "\t<tr><td>53</td><td>0</td><td>38</td><td>8</td><td> 4</td><td>  900</td><td>1.658305</td><td>Masculino</td><td>Parda </td><td>3 anos                        </td></tr>\n",
              "</tbody>\n",
              "</table>\n"
            ],
            "text/markdown": "\nA data.frame: 76840 × 10\n\n| UF &lt;int&gt; | Sexo &lt;int&gt; | Idade &lt;int&gt; | Cor &lt;int&gt; | Anos.de.Estudo &lt;int&gt; | Renda &lt;int&gt; | Altura &lt;dbl&gt; | Cat.Sexo &lt;fct&gt; | Cat.Cor &lt;fct&gt; | Cat.Anos.de.Estudo &lt;ord&gt; |\n|---|---|---|---|---|---|---|---|---|---|\n| 11 | 0 | 23 | 8 | 12 |  800 | 1.603808 | Masculino | Parda  | 11 anos                        |\n| 11 | 1 | 23 | 2 | 12 | 1150 | 1.739790 | Feminino  | Branca | 11 anos                        |\n| 11 | 1 | 35 | 8 | 15 |  880 | 1.760444 | Feminino  | Parda  | 14 anos                        |\n| 11 | 0 | 46 | 2 |  6 | 3500 | 1.783158 | Masculino | Branca | 5 anos                         |\n| 11 | 1 | 47 | 8 |  9 |  150 | 1.690631 | Feminino  | Parda  | 8 anos                         |\n| 11 | 1 | 34 | 8 | 12 |  790 | 1.637906 | Feminino  | Parda  | 11 anos                        |\n| 11 | 0 | 57 | 8 | 12 | 3150 | 1.570078 | Masculino | Parda  | 11 anos                        |\n| 11 | 1 | 60 | 8 | 12 | 1700 | 1.608495 | Feminino  | Parda  | 11 anos                        |\n| 11 | 1 | 50 | 4 | 14 | 1800 | 1.780329 | Feminino  | Preta  | 13 anos                        |\n| 11 | 0 | 26 | 8 | 12 | 1150 | 1.793203 | Masculino | Parda  | 11 anos                        |\n| 11 | 1 | 46 | 8 | 12 | 3000 | 1.787003 | Feminino  | Parda  | 11 anos                        |\n| 11 | 1 | 49 | 8 |  6 | 2500 | 1.712912 | Feminino  | Parda  | 5 anos                         |\n| 11 | 1 | 52 | 2 |  6 | 1200 | 1.736442 | Feminino  | Branca | 5 anos                         |\n| 11 | 0 | 38 | 8 | 12 | 2000 | 1.750827 | Masculino | Parda  | 11 anos                        |\n| 11 | 0 | 45 | 2 | 12 | 2000 | 1.780450 | Masculino | Branca | 11 anos                        |\n| 11 | 0 | 34 | 2 | 16 | 6000 | 1.711825 | Masculino | Branca | 15 anos ou mais                |\n| 11 | 1 | 43 | 8 | 10 | 1050 | 1.789012 | Feminino  | Parda  | 9 anos                         |\n| 11 | 0 | 53 | 8 | 16 | 7000 | 1.673665 | Masculino | Parda  | 15 anos ou mais                |\n| 11 | 0 | 57 | 2 | 12 | 2000 | 1.715138 | Masculino | Branca | 11 anos                        |\n| 11 | 1 | 62 | 8 | 12 | 1150 | 1.765973 | Feminino  | Parda  | 11 anos                        |\n| 11 | 0 | 69 | 8 |  1 | 3030 | 1.746351 | Masculino | Parda  | Sem instrução e menos de 1 ano |\n| 11 | 1 | 41 | 8 | 16 | 4000 | 1.660873 | Feminino  | Parda  | 15 anos ou mais                |\n| 11 | 0 | 34 | 8 |  5 |  788 | 1.746048 | Masculino | Parda  | 4 anos                         |\n| 11 | 0 | 25 | 8 | 12 | 1000 | 1.726496 | Masculino | Parda  | 11 anos                        |\n| 11 | 0 | 33 | 8 |  9 |  800 | 1.778914 | Masculino | Parda  | 8 anos                         |\n| 11 | 1 | 44 | 8 |  5 |  788 | 1.668638 | Feminino  | Parda  | 4 anos                         |\n| 11 | 0 | 33 | 2 | 16 | 1600 | 1.783771 | Masculino | Branca | 15 anos ou mais                |\n| 11 | 0 | 65 | 2 | 12 | 1700 | 1.873445 | Masculino | Branca | 11 anos                        |\n| 11 | 0 | 33 | 8 | 14 | 2000 | 1.890250 | Masculino | Parda  | 13 anos                        |\n| 11 | 0 | 32 | 8 | 12 | 2400 | 1.660204 | Masculino | Parda  | 11 anos                        |\n| ⋮ | ⋮ | ⋮ | ⋮ | ⋮ | ⋮ | ⋮ | ⋮ | ⋮ | ⋮ |\n| 53 | 0 | 34 | 4 | 12 |  2500 | 1.802241 | Masculino | Preta  | 11 anos                        |\n| 53 | 1 | 57 | 2 | 11 |  1000 | 1.823047 | Feminino  | Branca | 10 anos                        |\n| 53 | 1 | 32 | 4 | 12 |   788 | 1.681405 | Feminino  | Preta  | 11 anos                        |\n| 53 | 0 | 35 | 4 |  9 |  2100 | 1.671112 | Masculino | Preta  | 8 anos                         |\n| 53 | 1 | 49 | 8 | 12 |  5260 | 1.799319 | Feminino  | Parda  | 11 anos                        |\n| 53 | 0 | 51 | 8 |  1 |  5000 | 1.599400 | Masculino | Parda  | Sem instrução e menos de 1 ano |\n| 53 | 0 | 37 | 8 | 12 |   950 | 1.620497 | Masculino | Parda  | 11 anos                        |\n| 53 | 0 | 47 | 8 | 12 |  1109 | 1.920274 | Masculino | Parda  | 11 anos                        |\n| 53 | 0 | 27 | 8 | 10 |   850 | 1.793074 | Masculino | Parda  | 9 anos                         |\n| 53 | 1 | 49 | 8 |  9 |   788 | 1.695710 | Feminino  | Parda  | 8 anos                         |\n| 53 | 1 | 27 | 8 | 12 |   866 | 1.729035 | Feminino  | Parda  | 11 anos                        |\n| 53 | 0 | 20 | 2 |  8 |  1300 | 1.660409 | Masculino | Branca | 7 anos                         |\n| 53 | 0 | 49 | 8 | 12 |  8700 | 1.775182 | Masculino | Parda  | 11 anos                        |\n| 53 | 0 | 43 | 8 | 10 |  5000 | 1.584493 | Masculino | Parda  | 9 anos                         |\n| 53 | 0 | 64 | 2 | 12 |  5000 | 1.717452 | Masculino | Branca | 11 anos                        |\n| 53 | 0 | 55 | 2 | 16 | 13000 | 1.729995 | Masculino | Branca | 15 anos ou mais                |\n| 53 | 0 | 39 | 2 | 12 |  6000 | 1.739046 | Masculino | Branca | 11 anos                        |\n| 53 | 1 | 41 | 2 | 16 | 10000 | 1.696208 | Feminino  | Branca | 15 anos ou mais                |\n| 53 | 0 | 62 | 2 | 16 | 10000 | 1.817097 | Masculino | Branca | 15 anos ou mais                |\n| 53 | 0 | 42 | 8 | 12 | 32000 | 1.788923 | Masculino | Parda  | 11 anos                        |\n| 53 | 0 | 62 | 2 | 16 |  3500 | 1.725379 | Masculino | Branca | 15 anos ou mais                |\n| 53 | 1 | 44 | 2 | 16 | 30000 | 1.783962 | Feminino  | Branca | 15 anos ou mais                |\n| 53 | 1 | 49 | 2 | 12 |  5000 | 1.757146 | Feminino  | Branca | 11 anos                        |\n| 53 | 0 | 30 | 4 |  6 |  1900 | 1.662560 | Masculino | Preta  | 5 anos                         |\n| 53 | 1 | 35 | 4 |  1 |  1100 | 1.741089 | Feminino  | Preta  | Sem instrução e menos de 1 ano |\n| 53 | 1 | 46 | 2 | 11 |   812 | 1.687030 | Feminino  | Branca | 10 anos                        |\n| 53 | 0 | 30 | 4 |  7 |  1500 | 1.792934 | Masculino | Preta  | 6 anos                         |\n| 53 | 0 | 32 | 8 | 12 |  1300 | 1.830587 | Masculino | Parda  | 11 anos                        |\n| 53 | 0 | 57 | 8 |  4 |  1500 | 1.726344 | Masculino | Parda  | 3 anos                         |\n| 53 | 0 | 38 | 8 |  4 |   900 | 1.658305 | Masculino | Parda  | 3 anos                         |\n\n",
            "text/latex": "A data.frame: 76840 × 10\n\\begin{tabular}{llllllllll}\n UF & Sexo & Idade & Cor & Anos.de.Estudo & Renda & Altura & Cat.Sexo & Cat.Cor & Cat.Anos.de.Estudo\\\\\n <int> & <int> & <int> & <int> & <int> & <int> & <dbl> & <fct> & <fct> & <ord>\\\\\n\\hline\n\t 11 & 0 & 23 & 8 & 12 &  800 & 1.603808 & Masculino & Parda  & 11 anos                       \\\\\n\t 11 & 1 & 23 & 2 & 12 & 1150 & 1.739790 & Feminino  & Branca & 11 anos                       \\\\\n\t 11 & 1 & 35 & 8 & 15 &  880 & 1.760444 & Feminino  & Parda  & 14 anos                       \\\\\n\t 11 & 0 & 46 & 2 &  6 & 3500 & 1.783158 & Masculino & Branca & 5 anos                        \\\\\n\t 11 & 1 & 47 & 8 &  9 &  150 & 1.690631 & Feminino  & Parda  & 8 anos                        \\\\\n\t 11 & 1 & 34 & 8 & 12 &  790 & 1.637906 & Feminino  & Parda  & 11 anos                       \\\\\n\t 11 & 0 & 57 & 8 & 12 & 3150 & 1.570078 & Masculino & Parda  & 11 anos                       \\\\\n\t 11 & 1 & 60 & 8 & 12 & 1700 & 1.608495 & Feminino  & Parda  & 11 anos                       \\\\\n\t 11 & 1 & 50 & 4 & 14 & 1800 & 1.780329 & Feminino  & Preta  & 13 anos                       \\\\\n\t 11 & 0 & 26 & 8 & 12 & 1150 & 1.793203 & Masculino & Parda  & 11 anos                       \\\\\n\t 11 & 1 & 46 & 8 & 12 & 3000 & 1.787003 & Feminino  & Parda  & 11 anos                       \\\\\n\t 11 & 1 & 49 & 8 &  6 & 2500 & 1.712912 & Feminino  & Parda  & 5 anos                        \\\\\n\t 11 & 1 & 52 & 2 &  6 & 1200 & 1.736442 & Feminino  & Branca & 5 anos                        \\\\\n\t 11 & 0 & 38 & 8 & 12 & 2000 & 1.750827 & Masculino & Parda  & 11 anos                       \\\\\n\t 11 & 0 & 45 & 2 & 12 & 2000 & 1.780450 & Masculino & Branca & 11 anos                       \\\\\n\t 11 & 0 & 34 & 2 & 16 & 6000 & 1.711825 & Masculino & Branca & 15 anos ou mais               \\\\\n\t 11 & 1 & 43 & 8 & 10 & 1050 & 1.789012 & Feminino  & Parda  & 9 anos                        \\\\\n\t 11 & 0 & 53 & 8 & 16 & 7000 & 1.673665 & Masculino & Parda  & 15 anos ou mais               \\\\\n\t 11 & 0 & 57 & 2 & 12 & 2000 & 1.715138 & Masculino & Branca & 11 anos                       \\\\\n\t 11 & 1 & 62 & 8 & 12 & 1150 & 1.765973 & Feminino  & Parda  & 11 anos                       \\\\\n\t 11 & 0 & 69 & 8 &  1 & 3030 & 1.746351 & Masculino & Parda  & Sem instrução e menos de 1 ano\\\\\n\t 11 & 1 & 41 & 8 & 16 & 4000 & 1.660873 & Feminino  & Parda  & 15 anos ou mais               \\\\\n\t 11 & 0 & 34 & 8 &  5 &  788 & 1.746048 & Masculino & Parda  & 4 anos                        \\\\\n\t 11 & 0 & 25 & 8 & 12 & 1000 & 1.726496 & Masculino & Parda  & 11 anos                       \\\\\n\t 11 & 0 & 33 & 8 &  9 &  800 & 1.778914 & Masculino & Parda  & 8 anos                        \\\\\n\t 11 & 1 & 44 & 8 &  5 &  788 & 1.668638 & Feminino  & Parda  & 4 anos                        \\\\\n\t 11 & 0 & 33 & 2 & 16 & 1600 & 1.783771 & Masculino & Branca & 15 anos ou mais               \\\\\n\t 11 & 0 & 65 & 2 & 12 & 1700 & 1.873445 & Masculino & Branca & 11 anos                       \\\\\n\t 11 & 0 & 33 & 8 & 14 & 2000 & 1.890250 & Masculino & Parda  & 13 anos                       \\\\\n\t 11 & 0 & 32 & 8 & 12 & 2400 & 1.660204 & Masculino & Parda  & 11 anos                       \\\\\n\t ⋮ & ⋮ & ⋮ & ⋮ & ⋮ & ⋮ & ⋮ & ⋮ & ⋮ & ⋮\\\\\n\t 53 & 0 & 34 & 4 & 12 &  2500 & 1.802241 & Masculino & Preta  & 11 anos                       \\\\\n\t 53 & 1 & 57 & 2 & 11 &  1000 & 1.823047 & Feminino  & Branca & 10 anos                       \\\\\n\t 53 & 1 & 32 & 4 & 12 &   788 & 1.681405 & Feminino  & Preta  & 11 anos                       \\\\\n\t 53 & 0 & 35 & 4 &  9 &  2100 & 1.671112 & Masculino & Preta  & 8 anos                        \\\\\n\t 53 & 1 & 49 & 8 & 12 &  5260 & 1.799319 & Feminino  & Parda  & 11 anos                       \\\\\n\t 53 & 0 & 51 & 8 &  1 &  5000 & 1.599400 & Masculino & Parda  & Sem instrução e menos de 1 ano\\\\\n\t 53 & 0 & 37 & 8 & 12 &   950 & 1.620497 & Masculino & Parda  & 11 anos                       \\\\\n\t 53 & 0 & 47 & 8 & 12 &  1109 & 1.920274 & Masculino & Parda  & 11 anos                       \\\\\n\t 53 & 0 & 27 & 8 & 10 &   850 & 1.793074 & Masculino & Parda  & 9 anos                        \\\\\n\t 53 & 1 & 49 & 8 &  9 &   788 & 1.695710 & Feminino  & Parda  & 8 anos                        \\\\\n\t 53 & 1 & 27 & 8 & 12 &   866 & 1.729035 & Feminino  & Parda  & 11 anos                       \\\\\n\t 53 & 0 & 20 & 2 &  8 &  1300 & 1.660409 & Masculino & Branca & 7 anos                        \\\\\n\t 53 & 0 & 49 & 8 & 12 &  8700 & 1.775182 & Masculino & Parda  & 11 anos                       \\\\\n\t 53 & 0 & 43 & 8 & 10 &  5000 & 1.584493 & Masculino & Parda  & 9 anos                        \\\\\n\t 53 & 0 & 64 & 2 & 12 &  5000 & 1.717452 & Masculino & Branca & 11 anos                       \\\\\n\t 53 & 0 & 55 & 2 & 16 & 13000 & 1.729995 & Masculino & Branca & 15 anos ou mais               \\\\\n\t 53 & 0 & 39 & 2 & 12 &  6000 & 1.739046 & Masculino & Branca & 11 anos                       \\\\\n\t 53 & 1 & 41 & 2 & 16 & 10000 & 1.696208 & Feminino  & Branca & 15 anos ou mais               \\\\\n\t 53 & 0 & 62 & 2 & 16 & 10000 & 1.817097 & Masculino & Branca & 15 anos ou mais               \\\\\n\t 53 & 0 & 42 & 8 & 12 & 32000 & 1.788923 & Masculino & Parda  & 11 anos                       \\\\\n\t 53 & 0 & 62 & 2 & 16 &  3500 & 1.725379 & Masculino & Branca & 15 anos ou mais               \\\\\n\t 53 & 1 & 44 & 2 & 16 & 30000 & 1.783962 & Feminino  & Branca & 15 anos ou mais               \\\\\n\t 53 & 1 & 49 & 2 & 12 &  5000 & 1.757146 & Feminino  & Branca & 11 anos                       \\\\\n\t 53 & 0 & 30 & 4 &  6 &  1900 & 1.662560 & Masculino & Preta  & 5 anos                        \\\\\n\t 53 & 1 & 35 & 4 &  1 &  1100 & 1.741089 & Feminino  & Preta  & Sem instrução e menos de 1 ano\\\\\n\t 53 & 1 & 46 & 2 & 11 &   812 & 1.687030 & Feminino  & Branca & 10 anos                       \\\\\n\t 53 & 0 & 30 & 4 &  7 &  1500 & 1.792934 & Masculino & Preta  & 6 anos                        \\\\\n\t 53 & 0 & 32 & 8 & 12 &  1300 & 1.830587 & Masculino & Parda  & 11 anos                       \\\\\n\t 53 & 0 & 57 & 8 &  4 &  1500 & 1.726344 & Masculino & Parda  & 3 anos                        \\\\\n\t 53 & 0 & 38 & 8 &  4 &   900 & 1.658305 & Masculino & Parda  & 3 anos                        \\\\\n\\end{tabular}\n",
            "text/plain": [
              "      UF Sexo Idade Cor Anos.de.Estudo Renda Altura   Cat.Sexo  Cat.Cor\n",
              "1     11 0    23    8   12              800  1.603808 Masculino Parda  \n",
              "2     11 1    23    2   12             1150  1.739790 Feminino  Branca \n",
              "3     11 1    35    8   15              880  1.760444 Feminino  Parda  \n",
              "4     11 0    46    2    6             3500  1.783158 Masculino Branca \n",
              "5     11 1    47    8    9              150  1.690631 Feminino  Parda  \n",
              "6     11 1    34    8   12              790  1.637906 Feminino  Parda  \n",
              "7     11 0    57    8   12             3150  1.570078 Masculino Parda  \n",
              "8     11 1    60    8   12             1700  1.608495 Feminino  Parda  \n",
              "9     11 1    50    4   14             1800  1.780329 Feminino  Preta  \n",
              "10    11 0    26    8   12             1150  1.793203 Masculino Parda  \n",
              "11    11 1    46    8   12             3000  1.787003 Feminino  Parda  \n",
              "12    11 1    49    8    6             2500  1.712912 Feminino  Parda  \n",
              "13    11 1    52    2    6             1200  1.736442 Feminino  Branca \n",
              "14    11 0    38    8   12             2000  1.750827 Masculino Parda  \n",
              "15    11 0    45    2   12             2000  1.780450 Masculino Branca \n",
              "16    11 0    34    2   16             6000  1.711825 Masculino Branca \n",
              "17    11 1    43    8   10             1050  1.789012 Feminino  Parda  \n",
              "18    11 0    53    8   16             7000  1.673665 Masculino Parda  \n",
              "19    11 0    57    2   12             2000  1.715138 Masculino Branca \n",
              "20    11 1    62    8   12             1150  1.765973 Feminino  Parda  \n",
              "21    11 0    69    8    1             3030  1.746351 Masculino Parda  \n",
              "22    11 1    41    8   16             4000  1.660873 Feminino  Parda  \n",
              "23    11 0    34    8    5              788  1.746048 Masculino Parda  \n",
              "24    11 0    25    8   12             1000  1.726496 Masculino Parda  \n",
              "25    11 0    33    8    9              800  1.778914 Masculino Parda  \n",
              "26    11 1    44    8    5              788  1.668638 Feminino  Parda  \n",
              "27    11 0    33    2   16             1600  1.783771 Masculino Branca \n",
              "28    11 0    65    2   12             1700  1.873445 Masculino Branca \n",
              "29    11 0    33    8   14             2000  1.890250 Masculino Parda  \n",
              "30    11 0    32    8   12             2400  1.660204 Masculino Parda  \n",
              "⋮     ⋮  ⋮    ⋮     ⋮   ⋮              ⋮     ⋮        ⋮         ⋮      \n",
              "76811 53 0    34    4   12              2500 1.802241 Masculino Preta  \n",
              "76812 53 1    57    2   11              1000 1.823047 Feminino  Branca \n",
              "76813 53 1    32    4   12               788 1.681405 Feminino  Preta  \n",
              "76814 53 0    35    4    9              2100 1.671112 Masculino Preta  \n",
              "76815 53 1    49    8   12              5260 1.799319 Feminino  Parda  \n",
              "76816 53 0    51    8    1              5000 1.599400 Masculino Parda  \n",
              "76817 53 0    37    8   12               950 1.620497 Masculino Parda  \n",
              "76818 53 0    47    8   12              1109 1.920274 Masculino Parda  \n",
              "76819 53 0    27    8   10               850 1.793074 Masculino Parda  \n",
              "76820 53 1    49    8    9               788 1.695710 Feminino  Parda  \n",
              "76821 53 1    27    8   12               866 1.729035 Feminino  Parda  \n",
              "76822 53 0    20    2    8              1300 1.660409 Masculino Branca \n",
              "76823 53 0    49    8   12              8700 1.775182 Masculino Parda  \n",
              "76824 53 0    43    8   10              5000 1.584493 Masculino Parda  \n",
              "76825 53 0    64    2   12              5000 1.717452 Masculino Branca \n",
              "76826 53 0    55    2   16             13000 1.729995 Masculino Branca \n",
              "76827 53 0    39    2   12              6000 1.739046 Masculino Branca \n",
              "76828 53 1    41    2   16             10000 1.696208 Feminino  Branca \n",
              "76829 53 0    62    2   16             10000 1.817097 Masculino Branca \n",
              "76830 53 0    42    8   12             32000 1.788923 Masculino Parda  \n",
              "76831 53 0    62    2   16              3500 1.725379 Masculino Branca \n",
              "76832 53 1    44    2   16             30000 1.783962 Feminino  Branca \n",
              "76833 53 1    49    2   12              5000 1.757146 Feminino  Branca \n",
              "76834 53 0    30    4    6              1900 1.662560 Masculino Preta  \n",
              "76835 53 1    35    4    1              1100 1.741089 Feminino  Preta  \n",
              "76836 53 1    46    2   11               812 1.687030 Feminino  Branca \n",
              "76837 53 0    30    4    7              1500 1.792934 Masculino Preta  \n",
              "76838 53 0    32    8   12              1300 1.830587 Masculino Parda  \n",
              "76839 53 0    57    8    4              1500 1.726344 Masculino Parda  \n",
              "76840 53 0    38    8    4               900 1.658305 Masculino Parda  \n",
              "      Cat.Anos.de.Estudo            \n",
              "1     11 anos                       \n",
              "2     11 anos                       \n",
              "3     14 anos                       \n",
              "4     5 anos                        \n",
              "5     8 anos                        \n",
              "6     11 anos                       \n",
              "7     11 anos                       \n",
              "8     11 anos                       \n",
              "9     13 anos                       \n",
              "10    11 anos                       \n",
              "11    11 anos                       \n",
              "12    5 anos                        \n",
              "13    5 anos                        \n",
              "14    11 anos                       \n",
              "15    11 anos                       \n",
              "16    15 anos ou mais               \n",
              "17    9 anos                        \n",
              "18    15 anos ou mais               \n",
              "19    11 anos                       \n",
              "20    11 anos                       \n",
              "21    Sem instrução e menos de 1 ano\n",
              "22    15 anos ou mais               \n",
              "23    4 anos                        \n",
              "24    11 anos                       \n",
              "25    8 anos                        \n",
              "26    4 anos                        \n",
              "27    15 anos ou mais               \n",
              "28    11 anos                       \n",
              "29    13 anos                       \n",
              "30    11 anos                       \n",
              "⋮     ⋮                             \n",
              "76811 11 anos                       \n",
              "76812 10 anos                       \n",
              "76813 11 anos                       \n",
              "76814 8 anos                        \n",
              "76815 11 anos                       \n",
              "76816 Sem instrução e menos de 1 ano\n",
              "76817 11 anos                       \n",
              "76818 11 anos                       \n",
              "76819 9 anos                        \n",
              "76820 8 anos                        \n",
              "76821 11 anos                       \n",
              "76822 7 anos                        \n",
              "76823 11 anos                       \n",
              "76824 9 anos                        \n",
              "76825 11 anos                       \n",
              "76826 15 anos ou mais               \n",
              "76827 11 anos                       \n",
              "76828 15 anos ou mais               \n",
              "76829 15 anos ou mais               \n",
              "76830 11 anos                       \n",
              "76831 15 anos ou mais               \n",
              "76832 15 anos ou mais               \n",
              "76833 11 anos                       \n",
              "76834 5 anos                        \n",
              "76835 Sem instrução e menos de 1 ano\n",
              "76836 10 anos                       \n",
              "76837 6 anos                        \n",
              "76838 11 anos                       \n",
              "76839 3 anos                        \n",
              "76840 3 anos                        "
            ]
          },
          "metadata": {}
        },
        {
          "output_type": "display_data",
          "data": {
            "text/html": [
              "<table class=\"dataframe\">\n",
              "<caption>A matrix: 17 × 2 of type dbl</caption>\n",
              "<thead>\n",
              "\t<tr><th></th><th scope=col>Masculino</th><th scope=col>Feminino</th></tr>\n",
              "</thead>\n",
              "<tbody>\n",
              "\t<tr><th scope=row>Sem instrução e menos de 1 ano</th><td> 799.4946</td><td> 516.2017</td></tr>\n",
              "\t<tr><th scope=row>1 ano</th><td> 895.6290</td><td> 492.7720</td></tr>\n",
              "\t<tr><th scope=row>2 anos</th><td> 931.1790</td><td> 529.9116</td></tr>\n",
              "\t<tr><th scope=row>3 anos</th><td>1109.2039</td><td> 546.8539</td></tr>\n",
              "\t<tr><th scope=row>4 anos</th><td>1302.3293</td><td> 704.2791</td></tr>\n",
              "\t<tr><th scope=row>5 anos</th><td>1338.6532</td><td> 781.3898</td></tr>\n",
              "\t<tr><th scope=row>6 anos</th><td>1448.8754</td><td> 833.7328</td></tr>\n",
              "\t<tr><th scope=row>7 anos</th><td>1465.4979</td><td> 830.7510</td></tr>\n",
              "\t<tr><th scope=row>8 anos</th><td>1639.3967</td><td> 933.6154</td></tr>\n",
              "\t<tr><th scope=row>9 anos</th><td>1508.0389</td><td> 868.0217</td></tr>\n",
              "\t<tr><th scope=row>10 anos</th><td>1731.2708</td><td> 925.9192</td></tr>\n",
              "\t<tr><th scope=row>11 anos</th><td>2117.0605</td><td>1286.7909</td></tr>\n",
              "\t<tr><th scope=row>12 anos</th><td>2470.3308</td><td>1682.3137</td></tr>\n",
              "\t<tr><th scope=row>13 anos</th><td>3195.0992</td><td>1911.7300</td></tr>\n",
              "\t<tr><th scope=row>14 anos</th><td>3706.6203</td><td>2226.4605</td></tr>\n",
              "\t<tr><th scope=row>15 anos ou mais</th><td>6134.2798</td><td>3899.5132</td></tr>\n",
              "\t<tr><th scope=row>Não determinados</th><td>1295.7619</td><td> 798.1744</td></tr>\n",
              "</tbody>\n",
              "</table>\n"
            ],
            "text/markdown": "\nA matrix: 17 × 2 of type dbl\n\n| <!--/--> | Masculino | Feminino |\n|---|---|---|\n| Sem instrução e menos de 1 ano |  799.4946 |  516.2017 |\n| 1 ano |  895.6290 |  492.7720 |\n| 2 anos |  931.1790 |  529.9116 |\n| 3 anos | 1109.2039 |  546.8539 |\n| 4 anos | 1302.3293 |  704.2791 |\n| 5 anos | 1338.6532 |  781.3898 |\n| 6 anos | 1448.8754 |  833.7328 |\n| 7 anos | 1465.4979 |  830.7510 |\n| 8 anos | 1639.3967 |  933.6154 |\n| 9 anos | 1508.0389 |  868.0217 |\n| 10 anos | 1731.2708 |  925.9192 |\n| 11 anos | 2117.0605 | 1286.7909 |\n| 12 anos | 2470.3308 | 1682.3137 |\n| 13 anos | 3195.0992 | 1911.7300 |\n| 14 anos | 3706.6203 | 2226.4605 |\n| 15 anos ou mais | 6134.2798 | 3899.5132 |\n| Não determinados | 1295.7619 |  798.1744 |\n\n",
            "text/latex": "A matrix: 17 × 2 of type dbl\n\\begin{tabular}{r|ll}\n  & Masculino & Feminino\\\\\n\\hline\n\tSem instrução e menos de 1 ano &  799.4946 &  516.2017\\\\\n\t1 ano &  895.6290 &  492.7720\\\\\n\t2 anos &  931.1790 &  529.9116\\\\\n\t3 anos & 1109.2039 &  546.8539\\\\\n\t4 anos & 1302.3293 &  704.2791\\\\\n\t5 anos & 1338.6532 &  781.3898\\\\\n\t6 anos & 1448.8754 &  833.7328\\\\\n\t7 anos & 1465.4979 &  830.7510\\\\\n\t8 anos & 1639.3967 &  933.6154\\\\\n\t9 anos & 1508.0389 &  868.0217\\\\\n\t10 anos & 1731.2708 &  925.9192\\\\\n\t11 anos & 2117.0605 & 1286.7909\\\\\n\t12 anos & 2470.3308 & 1682.3137\\\\\n\t13 anos & 3195.0992 & 1911.7300\\\\\n\t14 anos & 3706.6203 & 2226.4605\\\\\n\t15 anos ou mais & 6134.2798 & 3899.5132\\\\\n\tNão determinados & 1295.7619 &  798.1744\\\\\n\\end{tabular}\n",
            "text/plain": [
              "                               Masculino Feminino \n",
              "Sem instrução e menos de 1 ano  799.4946  516.2017\n",
              "1 ano                           895.6290  492.7720\n",
              "2 anos                          931.1790  529.9116\n",
              "3 anos                         1109.2039  546.8539\n",
              "4 anos                         1302.3293  704.2791\n",
              "5 anos                         1338.6532  781.3898\n",
              "6 anos                         1448.8754  833.7328\n",
              "7 anos                         1465.4979  830.7510\n",
              "8 anos                         1639.3967  933.6154\n",
              "9 anos                         1508.0389  868.0217\n",
              "10 anos                        1731.2708  925.9192\n",
              "11 anos                        2117.0605 1286.7909\n",
              "12 anos                        2470.3308 1682.3137\n",
              "13 anos                        3195.0992 1911.7300\n",
              "14 anos                        3706.6203 2226.4605\n",
              "15 anos ou mais                6134.2798 3899.5132\n",
              "Não determinados               1295.7619  798.1744"
            ]
          },
          "metadata": {}
        },
        {
          "output_type": "display_data",
          "data": {
            "text/html": [
              "<table class=\"dataframe\">\n",
              "<caption>A matrix: 17 × 2 of type dbl</caption>\n",
              "<thead>\n",
              "\t<tr><th></th><th scope=col>Masculino</th><th scope=col>Feminino</th></tr>\n",
              "</thead>\n",
              "<tbody>\n",
              "\t<tr><th scope=row>Sem instrução e menos de 1 ano</th><td> 700</td><td> 390</td></tr>\n",
              "\t<tr><th scope=row>1 ano</th><td> 788</td><td> 400</td></tr>\n",
              "\t<tr><th scope=row>2 anos</th><td> 788</td><td> 450</td></tr>\n",
              "\t<tr><th scope=row>3 anos</th><td> 800</td><td> 500</td></tr>\n",
              "\t<tr><th scope=row>4 anos</th><td>1000</td><td> 788</td></tr>\n",
              "\t<tr><th scope=row>5 anos</th><td>1045</td><td> 788</td></tr>\n",
              "\t<tr><th scope=row>6 anos</th><td>1200</td><td> 788</td></tr>\n",
              "\t<tr><th scope=row>7 anos</th><td>1200</td><td> 788</td></tr>\n",
              "\t<tr><th scope=row>8 anos</th><td>1300</td><td> 800</td></tr>\n",
              "\t<tr><th scope=row>9 anos</th><td>1200</td><td> 788</td></tr>\n",
              "\t<tr><th scope=row>10 anos</th><td>1218</td><td> 800</td></tr>\n",
              "\t<tr><th scope=row>11 anos</th><td>1500</td><td>1000</td></tr>\n",
              "\t<tr><th scope=row>12 anos</th><td>1800</td><td>1200</td></tr>\n",
              "\t<tr><th scope=row>13 anos</th><td>2400</td><td>1300</td></tr>\n",
              "\t<tr><th scope=row>14 anos</th><td>2500</td><td>1600</td></tr>\n",
              "\t<tr><th scope=row>15 anos ou mais</th><td>4000</td><td>2800</td></tr>\n",
              "\t<tr><th scope=row>Não determinados</th><td>1200</td><td> 788</td></tr>\n",
              "</tbody>\n",
              "</table>\n"
            ],
            "text/markdown": "\nA matrix: 17 × 2 of type dbl\n\n| <!--/--> | Masculino | Feminino |\n|---|---|---|\n| Sem instrução e menos de 1 ano |  700 |  390 |\n| 1 ano |  788 |  400 |\n| 2 anos |  788 |  450 |\n| 3 anos |  800 |  500 |\n| 4 anos | 1000 |  788 |\n| 5 anos | 1045 |  788 |\n| 6 anos | 1200 |  788 |\n| 7 anos | 1200 |  788 |\n| 8 anos | 1300 |  800 |\n| 9 anos | 1200 |  788 |\n| 10 anos | 1218 |  800 |\n| 11 anos | 1500 | 1000 |\n| 12 anos | 1800 | 1200 |\n| 13 anos | 2400 | 1300 |\n| 14 anos | 2500 | 1600 |\n| 15 anos ou mais | 4000 | 2800 |\n| Não determinados | 1200 |  788 |\n\n",
            "text/latex": "A matrix: 17 × 2 of type dbl\n\\begin{tabular}{r|ll}\n  & Masculino & Feminino\\\\\n\\hline\n\tSem instrução e menos de 1 ano &  700 &  390\\\\\n\t1 ano &  788 &  400\\\\\n\t2 anos &  788 &  450\\\\\n\t3 anos &  800 &  500\\\\\n\t4 anos & 1000 &  788\\\\\n\t5 anos & 1045 &  788\\\\\n\t6 anos & 1200 &  788\\\\\n\t7 anos & 1200 &  788\\\\\n\t8 anos & 1300 &  800\\\\\n\t9 anos & 1200 &  788\\\\\n\t10 anos & 1218 &  800\\\\\n\t11 anos & 1500 & 1000\\\\\n\t12 anos & 1800 & 1200\\\\\n\t13 anos & 2400 & 1300\\\\\n\t14 anos & 2500 & 1600\\\\\n\t15 anos ou mais & 4000 & 2800\\\\\n\tNão determinados & 1200 &  788\\\\\n\\end{tabular}\n",
            "text/plain": [
              "                               Masculino Feminino\n",
              "Sem instrução e menos de 1 ano  700       390    \n",
              "1 ano                           788       400    \n",
              "2 anos                          788       450    \n",
              "3 anos                          800       500    \n",
              "4 anos                         1000       788    \n",
              "5 anos                         1045       788    \n",
              "6 anos                         1200       788    \n",
              "7 anos                         1200       788    \n",
              "8 anos                         1300       800    \n",
              "9 anos                         1200       788    \n",
              "10 anos                        1218       800    \n",
              "11 anos                        1500      1000    \n",
              "12 anos                        1800      1200    \n",
              "13 anos                        2400      1300    \n",
              "14 anos                        2500      1600    \n",
              "15 anos ou mais                4000      2800    \n",
              "Não determinados               1200       788    "
            ]
          },
          "metadata": {}
        },
        {
          "output_type": "display_data",
          "data": {
            "text/html": [
              "<table class=\"dataframe\">\n",
              "<caption>A matrix: 17 × 2 of type int</caption>\n",
              "<thead>\n",
              "\t<tr><th></th><th scope=col>Masculino</th><th scope=col>Feminino</th></tr>\n",
              "</thead>\n",
              "<tbody>\n",
              "\t<tr><th scope=row>Sem instrução e menos de 1 ano</th><td> 30000</td><td> 10000</td></tr>\n",
              "\t<tr><th scope=row>1 ano</th><td> 30000</td><td>  2000</td></tr>\n",
              "\t<tr><th scope=row>2 anos</th><td> 40000</td><td>  4000</td></tr>\n",
              "\t<tr><th scope=row>3 anos</th><td> 80000</td><td>  3500</td></tr>\n",
              "\t<tr><th scope=row>4 anos</th><td> 50000</td><td> 10000</td></tr>\n",
              "\t<tr><th scope=row>5 anos</th><td> 35000</td><td>  8000</td></tr>\n",
              "\t<tr><th scope=row>6 anos</th><td> 25000</td><td>  6000</td></tr>\n",
              "\t<tr><th scope=row>7 anos</th><td> 40000</td><td>  9000</td></tr>\n",
              "\t<tr><th scope=row>8 anos</th><td> 30000</td><td> 18000</td></tr>\n",
              "\t<tr><th scope=row>9 anos</th><td> 60000</td><td> 20000</td></tr>\n",
              "\t<tr><th scope=row>10 anos</th><td> 45000</td><td>  6000</td></tr>\n",
              "\t<tr><th scope=row>11 anos</th><td>200000</td><td>100000</td></tr>\n",
              "\t<tr><th scope=row>12 anos</th><td> 30000</td><td>120000</td></tr>\n",
              "\t<tr><th scope=row>13 anos</th><td> 25000</td><td> 20000</td></tr>\n",
              "\t<tr><th scope=row>14 anos</th><td> 50000</td><td> 20000</td></tr>\n",
              "\t<tr><th scope=row>15 anos ou mais</th><td>200000</td><td>100000</td></tr>\n",
              "\t<tr><th scope=row>Não determinados</th><td>  7000</td><td>  3000</td></tr>\n",
              "</tbody>\n",
              "</table>\n"
            ],
            "text/markdown": "\nA matrix: 17 × 2 of type int\n\n| <!--/--> | Masculino | Feminino |\n|---|---|---|\n| Sem instrução e menos de 1 ano |  30000 |  10000 |\n| 1 ano |  30000 |   2000 |\n| 2 anos |  40000 |   4000 |\n| 3 anos |  80000 |   3500 |\n| 4 anos |  50000 |  10000 |\n| 5 anos |  35000 |   8000 |\n| 6 anos |  25000 |   6000 |\n| 7 anos |  40000 |   9000 |\n| 8 anos |  30000 |  18000 |\n| 9 anos |  60000 |  20000 |\n| 10 anos |  45000 |   6000 |\n| 11 anos | 200000 | 100000 |\n| 12 anos |  30000 | 120000 |\n| 13 anos |  25000 |  20000 |\n| 14 anos |  50000 |  20000 |\n| 15 anos ou mais | 200000 | 100000 |\n| Não determinados |   7000 |   3000 |\n\n",
            "text/latex": "A matrix: 17 × 2 of type int\n\\begin{tabular}{r|ll}\n  & Masculino & Feminino\\\\\n\\hline\n\tSem instrução e menos de 1 ano &  30000 &  10000\\\\\n\t1 ano &  30000 &   2000\\\\\n\t2 anos &  40000 &   4000\\\\\n\t3 anos &  80000 &   3500\\\\\n\t4 anos &  50000 &  10000\\\\\n\t5 anos &  35000 &   8000\\\\\n\t6 anos &  25000 &   6000\\\\\n\t7 anos &  40000 &   9000\\\\\n\t8 anos &  30000 &  18000\\\\\n\t9 anos &  60000 &  20000\\\\\n\t10 anos &  45000 &   6000\\\\\n\t11 anos & 200000 & 100000\\\\\n\t12 anos &  30000 & 120000\\\\\n\t13 anos &  25000 &  20000\\\\\n\t14 anos &  50000 &  20000\\\\\n\t15 anos ou mais & 200000 & 100000\\\\\n\tNão determinados &   7000 &   3000\\\\\n\\end{tabular}\n",
            "text/plain": [
              "                               Masculino Feminino\n",
              "Sem instrução e menos de 1 ano  30000     10000  \n",
              "1 ano                           30000      2000  \n",
              "2 anos                          40000      4000  \n",
              "3 anos                          80000      3500  \n",
              "4 anos                          50000     10000  \n",
              "5 anos                          35000      8000  \n",
              "6 anos                          25000      6000  \n",
              "7 anos                          40000      9000  \n",
              "8 anos                          30000     18000  \n",
              "9 anos                          60000     20000  \n",
              "10 anos                         45000      6000  \n",
              "11 anos                        200000    100000  \n",
              "12 anos                         30000    120000  \n",
              "13 anos                         25000     20000  \n",
              "14 anos                         50000     20000  \n",
              "15 anos ou mais                200000    100000  \n",
              "Não determinados                 7000      3000  "
            ]
          },
          "metadata": {}
        },
        {
          "output_type": "display_data",
          "data": {
            "text/html": [
              "<table class=\"dataframe\">\n",
              "<caption>A matrix: 17 × 2 of type dbl</caption>\n",
              "<thead>\n",
              "\t<tr><th></th><th scope=col>Masculino</th><th scope=col>Feminino</th></tr>\n",
              "</thead>\n",
              "<tbody>\n",
              "\t<tr><th scope=row>Sem instrução e menos de 1 ano</th><td>1023.9049</td><td> 639.3115</td></tr>\n",
              "\t<tr><th scope=row>1 ano</th><td>1331.9506</td><td> 425.2918</td></tr>\n",
              "\t<tr><th scope=row>2 anos</th><td>1435.1738</td><td> 498.2342</td></tr>\n",
              "\t<tr><th scope=row>3 anos</th><td>2143.8001</td><td> 424.1244</td></tr>\n",
              "\t<tr><th scope=row>4 anos</th><td>1419.8218</td><td> 629.5534</td></tr>\n",
              "\t<tr><th scope=row>5 anos</th><td>1484.6506</td><td> 635.7826</td></tr>\n",
              "\t<tr><th scope=row>6 anos</th><td>1476.6286</td><td> 574.5470</td></tr>\n",
              "\t<tr><th scope=row>7 anos</th><td>1419.7087</td><td> 602.0380</td></tr>\n",
              "\t<tr><th scope=row>8 anos</th><td>1515.5837</td><td> 896.7812</td></tr>\n",
              "\t<tr><th scope=row>9 anos</th><td>2137.6648</td><td> 973.2217</td></tr>\n",
              "\t<tr><th scope=row>10 anos</th><td>2078.6097</td><td> 620.6119</td></tr>\n",
              "\t<tr><th scope=row>11 anos</th><td>2676.5389</td><td>1819.0404</td></tr>\n",
              "\t<tr><th scope=row>12 anos</th><td>2268.0815</td><td>4851.8335</td></tr>\n",
              "\t<tr><th scope=row>13 anos</th><td>2797.1168</td><td>2053.7898</td></tr>\n",
              "\t<tr><th scope=row>14 anos</th><td>3987.2150</td><td>2064.0833</td></tr>\n",
              "\t<tr><th scope=row>15 anos ou mais</th><td>7447.6136</td><td>4212.7707</td></tr>\n",
              "\t<tr><th scope=row>Não determinados</th><td> 979.6487</td><td> 459.9860</td></tr>\n",
              "</tbody>\n",
              "</table>\n"
            ],
            "text/markdown": "\nA matrix: 17 × 2 of type dbl\n\n| <!--/--> | Masculino | Feminino |\n|---|---|---|\n| Sem instrução e menos de 1 ano | 1023.9049 |  639.3115 |\n| 1 ano | 1331.9506 |  425.2918 |\n| 2 anos | 1435.1738 |  498.2342 |\n| 3 anos | 2143.8001 |  424.1244 |\n| 4 anos | 1419.8218 |  629.5534 |\n| 5 anos | 1484.6506 |  635.7826 |\n| 6 anos | 1476.6286 |  574.5470 |\n| 7 anos | 1419.7087 |  602.0380 |\n| 8 anos | 1515.5837 |  896.7812 |\n| 9 anos | 2137.6648 |  973.2217 |\n| 10 anos | 2078.6097 |  620.6119 |\n| 11 anos | 2676.5389 | 1819.0404 |\n| 12 anos | 2268.0815 | 4851.8335 |\n| 13 anos | 2797.1168 | 2053.7898 |\n| 14 anos | 3987.2150 | 2064.0833 |\n| 15 anos ou mais | 7447.6136 | 4212.7707 |\n| Não determinados |  979.6487 |  459.9860 |\n\n",
            "text/latex": "A matrix: 17 × 2 of type dbl\n\\begin{tabular}{r|ll}\n  & Masculino & Feminino\\\\\n\\hline\n\tSem instrução e menos de 1 ano & 1023.9049 &  639.3115\\\\\n\t1 ano & 1331.9506 &  425.2918\\\\\n\t2 anos & 1435.1738 &  498.2342\\\\\n\t3 anos & 2143.8001 &  424.1244\\\\\n\t4 anos & 1419.8218 &  629.5534\\\\\n\t5 anos & 1484.6506 &  635.7826\\\\\n\t6 anos & 1476.6286 &  574.5470\\\\\n\t7 anos & 1419.7087 &  602.0380\\\\\n\t8 anos & 1515.5837 &  896.7812\\\\\n\t9 anos & 2137.6648 &  973.2217\\\\\n\t10 anos & 2078.6097 &  620.6119\\\\\n\t11 anos & 2676.5389 & 1819.0404\\\\\n\t12 anos & 2268.0815 & 4851.8335\\\\\n\t13 anos & 2797.1168 & 2053.7898\\\\\n\t14 anos & 3987.2150 & 2064.0833\\\\\n\t15 anos ou mais & 7447.6136 & 4212.7707\\\\\n\tNão determinados &  979.6487 &  459.9860\\\\\n\\end{tabular}\n",
            "text/plain": [
              "                               Masculino Feminino \n",
              "Sem instrução e menos de 1 ano 1023.9049  639.3115\n",
              "1 ano                          1331.9506  425.2918\n",
              "2 anos                         1435.1738  498.2342\n",
              "3 anos                         2143.8001  424.1244\n",
              "4 anos                         1419.8218  629.5534\n",
              "5 anos                         1484.6506  635.7826\n",
              "6 anos                         1476.6286  574.5470\n",
              "7 anos                         1419.7087  602.0380\n",
              "8 anos                         1515.5837  896.7812\n",
              "9 anos                         2137.6648  973.2217\n",
              "10 anos                        2078.6097  620.6119\n",
              "11 anos                        2676.5389 1819.0404\n",
              "12 anos                        2268.0815 4851.8335\n",
              "13 anos                        2797.1168 2053.7898\n",
              "14 anos                        3987.2150 2064.0833\n",
              "15 anos ou mais                7447.6136 4212.7707\n",
              "Não determinados                979.6487  459.9860"
            ]
          },
          "metadata": {}
        }
      ]
    },
    {
      "cell_type": "code",
      "source": [],
      "metadata": {
        "id": "-hp4KrDjHsP4"
      },
      "execution_count": null,
      "outputs": []
    },
    {
      "cell_type": "code",
      "source": [
        "#box plot da renda por sexo e anos de estudo\n",
        " \n",
        " ggplot(data = dados[dados$Renda < 10000, ], aes(x = Cat.Anos.de.Estudo, y = Renda, fill = Cat.Sexo)) + \n",
        "   geom_boxplot(size = 0.2) + \n",
        "   coord_flip() +\n",
        "   ylab(\"R$\") + \n",
        "   xlab(\"Anos de Estudo\") + \n",
        "   guides(fill = guide_legend(title = 'Sexo')) +\n",
        "   ggtitle('Box-plot da RENDA por SEXO e ANOS DE ESTUDO') "
      ],
      "metadata": {
        "id": "4BvbmYRmQaEW",
        "colab": {
          "base_uri": "https://localhost:8080/",
          "height": 437
        },
        "outputId": "a3716b89-2c7f-4602-9227-33bd1ee69dea"
      },
      "execution_count": 51,
      "outputs": [
        {
          "output_type": "display_data",
          "data": {
            "text/plain": [
              "plot without title"
            ],
            "image/png": "[encoded data removed]"
          },
          "metadata": {
            "image/png": {
              "width": 420,
              "height": 420
            }
          }
        }
      ]
    }
  ]
}